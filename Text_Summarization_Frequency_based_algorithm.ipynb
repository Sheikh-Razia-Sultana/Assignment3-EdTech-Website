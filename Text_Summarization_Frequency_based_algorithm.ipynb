{
  "nbformat": 4,
  "nbformat_minor": 0,
  "metadata": {
    "colab": {
      "provenance": [],
      "include_colab_link": true
    },
    "kernelspec": {
      "name": "python3",
      "display_name": "Python 3"
    },
    "language_info": {
      "name": "python"
    }
  },
  "cells": [
    {
      "cell_type": "markdown",
      "metadata": {
        "id": "view-in-github",
        "colab_type": "text"
      },
      "source": [
        "<a href=\"https://colab.research.google.com/github/Sheikh-Razia-Sultana/Assignment3-EdTech-Website/blob/main/Text_Summarization_Frequency_based_algorithm.ipynb\" target=\"_parent\"><img src=\"https://colab.research.google.com/assets/colab-badge.svg\" alt=\"Open In Colab\"/></a>"
      ]
    },
    {
      "cell_type": "markdown",
      "source": [
        "Preprocessing the text"
      ],
      "metadata": {
        "id": "shuZrShQlJeJ"
      }
    },
    {
      "cell_type": "code",
      "source": [
        "import re\n",
        "import nltk\n",
        "import string"
      ],
      "metadata": {
        "id": "hYU31_SLlNWp"
      },
      "execution_count": null,
      "outputs": []
    },
    {
      "cell_type": "markdown",
      "source": [
        "# New Section"
      ],
      "metadata": {
        "id": "xMTIQ4Af8Uiz"
      }
    },
    {
      "cell_type": "code",
      "source": [
        "!pip install goose3"
      ],
      "metadata": {
        "id": "r1XQVtkgloGy",
        "colab": {
          "base_uri": "https://localhost:8080/"
        },
        "outputId": "b810f4e9-bdd6-475d-f04e-5a47f029a97c"
      },
      "execution_count": null,
      "outputs": [
        {
          "output_type": "stream",
          "name": "stdout",
          "text": [
            "Collecting goose3\n",
            "  Downloading goose3-3.1.17-py3-none-any.whl (88 kB)\n",
            "\u001b[?25l     \u001b[90m━━━━━━━━━━━━━━━━━━━━━━━━━━━━━━━━━━━━━━━━\u001b[0m \u001b[32m0.0/88.7 kB\u001b[0m \u001b[31m?\u001b[0m eta \u001b[36m-:--:--\u001b[0m\r\u001b[2K     \u001b[90m━━━━━━━━━━━━━━━━━━━━━━━━━━━━━━━━━━━━━━━━\u001b[0m \u001b[32m88.7/88.7 kB\u001b[0m \u001b[31m3.5 MB/s\u001b[0m eta \u001b[36m0:00:00\u001b[0m\n",
            "\u001b[?25hRequirement already satisfied: requests in /usr/local/lib/python3.10/dist-packages (from goose3) (2.31.0)\n",
            "Requirement already satisfied: Pillow in /usr/local/lib/python3.10/dist-packages (from goose3) (9.4.0)\n",
            "Requirement already satisfied: lxml in /usr/local/lib/python3.10/dist-packages (from goose3) (4.9.3)\n",
            "Collecting cssselect (from goose3)\n",
            "  Downloading cssselect-1.2.0-py2.py3-none-any.whl (18 kB)\n",
            "Requirement already satisfied: beautifulsoup4 in /usr/local/lib/python3.10/dist-packages (from goose3) (4.11.2)\n",
            "Requirement already satisfied: python-dateutil in /usr/local/lib/python3.10/dist-packages (from goose3) (2.8.2)\n",
            "Collecting langdetect (from goose3)\n",
            "  Downloading langdetect-1.0.9.tar.gz (981 kB)\n",
            "\u001b[2K     \u001b[90m━━━━━━━━━━━━━━━━━━━━━━━━━━━━━━━━━━━━━━━━\u001b[0m \u001b[32m981.5/981.5 kB\u001b[0m \u001b[31m10.7 MB/s\u001b[0m eta \u001b[36m0:00:00\u001b[0m\n",
            "\u001b[?25h  Preparing metadata (setup.py) ... \u001b[?25l\u001b[?25hdone\n",
            "Collecting pyahocorasick (from goose3)\n",
            "  Downloading pyahocorasick-2.0.0-cp310-cp310-manylinux_2_5_x86_64.manylinux1_x86_64.manylinux_2_12_x86_64.manylinux2010_x86_64.whl (110 kB)\n",
            "\u001b[2K     \u001b[90m━━━━━━━━━━━━━━━━━━━━━━━━━━━━━━━━━━━━━━━━\u001b[0m \u001b[32m110.8/110.8 kB\u001b[0m \u001b[31m12.4 MB/s\u001b[0m eta \u001b[36m0:00:00\u001b[0m\n",
            "\u001b[?25hRequirement already satisfied: soupsieve>1.2 in /usr/local/lib/python3.10/dist-packages (from beautifulsoup4->goose3) (2.5)\n",
            "Requirement already satisfied: six in /usr/local/lib/python3.10/dist-packages (from langdetect->goose3) (1.16.0)\n",
            "Requirement already satisfied: charset-normalizer<4,>=2 in /usr/local/lib/python3.10/dist-packages (from requests->goose3) (3.3.0)\n",
            "Requirement already satisfied: idna<4,>=2.5 in /usr/local/lib/python3.10/dist-packages (from requests->goose3) (3.4)\n",
            "Requirement already satisfied: urllib3<3,>=1.21.1 in /usr/local/lib/python3.10/dist-packages (from requests->goose3) (2.0.6)\n",
            "Requirement already satisfied: certifi>=2017.4.17 in /usr/local/lib/python3.10/dist-packages (from requests->goose3) (2023.7.22)\n",
            "Building wheels for collected packages: langdetect\n",
            "  Building wheel for langdetect (setup.py) ... \u001b[?25l\u001b[?25hdone\n",
            "  Created wheel for langdetect: filename=langdetect-1.0.9-py3-none-any.whl size=993224 sha256=01982033b88fafd9982733cb6a3baef8c30128e64ab362a657441a448bd416de\n",
            "  Stored in directory: /root/.cache/pip/wheels/95/03/7d/59ea870c70ce4e5a370638b5462a7711ab78fba2f655d05106\n",
            "Successfully built langdetect\n",
            "Installing collected packages: pyahocorasick, langdetect, cssselect, goose3\n",
            "Successfully installed cssselect-1.2.0 goose3-3.1.17 langdetect-1.0.9 pyahocorasick-2.0.0\n"
          ]
        }
      ]
    },
    {
      "cell_type": "code",
      "source": [
        "from goose3 import Goose"
      ],
      "metadata": {
        "id": "A--ahJzQmDf0"
      },
      "execution_count": null,
      "outputs": []
    },
    {
      "cell_type": "code",
      "source": [
        "g= Goose()\n",
        "url1='https://en.wikipedia.org/wiki/Machine_learning'\n",
        "article= g.extract(url1)"
      ],
      "metadata": {
        "id": "S1w_I6IOmFBi"
      },
      "execution_count": null,
      "outputs": []
    },
    {
      "cell_type": "code",
      "source": [
        "articles=article.cleaned_text\n",
        "articles"
      ],
      "metadata": {
        "colab": {
          "base_uri": "https://localhost:8080/",
          "height": 1000
        },
        "id": "cGbCHFOTm0q5",
        "outputId": "d6ce5149-3c78-4987-f243-b82ec490c4c7"
      },
      "execution_count": null,
      "outputs": [
        {
          "output_type": "execute_result",
          "data": {
            "text/plain": [
              "'Study of algorithms that improve automatically through experience\\n\\nMachine learning (ML) is an umbrella term for solving problems for which development of algorithms by human programmers would be cost-prohibitive, and instead the problems are solved by helping machines \"discover\" their \"own\" algorithms,[1] without needing to be explicitly told what to do by any human-developed algorithms.[2] Recently, generative artificial neural networks have been able to surpass results of many previous approaches.[3][4] Machine-learning approaches have been applied to large language models, computer vision, speech recognition, email filtering, agriculture and medicine, where it is too costly to develop algorithms to perform the needed tasks.[5][6]\\n\\nThe mathematical foundations of ML are provided by mathematical optimization (mathematical programming) methods. Data mining is a related (parallel) field of study, focusing on exploratory data analysis through unsupervised learning.[8][9]\\n\\nML is known in its application across business problems under the name predictive analytics. Although not all machine learning is statistically based, computational statistics is an important source of the field\\'s methods.\\n\\nHistory and relationships to other fields\\n\\nThe term machine learning was coined in 1959 by Arthur Samuel, an IBM employee and pioneer in the field of computer gaming and artificial intelligence.[10][11] The synonym self-teaching computers was also used in this time period.[12][13]\\n\\nBy the early 1960s an experimental \"learning machine\" with punched tape memory, called Cybertron, had been developed by Raytheon Company to analyze sonar signals, electrocardiograms, and speech patterns using rudimentary reinforcement learning. It was repetitively \"trained\" by a human operator/teacher to recognize patterns and equipped with a \"goof\" button to cause it to re-evaluate incorrect decisions.[14] A representative book on research into machine learning during the 1960s was Nilsson\\'s book on Learning Machines, dealing mostly with machine learning for pattern classification.[15] Interest related to pattern recognition continued into the 1970s, as described by Duda and Hart in 1973.[16] In 1981 a report was given on using teaching strategies so that a neural network learns to recognize 40 characters (26 letters, 10 digits, and 4 special symbols) from a computer terminal.[17]\\n\\nTom M. Mitchell provided a widely quoted, more formal definition of the algorithms studied in the machine learning field: \"A computer program is said to learn from experience E with respect to some class of tasks T and performance measure P if its performance at tasks in T, as measured by P, improves with experience E.\"[18] This definition of the tasks in which machine learning is concerned offers a fundamentally operational definition rather than defining the field in cognitive terms. This follows Alan Turing\\'s proposal in his paper \"Computing Machinery and Intelligence\", in which the question \"Can machines think?\" is replaced with the question \"Can machines do what we (as thinking entities) can do?\".[19]\\n\\nModern-day machine learning has two objectives, one is to classify data based on models which have been developed, the other purpose is to make predictions for future outcomes based on these models. A hypothetical algorithm specific to classifying data may use computer vision of moles coupled with supervised learning in order to train it to classify the cancerous moles. A machine learning algorithm for stock trading may inform the trader of future potential predictions.[20]\\n\\nAs a scientific endeavor, machine learning grew out of the quest for artificial intelligence (AI). In the early days of AI as an academic discipline, some researchers were interested in having machines learn from data. They attempted to approach the problem with various symbolic methods, as well as what were then termed \"neural networks\"; these were mostly perceptrons and other models that were later found to be reinventions of the generalized linear models of statistics.[22] Probabilistic reasoning was also employed, especially in automated medical diagnosis.[23]: 488\\n\\nHowever, an increasing emphasis on the logical, knowledge-based approach caused a rift between AI and machine learning. Probabilistic systems were plagued by theoretical and practical problems of data acquisition and representation.[23]: 488 By 1980, expert systems had come to dominate AI, and statistics was out of favor.[24] Work on symbolic/knowledge-based learning did continue within AI, leading to inductive logic programming, but the more statistical line of research was now outside the field of AI proper, in pattern recognition and information retrieval.[23]: 708–710, 755 Neural networks research had been abandoned by AI and computer science around the same time. This line, too, was continued outside the AI/CS field, as \"connectionism\", by researchers from other disciplines including Hopfield, Rumelhart, and Hinton. Their main success came in the mid-1980s with the reinvention of backpropagation.[23]: 25\\n\\nMachine learning (ML), reorganized and recognized as its own field, started to flourish in the 1990s. The field changed its goal from achieving artificial intelligence to tackling solvable problems of a practical nature. It shifted focus away from the symbolic approaches it had inherited from AI, and toward methods and models borrowed from statistics, fuzzy logic, and probability theory.[24]\\n\\nMachine learning and data mining often employ the same methods and overlap significantly, but while machine learning focuses on prediction, based on known properties learned from the training data, data mining focuses on the discovery of (previously) unknown properties in the data (this is the analysis step of knowledge discovery in databases). Data mining uses many machine learning methods, but with different goals; on the other hand, machine learning also employs data mining methods as \"unsupervised learning\" or as a preprocessing step to improve learner accuracy. Much of the confusion between these two research communities (which do often have separate conferences and separate journals, ECML PKDD being a major exception) comes from the basic assumptions they work with: in machine learning, performance is usually evaluated with respect to the ability to reproduce known knowledge, while in knowledge discovery and data mining (KDD) the key task is the discovery of previously unknown knowledge. Evaluated with respect to known knowledge, an uninformed (unsupervised) method will easily be outperformed by other supervised methods, while in a typical KDD task, supervised methods cannot be used due to the unavailability of training data.\\n\\nMachine learning also has intimate ties to optimization: many learning problems are formulated as minimization of some loss function on a training set of examples. Loss functions express the discrepancy between the predictions of the model being trained and the actual problem instances (for example, in classification, one wants to assign a label to instances, and models are trained to correctly predict the pre-assigned labels of a set of examples).[25]\\n\\nThe difference between optimization and machine learning arises from the goal of generalization: while optimization algorithms can minimize the loss on a training set, machine learning is concerned with minimizing the loss on unseen samples. Characterizing the generalization of various learning algorithms is an active topic of current research, especially for deep learning algorithms.\\n\\nMachine learning and statistics are closely related fields in terms of methods, but distinct in their principal goal: statistics draws population inferences from a sample, while machine learning finds generalizable predictive patterns.[26] According to Michael I. Jordan, the ideas of machine learning, from methodological principles to theoretical tools, have had a long pre-history in statistics.[27] He also suggested the term data science as a placeholder to call the overall field.[27]\\n\\nConventional statistical analyses require the a priori selection of a model most suitable for the study data set. In addition, only significant or theoretically relevant variables based on previous experience are included for analysis. In contrast, machine learning is not built on a pre-structured model; rather, the data shape the model by detecting underlying patterns. The more variables (input) used to train the model, the more accurate the ultimate model will be.[28]\\n\\nLeo Breiman distinguished two statistical modeling paradigms: data model and algorithmic model,[29] wherein \"algorithmic model\" means more or less the machine learning algorithms like Random Forest.\\n\\nSome statisticians have adopted methods from machine learning, leading to a combined field that they call statistical learning.[30]\\n\\nAnalytical and computational techniques derived from deep-rooted physics of disordered systems can be extended to large-scale problems, including machine learning, e.g., to analyze the weight space of deep neural networks.[31] Statistical physics is thus finding applications in the area of medical diagnostics.[32]\\n\\nA core objective of a learner is to generalize from its experience.[7][33] Generalization in this context is the ability of a learning machine to perform accurately on new, unseen examples/tasks after having experienced a learning data set. The training examples come from some generally unknown probability distribution (considered representative of the space of occurrences) and the learner has to build a general model about this space that enables it to produce sufficiently accurate predictions in new cases.\\n\\nThe computational analysis of machine learning algorithms and their performance is a branch of theoretical computer science known as computational learning theory via the Probably Approximately Correct Learning (PAC) model. Because training sets are finite and the future is uncertain, learning theory usually does not yield guarantees of the performance of algorithms. Instead, probabilistic bounds on the performance are quite common. The bias–variance decomposition is one way to quantify generalization error.\\n\\nFor the best performance in the context of generalization, the complexity of the hypothesis should match the complexity of the function underlying the data. If the hypothesis is less complex than the function, then the model has under fitted the data. If the complexity of the model is increased in response, then the training error decreases. But if the hypothesis is too complex, then the model is subject to overfitting and generalization will be poorer.[34]\\n\\nIn addition to performance bounds, learning theorists study the time complexity and feasibility of learning. In computational learning theory, a computation is considered feasible if it can be done in polynomial time. There are two kinds of time complexity results: Positive results show that a certain class of functions can be learned in polynomial time. Negative results show that certain classes cannot be learned in polynomial time.\\n\\nMachine learning approaches are traditionally divided into three broad categories, which correspond to learning paradigms, depending on the nature of the \"signal\" or \"feedback\" available to the learning system:\\n• Supervised learning: The computer is presented with example inputs and their desired outputs, given by a \"teacher\", and the goal is to learn a general rule that maps inputs to outputs.\\n• Unsupervised learning: No labels are given to the learning algorithm, leaving it on its own to find structure in its input. Unsupervised learning can be a goal in itself (discovering hidden patterns in data) or a means towards an end (feature learning).\\n• Reinforcement learning: A computer program interacts with a dynamic environment in which it must perform a certain goal (such as driving a vehicle or playing a game against an opponent). As it navigates its problem space, the program is provided feedback that\\'s analogous to rewards, which it tries to maximize.[7] Although each algorithm has advantages and limitations, no single algorithm works for all problems.[35][36][37]\\n\\nSupervised learning algorithms build a mathematical model of a set of data that contains both the inputs and the desired outputs.[38] The data is known as training data, and consists of a set of training examples. Each training example has one or more inputs and the desired output, also known as a supervisory signal. In the mathematical model, each training example is represented by an array or vector, sometimes called a feature vector, and the training data is represented by a matrix. Through iterative optimization of an objective function, supervised learning algorithms learn a function that can be used to predict the output associated with new inputs.[39] An optimal function allows the algorithm to correctly determine the output for inputs that were not a part of the training data. An algorithm that improves the accuracy of its outputs or predictions over time is said to have learned to perform that task.[18]\\n\\nTypes of supervised-learning algorithms include active learning, classification and regression.[40] Classification algorithms are used when the outputs are restricted to a limited set of values, and regression algorithms are used when the outputs may have any numerical value within a range. As an example, for a classification algorithm that filters emails, the input would be an incoming email, and the output would be the name of the folder in which to file the email.\\n\\nSimilarity learning is an area of supervised machine learning closely related to regression and classification, but the goal is to learn from examples using a similarity function that measures how similar or related two objects are. It has applications in ranking, recommendation systems, visual identity tracking, face verification, and speaker verification.\\n\\nUnsupervised learning algorithms take a set of data that contains only inputs, and find structure in the data, like grouping or clustering of data points. The algorithms, therefore, learn from test data that has not been labeled, classified or categorized. Instead of responding to feedback, unsupervised learning algorithms identify commonalities in the data and react based on the presence or absence of such commonalities in each new piece of data. A central application of unsupervised learning is in the field of density estimation in statistics, such as finding the probability density function.[41] Though unsupervised learning encompasses other domains involving summarizing and explaining data features. Unsupervised learning algorithms streamlined the process of survey and graph large indel based haplotypes of a gene of interest from pan-genome.[42]\\n\\nCluster analysis is the assignment of a set of observations into subsets (called clusters) so that observations within the same cluster are similar according to one or more predesignated criteria, while observations drawn from different clusters are dissimilar. Different clustering techniques make different assumptions on the structure of the data, often defined by some similarity metric and evaluated, for example, by internal compactness, or the similarity between members of the same cluster, and separation, the difference between clusters. Other methods are based on estimated density and graph connectivity.\\n\\nSemi-supervised learning falls between unsupervised learning (without any labeled training data) and supervised learning (with completely labeled training data). Some of the training examples are missing training labels, yet many machine-learning researchers have found that unlabeled data, when used in conjunction with a small amount of labeled data, can produce a considerable improvement in learning accuracy.\\n\\nIn weakly supervised learning, the training labels are noisy, limited, or imprecise; however, these labels are often cheaper to obtain, resulting in larger effective training sets.[43]\\n\\nReinforcement learning is an area of machine learning concerned with how software agents ought to take actions in an environment so as to maximize some notion of cumulative reward. Due to its generality, the field is studied in many other disciplines, such as game theory, control theory, operations research, information theory, simulation-based optimization, multi-agent systems, swarm intelligence, statistics and genetic algorithms. In reinforcement learning, the environment is typically represented as a Markov decision process (MDP). Many reinforcements learning algorithms use dynamic programming techniques.[44] Reinforcement learning algorithms do not assume knowledge of an exact mathematical model of the MDP and are used when exact models are infeasible. Reinforcement learning algorithms are used in autonomous vehicles or in learning to play a game against a human opponent.\\n\\nDimensionality reduction is a process of reducing the number of random variables under consideration by obtaining a set of principal variables.[45] In other words, it is a process of reducing the dimension of the feature set, also called the \"number of features\". Most of the dimensionality reduction techniques can be considered as either feature elimination or extraction. One of the popular methods of dimensionality reduction is principal component analysis (PCA). PCA involves changing higher-dimensional data (e.g., 3D) to a smaller space (e.g., 2D). This results in a smaller dimension of data (2D instead of 3D), while keeping all original variables in the model without changing the data.[46] The manifold hypothesis proposes that high-dimensional data sets lie along low-dimensional manifolds, and many dimensionality reduction techniques make this assumption, leading to the area of manifold learning and manifold regularization.\\n\\nOther approaches have been developed which do not fit neatly into this three-fold categorization, and sometimes more than one is used by the same machine learning system. For example, topic modeling, meta-learning.[47]\\n\\nAs of 2022, deep learning is the dominant approach for much ongoing work in the field of machine learning.[1]\\n\\nSelf-learning, as a machine learning paradigm was introduced in 1982 along with a neural network capable of self-learning, named crossbar adaptive array (CAA).[48] It is learning with no external rewards and no external teacher advice. The CAA self-learning algorithm computes, in a crossbar fashion, both decisions about actions and emotions (feelings) about consequence situations. The system is driven by the interaction between cognition and emotion.[49] The self-learning algorithm updates a memory matrix W =||w(a,s)|| such that in each iteration executes the following machine learning routine:\\n• compute emotion of being in consequence situation v(s\\')\\n• update crossbar memory w\\'(a,s) = w(a,s) + v(s\\')\\n\\nIt is a system with only one input, situation, and only one output, action (or behavior) a. There is neither a separate reinforcement input nor an advice input from the environment. The backpropagated value (secondary reinforcement) is the emotion toward the consequence situation. The CAA exists in two environments, one is the behavioral environment where it behaves, and the other is the genetic environment, wherefrom it initially and only once receives initial emotions about situations to be encountered in the behavioral environment. After receiving the genome (species) vector from the genetic environment, the CAA learns a goal-seeking behavior, in an environment that contains both desirable and undesirable situations.[50]\\n\\nSeveral learning algorithms aim at discovering better representations of the inputs provided during training.[51] Classic examples include principal component analysis and cluster analysis. Feature learning algorithms, also called representation learning algorithms, often attempt to preserve the information in their input but also transform it in a way that makes it useful, often as a pre-processing step before performing classification or predictions. This technique allows reconstruction of the inputs coming from the unknown data-generating distribution, while not being necessarily faithful to configurations that are implausible under that distribution. This replaces manual feature engineering, and allows a machine to both learn the features and use them to perform a specific task.\\n\\nFeature learning can be either supervised or unsupervised. In supervised feature learning, features are learned using labeled input data. Examples include artificial neural networks, multilayer perceptrons, and supervised dictionary learning. In unsupervised feature learning, features are learned with unlabeled input data. Examples include dictionary learning, independent component analysis, autoencoders, matrix factorization[52] and various forms of clustering.[53][54][55]\\n\\nManifold learning algorithms attempt to do so under the constraint that the learned representation is low-dimensional. Sparse coding algorithms attempt to do so under the constraint that the learned representation is sparse, meaning that the mathematical model has many zeros. Multilinear subspace learning algorithms aim to learn low-dimensional representations directly from tensor representations for multidimensional data, without reshaping them into higher-dimensional vectors.[56] Deep learning algorithms discover multiple levels of representation, or a hierarchy of features, with higher-level, more abstract features defined in terms of (or generating) lower-level features. It has been argued that an intelligent machine is one that learns a representation that disentangles the underlying factors of variation that explain the observed data.[57]\\n\\nFeature learning is motivated by the fact that machine learning tasks such as classification often require input that is mathematically and computationally convenient to process. However, real-world data such as images, video, and sensory data has not yielded attempts to algorithmically define specific features. An alternative is to discover such features or representations through examination, without relying on explicit algorithms.\\n\\nSparse dictionary learning is a feature learning method where a training example is represented as a linear combination of basis functions, and is assumed to be a sparse matrix. The method is strongly NP-hard and difficult to solve approximately.[58] A popular heuristic method for sparse dictionary learning is the K-SVD algorithm. Sparse dictionary learning has been applied in several contexts. In classification, the problem is to determine the class to which a previously unseen training example belongs. For a dictionary where each class has already been built, a new training example is associated with the class that is best sparsely represented by the corresponding dictionary. Sparse dictionary learning has also been applied in image de-noising. The key idea is that a clean image patch can be sparsely represented by an image dictionary, but the noise cannot.[59]\\n\\nIn data mining, anomaly detection, also known as outlier detection, is the identification of rare items, events or observations which raise suspicions by differing significantly from the majority of the data.[60] Typically, the anomalous items represent an issue such as bank fraud, a structural defect, medical problems or errors in a text. Anomalies are referred to as outliers, novelties, noise, deviations and exceptions.[61]\\n\\nIn particular, in the context of abuse and network intrusion detection, the interesting objects are often not rare objects, but unexpected bursts of inactivity. This pattern does not adhere to the common statistical definition of an outlier as a rare object. Many outlier detection methods (in particular, unsupervised algorithms) will fail on such data unless aggregated appropriately. Instead, a cluster analysis algorithm may be able to detect the micro-clusters formed by these patterns.[62]\\n\\nThree broad categories of anomaly detection techniques exist.[63] Unsupervised anomaly detection techniques detect anomalies in an unlabeled test data set under the assumption that the majority of the instances in the data set are normal, by looking for instances that seem to fit the least to the remainder of the data set. Supervised anomaly detection techniques require a data set that has been labeled as \"normal\" and \"abnormal\" and involves training a classifier (the key difference to many other statistical classification problems is the inherently unbalanced nature of outlier detection). Semi-supervised anomaly detection techniques construct a model representing normal behavior from a given normal training data set and then test the likelihood of a test instance to be generated by the model.\\n\\nRobot learning is inspired by a multitude of machine learning methods, starting from supervised learning, reinforcement learning,[64][65] and finally meta-learning (e.g. MAML).\\n\\nAssociation rule learning is a rule-based machine learning method for discovering relationships between variables in large databases. It is intended to identify strong rules discovered in databases using some measure of \"interestingness\".[66]\\n\\nRule-based machine learning is a general term for any machine learning method that identifies, learns, or evolves \"rules\" to store, manipulate or apply knowledge. The defining characteristic of a rule-based machine learning algorithm is the identification and utilization of a set of relational rules that collectively represent the knowledge captured by the system. This is in contrast to other machine learning algorithms that commonly identify a singular model that can be universally applied to any instance in order to make a prediction.[67] Rule-based machine learning approaches include learning classifier systems, association rule learning, and artificial immune systems.\\n\\nBased on the concept of strong rules, Rakesh Agrawal, Tomasz Imieliński and Arun Swami introduced association rules for discovering regularities between products in large-scale transaction data recorded by point-of-sale (POS) systems in supermarkets.[68] For example, the rule found in the sales data of a supermarket would indicate that if a customer buys onions and potatoes together, they are likely to also buy hamburger meat. Such information can be used as the basis for decisions about marketing activities such as promotional pricing or product placements. In addition to market basket analysis, association rules are employed today in application areas including Web usage mining, intrusion detection, continuous production, and bioinformatics. In contrast with sequence mining, association rule learning typically does not consider the order of items either within a transaction or across transactions.\\n\\nLearning classifier systems (LCS) are a family of rule-based machine learning algorithms that combine a discovery component, typically a genetic algorithm, with a learning component, performing either supervised learning, reinforcement learning, or unsupervised learning. They seek to identify a set of context-dependent rules that collectively store and apply knowledge in a piecewise manner in order to make predictions.[69]\\n\\nInductive logic programming (ILP) is an approach to rule learning using logic programming as a uniform representation for input examples, background knowledge, and hypotheses. Given an encoding of the known background knowledge and a set of examples represented as a logical database of facts, an ILP system will derive a hypothesized logic program that entails all positive and no negative examples. Inductive programming is a related field that considers any kind of programming language for representing hypotheses (and not only logic programming), such as functional programs.\\n\\nInductive logic programming is particularly useful in bioinformatics and natural language processing. Gordon Plotkin and Ehud Shapiro laid the initial theoretical foundation for inductive machine learning in a logical setting.[70][71][72] Shapiro built their first implementation (Model Inference System) in 1981: a Prolog program that inductively inferred logic programs from positive and negative examples.[73] The term inductive here refers to philosophical induction, suggesting a theory to explain observed facts, rather than mathematical induction, proving a property for all members of a well-ordered set.\\n\\nPerforming machine learning can involve creating a model, which is trained on some training data and then can process additional data to make predictions. Various types of models have been used and researched for machine learning systems.\\n\\nArtificial neural networks (ANNs), or connectionist systems, are computing systems vaguely inspired by the biological neural networks that constitute animal brains. Such systems \"learn\" to perform tasks by considering examples, generally without being programmed with any task-specific rules.\\n\\nAn ANN is a model based on a collection of connected units or nodes called \"artificial neurons\", which loosely model the neurons in a biological brain. Each connection, like the synapses in a biological brain, can transmit information, a \"signal\", from one artificial neuron to another. An artificial neuron that receives a signal can process it and then signal additional artificial neurons connected to it. In common ANN implementations, the signal at a connection between artificial neurons is a real number, and the output of each artificial neuron is computed by some non-linear function of the sum of its inputs. The connections between artificial neurons are called \"edges\". Artificial neurons and edges typically have a weight that adjusts as learning proceeds. The weight increases or decreases the strength of the signal at a connection. Artificial neurons may have a threshold such that the signal is only sent if the aggregate signal crosses that threshold. Typically, artificial neurons are aggregated into layers. Different layers may perform different kinds of transformations on their inputs. Signals travel from the first layer (the input layer) to the last layer (the output layer), possibly after traversing the layers multiple times.\\n\\nThe original goal of the ANN approach was to solve problems in the same way that a human brain would. However, over time, attention moved to performing specific tasks, leading to deviations from biology. Artificial neural networks have been used on a variety of tasks, including computer vision, speech recognition, machine translation, social network filtering, playing board and video games and medical diagnosis.\\n\\nDeep learning consists of multiple hidden layers in an artificial neural network. This approach tries to model the way the human brain processes light and sound into vision and hearing. Some successful applications of deep learning are computer vision and speech recognition.[74]\\n\\nDecision tree learning uses a decision tree as a predictive model to go from observations about an item (represented in the branches) to conclusions about the item\\'s target value (represented in the leaves). It is one of the predictive modeling approaches used in statistics, data mining, and machine learning. Tree models where the target variable can take a discrete set of values are called classification trees; in these tree structures, leaves represent class labels, and branches represent conjunctions of features that lead to those class labels. Decision trees where the target variable can take continuous values (typically real numbers) are called regression trees. In decision analysis, a decision tree can be used to visually and explicitly represent decisions and decision making. In data mining, a decision tree describes data, but the resulting classification tree can be an input for decision-making.\\n\\nSupport-vector machines (SVMs), also known as support-vector networks, are a set of related supervised learning methods used for classification and regression. Given a set of training examples, each marked as belonging to one of two categories, an SVM training algorithm builds a model that predicts whether a new example falls into one category.[75] An SVM training algorithm is a non-probabilistic, binary, linear classifier, although methods such as Platt scaling exist to use SVM in a probabilistic classification setting. In addition to performing linear classification, SVMs can efficiently perform a non-linear classification using what is called the kernel trick, implicitly mapping their inputs into high-dimensional feature spaces.\\n\\nRegression analysis encompasses a large variety of statistical methods to estimate the relationship between input variables and their associated features. Its most common form is linear regression, where a single line is drawn to best fit the given data according to a mathematical criterion such as ordinary least squares. The latter is often extended by regularization methods to mitigate overfitting and bias, as in ridge regression. When dealing with non-linear problems, go-to models include polynomial regression (for example, used for trendline fitting in Microsoft Excel[76]), logistic regression (often used in statistical classification) or even kernel regression, which introduces non-linearity by taking advantage of the kernel trick to implicitly map input variables to higher-dimensional space.\\n\\nA Bayesian network, belief network, or directed acyclic graphical model is a probabilistic graphical model that represents a set of random variables and their conditional independence with a directed acyclic graph (DAG). For example, a Bayesian network could represent the probabilistic relationships between diseases and symptoms. Given symptoms, the network can be used to compute the probabilities of the presence of various diseases. Efficient algorithms exist that perform inference and learning. Bayesian networks that model sequences of variables, like speech signals or protein sequences, are called dynamic Bayesian networks. Generalizations of Bayesian networks that can represent and solve decision problems under uncertainty are called influence diagrams.\\n\\nA Gaussian process is a stochastic process in which every finite collection of the random variables in the process has a multivariate normal distribution, and it relies on a pre-defined covariance function, or kernel, that models how pairs of points relate to each other depending on their locations.\\n\\nGiven a set of observed points, or input–output examples, the distribution of the (unobserved) output of a new point as function of its input data can be directly computed by looking like the observed points and the covariances between those points and the new, unobserved point.\\n\\nGaussian processes are popular surrogate models in Bayesian optimization used to do hyperparameter optimization.\\n\\nA genetic algorithm (GA) is a search algorithm and heuristic technique that mimics the process of natural selection, using methods such as mutation and crossover to generate new genotypes in the hope of finding good solutions to a given problem. In machine learning, genetic algorithms were used in the 1980s and 1990s.[78][79] Conversely, machine learning techniques have been used to improve the performance of genetic and evolutionary algorithms.[80]\\n\\nThe theory of belief functions, also referred to as evidence theory or Dempster–Shafer theory, is a general framework for reasoning with uncertainty, with understood connections to other frameworks such as probability, possibility and imprecise probability theories. These theoretical frameworks can be thought of as a kind of learner and have some analogous properties of how evidence is combined (e.g., Dempster\\'s rule of combination), just like how in a pmf-based Bayesian approach would combine probabilities. However, there are many caveats to these beliefs functions when compared to Bayesian approaches in order to incorporate ignorance and Uncertainty quantification. These belief function approaches that are implemented within the machine learning domain typically leverage a fusion approach of various ensemble methods to better handle the learner\\'s decision boundary, low samples, and ambiguous class issues that standard machine learning approach tend to have difficulty resolving.[4][6][11] However, the computational complexity of these algorithms are dependent on the number of propositions (classes), and can lead a much higher computation time when compared to other machine learning approaches.\\n\\nTypically, machine learning models require a high quantity of reliable data in order for the models to perform accurate predictions. When training a machine learning model, machine learning engineers need to target and collect a large and representative sample of data. Data from the training set can be as varied as a corpus of text, a collection of images, sensor data, and data collected from individual users of a service. Overfitting is something to watch out for when training a machine learning model. Trained models derived from biased or non-evaluated data can result in skewed or undesired predictions. Bias models may result in detrimental outcomes thereby furthering the negative impacts on society or objectives. Algorithmic bias is a potential result of data not being fully prepared for training. Machine learning ethics is becoming a field of study and notably be integrated within machine learning engineering teams.\\n\\nFederated learning is an adapted form of distributed artificial intelligence to training machine learning models that decentralizes the training process, allowing for users\\' privacy to be maintained by not needing to send their data to a centralized server. This also increases efficiency by decentralizing the training process to many devices. For example, Gboard uses federated machine learning to train search query prediction models on users\\' mobile phones without having to send individual searches back to Google.[81]\\n\\nThere are many applications for machine learning, including:\\n\\nIn 2006, the media-services provider Netflix held the first \"Netflix Prize\" competition to find a program to better predict user preferences and improve the accuracy of its existing Cinematch movie recommendation algorithm by at least 10%. A joint team made up of researchers from AT&T Labs-Research in collaboration with the teams Big Chaos and Pragmatic Theory built an ensemble model to win the Grand Prize in 2009 for $1 million.[84] Shortly after the prize was awarded, Netflix realized that viewers\\' ratings were not the best indicators of their viewing patterns (\"everything is a recommendation\") and they changed their recommendation engine accordingly.[85] In 2010 The Wall Street Journal wrote about the firm Rebellion Research and their use of machine learning to predict the financial crisis.[86] In 2012, co-founder of Sun Microsystems, Vinod Khosla, predicted that 80% of medical doctors jobs would be lost in the next two decades to automated machine learning medical diagnostic software.[87] In 2014, it was reported that a machine learning algorithm had been applied in the field of art history to study fine art paintings and that it may have revealed previously unrecognized influences among artists.[88] In 2019 Springer Nature published the first research book created using machine learning.[89] In 2020, machine learning technology was used to help make diagnoses and aid researchers in developing a cure for COVID-19.[90] Machine learning was recently applied to predict the pro-environmental behavior of travelers.[91] Recently, machine learning technology was also applied to optimize smartphone\\'s performance and thermal behavior based on the user\\'s interaction with the phone.[92][93][94]\\n\\nAlthough machine learning has been transformative in some fields, machine-learning programs often fail to deliver expected results.[95][96][97] Reasons for this are numerous: lack of (suitable) data, lack of access to the data, data bias, privacy problems, badly chosen tasks and algorithms, wrong tools and people, lack of resources, and evaluation problems.[98]\\n\\nIn 2018, a self-driving car from Uber failed to detect a pedestrian, who was killed after a collision.[99] Attempts to use machine learning in healthcare with the IBM Watson system failed to deliver even after years of time and billions of dollars invested.[100][101]\\n\\nMachine learning has been used as a strategy to update the evidence related to a systematic review and increased reviewer burden related to the growth of biomedical literature. While it has improved with training sets, it has not yet developed sufficiently to reduce the workload burden without limiting the necessary sensitivity for the findings research themselves.[102]\\n\\nMachine learning approaches in particular can suffer from different data biases. A machine learning system trained specifically on current customers may not be able to predict the needs of new customer groups that are not represented in the training data. When trained on human-made data, machine learning is likely to pick up the constitutional and unconscious biases already present in society.[103] Language models learned from data have been shown to contain human-like biases.[104][105] Machine learning systems used for criminal risk assessment have been found to be biased against black people.[106][107] In 2015, Google photos would often tag black people as gorillas,[108] and in 2018 this still was not well resolved, but Google reportedly was still using the workaround to remove all gorillas from the training data, and thus was not able to recognize real gorillas at all.[109] Similar issues with recognizing non-white people have been found in many other systems.[110] In 2016, Microsoft tested a chatbot that learned from Twitter, and it quickly picked up racist and sexist language.[111] Because of such challenges, the effective use of machine learning may take longer to be adopted in other domains.[112] Concern for fairness in machine learning, that is, reducing bias in machine learning and propelling its use for human good is increasingly expressed by artificial intelligence scientists, including Fei-Fei Li, who reminds engineers that \"There\\'s nothing artificial about AI...It\\'s inspired by people, it\\'s created by people, and—most importantly—it impacts people. It is a powerful tool we are only just beginning to understand, and that is a profound responsibility.\"[113]\\n\\nExplainable AI (XAI), or Interpretable AI, or Explainable Machine Learning (XML), is artificial intelligence (AI) in which humans can understand the decisions or predictions made by the AI.[114] It contrasts with the \"black box\" concept in machine learning where even its designers cannot explain why an AI arrived at a specific decision.[115] By refining the mental models of users of AI-powered systems and dismantling their misconceptions, XAI promises to help users perform more effectively. XAI may be an implementation of the social right to explanation.\\n\\nSettling on a bad, overly complex theory gerrymandered to fit all the past training data is known as overfitting. Many systems attempt to reduce overfitting by rewarding a theory in accordance with how well it fits the data but penalizing the theory in accordance with how complex the theory is.\\n\\nLearners can also disappoint by \"learning the wrong lesson\". A toy example is that an image classifier trained only on pictures of brown horses and black cats might conclude that all brown patches are likely to be horses. A real-world example is that, unlike humans, current image classifiers often do not primarily make judgments from the spatial relationship between components of the picture, and they learn relationships between pixels that humans are oblivious to, but that still correlate with images of certain types of real objects. Modifying these patterns on a legitimate image can result in \"adversarial\" images that the system misclassifies.[118][119]\\n\\nAdversarial vulnerabilities can also result in nonlinear systems, or from non-pattern perturbations. Some systems are so brittle that changing a single adversarial pixel predictably induces misclassification.[citation needed] Machine learning models are often vulnerable to manipulation and/or evasion via adversarial machine learning.[120]\\n\\nResearchers have demonstrated how backdoors can be placed undetectably into classifying (e.g., for categories \"spam\" and well-visible \"not spam\" of posts) machine learning models which are often developed and/or trained by third parties. Parties can change the classification of any input, including in cases for which a type of data/software transparency is provided, possibly including white-box access.[121][122][123]\\n\\nClassification of machine learning models can be validated by accuracy estimation techniques like the holdout method, which splits the data in a training and test set (conventionally 2/3 training set and 1/3 test set designation) and evaluates the performance of the training model on the test set. In comparison, the K-fold-cross-validation method randomly partitions the data into K subsets and then K experiments are performed each respectively considering 1 subset for evaluation and the remaining K-1 subsets for training the model. In addition to the holdout and cross-validation methods, bootstrap, which samples n instances with replacement from the dataset, can be used to assess model accuracy.[124]\\n\\nIn addition to overall accuracy, investigators frequently report sensitivity and specificity meaning True Positive Rate (TPR) and True Negative Rate (TNR) respectively. Similarly, investigators sometimes report the false positive rate (FPR) as well as the false negative rate (FNR). However, these rates are ratios that fail to reveal their numerators and denominators. The total operating characteristic (TOC) is an effective method to express a model\\'s diagnostic ability. TOC shows the numerators and denominators of the previously mentioned rates, thus TOC provides more information than the commonly used receiver operating characteristic (ROC) and ROC\\'s associated area under the curve (AUC).[125]\\n\\nMachine learning poses a host of ethical questions. Systems that are trained on datasets collected with biases may exhibit these biases upon use (algorithmic bias), thus digitizing cultural prejudices.[126] For example, in 1988, the UK\\'s Commission for Racial Equality found that St. George\\'s Medical School had been using a computer program trained from data of previous admissions staff and this program had denied nearly 60 candidates who were found to be either women or had non-European sounding names.[103] Using job hiring data from a firm with racist hiring policies may lead to a machine learning system duplicating the bias by scoring job applicants by similarity to previous successful applicants.[127][128] Responsible collection of data and documentation of algorithmic rules used by a system thus is a critical part of machine learning.\\n\\nAI can be well-equipped to make decisions in technical fields, which rely heavily on data and historical information. These decisions rely on objectivity and logical reasoning.[129] Because human languages contain biases, machines trained on language corpora will necessarily also learn these biases.[130][131]\\n\\nOther forms of ethical challenges, not related to personal biases, are seen in health care. There are concerns among health care professionals that these systems might not be designed in the public\\'s interest but as income-generating machines.[132] This is especially true in the United States where there is a long-standing ethical dilemma of improving health care, but also increasing profits. For example, the algorithms could be designed to provide patients with unnecessary tests or medication in which the algorithm\\'s proprietary owners hold stakes. There is potential for machine learning in health care to provide professionals an additional tool to diagnose, medicate, and plan recovery paths for patients, but this requires these biases to be mitigated.[133]\\n\\nSince the 2010s, advances in both machine learning algorithms and computer hardware have led to more efficient methods for training deep neural networks (a particular narrow subdomain of machine learning) that contain many layers of non-linear hidden units.[134] By 2019, graphic processing units (GPUs), often with AI-specific enhancements, had displaced CPUs as the dominant method of training large-scale commercial cloud AI.[135] OpenAI estimated the hardware computing used in the largest deep learning projects from AlexNet (2012) to AlphaZero (2017), and found a 300,000-fold increase in the amount of compute required, with a doubling-time trendline of 3.4 months.[136][137]\\n\\nA physical neural network or Neuromorphic computer is a type of artificial neural network in which an electrically adjustable material is used to emulate the function of a neural synapse. \"Physical\" neural network is used to emphasize the reliance on physical hardware used to emulate neurons as opposed to software-based approaches. More generally the term is applicable to other artificial neural networks in which a memristor or other electrically adjustable resistance material is used to emulate a neural synapse.[138][139]\\n\\nEmbedded Machine Learning is a sub-field of machine learning, where the machine learning model is run on embedded systems with limited computing resources such as wearable computers, edge devices and microcontrollers.[140][141][142] Running machine learning model in embedded devices removes the need for transferring and storing data on cloud servers for further processing, henceforth, reducing data breaches and privacy leaks happening because of transferring data, and also minimizes theft of intellectual properties, personal data and business secrets. Embedded Machine Learning could be applied through several techniques including hardware acceleration,[143][144] using approximate computing,[145] optimization of machine learning models and many more.[146][147]\\n\\nSoftware suites containing a variety of machine learning algorithms include the following:\\n• European Conference on Machine Learning and Principles and Practice of Knowledge Discovery in Databases (ECML PKDD)\\n• International Conference on Computational Intelligence Methods for Bioinformatics and Biostatistics (CIBB)\\n• Automated machine learning – Process of automating the application of machine learning\\n• Big data – information assets characterized by such a high volume, velocity, and variety to require specific technology and analytical methods for its transformation into value\\n• None Domingos, Pedro (September 22, 2015). The Master Algorithm: How the Quest for the Ultimate Learning Machine Will Remake Our World. Basic Books. ISBN .\\n• None Nilsson, Nils (1998). . Morgan Kaufmann. ISBN . Archived from the original on 26 July 2020 .\\n• None Poole, David; Mackworth, Alan; Goebel, Randy (1998). Computational Intelligence: A Logical Approach. New York: Oxford University Press. ISBN . Archived from the original on 26 July 2020 .\\n• mloss is an academic database of open-source machine learning software.'"
            ],
            "application/vnd.google.colaboratory.intrinsic+json": {
              "type": "string"
            }
          },
          "metadata": {},
          "execution_count": 6
        }
      ]
    },
    {
      "cell_type": "code",
      "source": [
        "org_text1= \"\"\"Natural language processing (NLP) is an interdisciplinary subfield of computer science and linguistics.\n",
        "            It is primarily concerned with giving computers the ability to support and manipulate speech.\n",
        "            It involves processing natural language datasets, such as text corpora or speech corpora, using either rule-based or probabilistic statistical and, most recently, neural network-based) machine learning approaches.\n",
        "            The goal is a computer capable of understanding the contents of documents, including the contextual nuances of the language within them.\n",
        "            The technology can then accurately extract information and insights contained in the documents as well as categorize and organize the documents themselves.\"\"\"\n",
        "org_text2=\"\"\"চারদিকে পাহাড়ঘেরা উপত্যকার মাঝে ছিল অপূর্ব সুন্দর এক সরোবর।\n",
        "             সেই সরোবরের তীরে প্রতি বছর গ্রীষ্মকালে বেড়াতে আসে সাত পরি, সাত বোন।\n",
        "             তারা ডানাগুলো একটা গাছের তলায় রেখে পানিতে আনন্দ করে বেড়ায়।\n",
        "             জনশূন্য চারপাশ।\n",
        "             ঠিক সাত দিন ধরে আনন্দ করে আবার ডানাগুলো পরে উড়ে যায় তাদের নিজের দেশে।\n",
        "             এদিকে কাছাকাছি যে কিছু গ্রাম আছে সে খবর তারা না রাখলেও পরিদের সব খবর রাখে সেই গ্রামেরই এক রাখাল ছেলে।\n",
        "             সে গরু চরায়, বাঁশি বাজায় আর দূর থেকে দেখতে থাকে পরিদের কাণ্ডকারখানা।\n",
        "             একসময় তার খুব ভালো লেগে যায় সবচেয়ে ছোট পরিটিকে। কী অপরূপ মিষ্টি চেহারা!\n",
        "             ওকে দেখলেই রাখালের বাঁশিতে বেজে ওঠে স্বর্গীয় সব সুর। দূর থেকে পরিরা তা শোনে আর অবাক হয়ে ভাবে এমন সুন্দর সুর কে বাজায়।\n",
        "             এ সুর তো তাদের দেশের পাখিদেরও অজানা!\n",
        "             তারা মুগ্ধ হয়ে শোনে, কিন্তু রাখাল থাকে আড়ালে, তাকে কেউ দেখতে পায় না।\n",
        "             একবার হলো কী, রাখালের মাথায় একটি দুষ্টবুদ্ধি জাগল।\n",
        "             পরিরা যখন স্নানে ব্যস্ত, সে চুপিচুপি এসে দাঁড়াল সেই গাছতলায়, যেখানে খুলে রাখা আছে পরিদের ডানাগুলো।\n",
        "             বেছে বেছে সবচেয়ে ছোট ডানাজোড়া নিয়ে সে লুকিয়ে রেখে দিল একটা বড় গাছের ফোকরে।\n",
        "             তারপর ধীরে ধীরে সরে পড়ল সেখান থেকে।\n",
        "             সাত দিন পরে পরিদের যাওয়ার সময় হলে দেখা গেল তাদের ছোট বোনের ডানাজোড়া নেই।\n",
        "             অনেক খোঁজাখুঁজি করেও তারা সেটা পেল না।\n",
        "             এদিকে বাবার কড়া হুকুম, এক সপ্তাহের বেশি তাদের স্বর্গ ছেড়ে থাকা চলবে না।\n",
        "             কী করবে ভেবে না পেয়ে সবচেয়ে বড় পরি ছোট বোনকে বুঝিয়ে বলল, ‘উপায় নেইরে বোন, আমাদের যেতেই হবে।\n",
        "             আর গেলে পরের বছরের আগে আর আসতে পারব না।\n",
        "              তুই বরং এখানে থেকে ডানা জোড়া ভালো করে খুঁজে দেখ।\n",
        "              পেলেই দেশে চলে আসিস, কেমন।\n",
        "               আমরা বাবাকে বুঝিয়ে বলব তিনি যেন রাগ না করেন।'\n",
        "             ছয় পরি ছোট বোনকে একা সরোবরের তীরে ফেলে রেখে উড়ে চলে গেল।\n",
        "             বেচারি ছোট পরি মনের দুঃখে বসে বসে কাঁদতে লাগল।\n",
        "             তাকে ওভাবে কাঁদতে দেখে রাখাল সাহস করে আড়াল থেকে বেরিয়ে এলো। সব শুনে সে তাকে নিজের বাসায় নিয়ে গেল।\n",
        "             তারপর অনেকক্ষণ ধরে বাঁশি বাজিয়ে শোনাল।\n",
        "             এই রাখালের বাঁশিই যে তাকে দূর থেকে এত আনন্দ দিয়েছে ভেবে পরির খুব ভালো লাগল।\n",
        "             তাদের বন্ধুত্ব হতে দেরি হলো না।\n",
        "             রাখাল আর পরি গ্রামের একপ্রান্তে একটি কুঁড়েঘরে থাকে। একত্রে গরু চরায়।\n",
        "             রাখাল বাঁশি বাজায় আর পরি ঘাঘরা উড়িয়ে নাচে।\n",
        "             দেখে গ্রামের লোকেরা ঠিক করল, এদের বিয়ে হওয়া উচিত। রাখাল তো রাজি ছিলই, পরিও রাজি হয়ে গেল।\n",
        "             তারপর একদিন বেশ একটা উৎসবের মধ্য দিয়ে তাদের বিয়ে হয়ে গেল।\"\"\""
      ],
      "metadata": {
        "id": "OwXK3BpMn1-o"
      },
      "execution_count": null,
      "outputs": []
    },
    {
      "cell_type": "code",
      "source": [
        "org_text1=re.sub(r'\\s+',' ', org_text1)\n",
        "org_text2=re.sub(r'\\s+',' ', org_text2)\n",
        "articles=re.sub(r'\\s+',' ', articles)"
      ],
      "metadata": {
        "id": "Zv-JIdyoqlcH"
      },
      "execution_count": null,
      "outputs": []
    },
    {
      "cell_type": "code",
      "source": [
        "nltk.download('punkt')"
      ],
      "metadata": {
        "colab": {
          "base_uri": "https://localhost:8080/"
        },
        "id": "pyzpkEfpwSiO",
        "outputId": "1bd2a844-0ac4-465e-c5e9-cb8aadf0e12f"
      },
      "execution_count": null,
      "outputs": [
        {
          "output_type": "stream",
          "name": "stderr",
          "text": [
            "[nltk_data] Downloading package punkt to /root/nltk_data...\n",
            "[nltk_data]   Unzipping tokenizers/punkt.zip.\n"
          ]
        },
        {
          "output_type": "execute_result",
          "data": {
            "text/plain": [
              "True"
            ]
          },
          "metadata": {},
          "execution_count": 9
        }
      ]
    },
    {
      "cell_type": "code",
      "source": [
        "nltk.download('stopwords')"
      ],
      "metadata": {
        "colab": {
          "base_uri": "https://localhost:8080/"
        },
        "id": "Koo6nsEDyhI8",
        "outputId": "794e0c25-d833-4e71-8e35-61550d85be3e"
      },
      "execution_count": null,
      "outputs": [
        {
          "output_type": "stream",
          "name": "stderr",
          "text": [
            "[nltk_data] Downloading package stopwords to /root/nltk_data...\n",
            "[nltk_data]   Unzipping corpora/stopwords.zip.\n"
          ]
        },
        {
          "output_type": "execute_result",
          "data": {
            "text/plain": [
              "True"
            ]
          },
          "metadata": {},
          "execution_count": 10
        }
      ]
    },
    {
      "cell_type": "code",
      "source": [
        "stopwords1= nltk.corpus.stopwords.words('english')\n",
        "print(stopwords1)\n",
        "stopwords2= nltk.corpus.stopwords.words('bengali')\n",
        "print(stopwords2)"
      ],
      "metadata": {
        "colab": {
          "base_uri": "https://localhost:8080/"
        },
        "id": "YGmRlVqsyy49",
        "outputId": "fd75c8ee-ecf5-476a-8409-64157c7bd4e9"
      },
      "execution_count": null,
      "outputs": [
        {
          "output_type": "stream",
          "name": "stdout",
          "text": [
            "['i', 'me', 'my', 'myself', 'we', 'our', 'ours', 'ourselves', 'you', \"you're\", \"you've\", \"you'll\", \"you'd\", 'your', 'yours', 'yourself', 'yourselves', 'he', 'him', 'his', 'himself', 'she', \"she's\", 'her', 'hers', 'herself', 'it', \"it's\", 'its', 'itself', 'they', 'them', 'their', 'theirs', 'themselves', 'what', 'which', 'who', 'whom', 'this', 'that', \"that'll\", 'these', 'those', 'am', 'is', 'are', 'was', 'were', 'be', 'been', 'being', 'have', 'has', 'had', 'having', 'do', 'does', 'did', 'doing', 'a', 'an', 'the', 'and', 'but', 'if', 'or', 'because', 'as', 'until', 'while', 'of', 'at', 'by', 'for', 'with', 'about', 'against', 'between', 'into', 'through', 'during', 'before', 'after', 'above', 'below', 'to', 'from', 'up', 'down', 'in', 'out', 'on', 'off', 'over', 'under', 'again', 'further', 'then', 'once', 'here', 'there', 'when', 'where', 'why', 'how', 'all', 'any', 'both', 'each', 'few', 'more', 'most', 'other', 'some', 'such', 'no', 'nor', 'not', 'only', 'own', 'same', 'so', 'than', 'too', 'very', 's', 't', 'can', 'will', 'just', 'don', \"don't\", 'should', \"should've\", 'now', 'd', 'll', 'm', 'o', 're', 've', 'y', 'ain', 'aren', \"aren't\", 'couldn', \"couldn't\", 'didn', \"didn't\", 'doesn', \"doesn't\", 'hadn', \"hadn't\", 'hasn', \"hasn't\", 'haven', \"haven't\", 'isn', \"isn't\", 'ma', 'mightn', \"mightn't\", 'mustn', \"mustn't\", 'needn', \"needn't\", 'shan', \"shan't\", 'shouldn', \"shouldn't\", 'wasn', \"wasn't\", 'weren', \"weren't\", 'won', \"won't\", 'wouldn', \"wouldn't\"]\n",
            "['অতএব', 'অথচ', 'অথবা', 'অনুযায়ী', 'অনেক', 'অনেকে', 'অনেকেই', 'অন্তত', 'অন্য', 'অবধি', 'অবশ্য', 'অর্থাত', 'আই', 'আগামী', 'আগে', 'আগেই', 'আছে', 'আজ', 'আদ্যভাগে', 'আপনার', 'আপনি', 'আবার', 'আমরা', 'আমাকে', 'আমাদের', 'আমার', 'আমি', 'আর', 'আরও', 'ই', 'ইত্যাদি', 'ইহা', 'উচিত', 'উত্তর', 'উনি', 'উপর', 'উপরে', 'এ', 'এঁদের', 'এঁরা', 'এই', 'একই', 'একটি', 'একবার', 'একে', 'এক্', 'এখন', 'এখনও', 'এখানে', 'এখানেই', 'এটা', 'এটাই', 'এটি', 'এত', 'এতটাই', 'এতে', 'এদের', 'এব', 'এবং', 'এবার', 'এমন', 'এমনকী', 'এমনি', 'এর', 'এরা', 'এল', 'এস', 'এসে', 'ঐ', 'ও', 'ওঁদের', 'ওঁর', 'ওঁরা', 'ওই', 'ওকে', 'ওখানে', 'ওদের', 'ওর', 'ওরা', 'কখনও', 'কত', 'কবে', 'কমনে', 'কয়েক', 'কয়েকটি', 'করছে', 'করছেন', 'করতে', 'করবে', 'করবেন', 'করলে', 'করলেন', 'করা', 'করাই', 'করায়', 'করার', 'করি', 'করিতে', 'করিয়া', 'করিয়ে', 'করে', 'করেই', 'করেছিলেন', 'করেছে', 'করেছেন', 'করেন', 'কাউকে', 'কাছ', 'কাছে', 'কাজ', 'কাজে', 'কারও', 'কারণ', 'কি', 'কিংবা', 'কিছু', 'কিছুই', 'কিন্তু', 'কী', 'কে', 'কেউ', 'কেউই', 'কেখা', 'কেন', 'কোটি', 'কোন', 'কোনও', 'কোনো', 'ক্ষেত্রে', 'কয়েক', 'খুব', 'গিয়ে', 'গিয়েছে', 'গিয়ে', 'গুলি', 'গেছে', 'গেল', 'গেলে', 'গোটা', 'চলে', 'চান', 'চায়', 'চার', 'চালু', 'চেয়ে', 'চেষ্টা', 'ছাড়া', 'ছাড়াও', 'ছিল', 'ছিলেন', 'জন', 'জনকে', 'জনের', 'জন্য', 'জন্যওজে', 'জানতে', 'জানা', 'জানানো', 'জানায়', 'জানিয়ে', 'জানিয়েছে', 'জে', 'জ্নজন', 'টি', 'ঠিক', 'তখন', 'তত', 'তথা', 'তবু', 'তবে', 'তা', 'তাঁকে', 'তাঁদের', 'তাঁর', 'তাঁরা', 'তাঁাহারা', 'তাই', 'তাও', 'তাকে', 'তাতে', 'তাদের', 'তার', 'তারপর', 'তারা', 'তারৈ', 'তাহলে', 'তাহা', 'তাহাতে', 'তাহার', 'তিনঐ', 'তিনি', 'তিনিও', 'তুমি', 'তুলে', 'তেমন', 'তো', 'তোমার', 'থাকবে', 'থাকবেন', 'থাকা', 'থাকায়', 'থাকে', 'থাকেন', 'থেকে', 'থেকেই', 'থেকেও', 'দিকে', 'দিতে', 'দিন', 'দিয়ে', 'দিয়েছে', 'দিয়েছেন', 'দিলেন', 'দু', 'দুই', 'দুটি', 'দুটো', 'দেওয়া', 'দেওয়ার', 'দেওয়া', 'দেখতে', 'দেখা', 'দেখে', 'দেন', 'দেয়', 'দ্বারা', 'ধরা', 'ধরে', 'ধামার', 'নতুন', 'নয়', 'না', 'নাই', 'নাকি', 'নাগাদ', 'নানা', 'নিজে', 'নিজেই', 'নিজেদের', 'নিজের', 'নিতে', 'নিয়ে', 'নিয়ে', 'নেই', 'নেওয়া', 'নেওয়ার', 'নেওয়া', 'নয়', 'পক্ষে', 'পর', 'পরে', 'পরেই', 'পরেও', 'পর্যন্ত', 'পাওয়া', 'পাচ', 'পারি', 'পারে', 'পারেন', 'পি', 'পেয়ে', 'পেয়্র্', 'প্রতি', 'প্রথম', 'প্রভৃতি', 'প্রযন্ত', 'প্রাথমিক', 'প্রায়', 'প্রায়', 'ফলে', 'ফিরে', 'ফের', 'বক্তব্য', 'বদলে', 'বন', 'বরং', 'বলতে', 'বলল', 'বললেন', 'বলা', 'বলে', 'বলেছেন', 'বলেন', 'বসে', 'বহু', 'বা', 'বাদে', 'বার', 'বি', 'বিনা', 'বিভিন্ন', 'বিশেষ', 'বিষয়টি', 'বেশ', 'বেশি', 'ব্যবহার', 'ব্যাপারে', 'ভাবে', 'ভাবেই', 'মতো', 'মতোই', 'মধ্যভাগে', 'মধ্যে', 'মধ্যেই', 'মধ্যেও', 'মনে', 'মাত্র', 'মাধ্যমে', 'মোট', 'মোটেই', 'যখন', 'যত', 'যতটা', 'যথেষ্ট', 'যদি', 'যদিও', 'যা', 'যাঁর', 'যাঁরা', 'যাওয়া', 'যাওয়ার', 'যাওয়া', 'যাকে', 'যাচ্ছে', 'যাতে', 'যাদের', 'যান', 'যাবে', 'যায়', 'যার', 'যারা', 'যিনি', 'যে', 'যেখানে', 'যেতে', 'যেন', 'যেমন', 'র', 'রকম', 'রয়েছে', 'রাখা', 'রেখে', 'লক্ষ', 'শুধু', 'শুরু', 'সঙ্গে', 'সঙ্গেও', 'সব', 'সবার', 'সমস্ত', 'সম্প্রতি', 'সহ', 'সহিত', 'সাধারণ', 'সামনে', 'সি', 'সুতরাং', 'সে', 'সেই', 'সেখান', 'সেখানে', 'সেটা', 'সেটাই', 'সেটাও', 'সেটি', 'স্পষ্ট', 'স্বয়ং', 'হইতে', 'হইবে', 'হইয়া', 'হওয়া', 'হওয়ায়', 'হওয়ার', 'হচ্ছে', 'হত', 'হতে', 'হতেই', 'হন', 'হবে', 'হবেন', 'হয়', 'হয়তো', 'হয়নি', 'হয়ে', 'হয়েই', 'হয়েছিল', 'হয়েছে', 'হয়েছেন', 'হল', 'হলে', 'হলেই', 'হলেও', 'হলো', 'হাজার', 'হিসাবে', 'হৈলে', 'হোক', 'হয়']\n"
          ]
        }
      ]
    },
    {
      "cell_type": "code",
      "source": [
        "len(stopwords1)\n"
      ],
      "metadata": {
        "colab": {
          "base_uri": "https://localhost:8080/"
        },
        "id": "1MEVipSx0TKV",
        "outputId": "ea477dc0-6645-4afd-edfd-46563404d63a"
      },
      "execution_count": null,
      "outputs": [
        {
          "output_type": "execute_result",
          "data": {
            "text/plain": [
              "179"
            ]
          },
          "metadata": {},
          "execution_count": 12
        }
      ]
    },
    {
      "cell_type": "code",
      "source": [
        "len(stopwords2)"
      ],
      "metadata": {
        "colab": {
          "base_uri": "https://localhost:8080/"
        },
        "id": "TayyyOm30igk",
        "outputId": "0c35c7ec-ee78-4f1c-b1a9-0fa408ea3360"
      },
      "execution_count": null,
      "outputs": [
        {
          "output_type": "execute_result",
          "data": {
            "text/plain": [
              "398"
            ]
          },
          "metadata": {},
          "execution_count": 13
        }
      ]
    },
    {
      "cell_type": "code",
      "source": [
        "string.punctuation"
      ],
      "metadata": {
        "colab": {
          "base_uri": "https://localhost:8080/",
          "height": 36
        },
        "id": "ITurFfr87OJR",
        "outputId": "5f5fc004-c7bf-4aea-a086-8bdb32396491"
      },
      "execution_count": null,
      "outputs": [
        {
          "output_type": "execute_result",
          "data": {
            "text/plain": [
              "'!\"#$%&\\'()*+,-./:;<=>?@[\\\\]^_`{|}~'"
            ],
            "application/vnd.google.colaboratory.intrinsic+json": {
              "type": "string"
            }
          },
          "metadata": {},
          "execution_count": 14
        }
      ]
    },
    {
      "cell_type": "code",
      "source": [
        "def remove_bengali_punctuation(sentence):\n",
        "    # Define a regular expression pattern to match Bengali punctuation marks\n",
        "    bengali_punctuation_pattern = r'[।,;!?(){}[\\]<>\"/\\':‹›‘’“”«»-]'\n",
        "\n",
        "    # Use re.sub() to replace the punctuation marks with an empty string\n",
        "    cleaned_sentence = re.sub(bengali_punctuation_pattern, '', sentence)\n",
        "\n",
        "    return cleaned_sentence\n",
        "\n",
        "# Example usage\n",
        "cleaned_sentence = remove_bengali_punctuation(org_text2)\n",
        "\n",
        "print(\"Input sentence:\", org_text2)\n",
        "print(\"Cleaned sentence:\", cleaned_sentence)\n",
        "\n"
      ],
      "metadata": {
        "colab": {
          "base_uri": "https://localhost:8080/"
        },
        "id": "98oPwRSHXrpS",
        "outputId": "08dfe812-7ab0-4193-8ff9-bb044c3f9823"
      },
      "execution_count": null,
      "outputs": [
        {
          "output_type": "stream",
          "name": "stdout",
          "text": [
            "Input sentence: চারদিকে পাহাড়ঘেরা উপত্যকার মাঝে ছিল অপূর্ব সুন্দর এক সরোবর। সেই সরোবরের তীরে প্রতি বছর গ্রীষ্মকালে বেড়াতে আসে সাত পরি, সাত বোন। তারা ডানাগুলো একটা গাছের তলায় রেখে পানিতে আনন্দ করে বেড়ায়। জনশূন্য চারপাশ। ঠিক সাত দিন ধরে আনন্দ করে আবার ডানাগুলো পরে উড়ে যায় তাদের নিজের দেশে। এদিকে কাছাকাছি যে কিছু গ্রাম আছে সে খবর তারা না রাখলেও পরিদের সব খবর রাখে সেই গ্রামেরই এক রাখাল ছেলে। সে গরু চরায়, বাঁশি বাজায় আর দূর থেকে দেখতে থাকে পরিদের কাণ্ডকারখানা। একসময় তার খুব ভালো লেগে যায় সবচেয়ে ছোট পরিটিকে। কী অপরূপ মিষ্টি চেহারা! ওকে দেখলেই রাখালের বাঁশিতে বেজে ওঠে স্বর্গীয় সব সুর। দূর থেকে পরিরা তা শোনে আর অবাক হয়ে ভাবে এমন সুন্দর সুর কে বাজায়। এ সুর তো তাদের দেশের পাখিদেরও অজানা! তারা মুগ্ধ হয়ে শোনে, কিন্তু রাখাল থাকে আড়ালে, তাকে কেউ দেখতে পায় না। একবার হলো কী, রাখালের মাথায় একটি দুষ্টবুদ্ধি জাগল। পরিরা যখন স্নানে ব্যস্ত, সে চুপিচুপি এসে দাঁড়াল সেই গাছতলায়, যেখানে খুলে রাখা আছে পরিদের ডানাগুলো। বেছে বেছে সবচেয়ে ছোট ডানাজোড়া নিয়ে সে লুকিয়ে রেখে দিল একটা বড় গাছের ফোকরে। তারপর ধীরে ধীরে সরে পড়ল সেখান থেকে। সাত দিন পরে পরিদের যাওয়ার সময় হলে দেখা গেল তাদের ছোট বোনের ডানাজোড়া নেই। অনেক খোঁজাখুঁজি করেও তারা সেটা পেল না। এদিকে বাবার কড়া হুকুম, এক সপ্তাহের বেশি তাদের স্বর্গ ছেড়ে থাকা চলবে না। কী করবে ভেবে না পেয়ে সবচেয়ে বড় পরি ছোট বোনকে বুঝিয়ে বলল, ‘উপায় নেইরে বোন, আমাদের যেতেই হবে। আর গেলে পরের বছরের আগে আর আসতে পারব না। তুই বরং এখানে থেকে ডানা জোড়া ভালো করে খুঁজে দেখ। পেলেই দেশে চলে আসিস, কেমন। আমরা বাবাকে বুঝিয়ে বলব তিনি যেন রাগ না করেন।' ছয় পরি ছোট বোনকে একা সরোবরের তীরে ফেলে রেখে উড়ে চলে গেল। বেচারি ছোট পরি মনের দুঃখে বসে বসে কাঁদতে লাগল। তাকে ওভাবে কাঁদতে দেখে রাখাল সাহস করে আড়াল থেকে বেরিয়ে এলো। সব শুনে সে তাকে নিজের বাসায় নিয়ে গেল। তারপর অনেকক্ষণ ধরে বাঁশি বাজিয়ে শোনাল। এই রাখালের বাঁশিই যে তাকে দূর থেকে এত আনন্দ দিয়েছে ভেবে পরির খুব ভালো লাগল। তাদের বন্ধুত্ব হতে দেরি হলো না। রাখাল আর পরি গ্রামের একপ্রান্তে একটি কুঁড়েঘরে থাকে। একত্রে গরু চরায়। রাখাল বাঁশি বাজায় আর পরি ঘাঘরা উড়িয়ে নাচে। দেখে গ্রামের লোকেরা ঠিক করল, এদের বিয়ে হওয়া উচিত। রাখাল তো রাজি ছিলই, পরিও রাজি হয়ে গেল। তারপর একদিন বেশ একটা উৎসবের মধ্য দিয়ে তাদের বিয়ে হয়ে গেল।\n",
            "Cleaned sentence: চারদিকে পাহাড়ঘেরা উপত্যকার মাঝে ছিল অপূর্ব সুন্দর এক সরোবর সেই সরোবরের তীরে প্রতি বছর গ্রীষ্মকালে বেড়াতে আসে সাত পরি সাত বোন তারা ডানাগুলো একটা গাছের তলায় রেখে পানিতে আনন্দ করে বেড়ায় জনশূন্য চারপাশ ঠিক সাত দিন ধরে আনন্দ করে আবার ডানাগুলো পরে উড়ে যায় তাদের নিজের দেশে এদিকে কাছাকাছি যে কিছু গ্রাম আছে সে খবর তারা না রাখলেও পরিদের সব খবর রাখে সেই গ্রামেরই এক রাখাল ছেলে সে গরু চরায় বাঁশি বাজায় আর দূর থেকে দেখতে থাকে পরিদের কাণ্ডকারখানা একসময় তার খুব ভালো লেগে যায় সবচেয়ে ছোট পরিটিকে কী অপরূপ মিষ্টি চেহারা ওকে দেখলেই রাখালের বাঁশিতে বেজে ওঠে স্বর্গীয় সব সুর দূর থেকে পরিরা তা শোনে আর অবাক হয়ে ভাবে এমন সুন্দর সুর কে বাজায় এ সুর তো তাদের দেশের পাখিদেরও অজানা তারা মুগ্ধ হয়ে শোনে কিন্তু রাখাল থাকে আড়ালে তাকে কেউ দেখতে পায় না একবার হলো কী রাখালের মাথায় একটি দুষ্টবুদ্ধি জাগল পরিরা যখন স্নানে ব্যস্ত সে চুপিচুপি এসে দাঁড়াল সেই গাছতলায় যেখানে খুলে রাখা আছে পরিদের ডানাগুলো বেছে বেছে সবচেয়ে ছোট ডানাজোড়া নিয়ে সে লুকিয়ে রেখে দিল একটা বড় গাছের ফোকরে তারপর ধীরে ধীরে সরে পড়ল সেখান থেকে সাত দিন পরে পরিদের যাওয়ার সময় হলে দেখা গেল তাদের ছোট বোনের ডানাজোড়া নেই অনেক খোঁজাখুঁজি করেও তারা সেটা পেল না এদিকে বাবার কড়া হুকুম এক সপ্তাহের বেশি তাদের স্বর্গ ছেড়ে থাকা চলবে না কী করবে ভেবে না পেয়ে সবচেয়ে বড় পরি ছোট বোনকে বুঝিয়ে বলল উপায় নেইরে বোন আমাদের যেতেই হবে আর গেলে পরের বছরের আগে আর আসতে পারব না তুই বরং এখানে থেকে ডানা জোড়া ভালো করে খুঁজে দেখ পেলেই দেশে চলে আসিস কেমন আমরা বাবাকে বুঝিয়ে বলব তিনি যেন রাগ না করেন ছয় পরি ছোট বোনকে একা সরোবরের তীরে ফেলে রেখে উড়ে চলে গেল বেচারি ছোট পরি মনের দুঃখে বসে বসে কাঁদতে লাগল তাকে ওভাবে কাঁদতে দেখে রাখাল সাহস করে আড়াল থেকে বেরিয়ে এলো সব শুনে সে তাকে নিজের বাসায় নিয়ে গেল তারপর অনেকক্ষণ ধরে বাঁশি বাজিয়ে শোনাল এই রাখালের বাঁশিই যে তাকে দূর থেকে এত আনন্দ দিয়েছে ভেবে পরির খুব ভালো লাগল তাদের বন্ধুত্ব হতে দেরি হলো না রাখাল আর পরি গ্রামের একপ্রান্তে একটি কুঁড়েঘরে থাকে একত্রে গরু চরায় রাখাল বাঁশি বাজায় আর পরি ঘাঘরা উড়িয়ে নাচে দেখে গ্রামের লোকেরা ঠিক করল এদের বিয়ে হওয়া উচিত রাখাল তো রাজি ছিলই পরিও রাজি হয়ে গেল তারপর একদিন বেশ একটা উৎসবের মধ্য দিয়ে তাদের বিয়ে হয়ে গেল\n"
          ]
        }
      ]
    },
    {
      "cell_type": "code",
      "source": [
        "def preprocessing(text):\n",
        "  formatting_text1=text.lower()\n",
        "  formatting_text2=text.lower()\n",
        "  formatting_articles=text.lower()\n",
        "\n",
        "\n",
        "  #for english\n",
        "  tokens1=[]\n",
        "  for token in nltk.word_tokenize(formatting_text1):\n",
        "    tokens1.append(token)\n",
        "  #print(tokens1)\n",
        "  tokens1= [word for word in tokens1 if word not in stopwords1 and word not in string.punctuation]\n",
        "  formatting_text1=' '.join(element for element in tokens1)\n",
        "\n",
        "  #for bengali\n",
        "  tokens2=[]\n",
        "  for token in nltk.word_tokenize(formatting_text2):\n",
        "    tokens2.append(token)\n",
        "  tokens2= [word for word in tokens2 if word not in stopwords2  and word not in remove_bengali_punctuation(org_text2)]\n",
        "  formatting_text2=' '.join(element for element in tokens2)\n",
        "\n",
        "  #for Articles\n",
        "  tokens3=[]\n",
        "  for token in nltk.word_tokenize(formatting_articles):\n",
        "    tokens3.append(token)\n",
        "\n",
        "  tokens3= [word for word in tokens3 if word not in stopwords1 and word not in string.punctuation]\n",
        "  formatting_articles=' '.join(element for element in tokens3)\n",
        "\n",
        "\n",
        "  #return tokens1\n",
        "  return formatting_text1\n",
        "  return tokens2\n",
        "  return formatting_text2\n",
        "  return formatting_articles\n"
      ],
      "metadata": {
        "id": "HAl_VcyYrgeH"
      },
      "execution_count": null,
      "outputs": []
    },
    {
      "cell_type": "code",
      "source": [
        "formatting_text1=preprocessing(org_text1)\n",
        "formatting_text1\n"
      ],
      "metadata": {
        "colab": {
          "base_uri": "https://localhost:8080/",
          "height": 90
        },
        "id": "WM5bQrVWt8-N",
        "outputId": "e70b1f74-2753-4fae-f8c3-1851865f009d"
      },
      "execution_count": null,
      "outputs": [
        {
          "output_type": "execute_result",
          "data": {
            "text/plain": [
              "'natural language processing nlp interdisciplinary subfield computer science linguistics primarily concerned giving computers ability support manipulate speech involves processing natural language datasets text corpora speech corpora using either rule-based probabilistic statistical recently neural network-based machine learning approaches goal computer capable understanding contents documents including contextual nuances language within technology accurately extract information insights contained documents well categorize organize documents'"
            ],
            "application/vnd.google.colaboratory.intrinsic+json": {
              "type": "string"
            }
          },
          "metadata": {},
          "execution_count": 17
        }
      ]
    },
    {
      "cell_type": "code",
      "source": [
        "formatting_articles=preprocessing(articles)\n",
        "formatting_articles\n"
      ],
      "metadata": {
        "colab": {
          "base_uri": "https://localhost:8080/",
          "height": 145
        },
        "id": "JrsWf6kon1QZ",
        "outputId": "a99cee8f-2328-4439-c631-c5f661630fcf"
      },
      "execution_count": null,
      "outputs": [
        {
          "output_type": "execute_result",
          "data": {
            "text/plain": [
              "\"study algorithms improve automatically experience machine learning ml umbrella term solving problems development algorithms human programmers would cost-prohibitive instead problems solved helping machines `` discover '' `` '' algorithms 1 without needing explicitly told human-developed algorithms 2 recently generative artificial neural networks able surpass results many previous approaches 3 4 machine-learning approaches applied large language models computer vision speech recognition email filtering agriculture medicine costly develop algorithms perform needed tasks 5 6 mathematical foundations ml provided mathematical optimization mathematical programming methods data mining related parallel field study focusing exploratory data analysis unsupervised learning 8 9 ml known application across business problems name predictive analytics although machine learning statistically based computational statistics important source field 's methods history relationships fields term machine learning coined 1959 arthur samuel ibm employee pioneer field computer gaming artificial intelligence 10 11 synonym self-teaching computers also used time period 12 13 early 1960s experimental `` learning machine '' punched tape memory called cybertron developed raytheon company analyze sonar signals electrocardiograms speech patterns using rudimentary reinforcement learning repetitively `` trained '' human operator/teacher recognize patterns equipped `` goof '' button cause re-evaluate incorrect decisions 14 representative book research machine learning 1960s nilsson 's book learning machines dealing mostly machine learning pattern classification 15 interest related pattern recognition continued 1970s described duda hart 1973 16 1981 report given using teaching strategies neural network learns recognize 40 characters 26 letters 10 digits 4 special symbols computer terminal 17 tom m. mitchell provided widely quoted formal definition algorithms studied machine learning field `` computer program said learn experience e respect class tasks performance measure p performance tasks measured p improves experience e. '' 18 definition tasks machine learning concerned offers fundamentally operational definition rather defining field cognitive terms follows alan turing 's proposal paper `` computing machinery intelligence '' question `` machines think '' replaced question `` machines thinking entities '' 19 modern-day machine learning two objectives one classify data based models developed purpose make predictions future outcomes based models hypothetical algorithm specific classifying data may use computer vision moles coupled supervised learning order train classify cancerous moles machine learning algorithm stock trading may inform trader future potential predictions 20 scientific endeavor machine learning grew quest artificial intelligence ai early days ai academic discipline researchers interested machines learn data attempted approach problem various symbolic methods well termed `` neural networks '' mostly perceptrons models later found reinventions generalized linear models statistics 22 probabilistic reasoning also employed especially automated medical diagnosis 23 488 however increasing emphasis logical knowledge-based approach caused rift ai machine learning probabilistic systems plagued theoretical practical problems data acquisition representation 23 488 1980 expert systems come dominate ai statistics favor 24 work symbolic/knowledge-based learning continue within ai leading inductive logic programming statistical line research outside field ai proper pattern recognition information retrieval 23 708–710 755 neural networks research abandoned ai computer science around time line continued outside ai/cs field `` connectionism '' researchers disciplines including hopfield rumelhart hinton main success came mid-1980s reinvention backpropagation 23 25 machine learning ml reorganized recognized field started flourish 1990s field changed goal achieving artificial intelligence tackling solvable problems practical nature shifted focus away symbolic approaches inherited ai toward methods models borrowed statistics fuzzy logic probability theory 24 machine learning data mining often employ methods overlap significantly machine learning focuses prediction based known properties learned training data data mining focuses discovery previously unknown properties data analysis step knowledge discovery databases data mining uses many machine learning methods different goals hand machine learning also employs data mining methods `` unsupervised learning '' preprocessing step improve learner accuracy much confusion two research communities often separate conferences separate journals ecml pkdd major exception comes basic assumptions work machine learning performance usually evaluated respect ability reproduce known knowledge knowledge discovery data mining kdd key task discovery previously unknown knowledge evaluated respect known knowledge uninformed unsupervised method easily outperformed supervised methods typical kdd task supervised methods used due unavailability training data machine learning also intimate ties optimization many learning problems formulated minimization loss function training set examples loss functions express discrepancy predictions model trained actual problem instances example classification one wants assign label instances models trained correctly predict pre-assigned labels set examples 25 difference optimization machine learning arises goal generalization optimization algorithms minimize loss training set machine learning concerned minimizing loss unseen samples characterizing generalization various learning algorithms active topic current research especially deep learning algorithms machine learning statistics closely related fields terms methods distinct principal goal statistics draws population inferences sample machine learning finds generalizable predictive patterns 26 according michael i. jordan ideas machine learning methodological principles theoretical tools long pre-history statistics 27 also suggested term data science placeholder call overall field 27 conventional statistical analyses require priori selection model suitable study data set addition significant theoretically relevant variables based previous experience included analysis contrast machine learning built pre-structured model rather data shape model detecting underlying patterns variables input used train model accurate ultimate model 28 leo breiman distinguished two statistical modeling paradigms data model algorithmic model 29 wherein `` algorithmic model '' means less machine learning algorithms like random forest statisticians adopted methods machine learning leading combined field call statistical learning 30 analytical computational techniques derived deep-rooted physics disordered systems extended large-scale problems including machine learning e.g. analyze weight space deep neural networks 31 statistical physics thus finding applications area medical diagnostics 32 core objective learner generalize experience 7 33 generalization context ability learning machine perform accurately new unseen examples/tasks experienced learning data set training examples come generally unknown probability distribution considered representative space occurrences learner build general model space enables produce sufficiently accurate predictions new cases computational analysis machine learning algorithms performance branch theoretical computer science known computational learning theory via probably approximately correct learning pac model training sets finite future uncertain learning theory usually yield guarantees performance algorithms instead probabilistic bounds performance quite common bias–variance decomposition one way quantify generalization error best performance context generalization complexity hypothesis match complexity function underlying data hypothesis less complex function model fitted data complexity model increased response training error decreases hypothesis complex model subject overfitting generalization poorer 34 addition performance bounds learning theorists study time complexity feasibility learning computational learning theory computation considered feasible done polynomial time two kinds time complexity results positive results show certain class functions learned polynomial time negative results show certain classes learned polynomial time machine learning approaches traditionally divided three broad categories correspond learning paradigms depending nature `` signal '' `` feedback '' available learning system • supervised learning computer presented example inputs desired outputs given `` teacher '' goal learn general rule maps inputs outputs • unsupervised learning labels given learning algorithm leaving find structure input unsupervised learning goal discovering hidden patterns data means towards end feature learning • reinforcement learning computer program interacts dynamic environment must perform certain goal driving vehicle playing game opponent navigates problem space program provided feedback 's analogous rewards tries maximize 7 although algorithm advantages limitations single algorithm works problems 35 36 37 supervised learning algorithms build mathematical model set data contains inputs desired outputs 38 data known training data consists set training examples training example one inputs desired output also known supervisory signal mathematical model training example represented array vector sometimes called feature vector training data represented matrix iterative optimization objective function supervised learning algorithms learn function used predict output associated new inputs 39 optimal function allows algorithm correctly determine output inputs part training data algorithm improves accuracy outputs predictions time said learned perform task 18 types supervised-learning algorithms include active learning classification regression 40 classification algorithms used outputs restricted limited set values regression algorithms used outputs may numerical value within range example classification algorithm filters emails input would incoming email output would name folder file email similarity learning area supervised machine learning closely related regression classification goal learn examples using similarity function measures similar related two objects applications ranking recommendation systems visual identity tracking face verification speaker verification unsupervised learning algorithms take set data contains inputs find structure data like grouping clustering data points algorithms therefore learn test data labeled classified categorized instead responding feedback unsupervised learning algorithms identify commonalities data react based presence absence commonalities new piece data central application unsupervised learning field density estimation statistics finding probability density function 41 though unsupervised learning encompasses domains involving summarizing explaining data features unsupervised learning algorithms streamlined process survey graph large indel based haplotypes gene interest pan-genome 42 cluster analysis assignment set observations subsets called clusters observations within cluster similar according one predesignated criteria observations drawn different clusters dissimilar different clustering techniques make different assumptions structure data often defined similarity metric evaluated example internal compactness similarity members cluster separation difference clusters methods based estimated density graph connectivity semi-supervised learning falls unsupervised learning without labeled training data supervised learning completely labeled training data training examples missing training labels yet many machine-learning researchers found unlabeled data used conjunction small amount labeled data produce considerable improvement learning accuracy weakly supervised learning training labels noisy limited imprecise however labels often cheaper obtain resulting larger effective training sets 43 reinforcement learning area machine learning concerned software agents ought take actions environment maximize notion cumulative reward due generality field studied many disciplines game theory control theory operations research information theory simulation-based optimization multi-agent systems swarm intelligence statistics genetic algorithms reinforcement learning environment typically represented markov decision process mdp many reinforcements learning algorithms use dynamic programming techniques 44 reinforcement learning algorithms assume knowledge exact mathematical model mdp used exact models infeasible reinforcement learning algorithms used autonomous vehicles learning play game human opponent dimensionality reduction process reducing number random variables consideration obtaining set principal variables 45 words process reducing dimension feature set also called `` number features '' dimensionality reduction techniques considered either feature elimination extraction one popular methods dimensionality reduction principal component analysis pca pca involves changing higher-dimensional data e.g. 3d smaller space e.g. 2d results smaller dimension data 2d instead 3d keeping original variables model without changing data 46 manifold hypothesis proposes high-dimensional data sets lie along low-dimensional manifolds many dimensionality reduction techniques make assumption leading area manifold learning manifold regularization approaches developed fit neatly three-fold categorization sometimes one used machine learning system example topic modeling meta-learning 47 2022 deep learning dominant approach much ongoing work field machine learning 1 self-learning machine learning paradigm introduced 1982 along neural network capable self-learning named crossbar adaptive array caa 48 learning external rewards external teacher advice caa self-learning algorithm computes crossbar fashion decisions actions emotions feelings consequence situations system driven interaction cognition emotion 49 self-learning algorithm updates memory matrix w =||w || iteration executes following machine learning routine • compute emotion consequence situation v • update crossbar memory w w v system one input situation one output action behavior a. neither separate reinforcement input advice input environment backpropagated value secondary reinforcement emotion toward consequence situation caa exists two environments one behavioral environment behaves genetic environment wherefrom initially receives initial emotions situations encountered behavioral environment receiving genome species vector genetic environment caa learns goal-seeking behavior environment contains desirable undesirable situations 50 several learning algorithms aim discovering better representations inputs provided training 51 classic examples include principal component analysis cluster analysis feature learning algorithms also called representation learning algorithms often attempt preserve information input also transform way makes useful often pre-processing step performing classification predictions technique allows reconstruction inputs coming unknown data-generating distribution necessarily faithful configurations implausible distribution replaces manual feature engineering allows machine learn features use perform specific task feature learning either supervised unsupervised supervised feature learning features learned using labeled input data examples include artificial neural networks multilayer perceptrons supervised dictionary learning unsupervised feature learning features learned unlabeled input data examples include dictionary learning independent component analysis autoencoders matrix factorization 52 various forms clustering 53 54 55 manifold learning algorithms attempt constraint learned representation low-dimensional sparse coding algorithms attempt constraint learned representation sparse meaning mathematical model many zeros multilinear subspace learning algorithms aim learn low-dimensional representations directly tensor representations multidimensional data without reshaping higher-dimensional vectors 56 deep learning algorithms discover multiple levels representation hierarchy features higher-level abstract features defined terms generating lower-level features argued intelligent machine one learns representation disentangles underlying factors variation explain observed data 57 feature learning motivated fact machine learning tasks classification often require input mathematically computationally convenient process however real-world data images video sensory data yielded attempts algorithmically define specific features alternative discover features representations examination without relying explicit algorithms sparse dictionary learning feature learning method training example represented linear combination basis functions assumed sparse matrix method strongly np-hard difficult solve approximately 58 popular heuristic method sparse dictionary learning k-svd algorithm sparse dictionary learning applied several contexts classification problem determine class previously unseen training example belongs dictionary class already built new training example associated class best sparsely represented corresponding dictionary sparse dictionary learning also applied image de-noising key idea clean image patch sparsely represented image dictionary noise 59 data mining anomaly detection also known outlier detection identification rare items events observations raise suspicions differing significantly majority data 60 typically anomalous items represent issue bank fraud structural defect medical problems errors text anomalies referred outliers novelties noise deviations exceptions 61 particular context abuse network intrusion detection interesting objects often rare objects unexpected bursts inactivity pattern adhere common statistical definition outlier rare object many outlier detection methods particular unsupervised algorithms fail data unless aggregated appropriately instead cluster analysis algorithm may able detect micro-clusters formed patterns 62 three broad categories anomaly detection techniques exist 63 unsupervised anomaly detection techniques detect anomalies unlabeled test data set assumption majority instances data set normal looking instances seem fit least remainder data set supervised anomaly detection techniques require data set labeled `` normal '' `` abnormal '' involves training classifier key difference many statistical classification problems inherently unbalanced nature outlier detection semi-supervised anomaly detection techniques construct model representing normal behavior given normal training data set test likelihood test instance generated model robot learning inspired multitude machine learning methods starting supervised learning reinforcement learning 64 65 finally meta-learning e.g maml association rule learning rule-based machine learning method discovering relationships variables large databases intended identify strong rules discovered databases using measure `` interestingness '' 66 rule-based machine learning general term machine learning method identifies learns evolves `` rules '' store manipulate apply knowledge defining characteristic rule-based machine learning algorithm identification utilization set relational rules collectively represent knowledge captured system contrast machine learning algorithms commonly identify singular model universally applied instance order make prediction 67 rule-based machine learning approaches include learning classifier systems association rule learning artificial immune systems based concept strong rules rakesh agrawal tomasz imieliński arun swami introduced association rules discovering regularities products large-scale transaction data recorded point-of-sale pos systems supermarkets 68 example rule found sales data supermarket would indicate customer buys onions potatoes together likely also buy hamburger meat information used basis decisions marketing activities promotional pricing product placements addition market basket analysis association rules employed today application areas including web usage mining intrusion detection continuous production bioinformatics contrast sequence mining association rule learning typically consider order items either within transaction across transactions learning classifier systems lcs family rule-based machine learning algorithms combine discovery component typically genetic algorithm learning component performing either supervised learning reinforcement learning unsupervised learning seek identify set context-dependent rules collectively store apply knowledge piecewise manner order make predictions 69 inductive logic programming ilp approach rule learning using logic programming uniform representation input examples background knowledge hypotheses given encoding known background knowledge set examples represented logical database facts ilp system derive hypothesized logic program entails positive negative examples inductive programming related field considers kind programming language representing hypotheses logic programming functional programs inductive logic programming particularly useful bioinformatics natural language processing gordon plotkin ehud shapiro laid initial theoretical foundation inductive machine learning logical setting 70 71 72 shapiro built first implementation model inference system 1981 prolog program inductively inferred logic programs positive negative examples 73 term inductive refers philosophical induction suggesting theory explain observed facts rather mathematical induction proving property members well-ordered set performing machine learning involve creating model trained training data process additional data make predictions various types models used researched machine learning systems artificial neural networks anns connectionist systems computing systems vaguely inspired biological neural networks constitute animal brains systems `` learn '' perform tasks considering examples generally without programmed task-specific rules ann model based collection connected units nodes called `` artificial neurons '' loosely model neurons biological brain connection like synapses biological brain transmit information `` signal '' one artificial neuron another artificial neuron receives signal process signal additional artificial neurons connected common ann implementations signal connection artificial neurons real number output artificial neuron computed non-linear function sum inputs connections artificial neurons called `` edges '' artificial neurons edges typically weight adjusts learning proceeds weight increases decreases strength signal connection artificial neurons may threshold signal sent aggregate signal crosses threshold typically artificial neurons aggregated layers different layers may perform different kinds transformations inputs signals travel first layer input layer last layer output layer possibly traversing layers multiple times original goal ann approach solve problems way human brain would however time attention moved performing specific tasks leading deviations biology artificial neural networks used variety tasks including computer vision speech recognition machine translation social network filtering playing board video games medical diagnosis deep learning consists multiple hidden layers artificial neural network approach tries model way human brain processes light sound vision hearing successful applications deep learning computer vision speech recognition 74 decision tree learning uses decision tree predictive model go observations item represented branches conclusions item 's target value represented leaves one predictive modeling approaches used statistics data mining machine learning tree models target variable take discrete set values called classification trees tree structures leaves represent class labels branches represent conjunctions features lead class labels decision trees target variable take continuous values typically real numbers called regression trees decision analysis decision tree used visually explicitly represent decisions decision making data mining decision tree describes data resulting classification tree input decision-making support-vector machines svms also known support-vector networks set related supervised learning methods used classification regression given set training examples marked belonging one two categories svm training algorithm builds model predicts whether new example falls one category 75 svm training algorithm non-probabilistic binary linear classifier although methods platt scaling exist use svm probabilistic classification setting addition performing linear classification svms efficiently perform non-linear classification using called kernel trick implicitly mapping inputs high-dimensional feature spaces regression analysis encompasses large variety statistical methods estimate relationship input variables associated features common form linear regression single line drawn best fit given data according mathematical criterion ordinary least squares latter often extended regularization methods mitigate overfitting bias ridge regression dealing non-linear problems go-to models include polynomial regression example used trendline fitting microsoft excel 76 logistic regression often used statistical classification even kernel regression introduces non-linearity taking advantage kernel trick implicitly map input variables higher-dimensional space bayesian network belief network directed acyclic graphical model probabilistic graphical model represents set random variables conditional independence directed acyclic graph dag example bayesian network could represent probabilistic relationships diseases symptoms given symptoms network used compute probabilities presence various diseases efficient algorithms exist perform inference learning bayesian networks model sequences variables like speech signals protein sequences called dynamic bayesian networks generalizations bayesian networks represent solve decision problems uncertainty called influence diagrams gaussian process stochastic process every finite collection random variables process multivariate normal distribution relies pre-defined covariance function kernel models pairs points relate depending locations given set observed points input–output examples distribution unobserved output new point function input data directly computed looking like observed points covariances points new unobserved point gaussian processes popular surrogate models bayesian optimization used hyperparameter optimization genetic algorithm ga search algorithm heuristic technique mimics process natural selection using methods mutation crossover generate new genotypes hope finding good solutions given problem machine learning genetic algorithms used 1980s 1990s 78 79 conversely machine learning techniques used improve performance genetic evolutionary algorithms 80 theory belief functions also referred evidence theory dempster–shafer theory general framework reasoning uncertainty understood connections frameworks probability possibility imprecise probability theories theoretical frameworks thought kind learner analogous properties evidence combined e.g. dempster 's rule combination like pmf-based bayesian approach would combine probabilities however many caveats beliefs functions compared bayesian approaches order incorporate ignorance uncertainty quantification belief function approaches implemented within machine learning domain typically leverage fusion approach various ensemble methods better handle learner 's decision boundary low samples ambiguous class issues standard machine learning approach tend difficulty resolving 4 6 11 however computational complexity algorithms dependent number propositions classes lead much higher computation time compared machine learning approaches typically machine learning models require high quantity reliable data order models perform accurate predictions training machine learning model machine learning engineers need target collect large representative sample data data training set varied corpus text collection images sensor data data collected individual users service overfitting something watch training machine learning model trained models derived biased non-evaluated data result skewed undesired predictions bias models may result detrimental outcomes thereby furthering negative impacts society objectives algorithmic bias potential result data fully prepared training machine learning ethics becoming field study notably integrated within machine learning engineering teams federated learning adapted form distributed artificial intelligence training machine learning models decentralizes training process allowing users privacy maintained needing send data centralized server also increases efficiency decentralizing training process many devices example gboard uses federated machine learning train search query prediction models users mobile phones without send individual searches back google 81 many applications machine learning including 2006 media-services provider netflix held first `` netflix prize '' competition find program better predict user preferences improve accuracy existing cinematch movie recommendation algorithm least 10 joint team made researchers labs-research collaboration teams big chaos pragmatic theory built ensemble model win grand prize 2009 1 million 84 shortly prize awarded netflix realized viewers ratings best indicators viewing patterns `` everything recommendation '' changed recommendation engine accordingly 85 2010 wall street journal wrote firm rebellion research use machine learning predict financial crisis 86 2012 co-founder sun microsystems vinod khosla predicted 80 medical doctors jobs would lost next two decades automated machine learning medical diagnostic software 87 2014 reported machine learning algorithm applied field art history study fine art paintings may revealed previously unrecognized influences among artists 88 2019 springer nature published first research book created using machine learning 89 2020 machine learning technology used help make diagnoses aid researchers developing cure covid-19 90 machine learning recently applied predict pro-environmental behavior travelers 91 recently machine learning technology also applied optimize smartphone 's performance thermal behavior based user 's interaction phone 92 93 94 although machine learning transformative fields machine-learning programs often fail deliver expected results 95 96 97 reasons numerous lack suitable data lack access data data bias privacy problems badly chosen tasks algorithms wrong tools people lack resources evaluation problems 98 2018 self-driving car uber failed detect pedestrian killed collision 99 attempts use machine learning healthcare ibm watson system failed deliver even years time billions dollars invested 100 101 machine learning used strategy update evidence related systematic review increased reviewer burden related growth biomedical literature improved training sets yet developed sufficiently reduce workload burden without limiting necessary sensitivity findings research 102 machine learning approaches particular suffer different data biases machine learning system trained specifically current customers may able predict needs new customer groups represented training data trained human-made data machine learning likely pick constitutional unconscious biases already present society 103 language models learned data shown contain human-like biases 104 105 machine learning systems used criminal risk assessment found biased black people 106 107 2015 google photos would often tag black people gorillas 108 2018 still well resolved google reportedly still using workaround remove gorillas training data thus able recognize real gorillas 109 similar issues recognizing non-white people found many systems 110 2016 microsoft tested chatbot learned twitter quickly picked racist sexist language 111 challenges effective use machine learning may take longer adopted domains 112 concern fairness machine learning reducing bias machine learning propelling use human good increasingly expressed artificial intelligence scientists including fei-fei li reminds engineers `` 's nothing artificial ai ... 's inspired people 's created people and—most importantly—it impacts people powerful tool beginning understand profound responsibility `` 113 explainable ai xai interpretable ai explainable machine learning xml artificial intelligence ai humans understand decisions predictions made ai 114 contrasts `` black box '' concept machine learning even designers explain ai arrived specific decision 115 refining mental models users ai-powered systems dismantling misconceptions xai promises help users perform effectively xai may implementation social right explanation settling bad overly complex theory gerrymandered fit past training data known overfitting many systems attempt reduce overfitting rewarding theory accordance well fits data penalizing theory accordance complex theory learners also disappoint `` learning wrong lesson '' toy example image classifier trained pictures brown horses black cats might conclude brown patches likely horses real-world example unlike humans current image classifiers often primarily make judgments spatial relationship components picture learn relationships pixels humans oblivious still correlate images certain types real objects modifying patterns legitimate image result `` adversarial '' images system misclassifies 118 119 adversarial vulnerabilities also result nonlinear systems non-pattern perturbations systems brittle changing single adversarial pixel predictably induces misclassification citation needed machine learning models often vulnerable manipulation and/or evasion via adversarial machine learning 120 researchers demonstrated backdoors placed undetectably classifying e.g. categories `` spam '' well-visible `` spam '' posts machine learning models often developed and/or trained third parties parties change classification input including cases type data/software transparency provided possibly including white-box access 121 122 123 classification machine learning models validated accuracy estimation techniques like holdout method splits data training test set conventionally 2/3 training set 1/3 test set designation evaluates performance training model test set comparison k-fold-cross-validation method randomly partitions data k subsets k experiments performed respectively considering 1 subset evaluation remaining k-1 subsets training model addition holdout cross-validation methods bootstrap samples n instances replacement dataset used assess model accuracy 124 addition overall accuracy investigators frequently report sensitivity specificity meaning true positive rate tpr true negative rate tnr respectively similarly investigators sometimes report false positive rate fpr well false negative rate fnr however rates ratios fail reveal numerators denominators total operating characteristic toc effective method express model 's diagnostic ability toc shows numerators denominators previously mentioned rates thus toc provides information commonly used receiver operating characteristic roc roc 's associated area curve auc 125 machine learning poses host ethical questions systems trained datasets collected biases may exhibit biases upon use algorithmic bias thus digitizing cultural prejudices 126 example 1988 uk 's commission racial equality found st. george 's medical school using computer program trained data previous admissions staff program denied nearly 60 candidates found either women non-european sounding names 103 using job hiring data firm racist hiring policies may lead machine learning system duplicating bias scoring job applicants similarity previous successful applicants 127 128 responsible collection data documentation algorithmic rules used system thus critical part machine learning ai well-equipped make decisions technical fields rely heavily data historical information decisions rely objectivity logical reasoning 129 human languages contain biases machines trained language corpora necessarily also learn biases 130 131 forms ethical challenges related personal biases seen health care concerns among health care professionals systems might designed public 's interest income-generating machines 132 especially true united states long-standing ethical dilemma improving health care also increasing profits example algorithms could designed provide patients unnecessary tests medication algorithm 's proprietary owners hold stakes potential machine learning health care provide professionals additional tool diagnose medicate plan recovery paths patients requires biases mitigated 133 since 2010s advances machine learning algorithms computer hardware led efficient methods training deep neural networks particular narrow subdomain machine learning contain many layers non-linear hidden units 134 2019 graphic processing units gpus often ai-specific enhancements displaced cpus dominant method training large-scale commercial cloud ai 135 openai estimated hardware computing used largest deep learning projects alexnet 2012 alphazero 2017 found 300,000-fold increase amount compute required doubling-time trendline 3.4 months 136 137 physical neural network neuromorphic computer type artificial neural network electrically adjustable material used emulate function neural synapse `` physical '' neural network used emphasize reliance physical hardware used emulate neurons opposed software-based approaches generally term applicable artificial neural networks memristor electrically adjustable resistance material used emulate neural synapse 138 139 embedded machine learning sub-field machine learning machine learning model run embedded systems limited computing resources wearable computers edge devices microcontrollers 140 141 142 running machine learning model embedded devices removes need transferring storing data cloud servers processing henceforth reducing data breaches privacy leaks happening transferring data also minimizes theft intellectual properties personal data business secrets embedded machine learning could applied several techniques including hardware acceleration 143 144 using approximate computing 145 optimization machine learning models many 146 147 software suites containing variety machine learning algorithms include following • european conference machine learning principles practice knowledge discovery databases ecml pkdd • international conference computational intelligence methods bioinformatics biostatistics cibb • automated machine learning – process automating application machine learning • big data – information assets characterized high volume velocity variety require specific technology analytical methods transformation value • none domingos pedro september 22 2015 master algorithm quest ultimate learning machine remake world basic books isbn • none nilsson nils 1998 morgan kaufmann isbn archived original 26 july 2020 • none poole david mackworth alan goebel randy 1998 computational intelligence logical approach new york oxford university press isbn archived original 26 july 2020 • mloss academic database open-source machine learning software\""
            ],
            "application/vnd.google.colaboratory.intrinsic+json": {
              "type": "string"
            }
          },
          "metadata": {},
          "execution_count": 18
        }
      ]
    },
    {
      "cell_type": "code",
      "source": [
        "formatting_text2=preprocessing(cleaned_sentence)\n",
        "formatting_text2"
      ],
      "metadata": {
        "colab": {
          "base_uri": "https://localhost:8080/",
          "height": 145
        },
        "id": "jS_jGXmm53az",
        "outputId": "2ab483c4-0cf4-46d2-ddfd-8ef46e804099"
      },
      "execution_count": null,
      "outputs": [
        {
          "output_type": "execute_result",
          "data": {
            "text/plain": [
              "'চারদিকে পাহাড়ঘেরা উপত্যকার মাঝে ছিল অপূর্ব সুন্দর এক সরোবর সেই সরোবরের তীরে প্রতি বছর গ্রীষ্মকালে বেড়াতে আসে সাত পরি সাত বোন তারা ডানাগুলো একটা গাছের তলায় রেখে পানিতে আনন্দ করে বেড়ায় জনশূন্য চারপাশ ঠিক সাত দিন ধরে আনন্দ করে আবার ডানাগুলো পরে উড়ে যায় তাদের নিজের দেশে এদিকে কাছাকাছি যে কিছু গ্রাম আছে সে খবর তারা না রাখলেও পরিদের সব খবর রাখে সেই গ্রামেরই এক রাখাল ছেলে সে গরু চরায় বাঁশি বাজায় আর দূর থেকে দেখতে থাকে পরিদের কাণ্ডকারখানা একসময় তার খুব ভালো লেগে যায় সবচেয়ে ছোট পরিটিকে কী অপরূপ মিষ্টি চেহারা ওকে দেখলেই রাখালের বাঁশিতে বেজে ওঠে স্বর্গীয় সব সুর দূর থেকে পরিরা তা শোনে আর অবাক হয়ে ভাবে এমন সুন্দর সুর কে বাজায় এ সুর তো তাদের দেশের পাখিদেরও অজানা তারা মুগ্ধ হয়ে শোনে কিন্তু রাখাল থাকে আড়ালে তাকে কেউ দেখতে পায় না একবার হলো কী রাখালের মাথায় একটি দুষ্টবুদ্ধি জাগল পরিরা যখন স্নানে ব্যস্ত সে চুপিচুপি এসে দাঁড়াল সেই গাছতলায় যেখানে খুলে রাখা আছে পরিদের ডানাগুলো বেছে বেছে সবচেয়ে ছোট ডানাজোড়া নিয়ে সে লুকিয়ে রেখে দিল একটা বড় গাছের ফোকরে তারপর ধীরে ধীরে সরে পড়ল সেখান থেকে সাত দিন পরে পরিদের যাওয়ার সময় হলে দেখা গেল তাদের ছোট বোনের ডানাজোড়া নেই অনেক খোঁজাখুঁজি করেও তারা সেটা পেল না এদিকে বাবার কড়া হুকুম এক সপ্তাহের বেশি তাদের স্বর্গ ছেড়ে থাকা চলবে না কী করবে ভেবে না পেয়ে সবচেয়ে বড় পরি ছোট বোনকে বুঝিয়ে বলল উপায় নেইরে বোন আমাদের যেতেই হবে আর গেলে পরের বছরের আগে আর আসতে পারব না তুই বরং এখানে থেকে ডানা জোড়া ভালো করে খুঁজে দেখ পেলেই দেশে চলে আসিস কেমন আমরা বাবাকে বুঝিয়ে বলব তিনি যেন রাগ না করেন ছয় পরি ছোট বোনকে একা সরোবরের তীরে ফেলে রেখে উড়ে চলে গেল বেচারি ছোট পরি মনের দুঃখে বসে বসে কাঁদতে লাগল তাকে ওভাবে কাঁদতে দেখে রাখাল সাহস করে আড়াল থেকে বেরিয়ে এলো সব শুনে সে তাকে নিজের বাসায় নিয়ে গেল তারপর অনেকক্ষণ ধরে বাঁশি বাজিয়ে শোনাল এই রাখালের বাঁশিই যে তাকে দূর থেকে এত আনন্দ দিয়েছে ভেবে পরির খুব ভালো লাগল তাদের বন্ধুত্ব হতে দেরি হলো না রাখাল আর পরি গ্রামের একপ্রান্তে একটি কুঁড়েঘরে থাকে একত্রে গরু চরায় রাখাল বাঁশি বাজায় আর পরি ঘাঘরা উড়িয়ে নাচে দেখে গ্রামের লোকেরা ঠিক করল এদের বিয়ে হওয়া উচিত রাখাল তো রাজি ছিলই পরিও রাজি হয়ে গেল তারপর একদিন বেশ একটা উৎসবের মধ্য দিয়ে তাদের বিয়ে হয়ে গেল'"
            ],
            "application/vnd.google.colaboratory.intrinsic+json": {
              "type": "string"
            }
          },
          "metadata": {},
          "execution_count": 19
        }
      ]
    },
    {
      "cell_type": "markdown",
      "source": [
        "Word Frequency"
      ],
      "metadata": {
        "id": "2JBn8LUOANLg"
      }
    },
    {
      "cell_type": "code",
      "source": [
        "word_frequency1 = nltk.FreqDist(nltk.word_tokenize(formatting_text1))\n",
        "word_frequency1"
      ],
      "metadata": {
        "colab": {
          "base_uri": "https://localhost:8080/"
        },
        "id": "657Mzxi4ARoJ",
        "outputId": "1fd369d3-8c2c-4342-9200-b14a033d1223"
      },
      "execution_count": null,
      "outputs": [
        {
          "output_type": "execute_result",
          "data": {
            "text/plain": [
              "FreqDist({'language': 3, 'documents': 3, 'natural': 2, 'processing': 2, 'computer': 2, 'speech': 2, 'corpora': 2, 'nlp': 1, 'interdisciplinary': 1, 'subfield': 1, ...})"
            ]
          },
          "metadata": {},
          "execution_count": 20
        }
      ]
    },
    {
      "cell_type": "code",
      "source": [
        "word_frequency1['computer']"
      ],
      "metadata": {
        "colab": {
          "base_uri": "https://localhost:8080/"
        },
        "id": "nDEL5M_kGElK",
        "outputId": "089caea2-237c-4a59-daea-19c171329d49"
      },
      "execution_count": null,
      "outputs": [
        {
          "output_type": "execute_result",
          "data": {
            "text/plain": [
              "2"
            ]
          },
          "metadata": {},
          "execution_count": 21
        }
      ]
    },
    {
      "cell_type": "code",
      "source": [
        "word_frequency1.keys()"
      ],
      "metadata": {
        "colab": {
          "base_uri": "https://localhost:8080/"
        },
        "id": "BcWNoVV3GZWm",
        "outputId": "068d3321-3621-4633-c966-dba06f92774e"
      },
      "execution_count": null,
      "outputs": [
        {
          "output_type": "execute_result",
          "data": {
            "text/plain": [
              "dict_keys(['natural', 'language', 'processing', 'nlp', 'interdisciplinary', 'subfield', 'computer', 'science', 'linguistics', 'primarily', 'concerned', 'giving', 'computers', 'ability', 'support', 'manipulate', 'speech', 'involves', 'datasets', 'text', 'corpora', 'using', 'either', 'rule-based', 'probabilistic', 'statistical', 'recently', 'neural', 'network-based', 'machine', 'learning', 'approaches', 'goal', 'capable', 'understanding', 'contents', 'documents', 'including', 'contextual', 'nuances', 'within', 'technology', 'accurately', 'extract', 'information', 'insights', 'contained', 'well', 'categorize', 'organize'])"
            ]
          },
          "metadata": {},
          "execution_count": 22
        }
      ]
    },
    {
      "cell_type": "code",
      "source": [
        "len(word_frequency1.keys())"
      ],
      "metadata": {
        "colab": {
          "base_uri": "https://localhost:8080/"
        },
        "id": "lmdal47cHPMH",
        "outputId": "a32eacde-ec1a-461b-d179-31ad0c03c32d"
      },
      "execution_count": null,
      "outputs": [
        {
          "output_type": "execute_result",
          "data": {
            "text/plain": [
              "50"
            ]
          },
          "metadata": {},
          "execution_count": 23
        }
      ]
    },
    {
      "cell_type": "code",
      "source": [
        "highest_frequency1=max(word_frequency1.values())\n",
        "highest_frequency1"
      ],
      "metadata": {
        "colab": {
          "base_uri": "https://localhost:8080/"
        },
        "id": "ZmQmpMIsIBwu",
        "outputId": "8ba13b57-93a5-410f-caeb-0bdaa07877ae"
      },
      "execution_count": null,
      "outputs": [
        {
          "output_type": "execute_result",
          "data": {
            "text/plain": [
              "3"
            ]
          },
          "metadata": {},
          "execution_count": 24
        }
      ]
    },
    {
      "cell_type": "code",
      "source": [
        "for word in word_frequency1.keys():\n",
        "  word_frequency1[word]=(word_frequency1[word]/highest_frequency1)\n",
        "\n",
        "word_frequency1"
      ],
      "metadata": {
        "id": "PCD_O7e9IvjG",
        "colab": {
          "base_uri": "https://localhost:8080/"
        },
        "outputId": "b2d59e9e-a58a-4156-8bb8-83427e7bbd10"
      },
      "execution_count": null,
      "outputs": [
        {
          "output_type": "execute_result",
          "data": {
            "text/plain": [
              "FreqDist({'language': 1.0, 'documents': 1.0, 'natural': 0.6666666666666666, 'processing': 0.6666666666666666, 'computer': 0.6666666666666666, 'speech': 0.6666666666666666, 'corpora': 0.6666666666666666, 'nlp': 0.3333333333333333, 'interdisciplinary': 0.3333333333333333, 'subfield': 0.3333333333333333, ...})"
            ]
          },
          "metadata": {},
          "execution_count": 25
        }
      ]
    },
    {
      "cell_type": "code",
      "source": [
        "%pip install scipy"
      ],
      "metadata": {
        "colab": {
          "base_uri": "https://localhost:8080/"
        },
        "id": "yksjIStF-4AP",
        "outputId": "8112a108-8fa8-420e-ddc7-5e50ed06f019"
      },
      "execution_count": null,
      "outputs": [
        {
          "output_type": "stream",
          "name": "stdout",
          "text": [
            "Requirement already satisfied: scipy in /usr/local/lib/python3.10/dist-packages (1.11.3)\n",
            "Requirement already satisfied: numpy<1.28.0,>=1.21.6 in /usr/local/lib/python3.10/dist-packages (from scipy) (1.23.5)\n"
          ]
        }
      ]
    },
    {
      "cell_type": "code",
      "source": [
        "pip install bnlp_toolkit"
      ],
      "metadata": {
        "id": "x_VUezyu-6_a",
        "colab": {
          "base_uri": "https://localhost:8080/"
        },
        "outputId": "223261ce-afd2-4d87-8071-a187b68cc273"
      },
      "execution_count": null,
      "outputs": [
        {
          "output_type": "stream",
          "name": "stdout",
          "text": [
            "Collecting bnlp_toolkit\n",
            "  Downloading bnlp_toolkit-4.0.0-py3-none-any.whl (22 kB)\n",
            "Collecting sentencepiece (from bnlp_toolkit)\n",
            "  Downloading sentencepiece-0.1.99-cp310-cp310-manylinux_2_17_x86_64.manylinux2014_x86_64.whl (1.3 MB)\n",
            "\u001b[2K     \u001b[90m━━━━━━━━━━━━━━━━━━━━━━━━━━━━━━━━━━━━━━━━\u001b[0m \u001b[32m1.3/1.3 MB\u001b[0m \u001b[31m12.8 MB/s\u001b[0m eta \u001b[36m0:00:00\u001b[0m\n",
            "\u001b[?25hRequirement already satisfied: gensim in /usr/local/lib/python3.10/dist-packages (from bnlp_toolkit) (4.3.2)\n",
            "Requirement already satisfied: nltk in /usr/local/lib/python3.10/dist-packages (from bnlp_toolkit) (3.8.1)\n",
            "Requirement already satisfied: numpy in /usr/local/lib/python3.10/dist-packages (from bnlp_toolkit) (1.23.5)\n",
            "Requirement already satisfied: scipy in /usr/local/lib/python3.10/dist-packages (from bnlp_toolkit) (1.11.3)\n",
            "Collecting sklearn-crfsuite (from bnlp_toolkit)\n",
            "  Downloading sklearn_crfsuite-0.3.6-py2.py3-none-any.whl (12 kB)\n",
            "Requirement already satisfied: tqdm in /usr/local/lib/python3.10/dist-packages (from bnlp_toolkit) (4.66.1)\n",
            "Collecting ftfy (from bnlp_toolkit)\n",
            "  Downloading ftfy-6.1.1-py3-none-any.whl (53 kB)\n",
            "\u001b[2K     \u001b[90m━━━━━━━━━━━━━━━━━━━━━━━━━━━━━━━━━━━━━━━━\u001b[0m \u001b[32m53.1/53.1 kB\u001b[0m \u001b[31m6.8 MB/s\u001b[0m eta \u001b[36m0:00:00\u001b[0m\n",
            "\u001b[?25hCollecting emoji==1.7.0 (from bnlp_toolkit)\n",
            "  Downloading emoji-1.7.0.tar.gz (175 kB)\n",
            "\u001b[2K     \u001b[90m━━━━━━━━━━━━━━━━━━━━━━━━━━━━━━━━━━━━━━━━\u001b[0m \u001b[32m175.4/175.4 kB\u001b[0m \u001b[31m24.5 MB/s\u001b[0m eta \u001b[36m0:00:00\u001b[0m\n",
            "\u001b[?25h  Preparing metadata (setup.py) ... \u001b[?25l\u001b[?25hdone\n",
            "Requirement already satisfied: requests in /usr/local/lib/python3.10/dist-packages (from bnlp_toolkit) (2.31.0)\n",
            "Requirement already satisfied: wcwidth>=0.2.5 in /usr/local/lib/python3.10/dist-packages (from ftfy->bnlp_toolkit) (0.2.8)\n",
            "Requirement already satisfied: smart-open>=1.8.1 in /usr/local/lib/python3.10/dist-packages (from gensim->bnlp_toolkit) (6.4.0)\n",
            "Requirement already satisfied: click in /usr/local/lib/python3.10/dist-packages (from nltk->bnlp_toolkit) (8.1.7)\n",
            "Requirement already satisfied: joblib in /usr/local/lib/python3.10/dist-packages (from nltk->bnlp_toolkit) (1.3.2)\n",
            "Requirement already satisfied: regex>=2021.8.3 in /usr/local/lib/python3.10/dist-packages (from nltk->bnlp_toolkit) (2023.6.3)\n",
            "Requirement already satisfied: charset-normalizer<4,>=2 in /usr/local/lib/python3.10/dist-packages (from requests->bnlp_toolkit) (3.3.0)\n",
            "Requirement already satisfied: idna<4,>=2.5 in /usr/local/lib/python3.10/dist-packages (from requests->bnlp_toolkit) (3.4)\n",
            "Requirement already satisfied: urllib3<3,>=1.21.1 in /usr/local/lib/python3.10/dist-packages (from requests->bnlp_toolkit) (2.0.6)\n",
            "Requirement already satisfied: certifi>=2017.4.17 in /usr/local/lib/python3.10/dist-packages (from requests->bnlp_toolkit) (2023.7.22)\n",
            "Collecting python-crfsuite>=0.8.3 (from sklearn-crfsuite->bnlp_toolkit)\n",
            "  Downloading python_crfsuite-0.9.9-cp310-cp310-manylinux_2_17_x86_64.manylinux2014_x86_64.whl (993 kB)\n",
            "\u001b[2K     \u001b[90m━━━━━━━━━━━━━━━━━━━━━━━━━━━━━━━━━━━━━━━━\u001b[0m \u001b[32m993.5/993.5 kB\u001b[0m \u001b[31m81.1 MB/s\u001b[0m eta \u001b[36m0:00:00\u001b[0m\n",
            "\u001b[?25hRequirement already satisfied: six in /usr/local/lib/python3.10/dist-packages (from sklearn-crfsuite->bnlp_toolkit) (1.16.0)\n",
            "Requirement already satisfied: tabulate in /usr/local/lib/python3.10/dist-packages (from sklearn-crfsuite->bnlp_toolkit) (0.9.0)\n",
            "Building wheels for collected packages: emoji\n",
            "  Building wheel for emoji (setup.py) ... \u001b[?25l\u001b[?25hdone\n",
            "  Created wheel for emoji: filename=emoji-1.7.0-py3-none-any.whl size=171033 sha256=dbaacd10bb2389ba44a0673741b64178fc66f52a234d97307edfa5de01549f84\n",
            "  Stored in directory: /root/.cache/pip/wheels/31/8a/8c/315c9e5d7773f74b33d5ed33f075b49c6eaeb7cedbb86e2cf8\n",
            "Successfully built emoji\n",
            "Installing collected packages: sentencepiece, python-crfsuite, emoji, sklearn-crfsuite, ftfy, bnlp_toolkit\n",
            "Successfully installed bnlp_toolkit-4.0.0 emoji-1.7.0 ftfy-6.1.1 python-crfsuite-0.9.9 sentencepiece-0.1.99 sklearn-crfsuite-0.3.6\n"
          ]
        }
      ]
    },
    {
      "cell_type": "code",
      "source": [
        "word_frequency2 = nltk.FreqDist(nltk.word_tokenize(formatting_text2))\n",
        "word_frequency2"
      ],
      "metadata": {
        "colab": {
          "base_uri": "https://localhost:8080/"
        },
        "id": "LgEfEWIv_Eun",
        "outputId": "e27a29de-bb19-46ef-adde-52cca5b87c52"
      },
      "execution_count": null,
      "outputs": [
        {
          "output_type": "execute_result",
          "data": {
            "text/plain": [
              "FreqDist({'না': 8, 'পরি': 6, 'তাদের': 6, 'রাখাল': 6, 'আর': 6, 'থেকে': 6, 'ছোট': 6, 'সে': 5, 'গেল': 5, 'সাত': 4, ...})"
            ]
          },
          "metadata": {},
          "execution_count": 28
        }
      ]
    },
    {
      "cell_type": "code",
      "source": [
        "word_frequency2.keys()"
      ],
      "metadata": {
        "colab": {
          "base_uri": "https://localhost:8080/"
        },
        "id": "YzkVChUy_UX_",
        "outputId": "6d94eeaa-565f-4554-c0bc-c6227226c6f5"
      },
      "execution_count": null,
      "outputs": [
        {
          "output_type": "execute_result",
          "data": {
            "text/plain": [
              "dict_keys(['চারদিকে', 'পাহাড়ঘেরা', 'উপত্যকার', 'মাঝে', 'ছিল', 'অপূর্ব', 'সুন্দর', 'এক', 'সরোবর', 'সেই', 'সরোবরের', 'তীরে', 'প্রতি', 'বছর', 'গ্রীষ্মকালে', 'বেড়াতে', 'আসে', 'সাত', 'পরি', 'বোন', 'তারা', 'ডানাগুলো', 'একটা', 'গাছের', 'তলায়', 'রেখে', 'পানিতে', 'আনন্দ', 'করে', 'বেড়ায়', 'জনশূন্য', 'চারপাশ', 'ঠিক', 'দিন', 'ধরে', 'আবার', 'পরে', 'উড়ে', 'যায়', 'তাদের', 'নিজের', 'দেশে', 'এদিকে', 'কাছাকাছি', 'যে', 'কিছু', 'গ্রাম', 'আছে', 'সে', 'খবর', 'না', 'রাখলেও', 'পরিদের', 'সব', 'রাখে', 'গ্রামেরই', 'রাখাল', 'ছেলে', 'গরু', 'চরায়', 'বাঁশি', 'বাজায়', 'আর', 'দূর', 'থেকে', 'দেখতে', 'থাকে', 'কাণ্ডকারখানা', 'একসময়', 'তার', 'খুব', 'ভালো', 'লেগে', 'সবচেয়ে', 'ছোট', 'পরিটিকে', 'কী', 'অপরূপ', 'মিষ্টি', 'চেহারা', 'ওকে', 'দেখলেই', 'রাখালের', 'বাঁশিতে', 'বেজে', 'ওঠে', 'স্বর্গীয়', 'সুর', 'পরিরা', 'তা', 'শোনে', 'অবাক', 'হয়ে', 'ভাবে', 'এমন', 'কে', 'এ', 'তো', 'দেশের', 'পাখিদেরও', 'অজানা', 'মুগ্ধ', 'কিন্তু', 'আড়ালে', 'তাকে', 'কেউ', 'পায়', 'একবার', 'হলো', 'মাথায়', 'একটি', 'দুষ্টবুদ্ধি', 'জাগল', 'যখন', 'স্নানে', 'ব্যস্ত', 'চুপিচুপি', 'এসে', 'দাঁড়াল', 'গাছতলায়', 'যেখানে', 'খুলে', 'রাখা', 'বেছে', 'ডানাজোড়া', 'নিয়ে', 'লুকিয়ে', 'দিল', 'বড়', 'ফোকরে', 'তারপর', 'ধীরে', 'সরে', 'পড়ল', 'সেখান', 'যাওয়ার', 'সময়', 'হলে', 'দেখা', 'গেল', 'বোনের', 'নেই', 'অনেক', 'খোঁজাখুঁজি', 'করেও', 'সেটা', 'পেল', 'বাবার', 'কড়া', 'হুকুম', 'সপ্তাহের', 'বেশি', 'স্বর্গ', 'ছেড়ে', 'থাকা', 'চলবে', 'করবে', 'ভেবে', 'পেয়ে', 'বোনকে', 'বুঝিয়ে', 'বলল', 'উপায়', 'নেইরে', 'আমাদের', 'যেতেই', 'হবে', 'গেলে', 'পরের', 'বছরের', 'আগে', 'আসতে', 'পারব', 'তুই', 'বরং', 'এখানে', 'ডানা', 'জোড়া', 'ভালো', 'খুঁজে', 'দেখ', 'পেলেই', 'চলে', 'আসিস', 'কেমন', 'আমরা', 'বাবাকে', 'বলব', 'তিনি', 'যেন', 'রাগ', 'করেন', 'ছয়', 'একা', 'ফেলে', 'বেচারি', 'মনের', 'দুঃখে', 'বসে', 'কাঁদতে', 'লাগল', 'ওভাবে', 'দেখে', 'সাহস', 'আড়াল', 'বেরিয়ে', 'এলো', 'শুনে', 'বাসায়', 'অনেকক্ষণ', 'বাজিয়ে', 'শোনাল', 'এই', 'বাঁশিই', 'এত', 'দিয়েছে', 'পরির', 'বন্ধুত্ব', 'হতে', 'দেরি', 'গ্রামের', 'একপ্রান্তে', 'কুঁড়েঘরে', 'একত্রে', 'ঘাঘরা', 'উড়িয়ে', 'নাচে', 'লোকেরা', 'করল', 'এদের', 'বিয়ে', 'হওয়া', 'উচিত', 'রাজি', 'ছিলই', 'পরিও', 'একদিন', 'বেশ', 'উৎসবের', 'মধ্য', 'দিয়ে'])"
            ]
          },
          "metadata": {},
          "execution_count": 29
        }
      ]
    },
    {
      "cell_type": "code",
      "source": [
        "highest_frequency2=max(word_frequency2.values())\n",
        "highest_frequency2"
      ],
      "metadata": {
        "colab": {
          "base_uri": "https://localhost:8080/"
        },
        "id": "tSugytxR_cAA",
        "outputId": "1b601595-332f-492b-dcf6-1acf664df0fd"
      },
      "execution_count": null,
      "outputs": [
        {
          "output_type": "execute_result",
          "data": {
            "text/plain": [
              "8"
            ]
          },
          "metadata": {},
          "execution_count": 30
        }
      ]
    },
    {
      "cell_type": "code",
      "source": [
        "for word in word_frequency2.keys():\n",
        "  word_frequency2[word]=(word_frequency2[word]/highest_frequency2)\n",
        "\n",
        "word_frequency2"
      ],
      "metadata": {
        "colab": {
          "base_uri": "https://localhost:8080/"
        },
        "id": "x4Bz4vy6_xMu",
        "outputId": "10b47e8a-34ae-4aef-daff-dfbb3c3fed9c"
      },
      "execution_count": null,
      "outputs": [
        {
          "output_type": "execute_result",
          "data": {
            "text/plain": [
              "FreqDist({'না': 1.0, 'পরি': 0.75, 'তাদের': 0.75, 'রাখাল': 0.75, 'আর': 0.75, 'থেকে': 0.75, 'ছোট': 0.75, 'সে': 0.625, 'গেল': 0.625, 'সাত': 0.5, ...})"
            ]
          },
          "metadata": {},
          "execution_count": 31
        }
      ]
    },
    {
      "cell_type": "code",
      "source": [
        "word_frequency3 = nltk.FreqDist(nltk.word_tokenize(formatting_articles))\n",
        "word_frequency3"
      ],
      "metadata": {
        "colab": {
          "base_uri": "https://localhost:8080/"
        },
        "id": "oT4FULsWAKvP",
        "outputId": "8103b696-5734-4b27-c572-0f243e345fb2"
      },
      "execution_count": null,
      "outputs": [
        {
          "output_type": "execute_result",
          "data": {
            "text/plain": [
              "FreqDist({'learning': 192, 'machine': 108, 'data': 95, '``': 68, 'training': 46, 'algorithms': 44, 'model': 41, 'used': 33, 'set': 31, 'artificial': 25, ...})"
            ]
          },
          "metadata": {},
          "execution_count": 32
        }
      ]
    },
    {
      "cell_type": "code",
      "source": [
        "word_frequency3.keys()"
      ],
      "metadata": {
        "colab": {
          "base_uri": "https://localhost:8080/"
        },
        "id": "KaS3YWjkAkrv",
        "outputId": "003d0b6b-36e0-4ea7-e5c6-ea1d1980a1c4"
      },
      "execution_count": null,
      "outputs": [
        {
          "output_type": "execute_result",
          "data": {
            "text/plain": [
              "dict_keys(['study', 'algorithms', 'improve', 'automatically', 'experience', 'machine', 'learning', 'ml', 'umbrella', 'term', 'solving', 'problems', 'development', 'human', 'programmers', 'would', 'cost-prohibitive', 'instead', 'solved', 'helping', 'machines', '``', 'discover', '1', 'without', 'needing', 'explicitly', 'told', 'human-developed', '2', 'recently', 'generative', 'artificial', 'neural', 'networks', 'able', 'surpass', 'results', 'many', 'previous', 'approaches', '3', '4', 'machine-learning', 'applied', 'large', 'language', 'models', 'computer', 'vision', 'speech', 'recognition', 'email', 'filtering', 'agriculture', 'medicine', 'costly', 'develop', 'perform', 'needed', 'tasks', '5', '6', 'mathematical', 'foundations', 'provided', 'optimization', 'programming', 'methods', 'data', 'mining', 'related', 'parallel', 'field', 'focusing', 'exploratory', 'analysis', 'unsupervised', '8', '9', 'known', 'application', 'across', 'business', 'name', 'predictive', 'analytics', 'although', 'statistically', 'based', 'computational', 'statistics', 'important', 'source', \"'s\", 'history', 'relationships', 'fields', 'coined', '1959', 'arthur', 'samuel', 'ibm', 'employee', 'pioneer', 'gaming', 'intelligence', '10', '11', 'synonym', 'self-teaching', 'computers', 'also', 'used', 'time', 'period', '12', '13', 'early', '1960s', 'experimental', 'punched', 'tape', 'memory', 'called', 'cybertron', 'developed', 'raytheon', 'company', 'analyze', 'sonar', 'signals', 'electrocardiograms', 'patterns', 'using', 'rudimentary', 'reinforcement', 'repetitively', 'trained', 'operator/teacher', 'recognize', 'equipped', 'goof', 'button', 'cause', 're-evaluate', 'incorrect', 'decisions', '14', 'representative', 'book', 'research', 'nilsson', 'dealing', 'mostly', 'pattern', 'classification', '15', 'interest', 'continued', '1970s', 'described', 'duda', 'hart', '1973', '16', '1981', 'report', 'given', 'teaching', 'strategies', 'network', 'learns', '40', 'characters', '26', 'letters', 'digits', 'special', 'symbols', 'terminal', '17', 'tom', 'm.', 'mitchell', 'widely', 'quoted', 'formal', 'definition', 'studied', 'program', 'said', 'learn', 'e', 'respect', 'class', 'performance', 'measure', 'p', 'measured', 'improves', 'e.', '18', 'concerned', 'offers', 'fundamentally', 'operational', 'rather', 'defining', 'cognitive', 'terms', 'follows', 'alan', 'turing', 'proposal', 'paper', 'computing', 'machinery', 'question', 'think', 'replaced', 'thinking', 'entities', '19', 'modern-day', 'two', 'objectives', 'one', 'classify', 'purpose', 'make', 'predictions', 'future', 'outcomes', 'hypothetical', 'algorithm', 'specific', 'classifying', 'may', 'use', 'moles', 'coupled', 'supervised', 'order', 'train', 'cancerous', 'stock', 'trading', 'inform', 'trader', 'potential', '20', 'scientific', 'endeavor', 'grew', 'quest', 'ai', 'days', 'academic', 'discipline', 'researchers', 'interested', 'attempted', 'approach', 'problem', 'various', 'symbolic', 'well', 'termed', 'perceptrons', 'later', 'found', 'reinventions', 'generalized', 'linear', '22', 'probabilistic', 'reasoning', 'employed', 'especially', 'automated', 'medical', 'diagnosis', '23', '488', 'however', 'increasing', 'emphasis', 'logical', 'knowledge-based', 'caused', 'rift', 'systems', 'plagued', 'theoretical', 'practical', 'acquisition', 'representation', '1980', 'expert', 'come', 'dominate', 'favor', '24', 'work', 'symbolic/knowledge-based', 'continue', 'within', 'leading', 'inductive', 'logic', 'statistical', 'line', 'outside', 'proper', 'information', 'retrieval', '708–710', '755', 'abandoned', 'science', 'around', 'ai/cs', 'connectionism', 'disciplines', 'including', 'hopfield', 'rumelhart', 'hinton', 'main', 'success', 'came', 'mid-1980s', 'reinvention', 'backpropagation', '25', 'reorganized', 'recognized', 'started', 'flourish', '1990s', 'changed', 'goal', 'achieving', 'tackling', 'solvable', 'nature', 'shifted', 'focus', 'away', 'inherited', 'toward', 'borrowed', 'fuzzy', 'probability', 'theory', 'often', 'employ', 'overlap', 'significantly', 'focuses', 'prediction', 'properties', 'learned', 'training', 'discovery', 'previously', 'unknown', 'step', 'knowledge', 'databases', 'uses', 'different', 'goals', 'hand', 'employs', 'preprocessing', 'learner', 'accuracy', 'much', 'confusion', 'communities', 'separate', 'conferences', 'journals', 'ecml', 'pkdd', 'major', 'exception', 'comes', 'basic', 'assumptions', 'usually', 'evaluated', 'ability', 'reproduce', 'kdd', 'key', 'task', 'uninformed', 'method', 'easily', 'outperformed', 'typical', 'due', 'unavailability', 'intimate', 'ties', 'formulated', 'minimization', 'loss', 'function', 'set', 'examples', 'functions', 'express', 'discrepancy', 'model', 'actual', 'instances', 'example', 'wants', 'assign', 'label', 'correctly', 'predict', 'pre-assigned', 'labels', 'difference', 'arises', 'generalization', 'minimize', 'minimizing', 'unseen', 'samples', 'characterizing', 'active', 'topic', 'current', 'deep', 'closely', 'distinct', 'principal', 'draws', 'population', 'inferences', 'sample', 'finds', 'generalizable', 'according', 'michael', 'i.', 'jordan', 'ideas', 'methodological', 'principles', 'tools', 'long', 'pre-history', '27', 'suggested', 'placeholder', 'call', 'overall', 'conventional', 'analyses', 'require', 'priori', 'selection', 'suitable', 'addition', 'significant', 'theoretically', 'relevant', 'variables', 'included', 'contrast', 'built', 'pre-structured', 'shape', 'detecting', 'underlying', 'input', 'accurate', 'ultimate', '28', 'leo', 'breiman', 'distinguished', 'modeling', 'paradigms', 'algorithmic', '29', 'wherein', 'means', 'less', 'like', 'random', 'forest', 'statisticians', 'adopted', 'combined', '30', 'analytical', 'techniques', 'derived', 'deep-rooted', 'physics', 'disordered', 'extended', 'large-scale', 'e.g', '.', 'weight', 'space', '31', 'thus', 'finding', 'applications', 'area', 'diagnostics', '32', 'core', 'objective', 'generalize', '7', '33', 'context', 'accurately', 'new', 'examples/tasks', 'experienced', 'generally', 'distribution', 'considered', 'occurrences', 'build', 'general', 'enables', 'produce', 'sufficiently', 'cases', 'branch', 'via', 'probably', 'approximately', 'correct', 'pac', 'sets', 'finite', 'uncertain', 'yield', 'guarantees', 'bounds', 'quite', 'common', 'bias–variance', 'decomposition', 'way', 'quantify', 'error', 'best', 'complexity', 'hypothesis', 'match', 'complex', 'fitted', 'increased', 'response', 'decreases', 'subject', 'overfitting', 'poorer', '34', 'theorists', 'feasibility', 'computation', 'feasible', 'done', 'polynomial', 'kinds', 'positive', 'show', 'certain', 'negative', 'classes', 'traditionally', 'divided', 'three', 'broad', 'categories', 'correspond', 'depending', 'signal', 'feedback', 'available', 'system', '•', 'presented', 'inputs', 'desired', 'outputs', 'teacher', 'rule', 'maps', 'leaving', 'find', 'structure', 'discovering', 'hidden', 'towards', 'end', 'feature', 'interacts', 'dynamic', 'environment', 'must', 'driving', 'vehicle', 'playing', 'game', 'opponent', 'navigates', 'analogous', 'rewards', 'tries', 'maximize', 'advantages', 'limitations', 'single', 'works', '35', '36', '37', 'contains', '38', 'consists', 'output', 'supervisory', 'represented', 'array', 'vector', 'sometimes', 'matrix', 'iterative', 'associated', '39', 'optimal', 'allows', 'determine', 'part', 'types', 'supervised-learning', 'include', 'regression', 'restricted', 'limited', 'values', 'numerical', 'value', 'range', 'filters', 'emails', 'incoming', 'folder', 'file', 'similarity', 'measures', 'similar', 'objects', 'ranking', 'recommendation', 'visual', 'identity', 'tracking', 'face', 'verification', 'speaker', 'take', 'grouping', 'clustering', 'points', 'therefore', 'test', 'labeled', 'classified', 'categorized', 'responding', 'identify', 'commonalities', 'react', 'presence', 'absence', 'piece', 'central', 'density', 'estimation', '41', 'though', 'encompasses', 'domains', 'involving', 'summarizing', 'explaining', 'features', 'streamlined', 'process', 'survey', 'graph', 'indel', 'haplotypes', 'gene', 'pan-genome', '42', 'cluster', 'assignment', 'observations', 'subsets', 'clusters', 'predesignated', 'criteria', 'drawn', 'dissimilar', 'defined', 'metric', 'internal', 'compactness', 'members', 'separation', 'estimated', 'connectivity', 'semi-supervised', 'falls', 'completely', 'missing', 'yet', 'unlabeled', 'conjunction', 'small', 'amount', 'considerable', 'improvement', 'weakly', 'noisy', 'imprecise', 'cheaper', 'obtain', 'resulting', 'larger', 'effective', '43', 'software', 'agents', 'ought', 'actions', 'notion', 'cumulative', 'reward', 'generality', 'control', 'operations', 'simulation-based', 'multi-agent', 'swarm', 'genetic', 'typically', 'markov', 'decision', 'mdp', 'reinforcements', '44', 'assume', 'exact', 'infeasible', 'autonomous', 'vehicles', 'play', 'dimensionality', 'reduction', 'reducing', 'number', 'consideration', 'obtaining', '45', 'words', 'dimension', 'either', 'elimination', 'extraction', 'popular', 'component', 'pca', 'involves', 'changing', 'higher-dimensional', '3d', 'smaller', '2d', 'keeping', 'original', '46', 'manifold', 'proposes', 'high-dimensional', 'lie', 'along', 'low-dimensional', 'manifolds', 'assumption', 'regularization', 'fit', 'neatly', 'three-fold', 'categorization', 'meta-learning', '47', '2022', 'dominant', 'ongoing', 'self-learning', 'paradigm', 'introduced', '1982', 'capable', 'named', 'crossbar', 'adaptive', 'caa', '48', 'external', 'advice', 'computes', 'fashion', 'emotions', 'feelings', 'consequence', 'situations', 'driven', 'interaction', 'cognition', 'emotion', '49', 'updates', 'w', '=||w', '||', 'iteration', 'executes', 'following', 'routine', 'compute', 'situation', 'v', 'update', 'action', 'behavior', 'a.', 'neither', 'backpropagated', 'secondary', 'exists', 'environments', 'behavioral', 'behaves', 'wherefrom', 'initially', 'receives', 'initial', 'encountered', 'receiving', 'genome', 'species', 'goal-seeking', 'desirable', 'undesirable', '50', 'several', 'aim', 'better', 'representations', '51', 'classic', 'attempt', 'preserve', 'transform', 'makes', 'useful', 'pre-processing', 'performing', 'technique', 'reconstruction', 'coming', 'data-generating', 'necessarily', 'faithful', 'configurations', 'implausible', 'replaces', 'manual', 'engineering', 'multilayer', 'dictionary', 'independent', 'autoencoders', 'factorization', '52', 'forms', '53', '54', '55', 'constraint', 'sparse', 'coding', 'meaning', 'zeros', 'multilinear', 'subspace', 'directly', 'tensor', 'multidimensional', 'reshaping', 'vectors', '56', 'multiple', 'levels', 'hierarchy', 'higher-level', 'abstract', 'generating', 'lower-level', 'argued', 'intelligent', 'disentangles', 'factors', 'variation', 'explain', 'observed', '57', 'motivated', 'fact', 'mathematically', 'computationally', 'convenient', 'real-world', 'images', 'video', 'sensory', 'yielded', 'attempts', 'algorithmically', 'define', 'alternative', 'examination', 'relying', 'explicit', 'combination', 'basis', 'assumed', 'strongly', 'np-hard', 'difficult', 'solve', '58', 'heuristic', 'k-svd', 'contexts', 'belongs', 'already', 'sparsely', 'corresponding', 'image', 'de-noising', 'idea', 'clean', 'patch', 'noise', '59', 'anomaly', 'detection', 'outlier', 'identification', 'rare', 'items', 'events', 'raise', 'suspicions', 'differing', 'majority', '60', 'anomalous', 'represent', 'issue', 'bank', 'fraud', 'structural', 'defect', 'errors', 'text', 'anomalies', 'referred', 'outliers', 'novelties', 'deviations', 'exceptions', '61', 'particular', 'abuse', 'intrusion', 'interesting', 'unexpected', 'bursts', 'inactivity', 'adhere', 'object', 'fail', 'unless', 'aggregated', 'appropriately', 'detect', 'micro-clusters', 'formed', '62', 'exist', '63', 'normal', 'looking', 'seem', 'least', 'remainder', 'abnormal', 'classifier', 'inherently', 'unbalanced', 'construct', 'representing', 'likelihood', 'instance', 'generated', 'robot', 'inspired', 'multitude', 'starting', '64', '65', 'finally', 'maml', 'association', 'rule-based', 'intended', 'strong', 'rules', 'discovered', 'interestingness', '66', 'identifies', 'evolves', 'store', 'manipulate', 'apply', 'characteristic', 'utilization', 'relational', 'collectively', 'captured', 'commonly', 'singular', 'universally', '67', 'immune', 'concept', 'rakesh', 'agrawal', 'tomasz', 'imieliński', 'arun', 'swami', 'regularities', 'products', 'transaction', 'recorded', 'point-of-sale', 'pos', 'supermarkets', '68', 'sales', 'supermarket', 'indicate', 'customer', 'buys', 'onions', 'potatoes', 'together', 'likely', 'buy', 'hamburger', 'meat', 'marketing', 'activities', 'promotional', 'pricing', 'product', 'placements', 'market', 'basket', 'today', 'areas', 'web', 'usage', 'continuous', 'production', 'bioinformatics', 'sequence', 'consider', 'transactions', 'lcs', 'family', 'combine', 'seek', 'context-dependent', 'piecewise', 'manner', '69', 'ilp', 'uniform', 'background', 'hypotheses', 'encoding', 'database', 'facts', 'derive', 'hypothesized', 'entails', 'considers', 'kind', 'functional', 'programs', 'particularly', 'natural', 'processing', 'gordon', 'plotkin', 'ehud', 'shapiro', 'laid', 'foundation', 'setting', '70', '71', '72', 'first', 'implementation', 'inference', 'prolog', 'inductively', 'inferred', '73', 'refers', 'philosophical', 'induction', 'suggesting', 'proving', 'property', 'well-ordered', 'involve', 'creating', 'additional', 'researched', 'anns', 'connectionist', 'vaguely', 'biological', 'constitute', 'animal', 'brains', 'considering', 'programmed', 'task-specific', 'ann', 'collection', 'connected', 'units', 'nodes', 'neurons', 'loosely', 'brain', 'connection', 'synapses', 'transmit', 'neuron', 'another', 'implementations', 'real', 'computed', 'non-linear', 'sum', 'connections', 'edges', 'adjusts', 'proceeds', 'increases', 'strength', 'threshold', 'sent', 'aggregate', 'crosses', 'layers', 'transformations', 'travel', 'layer', 'last', 'possibly', 'traversing', 'times', 'attention', 'moved', 'biology', 'variety', 'translation', 'social', 'board', 'games', 'processes', 'light', 'sound', 'hearing', 'successful', '74', 'tree', 'go', 'item', 'branches', 'conclusions', 'target', 'leaves', 'variable', 'discrete', 'trees', 'structures', 'conjunctions', 'lead', 'numbers', 'visually', 'making', 'describes', 'decision-making', 'support-vector', 'svms', 'marked', 'belonging', 'svm', 'builds', 'predicts', 'whether', 'category', '75', 'non-probabilistic', 'binary', 'platt', 'scaling', 'efficiently', 'kernel', 'trick', 'implicitly', 'mapping', 'spaces', 'estimate', 'relationship', 'form', 'criterion', 'ordinary', 'squares', 'latter', 'mitigate', 'bias', 'ridge', 'go-to', 'trendline', 'fitting', 'microsoft', 'excel', '76', 'logistic', 'even', 'introduces', 'non-linearity', 'taking', 'advantage', 'map', 'bayesian', 'belief', 'directed', 'acyclic', 'graphical', 'represents', 'conditional', 'independence', 'dag', 'could', 'diseases', 'symptoms', 'probabilities', 'efficient', 'sequences', 'protein', 'generalizations', 'uncertainty', 'influence', 'diagrams', 'gaussian', 'stochastic', 'every', 'multivariate', 'relies', 'pre-defined', 'covariance', 'pairs', 'relate', 'locations', 'input–output', 'unobserved', 'point', 'covariances', 'surrogate', 'hyperparameter', 'ga', 'search', 'mimics', 'mutation', 'crossover', 'generate', 'genotypes', 'hope', 'good', 'solutions', '1980s', '78', '79', 'conversely', 'evolutionary', '80', 'evidence', 'dempster–shafer', 'framework', 'understood', 'frameworks', 'possibility', 'theories', 'thought', 'dempster', 'pmf-based', 'caveats', 'beliefs', 'compared', 'incorporate', 'ignorance', 'quantification', 'implemented', 'domain', 'leverage', 'fusion', 'ensemble', 'handle', 'boundary', 'low', 'ambiguous', 'issues', 'standard', 'tend', 'difficulty', 'resolving', 'dependent', 'propositions', 'higher', 'high', 'quantity', 'reliable', 'engineers', 'need', 'collect', 'varied', 'corpus', 'sensor', 'collected', 'individual', 'users', 'service', 'something', 'watch', 'biased', 'non-evaluated', 'result', 'skewed', 'undesired', 'detrimental', 'thereby', 'furthering', 'impacts', 'society', 'fully', 'prepared', 'ethics', 'becoming', 'notably', 'integrated', 'teams', 'federated', 'adapted', 'distributed', 'decentralizes', 'allowing', 'privacy', 'maintained', 'send', 'centralized', 'server', 'efficiency', 'decentralizing', 'devices', 'gboard', 'query', 'mobile', 'phones', 'searches', 'back', 'google', '81', '2006', 'media-services', 'provider', 'netflix', 'held', 'prize', 'competition', 'user', 'preferences', 'existing', 'cinematch', 'movie', 'joint', 'team', 'made', 'labs-research', 'collaboration', 'big', 'chaos', 'pragmatic', 'win', 'grand', '2009', 'million', '84', 'shortly', 'awarded', 'realized', 'viewers', 'ratings', 'indicators', 'viewing', 'everything', 'engine', 'accordingly', '85', '2010', 'wall', 'street', 'journal', 'wrote', 'firm', 'rebellion', 'financial', 'crisis', '86', '2012', 'co-founder', 'sun', 'microsystems', 'vinod', 'khosla', 'predicted', 'doctors', 'jobs', 'lost', 'next', 'decades', 'diagnostic', '87', '2014', 'reported', 'art', 'fine', 'paintings', 'revealed', 'unrecognized', 'influences', 'among', 'artists', '88', '2019', 'springer', 'published', 'created', '89', '2020', 'technology', 'help', 'diagnoses', 'aid', 'developing', 'cure', 'covid-19', '90', 'pro-environmental', 'travelers', '91', 'optimize', 'smartphone', 'thermal', 'phone', '92', '93', '94', 'transformative', 'deliver', 'expected', '95', '96', '97', 'reasons', 'numerous', 'lack', 'access', 'badly', 'chosen', 'wrong', 'people', 'resources', 'evaluation', '98', '2018', 'self-driving', 'car', 'uber', 'failed', 'pedestrian', 'killed', 'collision', '99', 'healthcare', 'watson', 'years', 'billions', 'dollars', 'invested', '100', '101', 'strategy', 'systematic', 'review', 'reviewer', 'burden', 'growth', 'biomedical', 'literature', 'improved', 'reduce', 'workload', 'limiting', 'necessary', 'sensitivity', 'findings', '102', 'suffer', 'biases', 'specifically', 'customers', 'needs', 'groups', 'human-made', 'pick', 'constitutional', 'unconscious', 'present', '103', 'shown', 'contain', 'human-like', '104', '105', 'criminal', 'risk', 'assessment', 'black', '106', '107', '2015', 'photos', 'tag', 'gorillas', '108', 'still', 'resolved', 'reportedly', 'workaround', 'remove', '109', 'recognizing', 'non-white', '110', '2016', 'tested', 'chatbot', 'twitter', 'quickly', 'picked', 'racist', 'sexist', '111', 'challenges', 'longer', '112', 'concern', 'fairness', 'propelling', 'increasingly', 'expressed', 'scientists', 'fei-fei', 'li', 'reminds', 'nothing', '...', 'and—most', 'importantly—it', 'powerful', 'tool', 'beginning', 'understand', 'profound', 'responsibility', '113', 'explainable', 'xai', 'interpretable', 'xml', 'humans', '114', 'contrasts', 'box', 'designers', 'arrived', '115', 'refining', 'mental', 'ai-powered', 'dismantling', 'misconceptions', 'promises', 'effectively', 'right', 'explanation', 'settling', 'bad', 'overly', 'gerrymandered', 'past', 'rewarding', 'accordance', 'fits', 'penalizing', 'learners', 'disappoint', 'lesson', 'toy', 'pictures', 'brown', 'horses', 'cats', 'might', 'conclude', 'patches', 'unlike', 'classifiers', 'primarily', 'judgments', 'spatial', 'components', 'picture', 'pixels', 'oblivious', 'correlate', 'modifying', 'legitimate', 'adversarial', 'misclassifies', '118', '119', 'vulnerabilities', 'nonlinear', 'non-pattern', 'perturbations', 'brittle', 'pixel', 'predictably', 'induces', 'misclassification', 'citation', 'vulnerable', 'manipulation', 'and/or', 'evasion', '120', 'demonstrated', 'backdoors', 'placed', 'undetectably', 'spam', 'well-visible', 'posts', 'third', 'parties', 'change', 'type', 'data/software', 'transparency', 'white-box', '121', '122', '123', 'validated', 'holdout', 'splits', 'conventionally', '2/3', '1/3', 'designation', 'evaluates', 'comparison', 'k-fold-cross-validation', 'randomly', 'partitions', 'k', 'experiments', 'performed', 'respectively', 'subset', 'remaining', 'k-1', 'cross-validation', 'bootstrap', 'n', 'replacement', 'dataset', 'assess', '124', 'investigators', 'frequently', 'specificity', 'true', 'rate', 'tpr', 'tnr', 'similarly', 'false', 'fpr', 'fnr', 'rates', 'ratios', 'reveal', 'numerators', 'denominators', 'total', 'operating', 'toc', 'shows', 'mentioned', 'provides', 'receiver', 'roc', 'curve', 'auc', '125', 'poses', 'host', 'ethical', 'questions', 'datasets', 'exhibit', 'upon', 'digitizing', 'cultural', 'prejudices', '126', '1988', 'uk', 'commission', 'racial', 'equality', 'st.', 'george', 'school', 'admissions', 'staff', 'denied', 'nearly', 'candidates', 'women', 'non-european', 'sounding', 'names', 'job', 'hiring', 'policies', 'duplicating', 'scoring', 'applicants', '127', '128', 'responsible', 'documentation', 'critical', 'well-equipped', 'technical', 'rely', 'heavily', 'historical', 'objectivity', '129', 'languages', 'corpora', '130', '131', 'personal', 'seen', 'health', 'care', 'concerns', 'professionals', 'designed', 'public', 'income-generating', '132', 'united', 'states', 'long-standing', 'dilemma', 'improving', 'profits', 'provide', 'patients', 'unnecessary', 'tests', 'medication', 'proprietary', 'owners', 'hold', 'stakes', 'diagnose', 'medicate', 'plan', 'recovery', 'paths', 'requires', 'mitigated', '133', 'since', '2010s', 'advances', 'hardware', 'led', 'narrow', 'subdomain', '134', 'graphic', 'gpus', 'ai-specific', 'enhancements', 'displaced', 'cpus', 'commercial', 'cloud', '135', 'openai', 'largest', 'projects', 'alexnet', 'alphazero', '2017', '300,000-fold', 'increase', 'required', 'doubling-time', '3.4', 'months', '136', '137', 'physical', 'neuromorphic', 'electrically', 'adjustable', 'material', 'emulate', 'synapse', 'emphasize', 'reliance', 'opposed', 'software-based', 'applicable', 'memristor', 'resistance', '138', '139', 'embedded', 'sub-field', 'run', 'wearable', 'edge', 'microcontrollers', '140', '141', '142', 'running', 'removes', 'transferring', 'storing', 'servers', 'henceforth', 'breaches', 'leaks', 'happening', 'minimizes', 'theft', 'intellectual', 'secrets', 'acceleration', '143', '144', 'approximate', '145', '146', '147', 'suites', 'containing', 'european', 'conference', 'practice', 'international', 'biostatistics', 'cibb', '–', 'automating', 'assets', 'characterized', 'volume', 'velocity', 'transformation', 'none', 'domingos', 'pedro', 'september', 'master', 'remake', 'world', 'books', 'isbn', 'nils', '1998', 'morgan', 'kaufmann', 'archived', 'july', 'poole', 'david', 'mackworth', 'goebel', 'randy', 'york', 'oxford', 'university', 'press', 'mloss', 'open-source'])"
            ]
          },
          "metadata": {},
          "execution_count": 33
        }
      ]
    },
    {
      "cell_type": "code",
      "source": [
        "highest_frequency3=max(word_frequency3.values())\n",
        "highest_frequency3"
      ],
      "metadata": {
        "colab": {
          "base_uri": "https://localhost:8080/"
        },
        "id": "1Cr9DjPkAquG",
        "outputId": "4f52e4ea-87d4-453c-a51c-c0507dbee803"
      },
      "execution_count": null,
      "outputs": [
        {
          "output_type": "execute_result",
          "data": {
            "text/plain": [
              "192"
            ]
          },
          "metadata": {},
          "execution_count": 34
        }
      ]
    },
    {
      "cell_type": "code",
      "source": [
        "for word in word_frequency3.keys():\n",
        "  word_frequency3[word]=(word_frequency3[word]/highest_frequency3)\n",
        "\n",
        "word_frequency3"
      ],
      "metadata": {
        "colab": {
          "base_uri": "https://localhost:8080/"
        },
        "id": "aIPVao_1A1Fm",
        "outputId": "1b052bcc-3f03-4846-9df0-1502dafc1082"
      },
      "execution_count": null,
      "outputs": [
        {
          "output_type": "execute_result",
          "data": {
            "text/plain": [
              "FreqDist({'learning': 1.0, 'machine': 0.5625, 'data': 0.4947916666666667, '``': 0.3541666666666667, 'training': 0.23958333333333334, 'algorithms': 0.22916666666666666, 'model': 0.21354166666666666, 'used': 0.171875, 'set': 0.16145833333333334, 'artificial': 0.13020833333333334, ...})"
            ]
          },
          "metadata": {},
          "execution_count": 35
        }
      ]
    },
    {
      "cell_type": "markdown",
      "source": [
        "Sentence Tokenization"
      ],
      "metadata": {
        "id": "aN-lmg7PBAFw"
      }
    },
    {
      "cell_type": "code",
      "source": [
        "sentence_list1=nltk.sent_tokenize(org_text1)\n",
        "sentence_list1"
      ],
      "metadata": {
        "colab": {
          "base_uri": "https://localhost:8080/"
        },
        "id": "4KjFjnWLBDIG",
        "outputId": "5ddf52ad-2641-428f-a4cb-6badb28db846"
      },
      "execution_count": null,
      "outputs": [
        {
          "output_type": "execute_result",
          "data": {
            "text/plain": [
              "['Natural language processing (NLP) is an interdisciplinary subfield of computer science and linguistics.',\n",
              " 'It is primarily concerned with giving computers the ability to support and manipulate speech.',\n",
              " 'It involves processing natural language datasets, such as text corpora or speech corpora, using either rule-based or probabilistic statistical and, most recently, neural network-based) machine learning approaches.',\n",
              " 'The goal is a computer capable of understanding the contents of documents, including the contextual nuances of the language within them.',\n",
              " 'The technology can then accurately extract information and insights contained in the documents as well as categorize and organize the documents themselves.']"
            ]
          },
          "metadata": {},
          "execution_count": 36
        }
      ]
    },
    {
      "cell_type": "code",
      "source": [
        "from bnlp import NLTKTokenizer"
      ],
      "metadata": {
        "id": "WewGK2CHBcEe"
      },
      "execution_count": null,
      "outputs": []
    },
    {
      "cell_type": "code",
      "source": [
        "bnltk = NLTKTokenizer()\n",
        "sentence_list2=bnltk.sentence_tokenize(org_text2)\n",
        "sentence_list2"
      ],
      "metadata": {
        "colab": {
          "base_uri": "https://localhost:8080/"
        },
        "id": "bbcSOsQ2BUCm",
        "outputId": "56deedb0-ccdb-4d84-df14-7134e349c66d"
      },
      "execution_count": null,
      "outputs": [
        {
          "output_type": "execute_result",
          "data": {
            "text/plain": [
              "['চারদিকে পাহাড়ঘেরা উপত্যকার মাঝে ছিল অপূর্ব সুন্দর এক সরোবর।',\n",
              " 'সেই সরোবরের তীরে প্রতি বছর গ্রীষ্মকালে বেড়াতে আসে সাত পরি, সাত বোন।',\n",
              " 'তারা ডানাগুলো একটা গাছের তলায় রেখে পানিতে আনন্দ করে বেড়ায়।',\n",
              " 'জনশূন্য চারপাশ।',\n",
              " 'ঠিক সাত দিন ধরে আনন্দ করে আবার ডানাগুলো পরে উড়ে যায় তাদের নিজের দেশে।',\n",
              " 'এদিকে কাছাকাছি যে কিছু গ্রাম আছে সে খবর তারা না রাখলেও পরিদের সব খবর রাখে সেই গ্রামেরই এক রাখাল ছেলে।',\n",
              " 'সে গরু চরায়, বাঁশি বাজায় আর দূর থেকে দেখতে থাকে পরিদের কাণ্ডকারখানা।',\n",
              " 'একসময় তার খুব ভালো লেগে যায় সবচেয়ে ছোট পরিটিকে।',\n",
              " 'কী অপরূপ মিষ্টি চেহারা!',\n",
              " 'ওকে দেখলেই রাখালের বাঁশিতে বেজে ওঠে স্বর্গীয় সব সুর।',\n",
              " 'দূর থেকে পরিরা তা শোনে আর অবাক হয়ে ভাবে এমন সুন্দর সুর কে বাজায়।',\n",
              " 'এ সুর তো তাদের দেশের পাখিদেরও অজানা!',\n",
              " 'তারা মুগ্ধ হয়ে শোনে, কিন্তু রাখাল থাকে আড়ালে, তাকে কেউ দেখতে পায় না।',\n",
              " 'একবার হলো কী, রাখালের মাথায় একটি দুষ্টবুদ্ধি জাগল।',\n",
              " 'পরিরা যখন স্নানে ব্যস্ত, সে চুপিচুপি এসে দাঁড়াল সেই গাছতলায়, যেখানে খুলে রাখা আছে পরিদের ডানাগুলো।',\n",
              " 'বেছে বেছে সবচেয়ে ছোট ডানাজোড়া নিয়ে সে লুকিয়ে রেখে দিল একটা বড় গাছের ফোকরে।',\n",
              " 'তারপর ধীরে ধীরে সরে পড়ল সেখান থেকে।',\n",
              " 'সাত দিন পরে পরিদের যাওয়ার সময় হলে দেখা গেল তাদের ছোট বোনের ডানাজোড়া নেই।',\n",
              " 'অনেক খোঁজাখুঁজি করেও তারা সেটা পেল না।',\n",
              " 'এদিকে বাবার কড়া হুকুম, এক সপ্তাহের বেশি তাদের স্বর্গ ছেড়ে থাকা চলবে না।',\n",
              " 'কী করবে ভেবে না পেয়ে সবচেয়ে বড় পরি ছোট বোনকে বুঝিয়ে বলল, ‘উপায় নেইরে বোন, আমাদের যেতেই হবে।',\n",
              " 'আর গেলে পরের বছরের আগে আর আসতে পারব না।',\n",
              " 'তুই বরং এখানে থেকে ডানা জোড়া ভালো করে খুঁজে দেখ।',\n",
              " 'পেলেই দেশে চলে আসিস, কেমন।',\n",
              " \"আমরা বাবাকে বুঝিয়ে বলব তিনি যেন রাগ না করেন।'\",\n",
              " 'ছয় পরি ছোট বোনকে একা সরোবরের তীরে ফেলে রেখে উড়ে চলে গেল।',\n",
              " 'বেচারি ছোট পরি মনের দুঃখে বসে বসে কাঁদতে লাগল।',\n",
              " 'তাকে ওভাবে কাঁদতে দেখে রাখাল সাহস করে আড়াল থেকে বেরিয়ে এলো।',\n",
              " 'সব শুনে সে তাকে নিজের বাসায় নিয়ে গেল।',\n",
              " 'তারপর অনেকক্ষণ ধরে বাঁশি বাজিয়ে শোনাল।',\n",
              " 'এই রাখালের বাঁশিই যে তাকে দূর থেকে এত আনন্দ দিয়েছে ভেবে পরির খুব ভালো লাগল।',\n",
              " 'তাদের বন্ধুত্ব হতে দেরি হলো না।',\n",
              " 'রাখাল আর পরি গ্রামের একপ্রান্তে একটি কুঁড়েঘরে থাকে।',\n",
              " 'একত্রে গরু চরায়।',\n",
              " 'রাখাল বাঁশি বাজায় আর পরি ঘাঘরা উড়িয়ে নাচে।',\n",
              " 'দেখে গ্রামের লোকেরা ঠিক করল, এদের বিয়ে হওয়া উচিত।',\n",
              " 'রাখাল তো রাজি ছিলই, পরিও রাজি হয়ে গেল।',\n",
              " 'তারপর একদিন বেশ একটা উৎসবের মধ্য দিয়ে তাদের বিয়ে হয়ে গেল।']"
            ]
          },
          "metadata": {},
          "execution_count": 39
        }
      ]
    },
    {
      "cell_type": "code",
      "source": [
        "sentence_list3=nltk.sent_tokenize(article.cleaned_text)\n",
        "sentence_list3"
      ],
      "metadata": {
        "colab": {
          "base_uri": "https://localhost:8080/"
        },
        "id": "W0kue33pBrZG",
        "outputId": "a8a842b3-be69-4c1a-b21b-3a7d532931dc"
      },
      "execution_count": null,
      "outputs": [
        {
          "output_type": "execute_result",
          "data": {
            "text/plain": [
              "['Study of algorithms that improve automatically through experience\\n\\nMachine learning (ML) is an umbrella term for solving problems for which development of algorithms by human programmers would be cost-prohibitive, and instead the problems are solved by helping machines \"discover\" their \"own\" algorithms,[1] without needing to be explicitly told what to do by any human-developed algorithms.',\n",
              " '[2] Recently, generative artificial neural networks have been able to surpass results of many previous approaches.',\n",
              " '[3][4] Machine-learning approaches have been applied to large language models, computer vision, speech recognition, email filtering, agriculture and medicine, where it is too costly to develop algorithms to perform the needed tasks.',\n",
              " '[5][6]\\n\\nThe mathematical foundations of ML are provided by mathematical optimization (mathematical programming) methods.',\n",
              " 'Data mining is a related (parallel) field of study, focusing on exploratory data analysis through unsupervised learning.',\n",
              " '[8][9]\\n\\nML is known in its application across business problems under the name predictive analytics.',\n",
              " \"Although not all machine learning is statistically based, computational statistics is an important source of the field's methods.\",\n",
              " 'History and relationships to other fields\\n\\nThe term machine learning was coined in 1959 by Arthur Samuel, an IBM employee and pioneer in the field of computer gaming and artificial intelligence.',\n",
              " '[10][11] The synonym self-teaching computers was also used in this time period.',\n",
              " '[12][13]\\n\\nBy the early 1960s an experimental \"learning machine\" with punched tape memory, called Cybertron, had been developed by Raytheon Company to analyze sonar signals, electrocardiograms, and speech patterns using rudimentary reinforcement learning.',\n",
              " 'It was repetitively \"trained\" by a human operator/teacher to recognize patterns and equipped with a \"goof\" button to cause it to re-evaluate incorrect decisions.',\n",
              " \"[14] A representative book on research into machine learning during the 1960s was Nilsson's book on Learning Machines, dealing mostly with machine learning for pattern classification.\",\n",
              " '[15] Interest related to pattern recognition continued into the 1970s, as described by Duda and Hart in 1973.',\n",
              " '[16] In 1981 a report was given on using teaching strategies so that a neural network learns to recognize 40 characters (26 letters, 10 digits, and 4 special symbols) from a computer terminal.',\n",
              " '[17]\\n\\nTom M. Mitchell provided a widely quoted, more formal definition of the algorithms studied in the machine learning field: \"A computer program is said to learn from experience E with respect to some class of tasks T and performance measure P if its performance at tasks in T, as measured by P, improves with experience E.\"[18] This definition of the tasks in which machine learning is concerned offers a fundamentally operational definition rather than defining the field in cognitive terms.',\n",
              " 'This follows Alan Turing\\'s proposal in his paper \"Computing Machinery and Intelligence\", in which the question \"Can machines think?\"',\n",
              " 'is replaced with the question \"Can machines do what we (as thinking entities) can do?\".',\n",
              " '[19]\\n\\nModern-day machine learning has two objectives, one is to classify data based on models which have been developed, the other purpose is to make predictions for future outcomes based on these models.',\n",
              " 'A hypothetical algorithm specific to classifying data may use computer vision of moles coupled with supervised learning in order to train it to classify the cancerous moles.',\n",
              " 'A machine learning algorithm for stock trading may inform the trader of future potential predictions.',\n",
              " '[20]\\n\\nAs a scientific endeavor, machine learning grew out of the quest for artificial intelligence (AI).',\n",
              " 'In the early days of AI as an academic discipline, some researchers were interested in having machines learn from data.',\n",
              " 'They attempted to approach the problem with various symbolic methods, as well as what were then termed \"neural networks\"; these were mostly perceptrons and other models that were later found to be reinventions of the generalized linear models of statistics.',\n",
              " '[22] Probabilistic reasoning was also employed, especially in automated medical diagnosis.',\n",
              " '[23]: 488\\n\\nHowever, an increasing emphasis on the logical, knowledge-based approach caused a rift between AI and machine learning.',\n",
              " 'Probabilistic systems were plagued by theoretical and practical problems of data acquisition and representation.',\n",
              " '[23]: 488 By 1980, expert systems had come to dominate AI, and statistics was out of favor.',\n",
              " '[24] Work on symbolic/knowledge-based learning did continue within AI, leading to inductive logic programming, but the more statistical line of research was now outside the field of AI proper, in pattern recognition and information retrieval.',\n",
              " '[23]: 708–710, 755 Neural networks research had been abandoned by AI and computer science around the same time.',\n",
              " 'This line, too, was continued outside the AI/CS field, as \"connectionism\", by researchers from other disciplines including Hopfield, Rumelhart, and Hinton.',\n",
              " 'Their main success came in the mid-1980s with the reinvention of backpropagation.',\n",
              " '[23]: 25\\n\\nMachine learning (ML), reorganized and recognized as its own field, started to flourish in the 1990s.',\n",
              " 'The field changed its goal from achieving artificial intelligence to tackling solvable problems of a practical nature.',\n",
              " 'It shifted focus away from the symbolic approaches it had inherited from AI, and toward methods and models borrowed from statistics, fuzzy logic, and probability theory.',\n",
              " '[24]\\n\\nMachine learning and data mining often employ the same methods and overlap significantly, but while machine learning focuses on prediction, based on known properties learned from the training data, data mining focuses on the discovery of (previously) unknown properties in the data (this is the analysis step of knowledge discovery in databases).',\n",
              " 'Data mining uses many machine learning methods, but with different goals; on the other hand, machine learning also employs data mining methods as \"unsupervised learning\" or as a preprocessing step to improve learner accuracy.',\n",
              " 'Much of the confusion between these two research communities (which do often have separate conferences and separate journals, ECML PKDD being a major exception) comes from the basic assumptions they work with: in machine learning, performance is usually evaluated with respect to the ability to reproduce known knowledge, while in knowledge discovery and data mining (KDD) the key task is the discovery of previously unknown knowledge.',\n",
              " 'Evaluated with respect to known knowledge, an uninformed (unsupervised) method will easily be outperformed by other supervised methods, while in a typical KDD task, supervised methods cannot be used due to the unavailability of training data.',\n",
              " 'Machine learning also has intimate ties to optimization: many learning problems are formulated as minimization of some loss function on a training set of examples.',\n",
              " 'Loss functions express the discrepancy between the predictions of the model being trained and the actual problem instances (for example, in classification, one wants to assign a label to instances, and models are trained to correctly predict the pre-assigned labels of a set of examples).',\n",
              " '[25]\\n\\nThe difference between optimization and machine learning arises from the goal of generalization: while optimization algorithms can minimize the loss on a training set, machine learning is concerned with minimizing the loss on unseen samples.',\n",
              " 'Characterizing the generalization of various learning algorithms is an active topic of current research, especially for deep learning algorithms.',\n",
              " 'Machine learning and statistics are closely related fields in terms of methods, but distinct in their principal goal: statistics draws population inferences from a sample, while machine learning finds generalizable predictive patterns.',\n",
              " '[26] According to Michael I. Jordan, the ideas of machine learning, from methodological principles to theoretical tools, have had a long pre-history in statistics.',\n",
              " '[27] He also suggested the term data science as a placeholder to call the overall field.',\n",
              " '[27]\\n\\nConventional statistical analyses require the a priori selection of a model most suitable for the study data set.',\n",
              " 'In addition, only significant or theoretically relevant variables based on previous experience are included for analysis.',\n",
              " 'In contrast, machine learning is not built on a pre-structured model; rather, the data shape the model by detecting underlying patterns.',\n",
              " 'The more variables (input) used to train the model, the more accurate the ultimate model will be.',\n",
              " '[28]\\n\\nLeo Breiman distinguished two statistical modeling paradigms: data model and algorithmic model,[29] wherein \"algorithmic model\" means more or less the machine learning algorithms like Random Forest.',\n",
              " 'Some statisticians have adopted methods from machine learning, leading to a combined field that they call statistical learning.',\n",
              " '[30]\\n\\nAnalytical and computational techniques derived from deep-rooted physics of disordered systems can be extended to large-scale problems, including machine learning, e.g., to analyze the weight space of deep neural networks.',\n",
              " '[31] Statistical physics is thus finding applications in the area of medical diagnostics.',\n",
              " '[32]\\n\\nA core objective of a learner is to generalize from its experience.',\n",
              " '[7][33] Generalization in this context is the ability of a learning machine to perform accurately on new, unseen examples/tasks after having experienced a learning data set.',\n",
              " 'The training examples come from some generally unknown probability distribution (considered representative of the space of occurrences) and the learner has to build a general model about this space that enables it to produce sufficiently accurate predictions in new cases.',\n",
              " 'The computational analysis of machine learning algorithms and their performance is a branch of theoretical computer science known as computational learning theory via the Probably Approximately Correct Learning (PAC) model.',\n",
              " 'Because training sets are finite and the future is uncertain, learning theory usually does not yield guarantees of the performance of algorithms.',\n",
              " 'Instead, probabilistic bounds on the performance are quite common.',\n",
              " 'The bias–variance decomposition is one way to quantify generalization error.',\n",
              " 'For the best performance in the context of generalization, the complexity of the hypothesis should match the complexity of the function underlying the data.',\n",
              " 'If the hypothesis is less complex than the function, then the model has under fitted the data.',\n",
              " 'If the complexity of the model is increased in response, then the training error decreases.',\n",
              " 'But if the hypothesis is too complex, then the model is subject to overfitting and generalization will be poorer.',\n",
              " '[34]\\n\\nIn addition to performance bounds, learning theorists study the time complexity and feasibility of learning.',\n",
              " 'In computational learning theory, a computation is considered feasible if it can be done in polynomial time.',\n",
              " 'There are two kinds of time complexity results: Positive results show that a certain class of functions can be learned in polynomial time.',\n",
              " 'Negative results show that certain classes cannot be learned in polynomial time.',\n",
              " 'Machine learning approaches are traditionally divided into three broad categories, which correspond to learning paradigms, depending on the nature of the \"signal\" or \"feedback\" available to the learning system:\\n• Supervised learning: The computer is presented with example inputs and their desired outputs, given by a \"teacher\", and the goal is to learn a general rule that maps inputs to outputs.',\n",
              " '• Unsupervised learning: No labels are given to the learning algorithm, leaving it on its own to find structure in its input.',\n",
              " 'Unsupervised learning can be a goal in itself (discovering hidden patterns in data) or a means towards an end (feature learning).',\n",
              " '• Reinforcement learning: A computer program interacts with a dynamic environment in which it must perform a certain goal (such as driving a vehicle or playing a game against an opponent).',\n",
              " \"As it navigates its problem space, the program is provided feedback that's analogous to rewards, which it tries to maximize.\",\n",
              " '[7] Although each algorithm has advantages and limitations, no single algorithm works for all problems.',\n",
              " '[35][36][37]\\n\\nSupervised learning algorithms build a mathematical model of a set of data that contains both the inputs and the desired outputs.',\n",
              " '[38] The data is known as training data, and consists of a set of training examples.',\n",
              " 'Each training example has one or more inputs and the desired output, also known as a supervisory signal.',\n",
              " 'In the mathematical model, each training example is represented by an array or vector, sometimes called a feature vector, and the training data is represented by a matrix.',\n",
              " 'Through iterative optimization of an objective function, supervised learning algorithms learn a function that can be used to predict the output associated with new inputs.',\n",
              " '[39] An optimal function allows the algorithm to correctly determine the output for inputs that were not a part of the training data.',\n",
              " 'An algorithm that improves the accuracy of its outputs or predictions over time is said to have learned to perform that task.',\n",
              " '[18]\\n\\nTypes of supervised-learning algorithms include active learning, classification and regression.',\n",
              " '[40] Classification algorithms are used when the outputs are restricted to a limited set of values, and regression algorithms are used when the outputs may have any numerical value within a range.',\n",
              " 'As an example, for a classification algorithm that filters emails, the input would be an incoming email, and the output would be the name of the folder in which to file the email.',\n",
              " 'Similarity learning is an area of supervised machine learning closely related to regression and classification, but the goal is to learn from examples using a similarity function that measures how similar or related two objects are.',\n",
              " 'It has applications in ranking, recommendation systems, visual identity tracking, face verification, and speaker verification.',\n",
              " 'Unsupervised learning algorithms take a set of data that contains only inputs, and find structure in the data, like grouping or clustering of data points.',\n",
              " 'The algorithms, therefore, learn from test data that has not been labeled, classified or categorized.',\n",
              " 'Instead of responding to feedback, unsupervised learning algorithms identify commonalities in the data and react based on the presence or absence of such commonalities in each new piece of data.',\n",
              " 'A central application of unsupervised learning is in the field of density estimation in statistics, such as finding the probability density function.',\n",
              " '[41] Though unsupervised learning encompasses other domains involving summarizing and explaining data features.',\n",
              " 'Unsupervised learning algorithms streamlined the process of survey and graph large indel based haplotypes of a gene of interest from pan-genome.',\n",
              " '[42]\\n\\nCluster analysis is the assignment of a set of observations into subsets (called clusters) so that observations within the same cluster are similar according to one or more predesignated criteria, while observations drawn from different clusters are dissimilar.',\n",
              " 'Different clustering techniques make different assumptions on the structure of the data, often defined by some similarity metric and evaluated, for example, by internal compactness, or the similarity between members of the same cluster, and separation, the difference between clusters.',\n",
              " 'Other methods are based on estimated density and graph connectivity.',\n",
              " 'Semi-supervised learning falls between unsupervised learning (without any labeled training data) and supervised learning (with completely labeled training data).',\n",
              " 'Some of the training examples are missing training labels, yet many machine-learning researchers have found that unlabeled data, when used in conjunction with a small amount of labeled data, can produce a considerable improvement in learning accuracy.',\n",
              " 'In weakly supervised learning, the training labels are noisy, limited, or imprecise; however, these labels are often cheaper to obtain, resulting in larger effective training sets.',\n",
              " '[43]\\n\\nReinforcement learning is an area of machine learning concerned with how software agents ought to take actions in an environment so as to maximize some notion of cumulative reward.',\n",
              " 'Due to its generality, the field is studied in many other disciplines, such as game theory, control theory, operations research, information theory, simulation-based optimization, multi-agent systems, swarm intelligence, statistics and genetic algorithms.',\n",
              " 'In reinforcement learning, the environment is typically represented as a Markov decision process (MDP).',\n",
              " 'Many reinforcements learning algorithms use dynamic programming techniques.',\n",
              " '[44] Reinforcement learning algorithms do not assume knowledge of an exact mathematical model of the MDP and are used when exact models are infeasible.',\n",
              " 'Reinforcement learning algorithms are used in autonomous vehicles or in learning to play a game against a human opponent.',\n",
              " 'Dimensionality reduction is a process of reducing the number of random variables under consideration by obtaining a set of principal variables.',\n",
              " '[45] In other words, it is a process of reducing the dimension of the feature set, also called the \"number of features\".',\n",
              " 'Most of the dimensionality reduction techniques can be considered as either feature elimination or extraction.',\n",
              " 'One of the popular methods of dimensionality reduction is principal component analysis (PCA).',\n",
              " 'PCA involves changing higher-dimensional data (e.g., 3D) to a smaller space (e.g., 2D).',\n",
              " 'This results in a smaller dimension of data (2D instead of 3D), while keeping all original variables in the model without changing the data.',\n",
              " '[46] The manifold hypothesis proposes that high-dimensional data sets lie along low-dimensional manifolds, and many dimensionality reduction techniques make this assumption, leading to the area of manifold learning and manifold regularization.',\n",
              " 'Other approaches have been developed which do not fit neatly into this three-fold categorization, and sometimes more than one is used by the same machine learning system.',\n",
              " 'For example, topic modeling, meta-learning.',\n",
              " '[47]\\n\\nAs of 2022, deep learning is the dominant approach for much ongoing work in the field of machine learning.',\n",
              " '[1]\\n\\nSelf-learning, as a machine learning paradigm was introduced in 1982 along with a neural network capable of self-learning, named crossbar adaptive array (CAA).',\n",
              " '[48] It is learning with no external rewards and no external teacher advice.',\n",
              " 'The CAA self-learning algorithm computes, in a crossbar fashion, both decisions about actions and emotions (feelings) about consequence situations.',\n",
              " 'The system is driven by the interaction between cognition and emotion.',\n",
              " \"[49] The self-learning algorithm updates a memory matrix W =||w(a,s)|| such that in each iteration executes the following machine learning routine:\\n• compute emotion of being in consequence situation v(s')\\n• update crossbar memory w'(a,s) = w(a,s) + v(s')\\n\\nIt is a system with only one input, situation, and only one output, action (or behavior) a.\",\n",
              " 'There is neither a separate reinforcement input nor an advice input from the environment.',\n",
              " 'The backpropagated value (secondary reinforcement) is the emotion toward the consequence situation.',\n",
              " 'The CAA exists in two environments, one is the behavioral environment where it behaves, and the other is the genetic environment, wherefrom it initially and only once receives initial emotions about situations to be encountered in the behavioral environment.',\n",
              " 'After receiving the genome (species) vector from the genetic environment, the CAA learns a goal-seeking behavior, in an environment that contains both desirable and undesirable situations.',\n",
              " '[50]\\n\\nSeveral learning algorithms aim at discovering better representations of the inputs provided during training.',\n",
              " '[51] Classic examples include principal component analysis and cluster analysis.',\n",
              " 'Feature learning algorithms, also called representation learning algorithms, often attempt to preserve the information in their input but also transform it in a way that makes it useful, often as a pre-processing step before performing classification or predictions.',\n",
              " 'This technique allows reconstruction of the inputs coming from the unknown data-generating distribution, while not being necessarily faithful to configurations that are implausible under that distribution.',\n",
              " 'This replaces manual feature engineering, and allows a machine to both learn the features and use them to perform a specific task.',\n",
              " 'Feature learning can be either supervised or unsupervised.',\n",
              " 'In supervised feature learning, features are learned using labeled input data.',\n",
              " 'Examples include artificial neural networks, multilayer perceptrons, and supervised dictionary learning.',\n",
              " 'In unsupervised feature learning, features are learned with unlabeled input data.',\n",
              " 'Examples include dictionary learning, independent component analysis, autoencoders, matrix factorization[52] and various forms of clustering.',\n",
              " '[53][54][55]\\n\\nManifold learning algorithms attempt to do so under the constraint that the learned representation is low-dimensional.',\n",
              " 'Sparse coding algorithms attempt to do so under the constraint that the learned representation is sparse, meaning that the mathematical model has many zeros.',\n",
              " 'Multilinear subspace learning algorithms aim to learn low-dimensional representations directly from tensor representations for multidimensional data, without reshaping them into higher-dimensional vectors.',\n",
              " '[56] Deep learning algorithms discover multiple levels of representation, or a hierarchy of features, with higher-level, more abstract features defined in terms of (or generating) lower-level features.',\n",
              " 'It has been argued that an intelligent machine is one that learns a representation that disentangles the underlying factors of variation that explain the observed data.',\n",
              " '[57]\\n\\nFeature learning is motivated by the fact that machine learning tasks such as classification often require input that is mathematically and computationally convenient to process.',\n",
              " 'However, real-world data such as images, video, and sensory data has not yielded attempts to algorithmically define specific features.',\n",
              " 'An alternative is to discover such features or representations through examination, without relying on explicit algorithms.',\n",
              " 'Sparse dictionary learning is a feature learning method where a training example is represented as a linear combination of basis functions, and is assumed to be a sparse matrix.',\n",
              " 'The method is strongly NP-hard and difficult to solve approximately.',\n",
              " '[58] A popular heuristic method for sparse dictionary learning is the K-SVD algorithm.',\n",
              " 'Sparse dictionary learning has been applied in several contexts.',\n",
              " 'In classification, the problem is to determine the class to which a previously unseen training example belongs.',\n",
              " 'For a dictionary where each class has already been built, a new training example is associated with the class that is best sparsely represented by the corresponding dictionary.',\n",
              " 'Sparse dictionary learning has also been applied in image de-noising.',\n",
              " 'The key idea is that a clean image patch can be sparsely represented by an image dictionary, but the noise cannot.',\n",
              " '[59]\\n\\nIn data mining, anomaly detection, also known as outlier detection, is the identification of rare items, events or observations which raise suspicions by differing significantly from the majority of the data.',\n",
              " '[60] Typically, the anomalous items represent an issue such as bank fraud, a structural defect, medical problems or errors in a text.',\n",
              " 'Anomalies are referred to as outliers, novelties, noise, deviations and exceptions.',\n",
              " '[61]\\n\\nIn particular, in the context of abuse and network intrusion detection, the interesting objects are often not rare objects, but unexpected bursts of inactivity.',\n",
              " 'This pattern does not adhere to the common statistical definition of an outlier as a rare object.',\n",
              " 'Many outlier detection methods (in particular, unsupervised algorithms) will fail on such data unless aggregated appropriately.',\n",
              " 'Instead, a cluster analysis algorithm may be able to detect the micro-clusters formed by these patterns.',\n",
              " '[62]\\n\\nThree broad categories of anomaly detection techniques exist.',\n",
              " '[63] Unsupervised anomaly detection techniques detect anomalies in an unlabeled test data set under the assumption that the majority of the instances in the data set are normal, by looking for instances that seem to fit the least to the remainder of the data set.',\n",
              " 'Supervised anomaly detection techniques require a data set that has been labeled as \"normal\" and \"abnormal\" and involves training a classifier (the key difference to many other statistical classification problems is the inherently unbalanced nature of outlier detection).',\n",
              " 'Semi-supervised anomaly detection techniques construct a model representing normal behavior from a given normal training data set and then test the likelihood of a test instance to be generated by the model.',\n",
              " 'Robot learning is inspired by a multitude of machine learning methods, starting from supervised learning, reinforcement learning,[64][65] and finally meta-learning (e.g.',\n",
              " 'MAML).',\n",
              " 'Association rule learning is a rule-based machine learning method for discovering relationships between variables in large databases.',\n",
              " 'It is intended to identify strong rules discovered in databases using some measure of \"interestingness\".',\n",
              " '[66]\\n\\nRule-based machine learning is a general term for any machine learning method that identifies, learns, or evolves \"rules\" to store, manipulate or apply knowledge.',\n",
              " 'The defining characteristic of a rule-based machine learning algorithm is the identification and utilization of a set of relational rules that collectively represent the knowledge captured by the system.',\n",
              " 'This is in contrast to other machine learning algorithms that commonly identify a singular model that can be universally applied to any instance in order to make a prediction.',\n",
              " '[67] Rule-based machine learning approaches include learning classifier systems, association rule learning, and artificial immune systems.',\n",
              " 'Based on the concept of strong rules, Rakesh Agrawal, Tomasz Imieliński and Arun Swami introduced association rules for discovering regularities between products in large-scale transaction data recorded by point-of-sale (POS) systems in supermarkets.',\n",
              " '[68] For example, the rule found in the sales data of a supermarket would indicate that if a customer buys onions and potatoes together, they are likely to also buy hamburger meat.',\n",
              " 'Such information can be used as the basis for decisions about marketing activities such as promotional pricing or product placements.',\n",
              " 'In addition to market basket analysis, association rules are employed today in application areas including Web usage mining, intrusion detection, continuous production, and bioinformatics.',\n",
              " 'In contrast with sequence mining, association rule learning typically does not consider the order of items either within a transaction or across transactions.',\n",
              " 'Learning classifier systems (LCS) are a family of rule-based machine learning algorithms that combine a discovery component, typically a genetic algorithm, with a learning component, performing either supervised learning, reinforcement learning, or unsupervised learning.',\n",
              " 'They seek to identify a set of context-dependent rules that collectively store and apply knowledge in a piecewise manner in order to make predictions.',\n",
              " '[69]\\n\\nInductive logic programming (ILP) is an approach to rule learning using logic programming as a uniform representation for input examples, background knowledge, and hypotheses.',\n",
              " 'Given an encoding of the known background knowledge and a set of examples represented as a logical database of facts, an ILP system will derive a hypothesized logic program that entails all positive and no negative examples.',\n",
              " 'Inductive programming is a related field that considers any kind of programming language for representing hypotheses (and not only logic programming), such as functional programs.',\n",
              " 'Inductive logic programming is particularly useful in bioinformatics and natural language processing.',\n",
              " 'Gordon Plotkin and Ehud Shapiro laid the initial theoretical foundation for inductive machine learning in a logical setting.',\n",
              " '[70][71][72] Shapiro built their first implementation (Model Inference System) in 1981: a Prolog program that inductively inferred logic programs from positive and negative examples.',\n",
              " '[73] The term inductive here refers to philosophical induction, suggesting a theory to explain observed facts, rather than mathematical induction, proving a property for all members of a well-ordered set.',\n",
              " 'Performing machine learning can involve creating a model, which is trained on some training data and then can process additional data to make predictions.',\n",
              " 'Various types of models have been used and researched for machine learning systems.',\n",
              " 'Artificial neural networks (ANNs), or connectionist systems, are computing systems vaguely inspired by the biological neural networks that constitute animal brains.',\n",
              " 'Such systems \"learn\" to perform tasks by considering examples, generally without being programmed with any task-specific rules.',\n",
              " 'An ANN is a model based on a collection of connected units or nodes called \"artificial neurons\", which loosely model the neurons in a biological brain.',\n",
              " 'Each connection, like the synapses in a biological brain, can transmit information, a \"signal\", from one artificial neuron to another.',\n",
              " 'An artificial neuron that receives a signal can process it and then signal additional artificial neurons connected to it.',\n",
              " 'In common ANN implementations, the signal at a connection between artificial neurons is a real number, and the output of each artificial neuron is computed by some non-linear function of the sum of its inputs.',\n",
              " 'The connections between artificial neurons are called \"edges\".',\n",
              " 'Artificial neurons and edges typically have a weight that adjusts as learning proceeds.',\n",
              " 'The weight increases or decreases the strength of the signal at a connection.',\n",
              " 'Artificial neurons may have a threshold such that the signal is only sent if the aggregate signal crosses that threshold.',\n",
              " 'Typically, artificial neurons are aggregated into layers.',\n",
              " 'Different layers may perform different kinds of transformations on their inputs.',\n",
              " 'Signals travel from the first layer (the input layer) to the last layer (the output layer), possibly after traversing the layers multiple times.',\n",
              " 'The original goal of the ANN approach was to solve problems in the same way that a human brain would.',\n",
              " 'However, over time, attention moved to performing specific tasks, leading to deviations from biology.',\n",
              " 'Artificial neural networks have been used on a variety of tasks, including computer vision, speech recognition, machine translation, social network filtering, playing board and video games and medical diagnosis.',\n",
              " 'Deep learning consists of multiple hidden layers in an artificial neural network.',\n",
              " 'This approach tries to model the way the human brain processes light and sound into vision and hearing.',\n",
              " 'Some successful applications of deep learning are computer vision and speech recognition.',\n",
              " \"[74]\\n\\nDecision tree learning uses a decision tree as a predictive model to go from observations about an item (represented in the branches) to conclusions about the item's target value (represented in the leaves).\",\n",
              " 'It is one of the predictive modeling approaches used in statistics, data mining, and machine learning.',\n",
              " 'Tree models where the target variable can take a discrete set of values are called classification trees; in these tree structures, leaves represent class labels, and branches represent conjunctions of features that lead to those class labels.',\n",
              " 'Decision trees where the target variable can take continuous values (typically real numbers) are called regression trees.',\n",
              " 'In decision analysis, a decision tree can be used to visually and explicitly represent decisions and decision making.',\n",
              " 'In data mining, a decision tree describes data, but the resulting classification tree can be an input for decision-making.',\n",
              " 'Support-vector machines (SVMs), also known as support-vector networks, are a set of related supervised learning methods used for classification and regression.',\n",
              " 'Given a set of training examples, each marked as belonging to one of two categories, an SVM training algorithm builds a model that predicts whether a new example falls into one category.',\n",
              " '[75] An SVM training algorithm is a non-probabilistic, binary, linear classifier, although methods such as Platt scaling exist to use SVM in a probabilistic classification setting.',\n",
              " 'In addition to performing linear classification, SVMs can efficiently perform a non-linear classification using what is called the kernel trick, implicitly mapping their inputs into high-dimensional feature spaces.',\n",
              " 'Regression analysis encompasses a large variety of statistical methods to estimate the relationship between input variables and their associated features.',\n",
              " 'Its most common form is linear regression, where a single line is drawn to best fit the given data according to a mathematical criterion such as ordinary least squares.',\n",
              " 'The latter is often extended by regularization methods to mitigate overfitting and bias, as in ridge regression.',\n",
              " 'When dealing with non-linear problems, go-to models include polynomial regression (for example, used for trendline fitting in Microsoft Excel[76]), logistic regression (often used in statistical classification) or even kernel regression, which introduces non-linearity by taking advantage of the kernel trick to implicitly map input variables to higher-dimensional space.',\n",
              " 'A Bayesian network, belief network, or directed acyclic graphical model is a probabilistic graphical model that represents a set of random variables and their conditional independence with a directed acyclic graph (DAG).',\n",
              " 'For example, a Bayesian network could represent the probabilistic relationships between diseases and symptoms.',\n",
              " 'Given symptoms, the network can be used to compute the probabilities of the presence of various diseases.',\n",
              " 'Efficient algorithms exist that perform inference and learning.',\n",
              " 'Bayesian networks that model sequences of variables, like speech signals or protein sequences, are called dynamic Bayesian networks.',\n",
              " 'Generalizations of Bayesian networks that can represent and solve decision problems under uncertainty are called influence diagrams.',\n",
              " 'A Gaussian process is a stochastic process in which every finite collection of the random variables in the process has a multivariate normal distribution, and it relies on a pre-defined covariance function, or kernel, that models how pairs of points relate to each other depending on their locations.',\n",
              " 'Given a set of observed points, or input–output examples, the distribution of the (unobserved) output of a new point as function of its input data can be directly computed by looking like the observed points and the covariances between those points and the new, unobserved point.',\n",
              " 'Gaussian processes are popular surrogate models in Bayesian optimization used to do hyperparameter optimization.',\n",
              " 'A genetic algorithm (GA) is a search algorithm and heuristic technique that mimics the process of natural selection, using methods such as mutation and crossover to generate new genotypes in the hope of finding good solutions to a given problem.',\n",
              " 'In machine learning, genetic algorithms were used in the 1980s and 1990s.',\n",
              " '[78][79] Conversely, machine learning techniques have been used to improve the performance of genetic and evolutionary algorithms.',\n",
              " '[80]\\n\\nThe theory of belief functions, also referred to as evidence theory or Dempster–Shafer theory, is a general framework for reasoning with uncertainty, with understood connections to other frameworks such as probability, possibility and imprecise probability theories.',\n",
              " \"These theoretical frameworks can be thought of as a kind of learner and have some analogous properties of how evidence is combined (e.g., Dempster's rule of combination), just like how in a pmf-based Bayesian approach would combine probabilities.\",\n",
              " 'However, there are many caveats to these beliefs functions when compared to Bayesian approaches in order to incorporate ignorance and Uncertainty quantification.',\n",
              " \"These belief function approaches that are implemented within the machine learning domain typically leverage a fusion approach of various ensemble methods to better handle the learner's decision boundary, low samples, and ambiguous class issues that standard machine learning approach tend to have difficulty resolving.\",\n",
              " '[4][6][11] However, the computational complexity of these algorithms are dependent on the number of propositions (classes), and can lead a much higher computation time when compared to other machine learning approaches.',\n",
              " 'Typically, machine learning models require a high quantity of reliable data in order for the models to perform accurate predictions.',\n",
              " 'When training a machine learning model, machine learning engineers need to target and collect a large and representative sample of data.',\n",
              " 'Data from the training set can be as varied as a corpus of text, a collection of images, sensor data, and data collected from individual users of a service.',\n",
              " 'Overfitting is something to watch out for when training a machine learning model.',\n",
              " 'Trained models derived from biased or non-evaluated data can result in skewed or undesired predictions.',\n",
              " 'Bias models may result in detrimental outcomes thereby furthering the negative impacts on society or objectives.',\n",
              " 'Algorithmic bias is a potential result of data not being fully prepared for training.',\n",
              " 'Machine learning ethics is becoming a field of study and notably be integrated within machine learning engineering teams.',\n",
              " \"Federated learning is an adapted form of distributed artificial intelligence to training machine learning models that decentralizes the training process, allowing for users' privacy to be maintained by not needing to send their data to a centralized server.\",\n",
              " 'This also increases efficiency by decentralizing the training process to many devices.',\n",
              " \"For example, Gboard uses federated machine learning to train search query prediction models on users' mobile phones without having to send individual searches back to Google.\",\n",
              " '[81]\\n\\nThere are many applications for machine learning, including:\\n\\nIn 2006, the media-services provider Netflix held the first \"Netflix Prize\" competition to find a program to better predict user preferences and improve the accuracy of its existing Cinematch movie recommendation algorithm by at least 10%.',\n",
              " 'A joint team made up of researchers from AT&T Labs-Research in collaboration with the teams Big Chaos and Pragmatic Theory built an ensemble model to win the Grand Prize in 2009 for $1 million.',\n",
              " '[84] Shortly after the prize was awarded, Netflix realized that viewers\\' ratings were not the best indicators of their viewing patterns (\"everything is a recommendation\") and they changed their recommendation engine accordingly.',\n",
              " '[85] In 2010 The Wall Street Journal wrote about the firm Rebellion Research and their use of machine learning to predict the financial crisis.',\n",
              " '[86] In 2012, co-founder of Sun Microsystems, Vinod Khosla, predicted that 80% of medical doctors jobs would be lost in the next two decades to automated machine learning medical diagnostic software.',\n",
              " '[87] In 2014, it was reported that a machine learning algorithm had been applied in the field of art history to study fine art paintings and that it may have revealed previously unrecognized influences among artists.',\n",
              " '[88] In 2019 Springer Nature published the first research book created using machine learning.',\n",
              " '[89] In 2020, machine learning technology was used to help make diagnoses and aid researchers in developing a cure for COVID-19.',\n",
              " '[90] Machine learning was recently applied to predict the pro-environmental behavior of travelers.',\n",
              " \"[91] Recently, machine learning technology was also applied to optimize smartphone's performance and thermal behavior based on the user's interaction with the phone.\",\n",
              " '[92][93][94]\\n\\nAlthough machine learning has been transformative in some fields, machine-learning programs often fail to deliver expected results.',\n",
              " '[95][96][97] Reasons for this are numerous: lack of (suitable) data, lack of access to the data, data bias, privacy problems, badly chosen tasks and algorithms, wrong tools and people, lack of resources, and evaluation problems.',\n",
              " '[98]\\n\\nIn 2018, a self-driving car from Uber failed to detect a pedestrian, who was killed after a collision.',\n",
              " '[99] Attempts to use machine learning in healthcare with the IBM Watson system failed to deliver even after years of time and billions of dollars invested.',\n",
              " '[100][101]\\n\\nMachine learning has been used as a strategy to update the evidence related to a systematic review and increased reviewer burden related to the growth of biomedical literature.',\n",
              " 'While it has improved with training sets, it has not yet developed sufficiently to reduce the workload burden without limiting the necessary sensitivity for the findings research themselves.',\n",
              " '[102]\\n\\nMachine learning approaches in particular can suffer from different data biases.',\n",
              " 'A machine learning system trained specifically on current customers may not be able to predict the needs of new customer groups that are not represented in the training data.',\n",
              " 'When trained on human-made data, machine learning is likely to pick up the constitutional and unconscious biases already present in society.',\n",
              " '[103] Language models learned from data have been shown to contain human-like biases.',\n",
              " '[104][105] Machine learning systems used for criminal risk assessment have been found to be biased against black people.',\n",
              " '[106][107] In 2015, Google photos would often tag black people as gorillas,[108] and in 2018 this still was not well resolved, but Google reportedly was still using the workaround to remove all gorillas from the training data, and thus was not able to recognize real gorillas at all.',\n",
              " '[109] Similar issues with recognizing non-white people have been found in many other systems.',\n",
              " '[110] In 2016, Microsoft tested a chatbot that learned from Twitter, and it quickly picked up racist and sexist language.',\n",
              " '[111] Because of such challenges, the effective use of machine learning may take longer to be adopted in other domains.',\n",
              " '[112] Concern for fairness in machine learning, that is, reducing bias in machine learning and propelling its use for human good is increasingly expressed by artificial intelligence scientists, including Fei-Fei Li, who reminds engineers that \"There\\'s nothing artificial about AI...It\\'s inspired by people, it\\'s created by people, and—most importantly—it impacts people.',\n",
              " 'It is a powerful tool we are only just beginning to understand, and that is a profound responsibility.',\n",
              " '\"[113]\\n\\nExplainable AI (XAI), or Interpretable AI, or Explainable Machine Learning (XML), is artificial intelligence (AI) in which humans can understand the decisions or predictions made by the AI.',\n",
              " '[114] It contrasts with the \"black box\" concept in machine learning where even its designers cannot explain why an AI arrived at a specific decision.',\n",
              " '[115] By refining the mental models of users of AI-powered systems and dismantling their misconceptions, XAI promises to help users perform more effectively.',\n",
              " 'XAI may be an implementation of the social right to explanation.',\n",
              " 'Settling on a bad, overly complex theory gerrymandered to fit all the past training data is known as overfitting.',\n",
              " 'Many systems attempt to reduce overfitting by rewarding a theory in accordance with how well it fits the data but penalizing the theory in accordance with how complex the theory is.',\n",
              " 'Learners can also disappoint by \"learning the wrong lesson\".',\n",
              " 'A toy example is that an image classifier trained only on pictures of brown horses and black cats might conclude that all brown patches are likely to be horses.',\n",
              " 'A real-world example is that, unlike humans, current image classifiers often do not primarily make judgments from the spatial relationship between components of the picture, and they learn relationships between pixels that humans are oblivious to, but that still correlate with images of certain types of real objects.',\n",
              " 'Modifying these patterns on a legitimate image can result in \"adversarial\" images that the system misclassifies.',\n",
              " '[118][119]\\n\\nAdversarial vulnerabilities can also result in nonlinear systems, or from non-pattern perturbations.',\n",
              " 'Some systems are so brittle that changing a single adversarial pixel predictably induces misclassification.',\n",
              " '[citation needed] Machine learning models are often vulnerable to manipulation and/or evasion via adversarial machine learning.',\n",
              " '[120]\\n\\nResearchers have demonstrated how backdoors can be placed undetectably into classifying (e.g., for categories \"spam\" and well-visible \"not spam\" of posts) machine learning models which are often developed and/or trained by third parties.',\n",
              " 'Parties can change the classification of any input, including in cases for which a type of data/software transparency is provided, possibly including white-box access.',\n",
              " '[121][122][123]\\n\\nClassification of machine learning models can be validated by accuracy estimation techniques like the holdout method, which splits the data in a training and test set (conventionally 2/3 training set and 1/3 test set designation) and evaluates the performance of the training model on the test set.',\n",
              " 'In comparison, the K-fold-cross-validation method randomly partitions the data into K subsets and then K experiments are performed each respectively considering 1 subset for evaluation and the remaining K-1 subsets for training the model.',\n",
              " 'In addition to the holdout and cross-validation methods, bootstrap, which samples n instances with replacement from the dataset, can be used to assess model accuracy.',\n",
              " '[124]\\n\\nIn addition to overall accuracy, investigators frequently report sensitivity and specificity meaning True Positive Rate (TPR) and True Negative Rate (TNR) respectively.',\n",
              " 'Similarly, investigators sometimes report the false positive rate (FPR) as well as the false negative rate (FNR).',\n",
              " 'However, these rates are ratios that fail to reveal their numerators and denominators.',\n",
              " \"The total operating characteristic (TOC) is an effective method to express a model's diagnostic ability.\",\n",
              " \"TOC shows the numerators and denominators of the previously mentioned rates, thus TOC provides more information than the commonly used receiver operating characteristic (ROC) and ROC's associated area under the curve (AUC).\",\n",
              " '[125]\\n\\nMachine learning poses a host of ethical questions.',\n",
              " 'Systems that are trained on datasets collected with biases may exhibit these biases upon use (algorithmic bias), thus digitizing cultural prejudices.',\n",
              " \"[126] For example, in 1988, the UK's Commission for Racial Equality found that St. George's Medical School had been using a computer program trained from data of previous admissions staff and this program had denied nearly 60 candidates who were found to be either women or had non-European sounding names.\",\n",
              " '[103] Using job hiring data from a firm with racist hiring policies may lead to a machine learning system duplicating the bias by scoring job applicants by similarity to previous successful applicants.',\n",
              " '[127][128] Responsible collection of data and documentation of algorithmic rules used by a system thus is a critical part of machine learning.',\n",
              " 'AI can be well-equipped to make decisions in technical fields, which rely heavily on data and historical information.',\n",
              " 'These decisions rely on objectivity and logical reasoning.',\n",
              " '[129] Because human languages contain biases, machines trained on language corpora will necessarily also learn these biases.',\n",
              " '[130][131]\\n\\nOther forms of ethical challenges, not related to personal biases, are seen in health care.',\n",
              " \"There are concerns among health care professionals that these systems might not be designed in the public's interest but as income-generating machines.\",\n",
              " '[132] This is especially true in the United States where there is a long-standing ethical dilemma of improving health care, but also increasing profits.',\n",
              " \"For example, the algorithms could be designed to provide patients with unnecessary tests or medication in which the algorithm's proprietary owners hold stakes.\",\n",
              " 'There is potential for machine learning in health care to provide professionals an additional tool to diagnose, medicate, and plan recovery paths for patients, but this requires these biases to be mitigated.',\n",
              " '[133]\\n\\nSince the 2010s, advances in both machine learning algorithms and computer hardware have led to more efficient methods for training deep neural networks (a particular narrow subdomain of machine learning) that contain many layers of non-linear hidden units.',\n",
              " '[134] By 2019, graphic processing units (GPUs), often with AI-specific enhancements, had displaced CPUs as the dominant method of training large-scale commercial cloud AI.',\n",
              " '[135] OpenAI estimated the hardware computing used in the largest deep learning projects from AlexNet (2012) to AlphaZero (2017), and found a 300,000-fold increase in the amount of compute required, with a doubling-time trendline of 3.4 months.',\n",
              " '[136][137]\\n\\nA physical neural network or Neuromorphic computer is a type of artificial neural network in which an electrically adjustable material is used to emulate the function of a neural synapse.',\n",
              " '\"Physical\" neural network is used to emphasize the reliance on physical hardware used to emulate neurons as opposed to software-based approaches.',\n",
              " 'More generally the term is applicable to other artificial neural networks in which a memristor or other electrically adjustable resistance material is used to emulate a neural synapse.',\n",
              " '[138][139]\\n\\nEmbedded Machine Learning is a sub-field of machine learning, where the machine learning model is run on embedded systems with limited computing resources such as wearable computers, edge devices and microcontrollers.',\n",
              " '[140][141][142] Running machine learning model in embedded devices removes the need for transferring and storing data on cloud servers for further processing, henceforth, reducing data breaches and privacy leaks happening because of transferring data, and also minimizes theft of intellectual properties, personal data and business secrets.',\n",
              " 'Embedded Machine Learning could be applied through several techniques including hardware acceleration,[143][144] using approximate computing,[145] optimization of machine learning models and many more.',\n",
              " '[146][147]\\n\\nSoftware suites containing a variety of machine learning algorithms include the following:\\n• European Conference on Machine Learning and Principles and Practice of Knowledge Discovery in Databases (ECML PKDD)\\n• International Conference on Computational Intelligence Methods for Bioinformatics and Biostatistics (CIBB)\\n• Automated machine learning – Process of automating the application of machine learning\\n• Big data – information assets characterized by such a high volume, velocity, and variety to require specific technology and analytical methods for its transformation into value\\n• None Domingos, Pedro (September 22, 2015).',\n",
              " 'The Master Algorithm: How the Quest for the Ultimate Learning Machine Will Remake Our World.',\n",
              " 'Basic Books.',\n",
              " 'ISBN .',\n",
              " '• None Nilsson, Nils (1998).',\n",
              " '.',\n",
              " 'Morgan Kaufmann.',\n",
              " 'ISBN .',\n",
              " 'Archived from the original on 26 July 2020 .',\n",
              " '• None Poole, David; Mackworth, Alan; Goebel, Randy (1998).',\n",
              " 'Computational Intelligence: A Logical Approach.',\n",
              " 'New York: Oxford University Press.',\n",
              " 'ISBN .',\n",
              " 'Archived from the original on 26 July 2020 .',\n",
              " '• mloss is an academic database of open-source machine learning software.']"
            ]
          },
          "metadata": {},
          "execution_count": 40
        }
      ]
    },
    {
      "cell_type": "markdown",
      "source": [
        "Score Sentences"
      ],
      "metadata": {
        "id": "TpzXq9gGCCf3"
      }
    },
    {
      "cell_type": "code",
      "source": [
        "score_sentences1={}\n",
        "for sentence in sentence_list1:\n",
        "  #print(sentence)\n",
        "  for word in nltk.word_tokenize(sentence.lower()):\n",
        "   #print(word)\n",
        "   if sentence not in score_sentences1.keys():\n",
        "    score_sentences1[sentence]=word_frequency1[word]\n",
        "   else:\n",
        "    score_sentences1[sentence] += word_frequency1[word]"
      ],
      "metadata": {
        "id": "aB3Fh7ytCBve"
      },
      "execution_count": null,
      "outputs": []
    },
    {
      "cell_type": "code",
      "source": [
        "score_sentences1"
      ],
      "metadata": {
        "colab": {
          "base_uri": "https://localhost:8080/"
        },
        "id": "SWceBIO0DUxW",
        "outputId": "4f03389b-aa9d-4e25-f3f0-397c1d82a4aa"
      },
      "execution_count": null,
      "outputs": [
        {
          "output_type": "execute_result",
          "data": {
            "text/plain": [
              "{'Natural language processing (NLP) is an interdisciplinary subfield of computer science and linguistics.': 4.666666666666666,\n",
              " 'It is primarily concerned with giving computers the ability to support and manipulate speech.': 2.9999999999999996,\n",
              " 'It involves processing natural language datasets, such as text corpora or speech corpora, using either rule-based or probabilistic statistical and, most recently, neural network-based) machine learning approaches.': 9.0,\n",
              " 'The goal is a computer capable of understanding the contents of documents, including the contextual nuances of the language within them.': 5.333333333333333,\n",
              " 'The technology can then accurately extract information and insights contained in the documents as well as categorize and organize the documents themselves.': 5.0}"
            ]
          },
          "metadata": {},
          "execution_count": 42
        }
      ]
    },
    {
      "cell_type": "code",
      "source": [
        "score_sentences1.keys()"
      ],
      "metadata": {
        "colab": {
          "base_uri": "https://localhost:8080/"
        },
        "id": "04rpiZ9KE-In",
        "outputId": "688b8ec2-3cf4-4502-906c-41182ccba797"
      },
      "execution_count": null,
      "outputs": [
        {
          "output_type": "execute_result",
          "data": {
            "text/plain": [
              "dict_keys(['Natural language processing (NLP) is an interdisciplinary subfield of computer science and linguistics.', 'It is primarily concerned with giving computers the ability to support and manipulate speech.', 'It involves processing natural language datasets, such as text corpora or speech corpora, using either rule-based or probabilistic statistical and, most recently, neural network-based) machine learning approaches.', 'The goal is a computer capable of understanding the contents of documents, including the contextual nuances of the language within them.', 'The technology can then accurately extract information and insights contained in the documents as well as categorize and organize the documents themselves.'])"
            ]
          },
          "metadata": {},
          "execution_count": 43
        }
      ]
    },
    {
      "cell_type": "code",
      "source": [
        "import heapq\n",
        "best_sentence_english=heapq.nlargest(3,score_sentences1, key= score_sentences1.get )"
      ],
      "metadata": {
        "id": "JRiMlqXdGJjF"
      },
      "execution_count": null,
      "outputs": []
    },
    {
      "cell_type": "code",
      "source": [
        "best_sentence_english"
      ],
      "metadata": {
        "colab": {
          "base_uri": "https://localhost:8080/"
        },
        "id": "ke4WcQ-JGkVs",
        "outputId": "8e22b8df-99e3-4135-a0e3-f96d8d2e6b84"
      },
      "execution_count": null,
      "outputs": [
        {
          "output_type": "execute_result",
          "data": {
            "text/plain": [
              "['It involves processing natural language datasets, such as text corpora or speech corpora, using either rule-based or probabilistic statistical and, most recently, neural network-based) machine learning approaches.',\n",
              " 'The goal is a computer capable of understanding the contents of documents, including the contextual nuances of the language within them.',\n",
              " 'The technology can then accurately extract information and insights contained in the documents as well as categorize and organize the documents themselves.']"
            ]
          },
          "metadata": {},
          "execution_count": 45
        }
      ]
    },
    {
      "cell_type": "code",
      "source": [
        "summary1=' '.join(best_sentence_english)\n",
        "summary1"
      ],
      "metadata": {
        "colab": {
          "base_uri": "https://localhost:8080/",
          "height": 90
        },
        "id": "Uu6dXLknHOMd",
        "outputId": "50bd9ac6-0142-44ed-c45a-ec23556fac73"
      },
      "execution_count": null,
      "outputs": [
        {
          "output_type": "execute_result",
          "data": {
            "text/plain": [
              "'It involves processing natural language datasets, such as text corpora or speech corpora, using either rule-based or probabilistic statistical and, most recently, neural network-based) machine learning approaches. The goal is a computer capable of understanding the contents of documents, including the contextual nuances of the language within them. The technology can then accurately extract information and insights contained in the documents as well as categorize and organize the documents themselves.'"
            ],
            "application/vnd.google.colaboratory.intrinsic+json": {
              "type": "string"
            }
          },
          "metadata": {},
          "execution_count": 46
        }
      ]
    },
    {
      "cell_type": "code",
      "source": [
        "score_sentences2={}\n",
        "for sentence in sentence_list2:\n",
        "  #print(sentence)\n",
        "  for word in nltk.word_tokenize(sentence.lower()):\n",
        "   #print(word)\n",
        "   if sentence not in score_sentences2.keys():\n",
        "    score_sentences2[sentence]=word_frequency2[word]\n",
        "   else:\n",
        "    score_sentences2[sentence] += word_frequency2[word]"
      ],
      "metadata": {
        "id": "hYHcgdhnEDg_"
      },
      "execution_count": null,
      "outputs": []
    },
    {
      "cell_type": "code",
      "source": [
        "score_sentences2"
      ],
      "metadata": {
        "colab": {
          "base_uri": "https://localhost:8080/"
        },
        "id": "37lKS3ADDxfv",
        "outputId": "b1351d38-3657-431e-e042-ccaea950cb77"
      },
      "execution_count": null,
      "outputs": [
        {
          "output_type": "execute_result",
          "data": {
            "text/plain": [
              "{'চারদিকে পাহাড়ঘেরা উপত্যকার মাঝে ছিল অপূর্ব সুন্দর এক সরোবর।': 1.375,\n",
              " 'সেই সরোবরের তীরে প্রতি বছর গ্রীষ্মকালে বেড়াতে আসে সাত পরি, সাত বোন।': 3.25,\n",
              " 'তারা ডানাগুলো একটা গাছের তলায় রেখে পানিতে আনন্দ করে বেড়ায়।': 3.0,\n",
              " 'জনশূন্য চারপাশ।': 0.125,\n",
              " 'ঠিক সাত দিন ধরে আনন্দ করে আবার ডানাগুলো পরে উড়ে যায় তাদের নিজের দেশে।': 4.375,\n",
              " 'এদিকে কাছাকাছি যে কিছু গ্রাম আছে সে খবর তারা না রাখলেও পরিদের সব খবর রাখে সেই গ্রামেরই এক রাখাল ছেলে।': 6.5,\n",
              " 'সে গরু চরায়, বাঁশি বাজায় আর দূর থেকে দেখতে থাকে পরিদের কাণ্ডকারখানা।': 4.875,\n",
              " 'একসময় তার খুব ভালো লেগে যায় সবচেয়ে ছোট পরিটিকে।': 2.25,\n",
              " 'কী অপরূপ মিষ্টি চেহারা!': 0.75,\n",
              " 'ওকে দেখলেই রাখালের বাঁশিতে বেজে ওঠে স্বর্গীয় সব সুর।': 1.5,\n",
              " 'দূর থেকে পরিরা তা শোনে আর অবাক হয়ে ভাবে এমন সুন্দর সুর কে বাজায়।': 4.125,\n",
              " 'এ সুর তো তাদের দেশের পাখিদেরও অজানা!': 1.875,\n",
              " 'তারা মুগ্ধ হয়ে শোনে, কিন্তু রাখাল থাকে আড়ালে, তাকে কেউ দেখতে পায় না।': 3.75,\n",
              " 'একবার হলো কী, রাখালের মাথায় একটি দুষ্টবুদ্ধি জাগল।': 1.625,\n",
              " 'পরিরা যখন স্নানে ব্যস্ত, সে চুপিচুপি এসে দাঁড়াল সেই গাছতলায়, যেখানে খুলে রাখা আছে পরিদের ডানাগুলো।': 3.25,\n",
              " 'বেছে বেছে সবচেয়ে ছোট ডানাজোড়া নিয়ে সে লুকিয়ে রেখে দিল একটা বড় গাছের ফোকরে।': 4.25,\n",
              " 'তারপর ধীরে ধীরে সরে পড়ল সেখান থেকে।': 1.25,\n",
              " 'সাত দিন পরে পরিদের যাওয়ার সময় হলে দেখা গেল তাদের ছোট বোনের ডানাজোড়া নেই।': 4.5,\n",
              " 'অনেক খোঁজাখুঁজি করেও তারা সেটা পেল না।': 1.125,\n",
              " 'এদিকে বাবার কড়া হুকুম, এক সপ্তাহের বেশি তাদের স্বর্গ ছেড়ে থাকা চলবে না।': 2.5,\n",
              " 'কী করবে ভেবে না পেয়ে সবচেয়ে বড় পরি ছোট বোনকে বুঝিয়ে বলল, ‘উপায় নেইরে বোন, আমাদের যেতেই হবে।': 5.375,\n",
              " 'আর গেলে পরের বছরের আগে আর আসতে পারব না।': 2.25,\n",
              " 'তুই বরং এখানে থেকে ডানা জোড়া ভালো করে খুঁজে দেখ।': 2.125,\n",
              " 'পেলেই দেশে চলে আসিস, কেমন।': 0.75,\n",
              " \"আমরা বাবাকে বুঝিয়ে বলব তিনি যেন রাগ না করেন।'\": 2.0,\n",
              " 'ছয় পরি ছোট বোনকে একা সরোবরের তীরে ফেলে রেখে উড়ে চলে গেল।': 3.5,\n",
              " 'বেচারি ছোট পরি মনের দুঃখে বসে বসে কাঁদতে লাগল।': 2.625,\n",
              " 'তাকে ওভাবে কাঁদতে দেখে রাখাল সাহস করে আড়াল থেকে বেরিয়ে এলো।': 3.5,\n",
              " 'সব শুনে সে তাকে নিজের বাসায় নিয়ে গেল।': 2.25,\n",
              " 'তারপর অনেকক্ষণ ধরে বাঁশি বাজিয়ে শোনাল।': 1.25,\n",
              " 'এই রাখালের বাঁশিই যে তাকে দূর থেকে এত আনন্দ দিয়েছে ভেবে পরির খুব ভালো লাগল।': 4.0,\n",
              " 'তাদের বন্ধুত্ব হতে দেরি হলো না।': 1.375,\n",
              " 'রাখাল আর পরি গ্রামের একপ্রান্তে একটি কুঁড়েঘরে থাকে।': 3.0,\n",
              " 'একত্রে গরু চরায়।': 0.375,\n",
              " 'রাখাল বাঁশি বাজায় আর পরি ঘাঘরা উড়িয়ে নাচে।': 3.25,\n",
              " 'দেখে গ্রামের লোকেরা ঠিক করল, এদের বিয়ে হওয়া উচিত।': 1.5,\n",
              " 'রাখাল তো রাজি ছিলই, পরিও রাজি হয়ে গেল।': 2.25,\n",
              " 'তারপর একদিন বেশ একটা উৎসবের মধ্য দিয়ে তাদের বিয়ে হয়ে গেল।': 2.875}"
            ]
          },
          "metadata": {},
          "execution_count": 48
        }
      ]
    },
    {
      "cell_type": "code",
      "source": [
        "score_sentences2.keys()"
      ],
      "metadata": {
        "colab": {
          "base_uri": "https://localhost:8080/"
        },
        "id": "FuiFZR5bFEuF",
        "outputId": "316514a3-e6ed-4d1b-be02-c25dde7e3f6c"
      },
      "execution_count": null,
      "outputs": [
        {
          "output_type": "execute_result",
          "data": {
            "text/plain": [
              "dict_keys(['চারদিকে পাহাড়ঘেরা উপত্যকার মাঝে ছিল অপূর্ব সুন্দর এক সরোবর।', 'সেই সরোবরের তীরে প্রতি বছর গ্রীষ্মকালে বেড়াতে আসে সাত পরি, সাত বোন।', 'তারা ডানাগুলো একটা গাছের তলায় রেখে পানিতে আনন্দ করে বেড়ায়।', 'জনশূন্য চারপাশ।', 'ঠিক সাত দিন ধরে আনন্দ করে আবার ডানাগুলো পরে উড়ে যায় তাদের নিজের দেশে।', 'এদিকে কাছাকাছি যে কিছু গ্রাম আছে সে খবর তারা না রাখলেও পরিদের সব খবর রাখে সেই গ্রামেরই এক রাখাল ছেলে।', 'সে গরু চরায়, বাঁশি বাজায় আর দূর থেকে দেখতে থাকে পরিদের কাণ্ডকারখানা।', 'একসময় তার খুব ভালো লেগে যায় সবচেয়ে ছোট পরিটিকে।', 'কী অপরূপ মিষ্টি চেহারা!', 'ওকে দেখলেই রাখালের বাঁশিতে বেজে ওঠে স্বর্গীয় সব সুর।', 'দূর থেকে পরিরা তা শোনে আর অবাক হয়ে ভাবে এমন সুন্দর সুর কে বাজায়।', 'এ সুর তো তাদের দেশের পাখিদেরও অজানা!', 'তারা মুগ্ধ হয়ে শোনে, কিন্তু রাখাল থাকে আড়ালে, তাকে কেউ দেখতে পায় না।', 'একবার হলো কী, রাখালের মাথায় একটি দুষ্টবুদ্ধি জাগল।', 'পরিরা যখন স্নানে ব্যস্ত, সে চুপিচুপি এসে দাঁড়াল সেই গাছতলায়, যেখানে খুলে রাখা আছে পরিদের ডানাগুলো।', 'বেছে বেছে সবচেয়ে ছোট ডানাজোড়া নিয়ে সে লুকিয়ে রেখে দিল একটা বড় গাছের ফোকরে।', 'তারপর ধীরে ধীরে সরে পড়ল সেখান থেকে।', 'সাত দিন পরে পরিদের যাওয়ার সময় হলে দেখা গেল তাদের ছোট বোনের ডানাজোড়া নেই।', 'অনেক খোঁজাখুঁজি করেও তারা সেটা পেল না।', 'এদিকে বাবার কড়া হুকুম, এক সপ্তাহের বেশি তাদের স্বর্গ ছেড়ে থাকা চলবে না।', 'কী করবে ভেবে না পেয়ে সবচেয়ে বড় পরি ছোট বোনকে বুঝিয়ে বলল, ‘উপায় নেইরে বোন, আমাদের যেতেই হবে।', 'আর গেলে পরের বছরের আগে আর আসতে পারব না।', 'তুই বরং এখানে থেকে ডানা জোড়া ভালো করে খুঁজে দেখ।', 'পেলেই দেশে চলে আসিস, কেমন।', \"আমরা বাবাকে বুঝিয়ে বলব তিনি যেন রাগ না করেন।'\", 'ছয় পরি ছোট বোনকে একা সরোবরের তীরে ফেলে রেখে উড়ে চলে গেল।', 'বেচারি ছোট পরি মনের দুঃখে বসে বসে কাঁদতে লাগল।', 'তাকে ওভাবে কাঁদতে দেখে রাখাল সাহস করে আড়াল থেকে বেরিয়ে এলো।', 'সব শুনে সে তাকে নিজের বাসায় নিয়ে গেল।', 'তারপর অনেকক্ষণ ধরে বাঁশি বাজিয়ে শোনাল।', 'এই রাখালের বাঁশিই যে তাকে দূর থেকে এত আনন্দ দিয়েছে ভেবে পরির খুব ভালো লাগল।', 'তাদের বন্ধুত্ব হতে দেরি হলো না।', 'রাখাল আর পরি গ্রামের একপ্রান্তে একটি কুঁড়েঘরে থাকে।', 'একত্রে গরু চরায়।', 'রাখাল বাঁশি বাজায় আর পরি ঘাঘরা উড়িয়ে নাচে।', 'দেখে গ্রামের লোকেরা ঠিক করল, এদের বিয়ে হওয়া উচিত।', 'রাখাল তো রাজি ছিলই, পরিও রাজি হয়ে গেল।', 'তারপর একদিন বেশ একটা উৎসবের মধ্য দিয়ে তাদের বিয়ে হয়ে গেল।'])"
            ]
          },
          "metadata": {},
          "execution_count": 49
        }
      ]
    },
    {
      "cell_type": "code",
      "source": [
        "import heapq\n",
        "best_sentence_bengali=heapq.nlargest(4,score_sentences2, key= score_sentences2.get )"
      ],
      "metadata": {
        "id": "z_0MBQThGtNN"
      },
      "execution_count": null,
      "outputs": []
    },
    {
      "cell_type": "markdown",
      "source": [],
      "metadata": {
        "id": "rdOkig4UVCcK"
      }
    },
    {
      "cell_type": "code",
      "source": [
        "best_sentence_bengali"
      ],
      "metadata": {
        "colab": {
          "base_uri": "https://localhost:8080/"
        },
        "id": "CrkuV4eKG0KM",
        "outputId": "01811f5d-951e-4224-de73-c7b171bd352a"
      },
      "execution_count": null,
      "outputs": [
        {
          "output_type": "execute_result",
          "data": {
            "text/plain": [
              "['এদিকে কাছাকাছি যে কিছু গ্রাম আছে সে খবর তারা না রাখলেও পরিদের সব খবর রাখে সেই গ্রামেরই এক রাখাল ছেলে।',\n",
              " 'কী করবে ভেবে না পেয়ে সবচেয়ে বড় পরি ছোট বোনকে বুঝিয়ে বলল, ‘উপায় নেইরে বোন, আমাদের যেতেই হবে।',\n",
              " 'সে গরু চরায়, বাঁশি বাজায় আর দূর থেকে দেখতে থাকে পরিদের কাণ্ডকারখানা।',\n",
              " 'সাত দিন পরে পরিদের যাওয়ার সময় হলে দেখা গেল তাদের ছোট বোনের ডানাজোড়া নেই।']"
            ]
          },
          "metadata": {},
          "execution_count": 109
        }
      ]
    },
    {
      "cell_type": "code",
      "source": [
        "summary2=' '.join(best_sentence_bengali)\n",
        "summary2"
      ],
      "metadata": {
        "colab": {
          "base_uri": "https://localhost:8080/",
          "height": 72
        },
        "id": "qUDLrpu8Hdl0",
        "outputId": "515ca572-5efe-44ee-bf58-f24753f5eac4"
      },
      "execution_count": null,
      "outputs": [
        {
          "output_type": "execute_result",
          "data": {
            "text/plain": [
              "'এদিকে কাছাকাছি যে কিছু গ্রাম আছে সে খবর তারা না রাখলেও পরিদের সব খবর রাখে সেই গ্রামেরই এক রাখাল ছেলে। কী করবে ভেবে না পেয়ে সবচেয়ে বড় পরি ছোট বোনকে বুঝিয়ে বলল, ‘উপায় নেইরে বোন, আমাদের যেতেই হবে। সে গরু চরায়, বাঁশি বাজায় আর দূর থেকে দেখতে থাকে পরিদের কাণ্ডকারখানা। সাত দিন পরে পরিদের যাওয়ার সময় হলে দেখা গেল তাদের ছোট বোনের ডানাজোড়া নেই।'"
            ],
            "application/vnd.google.colaboratory.intrinsic+json": {
              "type": "string"
            }
          },
          "metadata": {},
          "execution_count": 110
        }
      ]
    },
    {
      "cell_type": "code",
      "source": [
        "score_sentences3={}\n",
        "for sentence in sentence_list3:\n",
        "  #print(sentence)\n",
        "  for word in nltk.word_tokenize(sentence.lower()):\n",
        "   #print(word)\n",
        "   if sentence not in score_sentences3.keys():\n",
        "    score_sentences3[sentence]=word_frequency3[word]\n",
        "   else:\n",
        "    score_sentences3[sentence] += word_frequency3[word]"
      ],
      "metadata": {
        "id": "dgIGHdd-EYQ1"
      },
      "execution_count": null,
      "outputs": []
    },
    {
      "cell_type": "code",
      "source": [
        "score_sentences3"
      ],
      "metadata": {
        "colab": {
          "base_uri": "https://localhost:8080/"
        },
        "id": "ZMx0QbiJEmtt",
        "outputId": "e6f98790-cc08-481f-91c5-54c64519c962"
      },
      "execution_count": null,
      "outputs": [
        {
          "output_type": "execute_result",
          "data": {
            "text/plain": [
              "{'Study of algorithms that improve automatically through experience\\n\\nMachine learning (ML) is an umbrella term for solving problems for which development of algorithms by human programmers would be cost-prohibitive, and instead the problems are solved by helping machines \"discover\" their \"own\" algorithms,[1] without needing to be explicitly told what to do by any human-developed algorithms.': 3.7968749999999996,\n",
              " '[2] Recently, generative artificial neural networks have been able to surpass results of many previous approaches.': 0.5781249999999999,\n",
              " '[3][4] Machine-learning approaches have been applied to large language models, computer vision, speech recognition, email filtering, agriculture and medicine, where it is too costly to develop algorithms to perform the needed tasks.': 0.8958333333333334,\n",
              " '[5][6]\\n\\nThe mathematical foundations of ML are provided by mathematical optimization (mathematical programming) methods.': 0.4583333333333333,\n",
              " 'Data mining is a related (parallel) field of study, focusing on exploratory data analysis through unsupervised learning.': 2.4114583333333335,\n",
              " '[8][9]\\n\\nML is known in its application across business problems under the name predictive analytics.': 0.2708333333333333,\n",
              " \"Although not all machine learning is statistically based, computational statistics is an important source of the field's methods.\": 2.0885416666666665,\n",
              " 'History and relationships to other fields\\n\\nThe term machine learning was coined in 1959 by Arthur Samuel, an IBM employee and pioneer in the field of computer gaming and artificial intelligence.': 2.0624999999999996,\n",
              " '[10][11] The synonym self-teaching computers was also used in this time period.': 0.4166666666666667,\n",
              " '[12][13]\\n\\nBy the early 1960s an experimental \"learning machine\" with punched tape memory, called Cybertron, had been developed by Raytheon Company to analyze sonar signals, electrocardiograms, and speech patterns using rudimentary reinforcement learning.': 3.338541666666667,\n",
              " 'It was repetitively \"trained\" by a human operator/teacher to recognize patterns and equipped with a \"goof\" button to cause it to re-evaluate incorrect decisions.': 0.9687500000000001,\n",
              " \"[14] A representative book on research into machine learning during the 1960s was Nilsson's book on Learning Machines, dealing mostly with machine learning for pattern classification.\": 4.546874999999999,\n",
              " '[15] Interest related to pattern recognition continued into the 1970s, as described by Duda and Hart in 1973.': 0.1822916666666667,\n",
              " '[16] In 1981 a report was given on using teaching strategies so that a neural network learns to recognize 40 characters (26 letters, 10 digits, and 4 special symbols) from a computer terminal.': 0.5468749999999999,\n",
              " '[17]\\n\\nTom M. Mitchell provided a widely quoted, more formal definition of the algorithms studied in the machine learning field: \"A computer program is said to learn from experience E with respect to some class of tasks T and performance measure P if its performance at tasks in T, as measured by P, improves with experience E.\"[18] This definition of the tasks in which machine learning is concerned offers a fundamentally operational definition rather than defining the field in cognitive terms.': 4.739583333333331,\n",
              " 'This follows Alan Turing\\'s proposal in his paper \"Computing Machinery and Intelligence\", in which the question \"Can machines think?\"': 0.9739583333333335,\n",
              " 'is replaced with the question \"Can machines do what we (as thinking entities) can do?\".': 0.8020833333333334,\n",
              " '[19]\\n\\nModern-day machine learning has two objectives, one is to classify data based on models which have been developed, the other purpose is to make predictions for future outcomes based on these models.': 2.770833333333333,\n",
              " 'A hypothetical algorithm specific to classifying data may use computer vision of moles coupled with supervised learning in order to train it to classify the cancerous moles.': 2.067708333333333,\n",
              " 'A machine learning algorithm for stock trading may inform the trader of future potential predictions.': 1.880208333333333,\n",
              " '[20]\\n\\nAs a scientific endeavor, machine learning grew out of the quest for artificial intelligence (AI).': 1.8854166666666665,\n",
              " 'In the early days of AI as an academic discipline, some researchers were interested in having machines learn from data.': 0.7708333333333333,\n",
              " 'They attempted to approach the problem with various symbolic methods, as well as what were then termed \"neural networks\"; these were mostly perceptrons and other models that were later found to be reinventions of the generalized linear models of statistics.': 1.2447916666666665,\n",
              " '[22] Probabilistic reasoning was also employed, especially in automated medical diagnosis.': 0.28125,\n",
              " '[23]: 488\\n\\nHowever, an increasing emphasis on the logical, knowledge-based approach caused a rift between AI and machine learning.': 1.8489583333333335,\n",
              " 'Probabilistic systems were plagued by theoretical and practical problems of data acquisition and representation.': 0.8281250000000001,\n",
              " '[23]: 488 By 1980, expert systems had come to dominate AI, and statistics was out of favor.': 0.33854166666666663,\n",
              " '[24] Work on symbolic/knowledge-based learning did continue within AI, leading to inductive logic programming, but the more statistical line of research was now outside the field of AI proper, in pattern recognition and information retrieval.': 1.7083333333333333,\n",
              " '[23]: 708–710, 755 Neural networks research had been abandoned by AI and computer science around the same time.': 0.5104166666666666,\n",
              " 'This line, too, was continued outside the AI/CS field, as \"connectionism\", by researchers from other disciplines including Hopfield, Rumelhart, and Hinton.': 0.6197916666666666,\n",
              " 'Their main success came in the mid-1980s with the reinvention of backpropagation.': 0.057291666666666664,\n",
              " '[23]: 25\\n\\nMachine learning (ML), reorganized and recognized as its own field, started to flourish in the 1990s.': 1.7604166666666665,\n",
              " 'The field changed its goal from achieving artificial intelligence to tackling solvable problems of a practical nature.': 0.4739583333333333,\n",
              " 'It shifted focus away from the symbolic approaches it had inherited from AI, and toward methods and models borrowed from statistics, fuzzy logic, and probability theory.': 0.6874999999999999,\n",
              " '[24]\\n\\nMachine learning and data mining often employ the same methods and overlap significantly, but while machine learning focuses on prediction, based on known properties learned from the training data, data mining focuses on the discovery of (previously) unknown properties in the data (this is the analysis step of knowledge discovery in databases).': 6.25,\n",
              " 'Data mining uses many machine learning methods, but with different goals; on the other hand, machine learning also employs data mining methods as \"unsupervised learning\" or as a preprocessing step to improve learner accuracy.': 6.322916666666667,\n",
              " 'Much of the confusion between these two research communities (which do often have separate conferences and separate journals, ECML PKDD being a major exception) comes from the basic assumptions they work with: in machine learning, performance is usually evaluated with respect to the ability to reproduce known knowledge, while in knowledge discovery and data mining (KDD) the key task is the discovery of previously unknown knowledge.': 2.973958333333333,\n",
              " 'Evaluated with respect to known knowledge, an uninformed (unsupervised) method will easily be outperformed by other supervised methods, while in a typical KDD task, supervised methods cannot be used due to the unavailability of training data.': 1.7135416666666667,\n",
              " 'Machine learning also has intimate ties to optimization: many learning problems are formulated as minimization of some loss function on a training set of examples.': 3.505208333333334,\n",
              " 'Loss functions express the discrepancy between the predictions of the model being trained and the actual problem instances (for example, in classification, one wants to assign a label to instances, and models are trained to correctly predict the pre-assigned labels of a set of examples).': 1.3177083333333333,\n",
              " '[25]\\n\\nThe difference between optimization and machine learning arises from the goal of generalization: while optimization algorithms can minimize the loss on a training set, machine learning is concerned with minimizing the loss on unseen samples.': 4.078125,\n",
              " 'Characterizing the generalization of various learning algorithms is an active topic of current research, especially for deep learning algorithms.': 2.692708333333333,\n",
              " 'Machine learning and statistics are closely related fields in terms of methods, but distinct in their principal goal: statistics draws population inferences from a sample, while machine learning finds generalizable predictive patterns.': 3.6510416666666665,\n",
              " '[26] According to Michael I. Jordan, the ideas of machine learning, from methodological principles to theoretical tools, have had a long pre-history in statistics.': 1.7604166666666665,\n",
              " '[27] He also suggested the term data science as a placeholder to call the overall field.': 0.8072916666666666,\n",
              " '[27]\\n\\nConventional statistical analyses require the a priori selection of a model most suitable for the study data set.': 1.046875,\n",
              " 'In addition, only significant or theoretically relevant variables based on previous experience are included for analysis.': 0.3072916666666667,\n",
              " 'In contrast, machine learning is not built on a pre-structured model; rather, the data shape the model by detecting underlying patterns.': 2.6354166666666665,\n",
              " 'The more variables (input) used to train the model, the more accurate the ultimate model will be.': 0.8124999999999999,\n",
              " '[28]\\n\\nLeo Breiman distinguished two statistical modeling paradigms: data model and algorithmic model,[29] wherein \"algorithmic model\" means more or less the machine learning algorithms like Random Forest.': 3.588541666666667,\n",
              " 'Some statisticians have adopted methods from machine learning, leading to a combined field that they call statistical learning.': 2.9114583333333335,\n",
              " '[30]\\n\\nAnalytical and computational techniques derived from deep-rooted physics of disordered systems can be extended to large-scale problems, including machine learning, e.g., to analyze the weight space of deep neural networks.': 2.270833333333333,\n",
              " '[31] Statistical physics is thus finding applications in the area of medical diagnostics.': 0.21875,\n",
              " '[32]\\n\\nA core objective of a learner is to generalize from its experience.': 0.10416666666666667,\n",
              " '[7][33] Generalization in this context is the ability of a learning machine to perform accurately on new, unseen examples/tasks after having experienced a learning data set.': 3.4687499999999996,\n",
              " 'The training examples come from some generally unknown probability distribution (considered representative of the space of occurrences) and the learner has to build a general model about this space that enables it to produce sufficiently accurate predictions in new cases.': 0.9843749999999998,\n",
              " 'The computational analysis of machine learning algorithms and their performance is a branch of theoretical computer science known as computational learning theory via the Probably Approximately Correct Learning (PAC) model.': 4.536458333333333,\n",
              " 'Because training sets are finite and the future is uncertain, learning theory usually does not yield guarantees of the performance of algorithms.': 1.7083333333333335,\n",
              " 'Instead, probabilistic bounds on the performance are quite common.': 0.17708333333333334,\n",
              " 'The bias–variance decomposition is one way to quantify generalization error.': 0.18229166666666663,\n",
              " 'For the best performance in the context of generalization, the complexity of the hypothesis should match the complexity of the function underlying the data.': 0.8177083333333334,\n",
              " 'If the hypothesis is less complex than the function, then the model has under fitted the data.': 0.8593749999999999,\n",
              " 'If the complexity of the model is increased in response, then the training error decreases.': 0.5468749999999999,\n",
              " 'But if the hypothesis is too complex, then the model is subject to overfitting and generalization will be poorer.': 0.3489583333333333,\n",
              " '[34]\\n\\nIn addition to performance bounds, learning theorists study the time complexity and feasibility of learning.': 2.2604166666666665,\n",
              " 'In computational learning theory, a computation is considered feasible if it can be done in polynomial time.': 1.265625,\n",
              " 'There are two kinds of time complexity results: Positive results show that a certain class of functions can be learned in polynomial time.': 0.484375,\n",
              " 'Negative results show that certain classes cannot be learned in polynomial time.': 0.2604166666666667,\n",
              " 'Machine learning approaches are traditionally divided into three broad categories, which correspond to learning paradigms, depending on the nature of the \"signal\" or \"feedback\" available to the learning system:\\n• Supervised learning: The computer is presented with example inputs and their desired outputs, given by a \"teacher\", and the goal is to learn a general rule that maps inputs to outputs.': 6.697916666666666,\n",
              " '• Unsupervised learning: No labels are given to the learning algorithm, leaving it on its own to find structure in its input.': 2.505208333333333,\n",
              " 'Unsupervised learning can be a goal in itself (discovering hidden patterns in data) or a means towards an end (feature learning).': 2.8072916666666665,\n",
              " '• Reinforcement learning: A computer program interacts with a dynamic environment in which it must perform a certain goal (such as driving a vehicle or playing a game against an opponent).': 1.5000000000000002,\n",
              " \"As it navigates its problem space, the program is provided feedback that's analogous to rewards, which it tries to maximize.\": 0.3072916666666667,\n",
              " '[7] Although each algorithm has advantages and limitations, no single algorithm works for all problems.': 0.3958333333333333,\n",
              " '[35][36][37]\\n\\nSupervised learning algorithms build a mathematical model of a set of data that contains both the inputs and the desired outputs.': 2.40625,\n",
              " '[38] The data is known as training data, and consists of a set of training examples.': 1.8125,\n",
              " 'Each training example has one or more inputs and the desired output, also known as a supervisory signal.': 0.78125,\n",
              " 'In the mathematical model, each training example is represented by an array or vector, sometimes called a feature vector, and the training data is represented by a matrix.': 1.6666666666666667,\n",
              " 'Through iterative optimization of an objective function, supervised learning algorithms learn a function that can be used to predict the output associated with new inputs.': 1.9791666666666667,\n",
              " '[39] An optimal function allows the algorithm to correctly determine the output for inputs that were not a part of the training data.': 1.1041666666666667,\n",
              " 'An algorithm that improves the accuracy of its outputs or predictions over time is said to have learned to perform that task.': 0.47395833333333337,\n",
              " '[18]\\n\\nTypes of supervised-learning algorithms include active learning, classification and regression.': 1.4895833333333333,\n",
              " '[40] Classification algorithms are used when the outputs are restricted to a limited set of values, and regression algorithms are used when the outputs may have any numerical value within a range.': 1.3854166666666665,\n",
              " 'As an example, for a classification algorithm that filters emails, the input would be an incoming email, and the output would be the name of the folder in which to file the email.': 0.6197916666666666,\n",
              " 'Similarity learning is an area of supervised machine learning closely related to regression and classification, but the goal is to learn from examples using a similarity function that measures how similar or related two objects are.': 3.4218750000000004,\n",
              " 'It has applications in ranking, recommendation systems, visual identity tracking, face verification, and speaker verification.': 0.234375,\n",
              " 'Unsupervised learning algorithms take a set of data that contains only inputs, and find structure in the data, like grouping or clustering of data points.': 3.203125,\n",
              " 'The algorithms, therefore, learn from test data that has not been labeled, classified or categorized.': 0.8906250000000001,\n",
              " 'Instead of responding to feedback, unsupervised learning algorithms identify commonalities in the data and react based on the presence or absence of such commonalities in each new piece of data.': 2.5572916666666665,\n",
              " 'A central application of unsupervised learning is in the field of density estimation in statistics, such as finding the probability density function.': 1.4270833333333335,\n",
              " '[41] Though unsupervised learning encompasses other domains involving summarizing and explaining data features.': 1.7135416666666667,\n",
              " 'Unsupervised learning algorithms streamlined the process of survey and graph large indel based haplotypes of a gene of interest from pan-genome.': 1.5572916666666665,\n",
              " '[42]\\n\\nCluster analysis is the assignment of a set of observations into subsets (called clusters) so that observations within the same cluster are similar according to one or more predesignated criteria, while observations drawn from different clusters are dissimilar.': 0.7083333333333334,\n",
              " 'Different clustering techniques make different assumptions on the structure of the data, often defined by some similarity metric and evaluated, for example, by internal compactness, or the similarity between members of the same cluster, and separation, the difference between clusters.': 1.0937500000000002,\n",
              " 'Other methods are based on estimated density and graph connectivity.': 0.2604166666666667,\n",
              " 'Semi-supervised learning falls between unsupervised learning (without any labeled training data) and supervised learning (with completely labeled training data).': 4.791666666666667,\n",
              " 'Some of the training examples are missing training labels, yet many machine-learning researchers have found that unlabeled data, when used in conjunction with a small amount of labeled data, can produce a considerable improvement in learning accuracy.': 3.1041666666666665,\n",
              " 'In weakly supervised learning, the training labels are noisy, limited, or imprecise; however, these labels are often cheaper to obtain, resulting in larger effective training sets.': 1.8802083333333328,\n",
              " '[43]\\n\\nReinforcement learning is an area of machine learning concerned with how software agents ought to take actions in an environment so as to maximize some notion of cumulative reward.': 2.8281250000000004,\n",
              " 'Due to its generality, the field is studied in many other disciplines, such as game theory, control theory, operations research, information theory, simulation-based optimization, multi-agent systems, swarm intelligence, statistics and genetic algorithms.': 1.151041666666667,\n",
              " 'In reinforcement learning, the environment is typically represented as a Markov decision process (MDP).': 1.3697916666666667,\n",
              " 'Many reinforcements learning algorithms use dynamic programming techniques.': 1.5208333333333335,\n",
              " '[44] Reinforcement learning algorithms do not assume knowledge of an exact mathematical model of the MDP and are used when exact models are infeasible.': 1.979166666666667,\n",
              " 'Reinforcement learning algorithms are used in autonomous vehicles or in learning to play a game against a human opponent.': 2.5572916666666665,\n",
              " 'Dimensionality reduction is a process of reducing the number of random variables under consideration by obtaining a set of principal variables.': 0.5104166666666667,\n",
              " '[45] In other words, it is a process of reducing the dimension of the feature set, also called the \"number of features\".': 0.9739583333333335,\n",
              " 'Most of the dimensionality reduction techniques can be considered as either feature elimination or extraction.': 0.24479166666666666,\n",
              " 'One of the popular methods of dimensionality reduction is principal component analysis (PCA).': 0.4166666666666667,\n",
              " 'PCA involves changing higher-dimensional data (e.g., 3D) to a smaller space (e.g., 2D).': 0.6354166666666665,\n",
              " 'This results in a smaller dimension of data (2D instead of 3D), while keeping all original variables in the model without changing the data.': 1.46875,\n",
              " '[46] The manifold hypothesis proposes that high-dimensional data sets lie along low-dimensional manifolds, and many dimensionality reduction techniques make this assumption, leading to the area of manifold learning and manifold regularization.': 1.9895833333333337,\n",
              " 'Other approaches have been developed which do not fit neatly into this three-fold categorization, and sometimes more than one is used by the same machine learning system.': 2.0416666666666665,\n",
              " 'For example, topic modeling, meta-learning.': 0.16145833333333331,\n",
              " '[47]\\n\\nAs of 2022, deep learning is the dominant approach for much ongoing work in the field of machine learning.': 2.8281249999999996,\n",
              " '[1]\\n\\nSelf-learning, as a machine learning paradigm was introduced in 1982 along with a neural network capable of self-learning, named crossbar adaptive array (CAA).': 1.9010416666666663,\n",
              " '[48] It is learning with no external rewards and no external teacher advice.': 1.0833333333333337,\n",
              " 'The CAA self-learning algorithm computes, in a crossbar fashion, both decisions about actions and emotions (feelings) about consequence situations.': 0.30208333333333337,\n",
              " 'The system is driven by the interaction between cognition and emotion.': 0.125,\n",
              " \"[49] The self-learning algorithm updates a memory matrix W =||w(a,s)|| such that in each iteration executes the following machine learning routine:\\n• compute emotion of being in consequence situation v(s')\\n• update crossbar memory w'(a,s) = w(a,s) + v(s')\\n\\nIt is a system with only one input, situation, and only one output, action (or behavior) a.\": 2.510416666666666,\n",
              " 'There is neither a separate reinforcement input nor an advice input from the environment.': 0.33333333333333337,\n",
              " 'The backpropagated value (secondary reinforcement) is the emotion toward the consequence situation.': 0.16666666666666666,\n",
              " 'The CAA exists in two environments, one is the behavioral environment where it behaves, and the other is the genetic environment, wherefrom it initially and only once receives initial emotions about situations to be encountered in the behavioral environment.': 0.44270833333333337,\n",
              " 'After receiving the genome (species) vector from the genetic environment, the CAA learns a goal-seeking behavior, in an environment that contains both desirable and undesirable situations.': 0.3020833333333333,\n",
              " '[50]\\n\\nSeveral learning algorithms aim at discovering better representations of the inputs provided during training.': 1.671875,\n",
              " '[51] Classic examples include principal component analysis and cluster analysis.': 0.36458333333333337,\n",
              " 'Feature learning algorithms, also called representation learning algorithms, often attempt to preserve the information in their input but also transform it in a way that makes it useful, often as a pre-processing step before performing classification or predictions.': 3.432291666666667,\n",
              " 'This technique allows reconstruction of the inputs coming from the unknown data-generating distribution, while not being necessarily faithful to configurations that are implausible under that distribution.': 0.22916666666666666,\n",
              " 'This replaces manual feature engineering, and allows a machine to both learn the features and use them to perform a specific task.': 0.9635416666666666,\n",
              " 'Feature learning can be either supervised or unsupervised.': 1.28125,\n",
              " 'In supervised feature learning, features are learned using labeled input data.': 1.96875,\n",
              " 'Examples include artificial neural networks, multilayer perceptrons, and supervised dictionary learning.': 1.5885416666666667,\n",
              " 'In unsupervised feature learning, features are learned with unlabeled input data.': 1.8854166666666667,\n",
              " 'Examples include dictionary learning, independent component analysis, autoencoders, matrix factorization[52] and various forms of clustering.': 1.3854166666666665,\n",
              " '[53][54][55]\\n\\nManifold learning algorithms attempt to do so under the constraint that the learned representation is low-dimensional.': 1.4270833333333333,\n",
              " 'Sparse coding algorithms attempt to do so under the constraint that the learned representation is sparse, meaning that the mathematical model has many zeros.': 0.8177083333333333,\n",
              " 'Multilinear subspace learning algorithms aim to learn low-dimensional representations directly from tensor representations for multidimensional data, without reshaping them into higher-dimensional vectors.': 1.9739583333333335,\n",
              " '[56] Deep learning algorithms discover multiple levels of representation, or a hierarchy of features, with higher-level, more abstract features defined in terms of (or generating) lower-level features.': 1.614583333333333,\n",
              " 'It has been argued that an intelligent machine is one that learns a representation that disentangles the underlying factors of variation that explain the observed data.': 1.2968750000000002,\n",
              " '[57]\\n\\nFeature learning is motivated by the fact that machine learning tasks such as classification often require input that is mathematically and computationally convenient to process.': 3.0989583333333335,\n",
              " 'However, real-world data such as images, video, and sensory data has not yielded attempts to algorithmically define specific features.': 1.21875,\n",
              " 'An alternative is to discover such features or representations through examination, without relying on explicit algorithms.': 0.4166666666666667,\n",
              " 'Sparse dictionary learning is a feature learning method where a training example is represented as a linear combination of basis functions, and is assumed to be a sparse matrix.': 2.75,\n",
              " 'The method is strongly NP-hard and difficult to solve approximately.': 0.11979166666666667,\n",
              " '[58] A popular heuristic method for sparse dictionary learning is the K-SVD algorithm.': 1.3125,\n",
              " 'Sparse dictionary learning has been applied in several contexts.': 1.171875,\n",
              " 'In classification, the problem is to determine the class to which a previously unseen training example belongs.': 0.5885416666666666,\n",
              " 'For a dictionary where each class has already been built, a new training example is associated with the class that is best sparsely represented by the corresponding dictionary.': 0.7395833333333334,\n",
              " 'Sparse dictionary learning has also been applied in image de-noising.': 1.296875,\n",
              " 'The key idea is that a clean image patch can be sparsely represented by an image dictionary, but the noise cannot.': 0.23958333333333331,\n",
              " '[59]\\n\\nIn data mining, anomaly detection, also known as outlier detection, is the identification of rare items, events or observations which raise suspicions by differing significantly from the majority of the data.': 1.5052083333333335,\n",
              " '[60] Typically, the anomalous items represent an issue such as bank fraud, a structural defect, medical problems or errors in a text.': 0.29687500000000006,\n",
              " 'Anomalies are referred to as outliers, novelties, noise, deviations and exceptions.': 0.08333333333333333,\n",
              " '[61]\\n\\nIn particular, in the context of abuse and network intrusion detection, the interesting objects are often not rare objects, but unexpected bursts of inactivity.': 0.35937499999999994,\n",
              " 'This pattern does not adhere to the common statistical definition of an outlier as a rare object.': 0.18229166666666666,\n",
              " 'Many outlier detection methods (in particular, unsupervised algorithms) will fail on such data unless aggregated appropriately.': 1.1822916666666667,\n",
              " 'Instead, a cluster analysis algorithm may be able to detect the micro-clusters formed by these patterns.': 0.41666666666666663,\n",
              " '[62]\\n\\nThree broad categories of anomaly detection techniques exist.': 0.22916666666666666,\n",
              " '[63] Unsupervised anomaly detection techniques detect anomalies in an unlabeled test data set under the assumption that the majority of the instances in the data set are normal, by looking for instances that seem to fit the least to the remainder of the data set.': 2.458333333333333,\n",
              " 'Supervised anomaly detection techniques require a data set that has been labeled as \"normal\" and \"abnormal\" and involves training a classifier (the key difference to many other statistical classification problems is the inherently unbalanced nature of outlier detection).': 2.4270833333333344,\n",
              " 'Semi-supervised anomaly detection techniques construct a model representing normal behavior from a given normal training data set and then test the likelihood of a test instance to be generated by the model.': 1.7395833333333333,\n",
              " 'Robot learning is inspired by a multitude of machine learning methods, starting from supervised learning, reinforcement learning,[64][65] and finally meta-learning (e.g.': 4.942708333333333,\n",
              " 'MAML).': 0.03125,\n",
              " 'Association rule learning is a rule-based machine learning method for discovering relationships between variables in large databases.': 2.8750000000000004,\n",
              " 'It is intended to identify strong rules discovered in databases using some measure of \"interestingness\".': 0.5729166666666666,\n",
              " '[66]\\n\\nRule-based machine learning is a general term for any machine learning method that identifies, learns, or evolves \"rules\" to store, manipulate or apply knowledge.': 3.8072916666666665,\n",
              " 'The defining characteristic of a rule-based machine learning algorithm is the identification and utilization of a set of relational rules that collectively represent the knowledge captured by the system.': 2.1614583333333335,\n",
              " 'This is in contrast to other machine learning algorithms that commonly identify a singular model that can be universally applied to any instance in order to make a prediction.': 2.2343749999999996,\n",
              " '[67] Rule-based machine learning approaches include learning classifier systems, association rule learning, and artificial immune systems.': 4.171874999999999,\n",
              " 'Based on the concept of strong rules, Rakesh Agrawal, Tomasz Imieliński and Arun Swami introduced association rules for discovering regularities between products in large-scale transaction data recorded by point-of-sale (POS) systems in supermarkets.': 0.9531250000000002,\n",
              " '[68] For example, the rule found in the sales data of a supermarket would indicate that if a customer buys onions and potatoes together, they are likely to also buy hamburger meat.': 0.932291666666667,\n",
              " 'Such information can be used as the basis for decisions about marketing activities such as promotional pricing or product placements.': 0.3177083333333332,\n",
              " 'In addition to market basket analysis, association rules are employed today in application areas including Web usage mining, intrusion detection, continuous production, and bioinformatics.': 0.45833333333333337,\n",
              " 'In contrast with sequence mining, association rule learning typically does not consider the order of items either within a transaction or across transactions.': 1.3489583333333335,\n",
              " 'Learning classifier systems (LCS) are a family of rule-based machine learning algorithms that combine a discovery component, typically a genetic algorithm, with a learning component, performing either supervised learning, reinforcement learning, or unsupervised learning.': 7.557291666666667,\n",
              " 'They seek to identify a set of context-dependent rules that collectively store and apply knowledge in a piecewise manner in order to make predictions.': 0.5052083333333334,\n",
              " '[69]\\n\\nInductive logic programming (ILP) is an approach to rule learning using logic programming as a uniform representation for input examples, background knowledge, and hypotheses.': 1.703125,\n",
              " 'Given an encoding of the known background knowledge and a set of examples represented as a logical database of facts, an ILP system will derive a hypothesized logic program that entails all positive and no negative examples.': 0.8697916666666665,\n",
              " 'Inductive programming is a related field that considers any kind of programming language for representing hypotheses (and not only logic programming), such as functional programs.': 0.46875000000000006,\n",
              " 'Inductive logic programming is particularly useful in bioinformatics and natural language processing.': 0.23437499999999997,\n",
              " 'Gordon Plotkin and Ehud Shapiro laid the initial theoretical foundation for inductive machine learning in a logical setting.': 1.7291666666666667,\n",
              " '[70][71][72] Shapiro built their first implementation (Model Inference System) in 1981: a Prolog program that inductively inferred logic programs from positive and negative examples.': 0.65625,\n",
              " '[73] The term inductive here refers to philosophical induction, suggesting a theory to explain observed facts, rather than mathematical induction, proving a property for all members of a well-ordered set.': 0.5104166666666666,\n",
              " 'Performing machine learning can involve creating a model, which is trained on some training data and then can process additional data to make predictions.': 3.3229166666666656,\n",
              " 'Various types of models have been used and researched for machine learning systems.': 2.0572916666666665,\n",
              " 'Artificial neural networks (ANNs), or connectionist systems, are computing systems vaguely inspired by the biological neural networks that constitute animal brains.': 0.8072916666666667,\n",
              " 'Such systems \"learn\" to perform tasks by considering examples, generally without being programmed with any task-specific rules.': 0.8645833333333333,\n",
              " 'An ANN is a model based on a collection of connected units or nodes called \"artificial neurons\", which loosely model the neurons in a biological brain.': 1.2604166666666667,\n",
              " 'Each connection, like the synapses in a biological brain, can transmit information, a \"signal\", from one artificial neuron to another.': 0.7968750000000001,\n",
              " 'An artificial neuron that receives a signal can process it and then signal additional artificial neurons connected to it.': 0.5520833333333333,\n",
              " 'In common ANN implementations, the signal at a connection between artificial neurons is a real number, and the output of each artificial neuron is computed by some non-linear function of the sum of its inputs.': 0.703125,\n",
              " 'The connections between artificial neurons are called \"edges\".': 0.640625,\n",
              " 'Artificial neurons and edges typically have a weight that adjusts as learning proceeds.': 1.2864583333333333,\n",
              " 'The weight increases or decreases the strength of the signal at a connection.': 0.13020833333333331,\n",
              " 'Artificial neurons may have a threshold such that the signal is only sent if the aggregate signal crosses that threshold.': 0.4010416666666667,\n",
              " 'Typically, artificial neurons are aggregated into layers.': 0.28645833333333337,\n",
              " 'Different layers may perform different kinds of transformations on their inputs.': 0.328125,\n",
              " 'Signals travel from the first layer (the input layer) to the last layer (the output layer), possibly after traversing the layers multiple times.': 0.34895833333333337,\n",
              " 'The original goal of the ANN approach was to solve problems in the same way that a human brain would.': 0.3697916666666667,\n",
              " 'However, over time, attention moved to performing specific tasks, leading to deviations from biology.': 0.2708333333333333,\n",
              " 'Artificial neural networks have been used on a variety of tasks, including computer vision, speech recognition, machine translation, social network filtering, playing board and video games and medical diagnosis.': 1.4895833333333333,\n",
              " 'Deep learning consists of multiple hidden layers in an artificial neural network.': 1.4218750000000002,\n",
              " 'This approach tries to model the way the human brain processes light and sound into vision and hearing.': 0.4322916666666666,\n",
              " 'Some successful applications of deep learning are computer vision and speech recognition.': 1.2500000000000004,\n",
              " \"[74]\\n\\nDecision tree learning uses a decision tree as a predictive model to go from observations about an item (represented in the branches) to conclusions about the item's target value (represented in the leaves).\": 1.7864583333333333,\n",
              " 'It is one of the predictive modeling approaches used in statistics, data mining, and machine learning.': 2.5416666666666665,\n",
              " 'Tree models where the target variable can take a discrete set of values are called classification trees; in these tree structures, leaves represent class labels, and branches represent conjunctions of features that lead to those class labels.': 0.9843750000000001,\n",
              " 'Decision trees where the target variable can take continuous values (typically real numbers) are called regression trees.': 0.390625,\n",
              " 'In decision analysis, a decision tree can be used to visually and explicitly represent decisions and decision making.': 0.5677083333333333,\n",
              " 'In data mining, a decision tree describes data, but the resulting classification tree can be an input for decision-making.': 1.4114583333333335,\n",
              " 'Support-vector machines (SVMs), also known as support-vector networks, are a set of related supervised learning methods used for classification and regression.': 2.0937499999999996,\n",
              " 'Given a set of training examples, each marked as belonging to one of two categories, an SVM training algorithm builds a model that predicts whether a new example falls into one category.': 1.5625,\n",
              " '[75] An SVM training algorithm is a non-probabilistic, binary, linear classifier, although methods such as Platt scaling exist to use SVM in a probabilistic classification setting.': 0.84375,\n",
              " 'In addition to performing linear classification, SVMs can efficiently perform a non-linear classification using what is called the kernel trick, implicitly mapping their inputs into high-dimensional feature spaces.': 0.7187499999999999,\n",
              " 'Regression analysis encompasses a large variety of statistical methods to estimate the relationship between input variables and their associated features.': 0.6302083333333334,\n",
              " 'Its most common form is linear regression, where a single line is drawn to best fit the given data according to a mathematical criterion such as ordinary least squares.': 0.8645833333333335,\n",
              " 'The latter is often extended by regularization methods to mitigate overfitting and bias, as in ridge regression.': 0.39583333333333337,\n",
              " 'When dealing with non-linear problems, go-to models include polynomial regression (for example, used for trendline fitting in Microsoft Excel[76]), logistic regression (often used in statistical classification) or even kernel regression, which introduces non-linearity by taking advantage of the kernel trick to implicitly map input variables to higher-dimensional space.': 1.5104166666666665,\n",
              " 'A Bayesian network, belief network, or directed acyclic graphical model is a probabilistic graphical model that represents a set of random variables and their conditional independence with a directed acyclic graph (DAG).': 1.0052083333333335,\n",
              " 'For example, a Bayesian network could represent the probabilistic relationships between diseases and symptoms.': 0.3541666666666667,\n",
              " 'Given symptoms, the network can be used to compute the probabilities of the presence of various diseases.': 0.40104166666666674,\n",
              " 'Efficient algorithms exist that perform inference and learning.': 1.3489583333333335,\n",
              " 'Bayesian networks that model sequences of variables, like speech signals or protein sequences, are called dynamic Bayesian networks.': 0.7083333333333333,\n",
              " 'Generalizations of Bayesian networks that can represent and solve decision problems under uncertainty are called influence diagrams.': 0.42187499999999994,\n",
              " 'A Gaussian process is a stochastic process in which every finite collection of the random variables in the process has a multivariate normal distribution, and it relies on a pre-defined covariance function, or kernel, that models how pairs of points relate to each other depending on their locations.': 0.71875,\n",
              " 'Given a set of observed points, or input–output examples, the distribution of the (unobserved) output of a new point as function of its input data can be directly computed by looking like the observed points and the covariances between those points and the new, unobserved point.': 1.395833333333334,\n",
              " 'Gaussian processes are popular surrogate models in Bayesian optimization used to do hyperparameter optimization.': 0.5104166666666666,\n",
              " 'A genetic algorithm (GA) is a search algorithm and heuristic technique that mimics the process of natural selection, using methods such as mutation and crossover to generate new genotypes in the hope of finding good solutions to a given problem.': 0.8177083333333335,\n",
              " 'In machine learning, genetic algorithms were used in the 1980s and 1990s.': 2.0416666666666665,\n",
              " '[78][79] Conversely, machine learning techniques have been used to improve the performance of genetic and evolutionary algorithms.': 2.1874999999999996,\n",
              " '[80]\\n\\nThe theory of belief functions, also referred to as evidence theory or Dempster–Shafer theory, is a general framework for reasoning with uncertainty, with understood connections to other frameworks such as probability, possibility and imprecise probability theories.': 0.6249999999999998,\n",
              " \"These theoretical frameworks can be thought of as a kind of learner and have some analogous properties of how evidence is combined (e.g., Dempster's rule of combination), just like how in a pmf-based Bayesian approach would combine probabilities.\": 0.5052083333333334,\n",
              " 'However, there are many caveats to these beliefs functions when compared to Bayesian approaches in order to incorporate ignorance and Uncertainty quantification.': 0.36458333333333326,\n",
              " \"These belief function approaches that are implemented within the machine learning domain typically leverage a fusion approach of various ensemble methods to better handle the learner's decision boundary, low samples, and ambiguous class issues that standard machine learning approach tend to have difficulty resolving.\": 3.9739583333333335,\n",
              " '[4][6][11] However, the computational complexity of these algorithms are dependent on the number of propositions (classes), and can lead a much higher computation time when compared to other machine learning approaches.': 2.1822916666666665,\n",
              " 'Typically, machine learning models require a high quantity of reliable data in order for the models to perform accurate predictions.': 2.598958333333333,\n",
              " 'When training a machine learning model, machine learning engineers need to target and collect a large and representative sample of data.': 4.197916666666667,\n",
              " 'Data from the training set can be as varied as a corpus of text, a collection of images, sensor data, and data collected from individual users of a service.': 2.0312500000000004,\n",
              " 'Overfitting is something to watch out for when training a machine learning model.': 2.078125,\n",
              " 'Trained models derived from biased or non-evaluated data can result in skewed or undesired predictions.': 0.8333333333333334,\n",
              " 'Bias models may result in detrimental outcomes thereby furthering the negative impacts on society or objectives.': 0.37500000000000006,\n",
              " 'Algorithmic bias is a potential result of data not being fully prepared for training.': 0.8750000000000001,\n",
              " 'Machine learning ethics is becoming a field of study and notably be integrated within machine learning engineering teams.': 3.3437499999999996,\n",
              " \"Federated learning is an adapted form of distributed artificial intelligence to training machine learning models that decentralizes the training process, allowing for users' privacy to be maintained by not needing to send their data to a centralized server.\": 4.067708333333333,\n",
              " 'This also increases efficiency by decentralizing the training process to many devices.': 0.5729166666666666,\n",
              " \"For example, Gboard uses federated machine learning to train search query prediction models on users' mobile phones without having to send individual searches back to Google.\": 2.020833333333333,\n",
              " '[81]\\n\\nThere are many applications for machine learning, including:\\n\\nIn 2006, the media-services provider Netflix held the first \"Netflix Prize\" competition to find a program to better predict user preferences and improve the accuracy of its existing Cinematch movie recommendation algorithm by at least 10%.': 2.5572916666666674,\n",
              " 'A joint team made up of researchers from AT&T Labs-Research in collaboration with the teams Big Chaos and Pragmatic Theory built an ensemble model to win the Grand Prize in 2009 for $1 million.': 0.5052083333333333,\n",
              " '[84] Shortly after the prize was awarded, Netflix realized that viewers\\' ratings were not the best indicators of their viewing patterns (\"everything is a recommendation\") and they changed their recommendation engine accordingly.': 0.5833333333333334,\n",
              " '[85] In 2010 The Wall Street Journal wrote about the firm Rebellion Research and their use of machine learning to predict the financial crisis.': 1.7708333333333333,\n",
              " '[86] In 2012, co-founder of Sun Microsystems, Vinod Khosla, predicted that 80% of medical doctors jobs would be lost in the next two decades to automated machine learning medical diagnostic software.': 1.875,\n",
              " '[87] In 2014, it was reported that a machine learning algorithm had been applied in the field of art history to study fine art paintings and that it may have revealed previously unrecognized influences among artists.': 2.046875,\n",
              " '[88] In 2019 Springer Nature published the first research book created using machine learning.': 1.796875,\n",
              " '[89] In 2020, machine learning technology was used to help make diagnoses and aid researchers in developing a cure for COVID-19.': 1.9114583333333333,\n",
              " '[90] Machine learning was recently applied to predict the pro-environmental behavior of travelers.': 1.7187500000000002,\n",
              " \"[91] Recently, machine learning technology was also applied to optimize smartphone's performance and thermal behavior based on the user's interaction with the phone.\": 2.145833333333333,\n",
              " '[92][93][94]\\n\\nAlthough machine learning has been transformative in some fields, machine-learning programs often fail to deliver expected results.': 1.828125,\n",
              " '[95][96][97] Reasons for this are numerous: lack of (suitable) data, lack of access to the data, data bias, privacy problems, badly chosen tasks and algorithms, wrong tools and people, lack of resources, and evaluation problems.': 2.177083333333333,\n",
              " '[98]\\n\\nIn 2018, a self-driving car from Uber failed to detect a pedestrian, who was killed after a collision.': 0.09895833333333333,\n",
              " '[99] Attempts to use machine learning in healthcare with the IBM Watson system failed to deliver even after years of time and billions of dollars invested.': 1.8489583333333333,\n",
              " '[100][101]\\n\\nMachine learning has been used as a strategy to update the evidence related to a systematic review and increased reviewer burden related to the growth of biomedical literature.': 1.9583333333333328,\n",
              " 'While it has improved with training sets, it has not yet developed sufficiently to reduce the workload burden without limiting the necessary sensitivity for the findings research themselves.': 0.47916666666666674,\n",
              " '[102]\\n\\nMachine learning approaches in particular can suffer from different data biases.': 2.2604166666666665,\n",
              " 'A machine learning system trained specifically on current customers may not be able to predict the needs of new customer groups that are not represented in the training data.': 2.7239583333333326,\n",
              " 'When trained on human-made data, machine learning is likely to pick up the constitutional and unconscious biases already present in society.': 2.2552083333333335,\n",
              " '[103] Language models learned from data have been shown to contain human-like biases.': 0.8177083333333334,\n",
              " '[104][105] Machine learning systems used for criminal risk assessment have been found to be biased against black people.': 2.010416666666666,\n",
              " '[106][107] In 2015, Google photos would often tag black people as gorillas,[108] and in 2018 this still was not well resolved, but Google reportedly was still using the workaround to remove all gorillas from the training data, and thus was not able to recognize real gorillas at all.': 1.2916666666666665,\n",
              " '[109] Similar issues with recognizing non-white people have been found in many other systems.': 0.3489583333333333,\n",
              " '[110] In 2016, Microsoft tested a chatbot that learned from Twitter, and it quickly picked up racist and sexist language.': 0.17187499999999997,\n",
              " '[111] Because of such challenges, the effective use of machine learning may take longer to be adopted in other domains.': 1.7864583333333335,\n",
              " '[112] Concern for fairness in machine learning, that is, reducing bias in machine learning and propelling its use for human good is increasingly expressed by artificial intelligence scientists, including Fei-Fei Li, who reminds engineers that \"There\\'s nothing artificial about AI...It\\'s inspired by people, it\\'s created by people, and—most importantly—it impacts people.': 4.609374999999999,\n",
              " 'It is a powerful tool we are only just beginning to understand, and that is a profound responsibility.': 0.06770833333333334,\n",
              " '\"[113]\\n\\nExplainable AI (XAI), or Interpretable AI, or Explainable Machine Learning (XML), is artificial intelligence (AI) in which humans can understand the decisions or predictions made by the AI.': 2.640625,\n",
              " '[114] It contrasts with the \"black box\" concept in machine learning where even its designers cannot explain why an AI arrived at a specific decision.': 2.203125,\n",
              " '[115] By refining the mental models of users of AI-powered systems and dismantling their misconceptions, XAI promises to help users perform more effectively.': 0.4479166666666667,\n",
              " 'XAI may be an implementation of the social right to explanation.': 0.140625,\n",
              " 'Settling on a bad, overly complex theory gerrymandered to fit all the past training data is known as overfitting.': 0.9947916666666666,\n",
              " 'Many systems attempt to reduce overfitting by rewarding a theory in accordance with how well it fits the data but penalizing the theory in accordance with how complex the theory is.': 1.109375,\n",
              " 'Learners can also disappoint by \"learning the wrong lesson\".': 1.5156250000000002,\n",
              " 'A toy example is that an image classifier trained only on pictures of brown horses and black cats might conclude that all brown patches are likely to be horses.': 0.359375,\n",
              " 'A real-world example is that, unlike humans, current image classifiers often do not primarily make judgments from the spatial relationship between components of the picture, and they learn relationships between pixels that humans are oblivious to, but that still correlate with images of certain types of real objects.': 0.5989583333333333,\n",
              " 'Modifying these patterns on a legitimate image can result in \"adversarial\" images that the system misclassifies.': 0.5989583333333334,\n",
              " '[118][119]\\n\\nAdversarial vulnerabilities can also result in nonlinear systems, or from non-pattern perturbations.': 0.328125,\n",
              " 'Some systems are so brittle that changing a single adversarial pixel predictably induces misclassification.': 0.21875000000000003,\n",
              " '[citation needed] Machine learning models are often vulnerable to manipulation and/or evasion via adversarial machine learning.': 3.4374999999999996,\n",
              " '[120]\\n\\nResearchers have demonstrated how backdoors can be placed undetectably into classifying (e.g., for categories \"spam\" and well-visible \"not spam\" of posts) machine learning models which are often developed and/or trained by third parties.': 2.7447916666666665,\n",
              " 'Parties can change the classification of any input, including in cases for which a type of data/software transparency is provided, possibly including white-box access.': 0.40625000000000006,\n",
              " '[121][122][123]\\n\\nClassification of machine learning models can be validated by accuracy estimation techniques like the holdout method, which splits the data in a training and test set (conventionally 2/3 training set and 1/3 test set designation) and evaluates the performance of the training model on the test set.': 4.317708333333335,\n",
              " 'In comparison, the K-fold-cross-validation method randomly partitions the data into K subsets and then K experiments are performed each respectively considering 1 subset for evaluation and the remaining K-1 subsets for training the model.': 1.1770833333333335,\n",
              " 'In addition to the holdout and cross-validation methods, bootstrap, which samples n instances with replacement from the dataset, can be used to assess model accuracy.': 0.6927083333333334,\n",
              " '[124]\\n\\nIn addition to overall accuracy, investigators frequently report sensitivity and specificity meaning True Positive Rate (TPR) and True Negative Rate (TNR) respectively.': 0.31770833333333337,\n",
              " 'Similarly, investigators sometimes report the false positive rate (FPR) as well as the false negative rate (FNR).': 0.22395833333333331,\n",
              " 'However, these rates are ratios that fail to reveal their numerators and denominators.': 0.11979166666666669,\n",
              " \"The total operating characteristic (TOC) is an effective method to express a model's diagnostic ability.\": 0.484375,\n",
              " \"TOC shows the numerators and denominators of the previously mentioned rates, thus TOC provides more information than the commonly used receiver operating characteristic (ROC) and ROC's associated area under the curve (AUC).\": 0.5833333333333334,\n",
              " '[125]\\n\\nMachine learning poses a host of ethical questions.': 1.625,\n",
              " 'Systems that are trained on datasets collected with biases may exhibit these biases upon use (algorithmic bias), thus digitizing cultural prejudices.': 0.5416666666666666,\n",
              " \"[126] For example, in 1988, the UK's Commission for Racial Equality found that St. George's Medical School had been using a computer program trained from data of previous admissions staff and this program had denied nearly 60 candidates who were found to be either women or had non-European sounding names.\": 1.3645833333333328,\n",
              " '[103] Using job hiring data from a firm with racist hiring policies may lead to a machine learning system duplicating the bias by scoring job applicants by similarity to previous successful applicants.': 2.4999999999999996,\n",
              " '[127][128] Responsible collection of data and documentation of algorithmic rules used by a system thus is a critical part of machine learning.': 2.473958333333333,\n",
              " 'AI can be well-equipped to make decisions in technical fields, which rely heavily on data and historical information.': 0.78125,\n",
              " 'These decisions rely on objectivity and logical reasoning.': 0.11979166666666667,\n",
              " '[129] Because human languages contain biases, machines trained on language corpora will necessarily also learn these biases.': 0.5,\n",
              " '[130][131]\\n\\nOther forms of ethical challenges, not related to personal biases, are seen in health care.': 0.22916666666666669,\n",
              " \"There are concerns among health care professionals that these systems might not be designed in the public's interest but as income-generating machines.\": 0.390625,\n",
              " '[132] This is especially true in the United States where there is a long-standing ethical dilemma of improving health care, but also increasing profits.': 0.2708333333333333,\n",
              " \"For example, the algorithms could be designed to provide patients with unnecessary tests or medication in which the algorithm's proprietary owners hold stakes.\": 0.6458333333333335,\n",
              " 'There is potential for machine learning in health care to provide professionals an additional tool to diagnose, medicate, and plan recovery paths for patients, but this requires these biases to be mitigated.': 1.786458333333333,\n",
              " '[133]\\n\\nSince the 2010s, advances in both machine learning algorithms and computer hardware have led to more efficient methods for training deep neural networks (a particular narrow subdomain of machine learning) that contain many layers of non-linear hidden units.': 4.302083333333334,\n",
              " '[134] By 2019, graphic processing units (GPUs), often with AI-specific enhancements, had displaced CPUs as the dominant method of training large-scale commercial cloud AI.': 0.6041666666666667,\n",
              " '[135] OpenAI estimated the hardware computing used in the largest deep learning projects from AlexNet (2012) to AlphaZero (2017), and found a 300,000-fold increase in the amount of compute required, with a doubling-time trendline of 3.4 months.': 1.4531249999999996,\n",
              " '[136][137]\\n\\nA physical neural network or Neuromorphic computer is a type of artificial neural network in which an electrically adjustable material is used to emulate the function of a neural synapse.': 0.9739583333333333,\n",
              " '\"Physical\" neural network is used to emphasize the reliance on physical hardware used to emulate neurons as opposed to software-based approaches.': 1.0781250000000002,\n",
              " 'More generally the term is applicable to other artificial neural networks in which a memristor or other electrically adjustable resistance material is used to emulate a neural synapse.': 0.7083333333333333,\n",
              " '[138][139]\\n\\nEmbedded Machine Learning is a sub-field of machine learning, where the machine learning model is run on embedded systems with limited computing resources such as wearable computers, edge devices and microcontrollers.': 5.197916666666666,\n",
              " '[140][141][142] Running machine learning model in embedded devices removes the need for transferring and storing data on cloud servers for further processing, henceforth, reducing data breaches and privacy leaks happening because of transferring data, and also minimizes theft of intellectual properties, personal data and business secrets.': 4.140625000000001,\n",
              " 'Embedded Machine Learning could be applied through several techniques including hardware acceleration,[143][144] using approximate computing,[145] optimization of machine learning models and many more.': 3.7604166666666665,\n",
              " '[146][147]\\n\\nSoftware suites containing a variety of machine learning algorithms include the following:\\n• European Conference on Machine Learning and Principles and Practice of Knowledge Discovery in Databases (ECML PKDD)\\n• International Conference on Computational Intelligence Methods for Bioinformatics and Biostatistics (CIBB)\\n• Automated machine learning – Process of automating the application of machine learning\\n• Big data – information assets characterized by such a high volume, velocity, and variety to require specific technology and analytical methods for its transformation into value\\n• None Domingos, Pedro (September 22, 2015).': 8.411458333333334,\n",
              " 'The Master Algorithm: How the Quest for the Ultimate Learning Machine Will Remake Our World.': 1.7395833333333333,\n",
              " 'Basic Books.': 0.04166666666666667,\n",
              " 'ISBN .': 0.125,\n",
              " '• None Nilsson, Nils (1998).': 0.13541666666666666,\n",
              " '.': 0.026041666666666668,\n",
              " 'Morgan Kaufmann.': 0.036458333333333336,\n",
              " 'Archived from the original on 26 July 2020 .': 0.20833333333333334,\n",
              " '• None Poole, David; Mackworth, Alan; Goebel, Randy (1998).': 0.15624999999999997,\n",
              " 'Computational Intelligence: A Logical Approach.': 0.19791666666666666,\n",
              " 'New York: Oxford University Press.': 0.10416666666666666,\n",
              " '• mloss is an academic database of open-source machine learning software.': 1.7083333333333335}"
            ]
          },
          "metadata": {},
          "execution_count": 54
        }
      ]
    },
    {
      "cell_type": "code",
      "source": [
        "score_sentences3.keys()"
      ],
      "metadata": {
        "colab": {
          "base_uri": "https://localhost:8080/"
        },
        "id": "kFMX2LnSFMGN",
        "outputId": "dd47e79d-11c2-4e9e-bb57-bddaa21b3467"
      },
      "execution_count": null,
      "outputs": [
        {
          "output_type": "execute_result",
          "data": {
            "text/plain": [
              "dict_keys(['Study of algorithms that improve automatically through experience\\n\\nMachine learning (ML) is an umbrella term for solving problems for which development of algorithms by human programmers would be cost-prohibitive, and instead the problems are solved by helping machines \"discover\" their \"own\" algorithms,[1] without needing to be explicitly told what to do by any human-developed algorithms.', '[2] Recently, generative artificial neural networks have been able to surpass results of many previous approaches.', '[3][4] Machine-learning approaches have been applied to large language models, computer vision, speech recognition, email filtering, agriculture and medicine, where it is too costly to develop algorithms to perform the needed tasks.', '[5][6]\\n\\nThe mathematical foundations of ML are provided by mathematical optimization (mathematical programming) methods.', 'Data mining is a related (parallel) field of study, focusing on exploratory data analysis through unsupervised learning.', '[8][9]\\n\\nML is known in its application across business problems under the name predictive analytics.', \"Although not all machine learning is statistically based, computational statistics is an important source of the field's methods.\", 'History and relationships to other fields\\n\\nThe term machine learning was coined in 1959 by Arthur Samuel, an IBM employee and pioneer in the field of computer gaming and artificial intelligence.', '[10][11] The synonym self-teaching computers was also used in this time period.', '[12][13]\\n\\nBy the early 1960s an experimental \"learning machine\" with punched tape memory, called Cybertron, had been developed by Raytheon Company to analyze sonar signals, electrocardiograms, and speech patterns using rudimentary reinforcement learning.', 'It was repetitively \"trained\" by a human operator/teacher to recognize patterns and equipped with a \"goof\" button to cause it to re-evaluate incorrect decisions.', \"[14] A representative book on research into machine learning during the 1960s was Nilsson's book on Learning Machines, dealing mostly with machine learning for pattern classification.\", '[15] Interest related to pattern recognition continued into the 1970s, as described by Duda and Hart in 1973.', '[16] In 1981 a report was given on using teaching strategies so that a neural network learns to recognize 40 characters (26 letters, 10 digits, and 4 special symbols) from a computer terminal.', '[17]\\n\\nTom M. Mitchell provided a widely quoted, more formal definition of the algorithms studied in the machine learning field: \"A computer program is said to learn from experience E with respect to some class of tasks T and performance measure P if its performance at tasks in T, as measured by P, improves with experience E.\"[18] This definition of the tasks in which machine learning is concerned offers a fundamentally operational definition rather than defining the field in cognitive terms.', 'This follows Alan Turing\\'s proposal in his paper \"Computing Machinery and Intelligence\", in which the question \"Can machines think?\"', 'is replaced with the question \"Can machines do what we (as thinking entities) can do?\".', '[19]\\n\\nModern-day machine learning has two objectives, one is to classify data based on models which have been developed, the other purpose is to make predictions for future outcomes based on these models.', 'A hypothetical algorithm specific to classifying data may use computer vision of moles coupled with supervised learning in order to train it to classify the cancerous moles.', 'A machine learning algorithm for stock trading may inform the trader of future potential predictions.', '[20]\\n\\nAs a scientific endeavor, machine learning grew out of the quest for artificial intelligence (AI).', 'In the early days of AI as an academic discipline, some researchers were interested in having machines learn from data.', 'They attempted to approach the problem with various symbolic methods, as well as what were then termed \"neural networks\"; these were mostly perceptrons and other models that were later found to be reinventions of the generalized linear models of statistics.', '[22] Probabilistic reasoning was also employed, especially in automated medical diagnosis.', '[23]: 488\\n\\nHowever, an increasing emphasis on the logical, knowledge-based approach caused a rift between AI and machine learning.', 'Probabilistic systems were plagued by theoretical and practical problems of data acquisition and representation.', '[23]: 488 By 1980, expert systems had come to dominate AI, and statistics was out of favor.', '[24] Work on symbolic/knowledge-based learning did continue within AI, leading to inductive logic programming, but the more statistical line of research was now outside the field of AI proper, in pattern recognition and information retrieval.', '[23]: 708–710, 755 Neural networks research had been abandoned by AI and computer science around the same time.', 'This line, too, was continued outside the AI/CS field, as \"connectionism\", by researchers from other disciplines including Hopfield, Rumelhart, and Hinton.', 'Their main success came in the mid-1980s with the reinvention of backpropagation.', '[23]: 25\\n\\nMachine learning (ML), reorganized and recognized as its own field, started to flourish in the 1990s.', 'The field changed its goal from achieving artificial intelligence to tackling solvable problems of a practical nature.', 'It shifted focus away from the symbolic approaches it had inherited from AI, and toward methods and models borrowed from statistics, fuzzy logic, and probability theory.', '[24]\\n\\nMachine learning and data mining often employ the same methods and overlap significantly, but while machine learning focuses on prediction, based on known properties learned from the training data, data mining focuses on the discovery of (previously) unknown properties in the data (this is the analysis step of knowledge discovery in databases).', 'Data mining uses many machine learning methods, but with different goals; on the other hand, machine learning also employs data mining methods as \"unsupervised learning\" or as a preprocessing step to improve learner accuracy.', 'Much of the confusion between these two research communities (which do often have separate conferences and separate journals, ECML PKDD being a major exception) comes from the basic assumptions they work with: in machine learning, performance is usually evaluated with respect to the ability to reproduce known knowledge, while in knowledge discovery and data mining (KDD) the key task is the discovery of previously unknown knowledge.', 'Evaluated with respect to known knowledge, an uninformed (unsupervised) method will easily be outperformed by other supervised methods, while in a typical KDD task, supervised methods cannot be used due to the unavailability of training data.', 'Machine learning also has intimate ties to optimization: many learning problems are formulated as minimization of some loss function on a training set of examples.', 'Loss functions express the discrepancy between the predictions of the model being trained and the actual problem instances (for example, in classification, one wants to assign a label to instances, and models are trained to correctly predict the pre-assigned labels of a set of examples).', '[25]\\n\\nThe difference between optimization and machine learning arises from the goal of generalization: while optimization algorithms can minimize the loss on a training set, machine learning is concerned with minimizing the loss on unseen samples.', 'Characterizing the generalization of various learning algorithms is an active topic of current research, especially for deep learning algorithms.', 'Machine learning and statistics are closely related fields in terms of methods, but distinct in their principal goal: statistics draws population inferences from a sample, while machine learning finds generalizable predictive patterns.', '[26] According to Michael I. Jordan, the ideas of machine learning, from methodological principles to theoretical tools, have had a long pre-history in statistics.', '[27] He also suggested the term data science as a placeholder to call the overall field.', '[27]\\n\\nConventional statistical analyses require the a priori selection of a model most suitable for the study data set.', 'In addition, only significant or theoretically relevant variables based on previous experience are included for analysis.', 'In contrast, machine learning is not built on a pre-structured model; rather, the data shape the model by detecting underlying patterns.', 'The more variables (input) used to train the model, the more accurate the ultimate model will be.', '[28]\\n\\nLeo Breiman distinguished two statistical modeling paradigms: data model and algorithmic model,[29] wherein \"algorithmic model\" means more or less the machine learning algorithms like Random Forest.', 'Some statisticians have adopted methods from machine learning, leading to a combined field that they call statistical learning.', '[30]\\n\\nAnalytical and computational techniques derived from deep-rooted physics of disordered systems can be extended to large-scale problems, including machine learning, e.g., to analyze the weight space of deep neural networks.', '[31] Statistical physics is thus finding applications in the area of medical diagnostics.', '[32]\\n\\nA core objective of a learner is to generalize from its experience.', '[7][33] Generalization in this context is the ability of a learning machine to perform accurately on new, unseen examples/tasks after having experienced a learning data set.', 'The training examples come from some generally unknown probability distribution (considered representative of the space of occurrences) and the learner has to build a general model about this space that enables it to produce sufficiently accurate predictions in new cases.', 'The computational analysis of machine learning algorithms and their performance is a branch of theoretical computer science known as computational learning theory via the Probably Approximately Correct Learning (PAC) model.', 'Because training sets are finite and the future is uncertain, learning theory usually does not yield guarantees of the performance of algorithms.', 'Instead, probabilistic bounds on the performance are quite common.', 'The bias–variance decomposition is one way to quantify generalization error.', 'For the best performance in the context of generalization, the complexity of the hypothesis should match the complexity of the function underlying the data.', 'If the hypothesis is less complex than the function, then the model has under fitted the data.', 'If the complexity of the model is increased in response, then the training error decreases.', 'But if the hypothesis is too complex, then the model is subject to overfitting and generalization will be poorer.', '[34]\\n\\nIn addition to performance bounds, learning theorists study the time complexity and feasibility of learning.', 'In computational learning theory, a computation is considered feasible if it can be done in polynomial time.', 'There are two kinds of time complexity results: Positive results show that a certain class of functions can be learned in polynomial time.', 'Negative results show that certain classes cannot be learned in polynomial time.', 'Machine learning approaches are traditionally divided into three broad categories, which correspond to learning paradigms, depending on the nature of the \"signal\" or \"feedback\" available to the learning system:\\n• Supervised learning: The computer is presented with example inputs and their desired outputs, given by a \"teacher\", and the goal is to learn a general rule that maps inputs to outputs.', '• Unsupervised learning: No labels are given to the learning algorithm, leaving it on its own to find structure in its input.', 'Unsupervised learning can be a goal in itself (discovering hidden patterns in data) or a means towards an end (feature learning).', '• Reinforcement learning: A computer program interacts with a dynamic environment in which it must perform a certain goal (such as driving a vehicle or playing a game against an opponent).', \"As it navigates its problem space, the program is provided feedback that's analogous to rewards, which it tries to maximize.\", '[7] Although each algorithm has advantages and limitations, no single algorithm works for all problems.', '[35][36][37]\\n\\nSupervised learning algorithms build a mathematical model of a set of data that contains both the inputs and the desired outputs.', '[38] The data is known as training data, and consists of a set of training examples.', 'Each training example has one or more inputs and the desired output, also known as a supervisory signal.', 'In the mathematical model, each training example is represented by an array or vector, sometimes called a feature vector, and the training data is represented by a matrix.', 'Through iterative optimization of an objective function, supervised learning algorithms learn a function that can be used to predict the output associated with new inputs.', '[39] An optimal function allows the algorithm to correctly determine the output for inputs that were not a part of the training data.', 'An algorithm that improves the accuracy of its outputs or predictions over time is said to have learned to perform that task.', '[18]\\n\\nTypes of supervised-learning algorithms include active learning, classification and regression.', '[40] Classification algorithms are used when the outputs are restricted to a limited set of values, and regression algorithms are used when the outputs may have any numerical value within a range.', 'As an example, for a classification algorithm that filters emails, the input would be an incoming email, and the output would be the name of the folder in which to file the email.', 'Similarity learning is an area of supervised machine learning closely related to regression and classification, but the goal is to learn from examples using a similarity function that measures how similar or related two objects are.', 'It has applications in ranking, recommendation systems, visual identity tracking, face verification, and speaker verification.', 'Unsupervised learning algorithms take a set of data that contains only inputs, and find structure in the data, like grouping or clustering of data points.', 'The algorithms, therefore, learn from test data that has not been labeled, classified or categorized.', 'Instead of responding to feedback, unsupervised learning algorithms identify commonalities in the data and react based on the presence or absence of such commonalities in each new piece of data.', 'A central application of unsupervised learning is in the field of density estimation in statistics, such as finding the probability density function.', '[41] Though unsupervised learning encompasses other domains involving summarizing and explaining data features.', 'Unsupervised learning algorithms streamlined the process of survey and graph large indel based haplotypes of a gene of interest from pan-genome.', '[42]\\n\\nCluster analysis is the assignment of a set of observations into subsets (called clusters) so that observations within the same cluster are similar according to one or more predesignated criteria, while observations drawn from different clusters are dissimilar.', 'Different clustering techniques make different assumptions on the structure of the data, often defined by some similarity metric and evaluated, for example, by internal compactness, or the similarity between members of the same cluster, and separation, the difference between clusters.', 'Other methods are based on estimated density and graph connectivity.', 'Semi-supervised learning falls between unsupervised learning (without any labeled training data) and supervised learning (with completely labeled training data).', 'Some of the training examples are missing training labels, yet many machine-learning researchers have found that unlabeled data, when used in conjunction with a small amount of labeled data, can produce a considerable improvement in learning accuracy.', 'In weakly supervised learning, the training labels are noisy, limited, or imprecise; however, these labels are often cheaper to obtain, resulting in larger effective training sets.', '[43]\\n\\nReinforcement learning is an area of machine learning concerned with how software agents ought to take actions in an environment so as to maximize some notion of cumulative reward.', 'Due to its generality, the field is studied in many other disciplines, such as game theory, control theory, operations research, information theory, simulation-based optimization, multi-agent systems, swarm intelligence, statistics and genetic algorithms.', 'In reinforcement learning, the environment is typically represented as a Markov decision process (MDP).', 'Many reinforcements learning algorithms use dynamic programming techniques.', '[44] Reinforcement learning algorithms do not assume knowledge of an exact mathematical model of the MDP and are used when exact models are infeasible.', 'Reinforcement learning algorithms are used in autonomous vehicles or in learning to play a game against a human opponent.', 'Dimensionality reduction is a process of reducing the number of random variables under consideration by obtaining a set of principal variables.', '[45] In other words, it is a process of reducing the dimension of the feature set, also called the \"number of features\".', 'Most of the dimensionality reduction techniques can be considered as either feature elimination or extraction.', 'One of the popular methods of dimensionality reduction is principal component analysis (PCA).', 'PCA involves changing higher-dimensional data (e.g., 3D) to a smaller space (e.g., 2D).', 'This results in a smaller dimension of data (2D instead of 3D), while keeping all original variables in the model without changing the data.', '[46] The manifold hypothesis proposes that high-dimensional data sets lie along low-dimensional manifolds, and many dimensionality reduction techniques make this assumption, leading to the area of manifold learning and manifold regularization.', 'Other approaches have been developed which do not fit neatly into this three-fold categorization, and sometimes more than one is used by the same machine learning system.', 'For example, topic modeling, meta-learning.', '[47]\\n\\nAs of 2022, deep learning is the dominant approach for much ongoing work in the field of machine learning.', '[1]\\n\\nSelf-learning, as a machine learning paradigm was introduced in 1982 along with a neural network capable of self-learning, named crossbar adaptive array (CAA).', '[48] It is learning with no external rewards and no external teacher advice.', 'The CAA self-learning algorithm computes, in a crossbar fashion, both decisions about actions and emotions (feelings) about consequence situations.', 'The system is driven by the interaction between cognition and emotion.', \"[49] The self-learning algorithm updates a memory matrix W =||w(a,s)|| such that in each iteration executes the following machine learning routine:\\n• compute emotion of being in consequence situation v(s')\\n• update crossbar memory w'(a,s) = w(a,s) + v(s')\\n\\nIt is a system with only one input, situation, and only one output, action (or behavior) a.\", 'There is neither a separate reinforcement input nor an advice input from the environment.', 'The backpropagated value (secondary reinforcement) is the emotion toward the consequence situation.', 'The CAA exists in two environments, one is the behavioral environment where it behaves, and the other is the genetic environment, wherefrom it initially and only once receives initial emotions about situations to be encountered in the behavioral environment.', 'After receiving the genome (species) vector from the genetic environment, the CAA learns a goal-seeking behavior, in an environment that contains both desirable and undesirable situations.', '[50]\\n\\nSeveral learning algorithms aim at discovering better representations of the inputs provided during training.', '[51] Classic examples include principal component analysis and cluster analysis.', 'Feature learning algorithms, also called representation learning algorithms, often attempt to preserve the information in their input but also transform it in a way that makes it useful, often as a pre-processing step before performing classification or predictions.', 'This technique allows reconstruction of the inputs coming from the unknown data-generating distribution, while not being necessarily faithful to configurations that are implausible under that distribution.', 'This replaces manual feature engineering, and allows a machine to both learn the features and use them to perform a specific task.', 'Feature learning can be either supervised or unsupervised.', 'In supervised feature learning, features are learned using labeled input data.', 'Examples include artificial neural networks, multilayer perceptrons, and supervised dictionary learning.', 'In unsupervised feature learning, features are learned with unlabeled input data.', 'Examples include dictionary learning, independent component analysis, autoencoders, matrix factorization[52] and various forms of clustering.', '[53][54][55]\\n\\nManifold learning algorithms attempt to do so under the constraint that the learned representation is low-dimensional.', 'Sparse coding algorithms attempt to do so under the constraint that the learned representation is sparse, meaning that the mathematical model has many zeros.', 'Multilinear subspace learning algorithms aim to learn low-dimensional representations directly from tensor representations for multidimensional data, without reshaping them into higher-dimensional vectors.', '[56] Deep learning algorithms discover multiple levels of representation, or a hierarchy of features, with higher-level, more abstract features defined in terms of (or generating) lower-level features.', 'It has been argued that an intelligent machine is one that learns a representation that disentangles the underlying factors of variation that explain the observed data.', '[57]\\n\\nFeature learning is motivated by the fact that machine learning tasks such as classification often require input that is mathematically and computationally convenient to process.', 'However, real-world data such as images, video, and sensory data has not yielded attempts to algorithmically define specific features.', 'An alternative is to discover such features or representations through examination, without relying on explicit algorithms.', 'Sparse dictionary learning is a feature learning method where a training example is represented as a linear combination of basis functions, and is assumed to be a sparse matrix.', 'The method is strongly NP-hard and difficult to solve approximately.', '[58] A popular heuristic method for sparse dictionary learning is the K-SVD algorithm.', 'Sparse dictionary learning has been applied in several contexts.', 'In classification, the problem is to determine the class to which a previously unseen training example belongs.', 'For a dictionary where each class has already been built, a new training example is associated with the class that is best sparsely represented by the corresponding dictionary.', 'Sparse dictionary learning has also been applied in image de-noising.', 'The key idea is that a clean image patch can be sparsely represented by an image dictionary, but the noise cannot.', '[59]\\n\\nIn data mining, anomaly detection, also known as outlier detection, is the identification of rare items, events or observations which raise suspicions by differing significantly from the majority of the data.', '[60] Typically, the anomalous items represent an issue such as bank fraud, a structural defect, medical problems or errors in a text.', 'Anomalies are referred to as outliers, novelties, noise, deviations and exceptions.', '[61]\\n\\nIn particular, in the context of abuse and network intrusion detection, the interesting objects are often not rare objects, but unexpected bursts of inactivity.', 'This pattern does not adhere to the common statistical definition of an outlier as a rare object.', 'Many outlier detection methods (in particular, unsupervised algorithms) will fail on such data unless aggregated appropriately.', 'Instead, a cluster analysis algorithm may be able to detect the micro-clusters formed by these patterns.', '[62]\\n\\nThree broad categories of anomaly detection techniques exist.', '[63] Unsupervised anomaly detection techniques detect anomalies in an unlabeled test data set under the assumption that the majority of the instances in the data set are normal, by looking for instances that seem to fit the least to the remainder of the data set.', 'Supervised anomaly detection techniques require a data set that has been labeled as \"normal\" and \"abnormal\" and involves training a classifier (the key difference to many other statistical classification problems is the inherently unbalanced nature of outlier detection).', 'Semi-supervised anomaly detection techniques construct a model representing normal behavior from a given normal training data set and then test the likelihood of a test instance to be generated by the model.', 'Robot learning is inspired by a multitude of machine learning methods, starting from supervised learning, reinforcement learning,[64][65] and finally meta-learning (e.g.', 'MAML).', 'Association rule learning is a rule-based machine learning method for discovering relationships between variables in large databases.', 'It is intended to identify strong rules discovered in databases using some measure of \"interestingness\".', '[66]\\n\\nRule-based machine learning is a general term for any machine learning method that identifies, learns, or evolves \"rules\" to store, manipulate or apply knowledge.', 'The defining characteristic of a rule-based machine learning algorithm is the identification and utilization of a set of relational rules that collectively represent the knowledge captured by the system.', 'This is in contrast to other machine learning algorithms that commonly identify a singular model that can be universally applied to any instance in order to make a prediction.', '[67] Rule-based machine learning approaches include learning classifier systems, association rule learning, and artificial immune systems.', 'Based on the concept of strong rules, Rakesh Agrawal, Tomasz Imieliński and Arun Swami introduced association rules for discovering regularities between products in large-scale transaction data recorded by point-of-sale (POS) systems in supermarkets.', '[68] For example, the rule found in the sales data of a supermarket would indicate that if a customer buys onions and potatoes together, they are likely to also buy hamburger meat.', 'Such information can be used as the basis for decisions about marketing activities such as promotional pricing or product placements.', 'In addition to market basket analysis, association rules are employed today in application areas including Web usage mining, intrusion detection, continuous production, and bioinformatics.', 'In contrast with sequence mining, association rule learning typically does not consider the order of items either within a transaction or across transactions.', 'Learning classifier systems (LCS) are a family of rule-based machine learning algorithms that combine a discovery component, typically a genetic algorithm, with a learning component, performing either supervised learning, reinforcement learning, or unsupervised learning.', 'They seek to identify a set of context-dependent rules that collectively store and apply knowledge in a piecewise manner in order to make predictions.', '[69]\\n\\nInductive logic programming (ILP) is an approach to rule learning using logic programming as a uniform representation for input examples, background knowledge, and hypotheses.', 'Given an encoding of the known background knowledge and a set of examples represented as a logical database of facts, an ILP system will derive a hypothesized logic program that entails all positive and no negative examples.', 'Inductive programming is a related field that considers any kind of programming language for representing hypotheses (and not only logic programming), such as functional programs.', 'Inductive logic programming is particularly useful in bioinformatics and natural language processing.', 'Gordon Plotkin and Ehud Shapiro laid the initial theoretical foundation for inductive machine learning in a logical setting.', '[70][71][72] Shapiro built their first implementation (Model Inference System) in 1981: a Prolog program that inductively inferred logic programs from positive and negative examples.', '[73] The term inductive here refers to philosophical induction, suggesting a theory to explain observed facts, rather than mathematical induction, proving a property for all members of a well-ordered set.', 'Performing machine learning can involve creating a model, which is trained on some training data and then can process additional data to make predictions.', 'Various types of models have been used and researched for machine learning systems.', 'Artificial neural networks (ANNs), or connectionist systems, are computing systems vaguely inspired by the biological neural networks that constitute animal brains.', 'Such systems \"learn\" to perform tasks by considering examples, generally without being programmed with any task-specific rules.', 'An ANN is a model based on a collection of connected units or nodes called \"artificial neurons\", which loosely model the neurons in a biological brain.', 'Each connection, like the synapses in a biological brain, can transmit information, a \"signal\", from one artificial neuron to another.', 'An artificial neuron that receives a signal can process it and then signal additional artificial neurons connected to it.', 'In common ANN implementations, the signal at a connection between artificial neurons is a real number, and the output of each artificial neuron is computed by some non-linear function of the sum of its inputs.', 'The connections between artificial neurons are called \"edges\".', 'Artificial neurons and edges typically have a weight that adjusts as learning proceeds.', 'The weight increases or decreases the strength of the signal at a connection.', 'Artificial neurons may have a threshold such that the signal is only sent if the aggregate signal crosses that threshold.', 'Typically, artificial neurons are aggregated into layers.', 'Different layers may perform different kinds of transformations on their inputs.', 'Signals travel from the first layer (the input layer) to the last layer (the output layer), possibly after traversing the layers multiple times.', 'The original goal of the ANN approach was to solve problems in the same way that a human brain would.', 'However, over time, attention moved to performing specific tasks, leading to deviations from biology.', 'Artificial neural networks have been used on a variety of tasks, including computer vision, speech recognition, machine translation, social network filtering, playing board and video games and medical diagnosis.', 'Deep learning consists of multiple hidden layers in an artificial neural network.', 'This approach tries to model the way the human brain processes light and sound into vision and hearing.', 'Some successful applications of deep learning are computer vision and speech recognition.', \"[74]\\n\\nDecision tree learning uses a decision tree as a predictive model to go from observations about an item (represented in the branches) to conclusions about the item's target value (represented in the leaves).\", 'It is one of the predictive modeling approaches used in statistics, data mining, and machine learning.', 'Tree models where the target variable can take a discrete set of values are called classification trees; in these tree structures, leaves represent class labels, and branches represent conjunctions of features that lead to those class labels.', 'Decision trees where the target variable can take continuous values (typically real numbers) are called regression trees.', 'In decision analysis, a decision tree can be used to visually and explicitly represent decisions and decision making.', 'In data mining, a decision tree describes data, but the resulting classification tree can be an input for decision-making.', 'Support-vector machines (SVMs), also known as support-vector networks, are a set of related supervised learning methods used for classification and regression.', 'Given a set of training examples, each marked as belonging to one of two categories, an SVM training algorithm builds a model that predicts whether a new example falls into one category.', '[75] An SVM training algorithm is a non-probabilistic, binary, linear classifier, although methods such as Platt scaling exist to use SVM in a probabilistic classification setting.', 'In addition to performing linear classification, SVMs can efficiently perform a non-linear classification using what is called the kernel trick, implicitly mapping their inputs into high-dimensional feature spaces.', 'Regression analysis encompasses a large variety of statistical methods to estimate the relationship between input variables and their associated features.', 'Its most common form is linear regression, where a single line is drawn to best fit the given data according to a mathematical criterion such as ordinary least squares.', 'The latter is often extended by regularization methods to mitigate overfitting and bias, as in ridge regression.', 'When dealing with non-linear problems, go-to models include polynomial regression (for example, used for trendline fitting in Microsoft Excel[76]), logistic regression (often used in statistical classification) or even kernel regression, which introduces non-linearity by taking advantage of the kernel trick to implicitly map input variables to higher-dimensional space.', 'A Bayesian network, belief network, or directed acyclic graphical model is a probabilistic graphical model that represents a set of random variables and their conditional independence with a directed acyclic graph (DAG).', 'For example, a Bayesian network could represent the probabilistic relationships between diseases and symptoms.', 'Given symptoms, the network can be used to compute the probabilities of the presence of various diseases.', 'Efficient algorithms exist that perform inference and learning.', 'Bayesian networks that model sequences of variables, like speech signals or protein sequences, are called dynamic Bayesian networks.', 'Generalizations of Bayesian networks that can represent and solve decision problems under uncertainty are called influence diagrams.', 'A Gaussian process is a stochastic process in which every finite collection of the random variables in the process has a multivariate normal distribution, and it relies on a pre-defined covariance function, or kernel, that models how pairs of points relate to each other depending on their locations.', 'Given a set of observed points, or input–output examples, the distribution of the (unobserved) output of a new point as function of its input data can be directly computed by looking like the observed points and the covariances between those points and the new, unobserved point.', 'Gaussian processes are popular surrogate models in Bayesian optimization used to do hyperparameter optimization.', 'A genetic algorithm (GA) is a search algorithm and heuristic technique that mimics the process of natural selection, using methods such as mutation and crossover to generate new genotypes in the hope of finding good solutions to a given problem.', 'In machine learning, genetic algorithms were used in the 1980s and 1990s.', '[78][79] Conversely, machine learning techniques have been used to improve the performance of genetic and evolutionary algorithms.', '[80]\\n\\nThe theory of belief functions, also referred to as evidence theory or Dempster–Shafer theory, is a general framework for reasoning with uncertainty, with understood connections to other frameworks such as probability, possibility and imprecise probability theories.', \"These theoretical frameworks can be thought of as a kind of learner and have some analogous properties of how evidence is combined (e.g., Dempster's rule of combination), just like how in a pmf-based Bayesian approach would combine probabilities.\", 'However, there are many caveats to these beliefs functions when compared to Bayesian approaches in order to incorporate ignorance and Uncertainty quantification.', \"These belief function approaches that are implemented within the machine learning domain typically leverage a fusion approach of various ensemble methods to better handle the learner's decision boundary, low samples, and ambiguous class issues that standard machine learning approach tend to have difficulty resolving.\", '[4][6][11] However, the computational complexity of these algorithms are dependent on the number of propositions (classes), and can lead a much higher computation time when compared to other machine learning approaches.', 'Typically, machine learning models require a high quantity of reliable data in order for the models to perform accurate predictions.', 'When training a machine learning model, machine learning engineers need to target and collect a large and representative sample of data.', 'Data from the training set can be as varied as a corpus of text, a collection of images, sensor data, and data collected from individual users of a service.', 'Overfitting is something to watch out for when training a machine learning model.', 'Trained models derived from biased or non-evaluated data can result in skewed or undesired predictions.', 'Bias models may result in detrimental outcomes thereby furthering the negative impacts on society or objectives.', 'Algorithmic bias is a potential result of data not being fully prepared for training.', 'Machine learning ethics is becoming a field of study and notably be integrated within machine learning engineering teams.', \"Federated learning is an adapted form of distributed artificial intelligence to training machine learning models that decentralizes the training process, allowing for users' privacy to be maintained by not needing to send their data to a centralized server.\", 'This also increases efficiency by decentralizing the training process to many devices.', \"For example, Gboard uses federated machine learning to train search query prediction models on users' mobile phones without having to send individual searches back to Google.\", '[81]\\n\\nThere are many applications for machine learning, including:\\n\\nIn 2006, the media-services provider Netflix held the first \"Netflix Prize\" competition to find a program to better predict user preferences and improve the accuracy of its existing Cinematch movie recommendation algorithm by at least 10%.', 'A joint team made up of researchers from AT&T Labs-Research in collaboration with the teams Big Chaos and Pragmatic Theory built an ensemble model to win the Grand Prize in 2009 for $1 million.', '[84] Shortly after the prize was awarded, Netflix realized that viewers\\' ratings were not the best indicators of their viewing patterns (\"everything is a recommendation\") and they changed their recommendation engine accordingly.', '[85] In 2010 The Wall Street Journal wrote about the firm Rebellion Research and their use of machine learning to predict the financial crisis.', '[86] In 2012, co-founder of Sun Microsystems, Vinod Khosla, predicted that 80% of medical doctors jobs would be lost in the next two decades to automated machine learning medical diagnostic software.', '[87] In 2014, it was reported that a machine learning algorithm had been applied in the field of art history to study fine art paintings and that it may have revealed previously unrecognized influences among artists.', '[88] In 2019 Springer Nature published the first research book created using machine learning.', '[89] In 2020, machine learning technology was used to help make diagnoses and aid researchers in developing a cure for COVID-19.', '[90] Machine learning was recently applied to predict the pro-environmental behavior of travelers.', \"[91] Recently, machine learning technology was also applied to optimize smartphone's performance and thermal behavior based on the user's interaction with the phone.\", '[92][93][94]\\n\\nAlthough machine learning has been transformative in some fields, machine-learning programs often fail to deliver expected results.', '[95][96][97] Reasons for this are numerous: lack of (suitable) data, lack of access to the data, data bias, privacy problems, badly chosen tasks and algorithms, wrong tools and people, lack of resources, and evaluation problems.', '[98]\\n\\nIn 2018, a self-driving car from Uber failed to detect a pedestrian, who was killed after a collision.', '[99] Attempts to use machine learning in healthcare with the IBM Watson system failed to deliver even after years of time and billions of dollars invested.', '[100][101]\\n\\nMachine learning has been used as a strategy to update the evidence related to a systematic review and increased reviewer burden related to the growth of biomedical literature.', 'While it has improved with training sets, it has not yet developed sufficiently to reduce the workload burden without limiting the necessary sensitivity for the findings research themselves.', '[102]\\n\\nMachine learning approaches in particular can suffer from different data biases.', 'A machine learning system trained specifically on current customers may not be able to predict the needs of new customer groups that are not represented in the training data.', 'When trained on human-made data, machine learning is likely to pick up the constitutional and unconscious biases already present in society.', '[103] Language models learned from data have been shown to contain human-like biases.', '[104][105] Machine learning systems used for criminal risk assessment have been found to be biased against black people.', '[106][107] In 2015, Google photos would often tag black people as gorillas,[108] and in 2018 this still was not well resolved, but Google reportedly was still using the workaround to remove all gorillas from the training data, and thus was not able to recognize real gorillas at all.', '[109] Similar issues with recognizing non-white people have been found in many other systems.', '[110] In 2016, Microsoft tested a chatbot that learned from Twitter, and it quickly picked up racist and sexist language.', '[111] Because of such challenges, the effective use of machine learning may take longer to be adopted in other domains.', '[112] Concern for fairness in machine learning, that is, reducing bias in machine learning and propelling its use for human good is increasingly expressed by artificial intelligence scientists, including Fei-Fei Li, who reminds engineers that \"There\\'s nothing artificial about AI...It\\'s inspired by people, it\\'s created by people, and—most importantly—it impacts people.', 'It is a powerful tool we are only just beginning to understand, and that is a profound responsibility.', '\"[113]\\n\\nExplainable AI (XAI), or Interpretable AI, or Explainable Machine Learning (XML), is artificial intelligence (AI) in which humans can understand the decisions or predictions made by the AI.', '[114] It contrasts with the \"black box\" concept in machine learning where even its designers cannot explain why an AI arrived at a specific decision.', '[115] By refining the mental models of users of AI-powered systems and dismantling their misconceptions, XAI promises to help users perform more effectively.', 'XAI may be an implementation of the social right to explanation.', 'Settling on a bad, overly complex theory gerrymandered to fit all the past training data is known as overfitting.', 'Many systems attempt to reduce overfitting by rewarding a theory in accordance with how well it fits the data but penalizing the theory in accordance with how complex the theory is.', 'Learners can also disappoint by \"learning the wrong lesson\".', 'A toy example is that an image classifier trained only on pictures of brown horses and black cats might conclude that all brown patches are likely to be horses.', 'A real-world example is that, unlike humans, current image classifiers often do not primarily make judgments from the spatial relationship between components of the picture, and they learn relationships between pixels that humans are oblivious to, but that still correlate with images of certain types of real objects.', 'Modifying these patterns on a legitimate image can result in \"adversarial\" images that the system misclassifies.', '[118][119]\\n\\nAdversarial vulnerabilities can also result in nonlinear systems, or from non-pattern perturbations.', 'Some systems are so brittle that changing a single adversarial pixel predictably induces misclassification.', '[citation needed] Machine learning models are often vulnerable to manipulation and/or evasion via adversarial machine learning.', '[120]\\n\\nResearchers have demonstrated how backdoors can be placed undetectably into classifying (e.g., for categories \"spam\" and well-visible \"not spam\" of posts) machine learning models which are often developed and/or trained by third parties.', 'Parties can change the classification of any input, including in cases for which a type of data/software transparency is provided, possibly including white-box access.', '[121][122][123]\\n\\nClassification of machine learning models can be validated by accuracy estimation techniques like the holdout method, which splits the data in a training and test set (conventionally 2/3 training set and 1/3 test set designation) and evaluates the performance of the training model on the test set.', 'In comparison, the K-fold-cross-validation method randomly partitions the data into K subsets and then K experiments are performed each respectively considering 1 subset for evaluation and the remaining K-1 subsets for training the model.', 'In addition to the holdout and cross-validation methods, bootstrap, which samples n instances with replacement from the dataset, can be used to assess model accuracy.', '[124]\\n\\nIn addition to overall accuracy, investigators frequently report sensitivity and specificity meaning True Positive Rate (TPR) and True Negative Rate (TNR) respectively.', 'Similarly, investigators sometimes report the false positive rate (FPR) as well as the false negative rate (FNR).', 'However, these rates are ratios that fail to reveal their numerators and denominators.', \"The total operating characteristic (TOC) is an effective method to express a model's diagnostic ability.\", \"TOC shows the numerators and denominators of the previously mentioned rates, thus TOC provides more information than the commonly used receiver operating characteristic (ROC) and ROC's associated area under the curve (AUC).\", '[125]\\n\\nMachine learning poses a host of ethical questions.', 'Systems that are trained on datasets collected with biases may exhibit these biases upon use (algorithmic bias), thus digitizing cultural prejudices.', \"[126] For example, in 1988, the UK's Commission for Racial Equality found that St. George's Medical School had been using a computer program trained from data of previous admissions staff and this program had denied nearly 60 candidates who were found to be either women or had non-European sounding names.\", '[103] Using job hiring data from a firm with racist hiring policies may lead to a machine learning system duplicating the bias by scoring job applicants by similarity to previous successful applicants.', '[127][128] Responsible collection of data and documentation of algorithmic rules used by a system thus is a critical part of machine learning.', 'AI can be well-equipped to make decisions in technical fields, which rely heavily on data and historical information.', 'These decisions rely on objectivity and logical reasoning.', '[129] Because human languages contain biases, machines trained on language corpora will necessarily also learn these biases.', '[130][131]\\n\\nOther forms of ethical challenges, not related to personal biases, are seen in health care.', \"There are concerns among health care professionals that these systems might not be designed in the public's interest but as income-generating machines.\", '[132] This is especially true in the United States where there is a long-standing ethical dilemma of improving health care, but also increasing profits.', \"For example, the algorithms could be designed to provide patients with unnecessary tests or medication in which the algorithm's proprietary owners hold stakes.\", 'There is potential for machine learning in health care to provide professionals an additional tool to diagnose, medicate, and plan recovery paths for patients, but this requires these biases to be mitigated.', '[133]\\n\\nSince the 2010s, advances in both machine learning algorithms and computer hardware have led to more efficient methods for training deep neural networks (a particular narrow subdomain of machine learning) that contain many layers of non-linear hidden units.', '[134] By 2019, graphic processing units (GPUs), often with AI-specific enhancements, had displaced CPUs as the dominant method of training large-scale commercial cloud AI.', '[135] OpenAI estimated the hardware computing used in the largest deep learning projects from AlexNet (2012) to AlphaZero (2017), and found a 300,000-fold increase in the amount of compute required, with a doubling-time trendline of 3.4 months.', '[136][137]\\n\\nA physical neural network or Neuromorphic computer is a type of artificial neural network in which an electrically adjustable material is used to emulate the function of a neural synapse.', '\"Physical\" neural network is used to emphasize the reliance on physical hardware used to emulate neurons as opposed to software-based approaches.', 'More generally the term is applicable to other artificial neural networks in which a memristor or other electrically adjustable resistance material is used to emulate a neural synapse.', '[138][139]\\n\\nEmbedded Machine Learning is a sub-field of machine learning, where the machine learning model is run on embedded systems with limited computing resources such as wearable computers, edge devices and microcontrollers.', '[140][141][142] Running machine learning model in embedded devices removes the need for transferring and storing data on cloud servers for further processing, henceforth, reducing data breaches and privacy leaks happening because of transferring data, and also minimizes theft of intellectual properties, personal data and business secrets.', 'Embedded Machine Learning could be applied through several techniques including hardware acceleration,[143][144] using approximate computing,[145] optimization of machine learning models and many more.', '[146][147]\\n\\nSoftware suites containing a variety of machine learning algorithms include the following:\\n• European Conference on Machine Learning and Principles and Practice of Knowledge Discovery in Databases (ECML PKDD)\\n• International Conference on Computational Intelligence Methods for Bioinformatics and Biostatistics (CIBB)\\n• Automated machine learning – Process of automating the application of machine learning\\n• Big data – information assets characterized by such a high volume, velocity, and variety to require specific technology and analytical methods for its transformation into value\\n• None Domingos, Pedro (September 22, 2015).', 'The Master Algorithm: How the Quest for the Ultimate Learning Machine Will Remake Our World.', 'Basic Books.', 'ISBN .', '• None Nilsson, Nils (1998).', '.', 'Morgan Kaufmann.', 'Archived from the original on 26 July 2020 .', '• None Poole, David; Mackworth, Alan; Goebel, Randy (1998).', 'Computational Intelligence: A Logical Approach.', 'New York: Oxford University Press.', '• mloss is an academic database of open-source machine learning software.'])"
            ]
          },
          "metadata": {},
          "execution_count": 55
        }
      ]
    },
    {
      "cell_type": "code",
      "source": [
        "import heapq\n",
        "percentage3=0.5\n",
        "if percentage3>0:\n",
        "  best_sentence_articles=heapq.nlargest(int(len(sentence_list3)*percentage3),score_sentences3, key= score_sentences3.get )\n",
        "else:\n",
        "  best_sentence_articles=heapq.nlargest(36,score_sentences3, key= score_sentences3.get )"
      ],
      "metadata": {
        "id": "6M7cs2_rG8-j"
      },
      "execution_count": null,
      "outputs": []
    },
    {
      "cell_type": "code",
      "source": [
        "best_sentence_articles"
      ],
      "metadata": {
        "colab": {
          "base_uri": "https://localhost:8080/"
        },
        "id": "recnsR9UF8Ld",
        "outputId": "77f6df60-7dc4-4548-d46f-b575badd89d4"
      },
      "execution_count": null,
      "outputs": [
        {
          "output_type": "execute_result",
          "data": {
            "text/plain": [
              "['[146][147]\\n\\nSoftware suites containing a variety of machine learning algorithms include the following:\\n• European Conference on Machine Learning and Principles and Practice of Knowledge Discovery in Databases (ECML PKDD)\\n• International Conference on Computational Intelligence Methods for Bioinformatics and Biostatistics (CIBB)\\n• Automated machine learning – Process of automating the application of machine learning\\n• Big data – information assets characterized by such a high volume, velocity, and variety to require specific technology and analytical methods for its transformation into value\\n• None Domingos, Pedro (September 22, 2015).',\n",
              " 'Learning classifier systems (LCS) are a family of rule-based machine learning algorithms that combine a discovery component, typically a genetic algorithm, with a learning component, performing either supervised learning, reinforcement learning, or unsupervised learning.',\n",
              " 'Machine learning approaches are traditionally divided into three broad categories, which correspond to learning paradigms, depending on the nature of the \"signal\" or \"feedback\" available to the learning system:\\n• Supervised learning: The computer is presented with example inputs and their desired outputs, given by a \"teacher\", and the goal is to learn a general rule that maps inputs to outputs.',\n",
              " 'Data mining uses many machine learning methods, but with different goals; on the other hand, machine learning also employs data mining methods as \"unsupervised learning\" or as a preprocessing step to improve learner accuracy.',\n",
              " '[24]\\n\\nMachine learning and data mining often employ the same methods and overlap significantly, but while machine learning focuses on prediction, based on known properties learned from the training data, data mining focuses on the discovery of (previously) unknown properties in the data (this is the analysis step of knowledge discovery in databases).',\n",
              " '[138][139]\\n\\nEmbedded Machine Learning is a sub-field of machine learning, where the machine learning model is run on embedded systems with limited computing resources such as wearable computers, edge devices and microcontrollers.',\n",
              " 'Robot learning is inspired by a multitude of machine learning methods, starting from supervised learning, reinforcement learning,[64][65] and finally meta-learning (e.g.',\n",
              " 'Semi-supervised learning falls between unsupervised learning (without any labeled training data) and supervised learning (with completely labeled training data).',\n",
              " '[17]\\n\\nTom M. Mitchell provided a widely quoted, more formal definition of the algorithms studied in the machine learning field: \"A computer program is said to learn from experience E with respect to some class of tasks T and performance measure P if its performance at tasks in T, as measured by P, improves with experience E.\"[18] This definition of the tasks in which machine learning is concerned offers a fundamentally operational definition rather than defining the field in cognitive terms.',\n",
              " '[112] Concern for fairness in machine learning, that is, reducing bias in machine learning and propelling its use for human good is increasingly expressed by artificial intelligence scientists, including Fei-Fei Li, who reminds engineers that \"There\\'s nothing artificial about AI...It\\'s inspired by people, it\\'s created by people, and—most importantly—it impacts people.',\n",
              " \"[14] A representative book on research into machine learning during the 1960s was Nilsson's book on Learning Machines, dealing mostly with machine learning for pattern classification.\",\n",
              " 'The computational analysis of machine learning algorithms and their performance is a branch of theoretical computer science known as computational learning theory via the Probably Approximately Correct Learning (PAC) model.',\n",
              " '[121][122][123]\\n\\nClassification of machine learning models can be validated by accuracy estimation techniques like the holdout method, which splits the data in a training and test set (conventionally 2/3 training set and 1/3 test set designation) and evaluates the performance of the training model on the test set.',\n",
              " '[133]\\n\\nSince the 2010s, advances in both machine learning algorithms and computer hardware have led to more efficient methods for training deep neural networks (a particular narrow subdomain of machine learning) that contain many layers of non-linear hidden units.',\n",
              " 'When training a machine learning model, machine learning engineers need to target and collect a large and representative sample of data.',\n",
              " '[67] Rule-based machine learning approaches include learning classifier systems, association rule learning, and artificial immune systems.',\n",
              " '[140][141][142] Running machine learning model in embedded devices removes the need for transferring and storing data on cloud servers for further processing, henceforth, reducing data breaches and privacy leaks happening because of transferring data, and also minimizes theft of intellectual properties, personal data and business secrets.',\n",
              " '[25]\\n\\nThe difference between optimization and machine learning arises from the goal of generalization: while optimization algorithms can minimize the loss on a training set, machine learning is concerned with minimizing the loss on unseen samples.',\n",
              " \"Federated learning is an adapted form of distributed artificial intelligence to training machine learning models that decentralizes the training process, allowing for users' privacy to be maintained by not needing to send their data to a centralized server.\",\n",
              " \"These belief function approaches that are implemented within the machine learning domain typically leverage a fusion approach of various ensemble methods to better handle the learner's decision boundary, low samples, and ambiguous class issues that standard machine learning approach tend to have difficulty resolving.\",\n",
              " '[66]\\n\\nRule-based machine learning is a general term for any machine learning method that identifies, learns, or evolves \"rules\" to store, manipulate or apply knowledge.',\n",
              " 'Study of algorithms that improve automatically through experience\\n\\nMachine learning (ML) is an umbrella term for solving problems for which development of algorithms by human programmers would be cost-prohibitive, and instead the problems are solved by helping machines \"discover\" their \"own\" algorithms,[1] without needing to be explicitly told what to do by any human-developed algorithms.',\n",
              " 'Embedded Machine Learning could be applied through several techniques including hardware acceleration,[143][144] using approximate computing,[145] optimization of machine learning models and many more.',\n",
              " 'Machine learning and statistics are closely related fields in terms of methods, but distinct in their principal goal: statistics draws population inferences from a sample, while machine learning finds generalizable predictive patterns.',\n",
              " '[28]\\n\\nLeo Breiman distinguished two statistical modeling paradigms: data model and algorithmic model,[29] wherein \"algorithmic model\" means more or less the machine learning algorithms like Random Forest.',\n",
              " 'Machine learning also has intimate ties to optimization: many learning problems are formulated as minimization of some loss function on a training set of examples.',\n",
              " '[7][33] Generalization in this context is the ability of a learning machine to perform accurately on new, unseen examples/tasks after having experienced a learning data set.',\n",
              " '[citation needed] Machine learning models are often vulnerable to manipulation and/or evasion via adversarial machine learning.',\n",
              " 'Feature learning algorithms, also called representation learning algorithms, often attempt to preserve the information in their input but also transform it in a way that makes it useful, often as a pre-processing step before performing classification or predictions.',\n",
              " 'Similarity learning is an area of supervised machine learning closely related to regression and classification, but the goal is to learn from examples using a similarity function that measures how similar or related two objects are.',\n",
              " 'Machine learning ethics is becoming a field of study and notably be integrated within machine learning engineering teams.',\n",
              " '[12][13]\\n\\nBy the early 1960s an experimental \"learning machine\" with punched tape memory, called Cybertron, had been developed by Raytheon Company to analyze sonar signals, electrocardiograms, and speech patterns using rudimentary reinforcement learning.',\n",
              " 'Performing machine learning can involve creating a model, which is trained on some training data and then can process additional data to make predictions.',\n",
              " 'Unsupervised learning algorithms take a set of data that contains only inputs, and find structure in the data, like grouping or clustering of data points.',\n",
              " 'Some of the training examples are missing training labels, yet many machine-learning researchers have found that unlabeled data, when used in conjunction with a small amount of labeled data, can produce a considerable improvement in learning accuracy.',\n",
              " '[57]\\n\\nFeature learning is motivated by the fact that machine learning tasks such as classification often require input that is mathematically and computationally convenient to process.',\n",
              " 'Much of the confusion between these two research communities (which do often have separate conferences and separate journals, ECML PKDD being a major exception) comes from the basic assumptions they work with: in machine learning, performance is usually evaluated with respect to the ability to reproduce known knowledge, while in knowledge discovery and data mining (KDD) the key task is the discovery of previously unknown knowledge.',\n",
              " 'Some statisticians have adopted methods from machine learning, leading to a combined field that they call statistical learning.',\n",
              " 'Association rule learning is a rule-based machine learning method for discovering relationships between variables in large databases.',\n",
              " '[43]\\n\\nReinforcement learning is an area of machine learning concerned with how software agents ought to take actions in an environment so as to maximize some notion of cumulative reward.',\n",
              " '[47]\\n\\nAs of 2022, deep learning is the dominant approach for much ongoing work in the field of machine learning.',\n",
              " 'Unsupervised learning can be a goal in itself (discovering hidden patterns in data) or a means towards an end (feature learning).',\n",
              " '[19]\\n\\nModern-day machine learning has two objectives, one is to classify data based on models which have been developed, the other purpose is to make predictions for future outcomes based on these models.',\n",
              " 'Sparse dictionary learning is a feature learning method where a training example is represented as a linear combination of basis functions, and is assumed to be a sparse matrix.',\n",
              " '[120]\\n\\nResearchers have demonstrated how backdoors can be placed undetectably into classifying (e.g., for categories \"spam\" and well-visible \"not spam\" of posts) machine learning models which are often developed and/or trained by third parties.',\n",
              " 'A machine learning system trained specifically on current customers may not be able to predict the needs of new customer groups that are not represented in the training data.',\n",
              " 'Characterizing the generalization of various learning algorithms is an active topic of current research, especially for deep learning algorithms.',\n",
              " '\"[113]\\n\\nExplainable AI (XAI), or Interpretable AI, or Explainable Machine Learning (XML), is artificial intelligence (AI) in which humans can understand the decisions or predictions made by the AI.',\n",
              " 'In contrast, machine learning is not built on a pre-structured model; rather, the data shape the model by detecting underlying patterns.',\n",
              " 'Typically, machine learning models require a high quantity of reliable data in order for the models to perform accurate predictions.',\n",
              " '[81]\\n\\nThere are many applications for machine learning, including:\\n\\nIn 2006, the media-services provider Netflix held the first \"Netflix Prize\" competition to find a program to better predict user preferences and improve the accuracy of its existing Cinematch movie recommendation algorithm by at least 10%.',\n",
              " 'Instead of responding to feedback, unsupervised learning algorithms identify commonalities in the data and react based on the presence or absence of such commonalities in each new piece of data.',\n",
              " 'Reinforcement learning algorithms are used in autonomous vehicles or in learning to play a game against a human opponent.',\n",
              " 'It is one of the predictive modeling approaches used in statistics, data mining, and machine learning.',\n",
              " \"[49] The self-learning algorithm updates a memory matrix W =||w(a,s)|| such that in each iteration executes the following machine learning routine:\\n• compute emotion of being in consequence situation v(s')\\n• update crossbar memory w'(a,s) = w(a,s) + v(s')\\n\\nIt is a system with only one input, situation, and only one output, action (or behavior) a.\",\n",
              " '• Unsupervised learning: No labels are given to the learning algorithm, leaving it on its own to find structure in its input.',\n",
              " '[103] Using job hiring data from a firm with racist hiring policies may lead to a machine learning system duplicating the bias by scoring job applicants by similarity to previous successful applicants.',\n",
              " '[127][128] Responsible collection of data and documentation of algorithmic rules used by a system thus is a critical part of machine learning.',\n",
              " '[63] Unsupervised anomaly detection techniques detect anomalies in an unlabeled test data set under the assumption that the majority of the instances in the data set are normal, by looking for instances that seem to fit the least to the remainder of the data set.',\n",
              " 'Supervised anomaly detection techniques require a data set that has been labeled as \"normal\" and \"abnormal\" and involves training a classifier (the key difference to many other statistical classification problems is the inherently unbalanced nature of outlier detection).',\n",
              " 'Data mining is a related (parallel) field of study, focusing on exploratory data analysis through unsupervised learning.',\n",
              " '[35][36][37]\\n\\nSupervised learning algorithms build a mathematical model of a set of data that contains both the inputs and the desired outputs.',\n",
              " '[30]\\n\\nAnalytical and computational techniques derived from deep-rooted physics of disordered systems can be extended to large-scale problems, including machine learning, e.g., to analyze the weight space of deep neural networks.',\n",
              " '[34]\\n\\nIn addition to performance bounds, learning theorists study the time complexity and feasibility of learning.',\n",
              " '[102]\\n\\nMachine learning approaches in particular can suffer from different data biases.',\n",
              " 'When trained on human-made data, machine learning is likely to pick up the constitutional and unconscious biases already present in society.',\n",
              " 'This is in contrast to other machine learning algorithms that commonly identify a singular model that can be universally applied to any instance in order to make a prediction.',\n",
              " '[114] It contrasts with the \"black box\" concept in machine learning where even its designers cannot explain why an AI arrived at a specific decision.',\n",
              " '[78][79] Conversely, machine learning techniques have been used to improve the performance of genetic and evolutionary algorithms.',\n",
              " '[4][6][11] However, the computational complexity of these algorithms are dependent on the number of propositions (classes), and can lead a much higher computation time when compared to other machine learning approaches.',\n",
              " '[95][96][97] Reasons for this are numerous: lack of (suitable) data, lack of access to the data, data bias, privacy problems, badly chosen tasks and algorithms, wrong tools and people, lack of resources, and evaluation problems.',\n",
              " 'The defining characteristic of a rule-based machine learning algorithm is the identification and utilization of a set of relational rules that collectively represent the knowledge captured by the system.',\n",
              " \"[91] Recently, machine learning technology was also applied to optimize smartphone's performance and thermal behavior based on the user's interaction with the phone.\",\n",
              " 'Support-vector machines (SVMs), also known as support-vector networks, are a set of related supervised learning methods used for classification and regression.',\n",
              " \"Although not all machine learning is statistically based, computational statistics is an important source of the field's methods.\",\n",
              " 'Overfitting is something to watch out for when training a machine learning model.',\n",
              " 'A hypothetical algorithm specific to classifying data may use computer vision of moles coupled with supervised learning in order to train it to classify the cancerous moles.',\n",
              " 'History and relationships to other fields\\n\\nThe term machine learning was coined in 1959 by Arthur Samuel, an IBM employee and pioneer in the field of computer gaming and artificial intelligence.',\n",
              " 'Various types of models have been used and researched for machine learning systems.',\n",
              " '[87] In 2014, it was reported that a machine learning algorithm had been applied in the field of art history to study fine art paintings and that it may have revealed previously unrecognized influences among artists.',\n",
              " 'Other approaches have been developed which do not fit neatly into this three-fold categorization, and sometimes more than one is used by the same machine learning system.',\n",
              " 'In machine learning, genetic algorithms were used in the 1980s and 1990s.',\n",
              " 'Data from the training set can be as varied as a corpus of text, a collection of images, sensor data, and data collected from individual users of a service.',\n",
              " \"For example, Gboard uses federated machine learning to train search query prediction models on users' mobile phones without having to send individual searches back to Google.\",\n",
              " '[104][105] Machine learning systems used for criminal risk assessment have been found to be biased against black people.',\n",
              " '[46] The manifold hypothesis proposes that high-dimensional data sets lie along low-dimensional manifolds, and many dimensionality reduction techniques make this assumption, leading to the area of manifold learning and manifold regularization.',\n",
              " '[44] Reinforcement learning algorithms do not assume knowledge of an exact mathematical model of the MDP and are used when exact models are infeasible.',\n",
              " 'Through iterative optimization of an objective function, supervised learning algorithms learn a function that can be used to predict the output associated with new inputs.',\n",
              " 'Multilinear subspace learning algorithms aim to learn low-dimensional representations directly from tensor representations for multidimensional data, without reshaping them into higher-dimensional vectors.',\n",
              " 'In supervised feature learning, features are learned using labeled input data.',\n",
              " '[100][101]\\n\\nMachine learning has been used as a strategy to update the evidence related to a systematic review and increased reviewer burden related to the growth of biomedical literature.',\n",
              " '[89] In 2020, machine learning technology was used to help make diagnoses and aid researchers in developing a cure for COVID-19.',\n",
              " '[1]\\n\\nSelf-learning, as a machine learning paradigm was introduced in 1982 along with a neural network capable of self-learning, named crossbar adaptive array (CAA).',\n",
              " 'In unsupervised feature learning, features are learned with unlabeled input data.',\n",
              " '[20]\\n\\nAs a scientific endeavor, machine learning grew out of the quest for artificial intelligence (AI).',\n",
              " 'A machine learning algorithm for stock trading may inform the trader of future potential predictions.',\n",
              " 'In weakly supervised learning, the training labels are noisy, limited, or imprecise; however, these labels are often cheaper to obtain, resulting in larger effective training sets.',\n",
              " '[86] In 2012, co-founder of Sun Microsystems, Vinod Khosla, predicted that 80% of medical doctors jobs would be lost in the next two decades to automated machine learning medical diagnostic software.',\n",
              " '[23]: 488\\n\\nHowever, an increasing emphasis on the logical, knowledge-based approach caused a rift between AI and machine learning.',\n",
              " '[99] Attempts to use machine learning in healthcare with the IBM Watson system failed to deliver even after years of time and billions of dollars invested.',\n",
              " '[92][93][94]\\n\\nAlthough machine learning has been transformative in some fields, machine-learning programs often fail to deliver expected results.',\n",
              " '[38] The data is known as training data, and consists of a set of training examples.',\n",
              " '[88] In 2019 Springer Nature published the first research book created using machine learning.',\n",
              " '[111] Because of such challenges, the effective use of machine learning may take longer to be adopted in other domains.',\n",
              " \"[74]\\n\\nDecision tree learning uses a decision tree as a predictive model to go from observations about an item (represented in the branches) to conclusions about the item's target value (represented in the leaves).\",\n",
              " 'There is potential for machine learning in health care to provide professionals an additional tool to diagnose, medicate, and plan recovery paths for patients, but this requires these biases to be mitigated.',\n",
              " '[85] In 2010 The Wall Street Journal wrote about the firm Rebellion Research and their use of machine learning to predict the financial crisis.',\n",
              " '[23]: 25\\n\\nMachine learning (ML), reorganized and recognized as its own field, started to flourish in the 1990s.',\n",
              " '[26] According to Michael I. Jordan, the ideas of machine learning, from methodological principles to theoretical tools, have had a long pre-history in statistics.',\n",
              " 'Semi-supervised anomaly detection techniques construct a model representing normal behavior from a given normal training data set and then test the likelihood of a test instance to be generated by the model.',\n",
              " 'The Master Algorithm: How the Quest for the Ultimate Learning Machine Will Remake Our World.',\n",
              " 'Gordon Plotkin and Ehud Shapiro laid the initial theoretical foundation for inductive machine learning in a logical setting.',\n",
              " '[90] Machine learning was recently applied to predict the pro-environmental behavior of travelers.',\n",
              " 'Evaluated with respect to known knowledge, an uninformed (unsupervised) method will easily be outperformed by other supervised methods, while in a typical KDD task, supervised methods cannot be used due to the unavailability of training data.',\n",
              " '[41] Though unsupervised learning encompasses other domains involving summarizing and explaining data features.',\n",
              " 'Because training sets are finite and the future is uncertain, learning theory usually does not yield guarantees of the performance of algorithms.',\n",
              " '• mloss is an academic database of open-source machine learning software.',\n",
              " '[24] Work on symbolic/knowledge-based learning did continue within AI, leading to inductive logic programming, but the more statistical line of research was now outside the field of AI proper, in pattern recognition and information retrieval.',\n",
              " '[69]\\n\\nInductive logic programming (ILP) is an approach to rule learning using logic programming as a uniform representation for input examples, background knowledge, and hypotheses.',\n",
              " '[50]\\n\\nSeveral learning algorithms aim at discovering better representations of the inputs provided during training.',\n",
              " 'In the mathematical model, each training example is represented by an array or vector, sometimes called a feature vector, and the training data is represented by a matrix.',\n",
              " '[125]\\n\\nMachine learning poses a host of ethical questions.',\n",
              " '[56] Deep learning algorithms discover multiple levels of representation, or a hierarchy of features, with higher-level, more abstract features defined in terms of (or generating) lower-level features.',\n",
              " 'Examples include artificial neural networks, multilayer perceptrons, and supervised dictionary learning.',\n",
              " 'Given a set of training examples, each marked as belonging to one of two categories, an SVM training algorithm builds a model that predicts whether a new example falls into one category.',\n",
              " 'Unsupervised learning algorithms streamlined the process of survey and graph large indel based haplotypes of a gene of interest from pan-genome.',\n",
              " 'Many reinforcements learning algorithms use dynamic programming techniques.',\n",
              " 'Learners can also disappoint by \"learning the wrong lesson\".',\n",
              " 'When dealing with non-linear problems, go-to models include polynomial regression (for example, used for trendline fitting in Microsoft Excel[76]), logistic regression (often used in statistical classification) or even kernel regression, which introduces non-linearity by taking advantage of the kernel trick to implicitly map input variables to higher-dimensional space.',\n",
              " '[59]\\n\\nIn data mining, anomaly detection, also known as outlier detection, is the identification of rare items, events or observations which raise suspicions by differing significantly from the majority of the data.',\n",
              " '• Reinforcement learning: A computer program interacts with a dynamic environment in which it must perform a certain goal (such as driving a vehicle or playing a game against an opponent).',\n",
              " '[18]\\n\\nTypes of supervised-learning algorithms include active learning, classification and regression.',\n",
              " 'Artificial neural networks have been used on a variety of tasks, including computer vision, speech recognition, machine translation, social network filtering, playing board and video games and medical diagnosis.',\n",
              " 'This results in a smaller dimension of data (2D instead of 3D), while keeping all original variables in the model without changing the data.',\n",
              " '[135] OpenAI estimated the hardware computing used in the largest deep learning projects from AlexNet (2012) to AlphaZero (2017), and found a 300,000-fold increase in the amount of compute required, with a doubling-time trendline of 3.4 months.',\n",
              " 'A central application of unsupervised learning is in the field of density estimation in statistics, such as finding the probability density function.',\n",
              " '[53][54][55]\\n\\nManifold learning algorithms attempt to do so under the constraint that the learned representation is low-dimensional.',\n",
              " 'Deep learning consists of multiple hidden layers in an artificial neural network.',\n",
              " 'In data mining, a decision tree describes data, but the resulting classification tree can be an input for decision-making.',\n",
              " 'Given a set of observed points, or input–output examples, the distribution of the (unobserved) output of a new point as function of its input data can be directly computed by looking like the observed points and the covariances between those points and the new, unobserved point.',\n",
              " '[40] Classification algorithms are used when the outputs are restricted to a limited set of values, and regression algorithms are used when the outputs may have any numerical value within a range.',\n",
              " 'Examples include dictionary learning, independent component analysis, autoencoders, matrix factorization[52] and various forms of clustering.',\n",
              " 'In reinforcement learning, the environment is typically represented as a Markov decision process (MDP).',\n",
              " \"[126] For example, in 1988, the UK's Commission for Racial Equality found that St. George's Medical School had been using a computer program trained from data of previous admissions staff and this program had denied nearly 60 candidates who were found to be either women or had non-European sounding names.\",\n",
              " 'In contrast with sequence mining, association rule learning typically does not consider the order of items either within a transaction or across transactions.',\n",
              " 'Efficient algorithms exist that perform inference and learning.',\n",
              " 'Loss functions express the discrepancy between the predictions of the model being trained and the actual problem instances (for example, in classification, one wants to assign a label to instances, and models are trained to correctly predict the pre-assigned labels of a set of examples).',\n",
              " '[58] A popular heuristic method for sparse dictionary learning is the K-SVD algorithm.',\n",
              " 'It has been argued that an intelligent machine is one that learns a representation that disentangles the underlying factors of variation that explain the observed data.',\n",
              " 'Sparse dictionary learning has also been applied in image de-noising.',\n",
              " '[106][107] In 2015, Google photos would often tag black people as gorillas,[108] and in 2018 this still was not well resolved, but Google reportedly was still using the workaround to remove all gorillas from the training data, and thus was not able to recognize real gorillas at all.',\n",
              " 'Artificial neurons and edges typically have a weight that adjusts as learning proceeds.',\n",
              " 'Feature learning can be either supervised or unsupervised.',\n",
              " 'In computational learning theory, a computation is considered feasible if it can be done in polynomial time.',\n",
              " 'An ANN is a model based on a collection of connected units or nodes called \"artificial neurons\", which loosely model the neurons in a biological brain.',\n",
              " 'Some successful applications of deep learning are computer vision and speech recognition.',\n",
              " 'They attempted to approach the problem with various symbolic methods, as well as what were then termed \"neural networks\"; these were mostly perceptrons and other models that were later found to be reinventions of the generalized linear models of statistics.',\n",
              " 'However, real-world data such as images, video, and sensory data has not yielded attempts to algorithmically define specific features.',\n",
              " 'Many outlier detection methods (in particular, unsupervised algorithms) will fail on such data unless aggregated appropriately.',\n",
              " 'In comparison, the K-fold-cross-validation method randomly partitions the data into K subsets and then K experiments are performed each respectively considering 1 subset for evaluation and the remaining K-1 subsets for training the model.',\n",
              " 'Sparse dictionary learning has been applied in several contexts.',\n",
              " 'Due to its generality, the field is studied in many other disciplines, such as game theory, control theory, operations research, information theory, simulation-based optimization, multi-agent systems, swarm intelligence, statistics and genetic algorithms.',\n",
              " 'Many systems attempt to reduce overfitting by rewarding a theory in accordance with how well it fits the data but penalizing the theory in accordance with how complex the theory is.',\n",
              " '[39] An optimal function allows the algorithm to correctly determine the output for inputs that were not a part of the training data.',\n",
              " 'Different clustering techniques make different assumptions on the structure of the data, often defined by some similarity metric and evaluated, for example, by internal compactness, or the similarity between members of the same cluster, and separation, the difference between clusters.',\n",
              " '[48] It is learning with no external rewards and no external teacher advice.']"
            ]
          },
          "metadata": {},
          "execution_count": 99
        }
      ]
    },
    {
      "cell_type": "code",
      "source": [
        "len(best_sentence_articles)"
      ],
      "metadata": {
        "colab": {
          "base_uri": "https://localhost:8080/"
        },
        "id": "S-n5e6ntT87z",
        "outputId": "18620f6b-048a-44a5-d46f-fb6977a12b3b"
      },
      "execution_count": null,
      "outputs": [
        {
          "output_type": "execute_result",
          "data": {
            "text/plain": [
              "166"
            ]
          },
          "metadata": {},
          "execution_count": 100
        }
      ]
    },
    {
      "cell_type": "code",
      "source": [
        "len(sentence_list3)"
      ],
      "metadata": {
        "colab": {
          "base_uri": "https://localhost:8080/"
        },
        "id": "fVi8bQbyUBvb",
        "outputId": "fd6525c3-5879-4f4c-f9fd-c6c3caed17e5"
      },
      "execution_count": null,
      "outputs": [
        {
          "output_type": "execute_result",
          "data": {
            "text/plain": [
              "332"
            ]
          },
          "metadata": {},
          "execution_count": 101
        }
      ]
    },
    {
      "cell_type": "code",
      "source": [
        "(120/len(sentence_list3))*100"
      ],
      "metadata": {
        "colab": {
          "base_uri": "https://localhost:8080/"
        },
        "id": "Wb0aMiqZL7me",
        "outputId": "a62274ff-3783-4854-a524-e166a2b6b446"
      },
      "execution_count": null,
      "outputs": [
        {
          "output_type": "execute_result",
          "data": {
            "text/plain": [
              "36.144578313253014"
            ]
          },
          "metadata": {},
          "execution_count": 102
        }
      ]
    },
    {
      "cell_type": "code",
      "source": [
        "summary3=' '.join(best_sentence_articles)\n",
        "summary3"
      ],
      "metadata": {
        "colab": {
          "base_uri": "https://localhost:8080/",
          "height": 145
        },
        "id": "5Hm0UQAwHtdE",
        "outputId": "575f96ee-e1cb-46d4-c629-765589ca43a4"
      },
      "execution_count": null,
      "outputs": [
        {
          "output_type": "execute_result",
          "data": {
            "text/plain": [
              "'[146][147]\\n\\nSoftware suites containing a variety of machine learning algorithms include the following:\\n• European Conference on Machine Learning and Principles and Practice of Knowledge Discovery in Databases (ECML PKDD)\\n• International Conference on Computational Intelligence Methods for Bioinformatics and Biostatistics (CIBB)\\n• Automated machine learning – Process of automating the application of machine learning\\n• Big data – information assets characterized by such a high volume, velocity, and variety to require specific technology and analytical methods for its transformation into value\\n• None Domingos, Pedro (September 22, 2015). Learning classifier systems (LCS) are a family of rule-based machine learning algorithms that combine a discovery component, typically a genetic algorithm, with a learning component, performing either supervised learning, reinforcement learning, or unsupervised learning. Machine learning approaches are traditionally divided into three broad categories, which correspond to learning paradigms, depending on the nature of the \"signal\" or \"feedback\" available to the learning system:\\n• Supervised learning: The computer is presented with example inputs and their desired outputs, given by a \"teacher\", and the goal is to learn a general rule that maps inputs to outputs. Data mining uses many machine learning methods, but with different goals; on the other hand, machine learning also employs data mining methods as \"unsupervised learning\" or as a preprocessing step to improve learner accuracy. [24]\\n\\nMachine learning and data mining often employ the same methods and overlap significantly, but while machine learning focuses on prediction, based on known properties learned from the training data, data mining focuses on the discovery of (previously) unknown properties in the data (this is the analysis step of knowledge discovery in databases). [138][139]\\n\\nEmbedded Machine Learning is a sub-field of machine learning, where the machine learning model is run on embedded systems with limited computing resources such as wearable computers, edge devices and microcontrollers. Robot learning is inspired by a multitude of machine learning methods, starting from supervised learning, reinforcement learning,[64][65] and finally meta-learning (e.g. Semi-supervised learning falls between unsupervised learning (without any labeled training data) and supervised learning (with completely labeled training data). [17]\\n\\nTom M. Mitchell provided a widely quoted, more formal definition of the algorithms studied in the machine learning field: \"A computer program is said to learn from experience E with respect to some class of tasks T and performance measure P if its performance at tasks in T, as measured by P, improves with experience E.\"[18] This definition of the tasks in which machine learning is concerned offers a fundamentally operational definition rather than defining the field in cognitive terms. [112] Concern for fairness in machine learning, that is, reducing bias in machine learning and propelling its use for human good is increasingly expressed by artificial intelligence scientists, including Fei-Fei Li, who reminds engineers that \"There\\'s nothing artificial about AI...It\\'s inspired by people, it\\'s created by people, and—most importantly—it impacts people. [14] A representative book on research into machine learning during the 1960s was Nilsson\\'s book on Learning Machines, dealing mostly with machine learning for pattern classification. The computational analysis of machine learning algorithms and their performance is a branch of theoretical computer science known as computational learning theory via the Probably Approximately Correct Learning (PAC) model. [121][122][123]\\n\\nClassification of machine learning models can be validated by accuracy estimation techniques like the holdout method, which splits the data in a training and test set (conventionally 2/3 training set and 1/3 test set designation) and evaluates the performance of the training model on the test set. [133]\\n\\nSince the 2010s, advances in both machine learning algorithms and computer hardware have led to more efficient methods for training deep neural networks (a particular narrow subdomain of machine learning) that contain many layers of non-linear hidden units. When training a machine learning model, machine learning engineers need to target and collect a large and representative sample of data. [67] Rule-based machine learning approaches include learning classifier systems, association rule learning, and artificial immune systems. [140][141][142] Running machine learning model in embedded devices removes the need for transferring and storing data on cloud servers for further processing, henceforth, reducing data breaches and privacy leaks happening because of transferring data, and also minimizes theft of intellectual properties, personal data and business secrets. [25]\\n\\nThe difference between optimization and machine learning arises from the goal of generalization: while optimization algorithms can minimize the loss on a training set, machine learning is concerned with minimizing the loss on unseen samples. Federated learning is an adapted form of distributed artificial intelligence to training machine learning models that decentralizes the training process, allowing for users\\' privacy to be maintained by not needing to send their data to a centralized server. These belief function approaches that are implemented within the machine learning domain typically leverage a fusion approach of various ensemble methods to better handle the learner\\'s decision boundary, low samples, and ambiguous class issues that standard machine learning approach tend to have difficulty resolving. [66]\\n\\nRule-based machine learning is a general term for any machine learning method that identifies, learns, or evolves \"rules\" to store, manipulate or apply knowledge. Study of algorithms that improve automatically through experience\\n\\nMachine learning (ML) is an umbrella term for solving problems for which development of algorithms by human programmers would be cost-prohibitive, and instead the problems are solved by helping machines \"discover\" their \"own\" algorithms,[1] without needing to be explicitly told what to do by any human-developed algorithms. Embedded Machine Learning could be applied through several techniques including hardware acceleration,[143][144] using approximate computing,[145] optimization of machine learning models and many more. Machine learning and statistics are closely related fields in terms of methods, but distinct in their principal goal: statistics draws population inferences from a sample, while machine learning finds generalizable predictive patterns. [28]\\n\\nLeo Breiman distinguished two statistical modeling paradigms: data model and algorithmic model,[29] wherein \"algorithmic model\" means more or less the machine learning algorithms like Random Forest. Machine learning also has intimate ties to optimization: many learning problems are formulated as minimization of some loss function on a training set of examples. [7][33] Generalization in this context is the ability of a learning machine to perform accurately on new, unseen examples/tasks after having experienced a learning data set. [citation needed] Machine learning models are often vulnerable to manipulation and/or evasion via adversarial machine learning. Feature learning algorithms, also called representation learning algorithms, often attempt to preserve the information in their input but also transform it in a way that makes it useful, often as a pre-processing step before performing classification or predictions. Similarity learning is an area of supervised machine learning closely related to regression and classification, but the goal is to learn from examples using a similarity function that measures how similar or related two objects are. Machine learning ethics is becoming a field of study and notably be integrated within machine learning engineering teams. [12][13]\\n\\nBy the early 1960s an experimental \"learning machine\" with punched tape memory, called Cybertron, had been developed by Raytheon Company to analyze sonar signals, electrocardiograms, and speech patterns using rudimentary reinforcement learning. Performing machine learning can involve creating a model, which is trained on some training data and then can process additional data to make predictions. Unsupervised learning algorithms take a set of data that contains only inputs, and find structure in the data, like grouping or clustering of data points. Some of the training examples are missing training labels, yet many machine-learning researchers have found that unlabeled data, when used in conjunction with a small amount of labeled data, can produce a considerable improvement in learning accuracy. [57]\\n\\nFeature learning is motivated by the fact that machine learning tasks such as classification often require input that is mathematically and computationally convenient to process. Much of the confusion between these two research communities (which do often have separate conferences and separate journals, ECML PKDD being a major exception) comes from the basic assumptions they work with: in machine learning, performance is usually evaluated with respect to the ability to reproduce known knowledge, while in knowledge discovery and data mining (KDD) the key task is the discovery of previously unknown knowledge. Some statisticians have adopted methods from machine learning, leading to a combined field that they call statistical learning. Association rule learning is a rule-based machine learning method for discovering relationships between variables in large databases. [43]\\n\\nReinforcement learning is an area of machine learning concerned with how software agents ought to take actions in an environment so as to maximize some notion of cumulative reward. [47]\\n\\nAs of 2022, deep learning is the dominant approach for much ongoing work in the field of machine learning. Unsupervised learning can be a goal in itself (discovering hidden patterns in data) or a means towards an end (feature learning). [19]\\n\\nModern-day machine learning has two objectives, one is to classify data based on models which have been developed, the other purpose is to make predictions for future outcomes based on these models. Sparse dictionary learning is a feature learning method where a training example is represented as a linear combination of basis functions, and is assumed to be a sparse matrix. [120]\\n\\nResearchers have demonstrated how backdoors can be placed undetectably into classifying (e.g., for categories \"spam\" and well-visible \"not spam\" of posts) machine learning models which are often developed and/or trained by third parties. A machine learning system trained specifically on current customers may not be able to predict the needs of new customer groups that are not represented in the training data. Characterizing the generalization of various learning algorithms is an active topic of current research, especially for deep learning algorithms. \"[113]\\n\\nExplainable AI (XAI), or Interpretable AI, or Explainable Machine Learning (XML), is artificial intelligence (AI) in which humans can understand the decisions or predictions made by the AI. In contrast, machine learning is not built on a pre-structured model; rather, the data shape the model by detecting underlying patterns. Typically, machine learning models require a high quantity of reliable data in order for the models to perform accurate predictions. [81]\\n\\nThere are many applications for machine learning, including:\\n\\nIn 2006, the media-services provider Netflix held the first \"Netflix Prize\" competition to find a program to better predict user preferences and improve the accuracy of its existing Cinematch movie recommendation algorithm by at least 10%. Instead of responding to feedback, unsupervised learning algorithms identify commonalities in the data and react based on the presence or absence of such commonalities in each new piece of data. Reinforcement learning algorithms are used in autonomous vehicles or in learning to play a game against a human opponent. It is one of the predictive modeling approaches used in statistics, data mining, and machine learning. [49] The self-learning algorithm updates a memory matrix W =||w(a,s)|| such that in each iteration executes the following machine learning routine:\\n• compute emotion of being in consequence situation v(s\\')\\n• update crossbar memory w\\'(a,s) = w(a,s) + v(s\\')\\n\\nIt is a system with only one input, situation, and only one output, action (or behavior) a. • Unsupervised learning: No labels are given to the learning algorithm, leaving it on its own to find structure in its input. [103] Using job hiring data from a firm with racist hiring policies may lead to a machine learning system duplicating the bias by scoring job applicants by similarity to previous successful applicants. [127][128] Responsible collection of data and documentation of algorithmic rules used by a system thus is a critical part of machine learning. [63] Unsupervised anomaly detection techniques detect anomalies in an unlabeled test data set under the assumption that the majority of the instances in the data set are normal, by looking for instances that seem to fit the least to the remainder of the data set. Supervised anomaly detection techniques require a data set that has been labeled as \"normal\" and \"abnormal\" and involves training a classifier (the key difference to many other statistical classification problems is the inherently unbalanced nature of outlier detection). Data mining is a related (parallel) field of study, focusing on exploratory data analysis through unsupervised learning. [35][36][37]\\n\\nSupervised learning algorithms build a mathematical model of a set of data that contains both the inputs and the desired outputs. [30]\\n\\nAnalytical and computational techniques derived from deep-rooted physics of disordered systems can be extended to large-scale problems, including machine learning, e.g., to analyze the weight space of deep neural networks. [34]\\n\\nIn addition to performance bounds, learning theorists study the time complexity and feasibility of learning. [102]\\n\\nMachine learning approaches in particular can suffer from different data biases. When trained on human-made data, machine learning is likely to pick up the constitutional and unconscious biases already present in society. This is in contrast to other machine learning algorithms that commonly identify a singular model that can be universally applied to any instance in order to make a prediction. [114] It contrasts with the \"black box\" concept in machine learning where even its designers cannot explain why an AI arrived at a specific decision. [78][79] Conversely, machine learning techniques have been used to improve the performance of genetic and evolutionary algorithms. [4][6][11] However, the computational complexity of these algorithms are dependent on the number of propositions (classes), and can lead a much higher computation time when compared to other machine learning approaches. [95][96][97] Reasons for this are numerous: lack of (suitable) data, lack of access to the data, data bias, privacy problems, badly chosen tasks and algorithms, wrong tools and people, lack of resources, and evaluation problems. The defining characteristic of a rule-based machine learning algorithm is the identification and utilization of a set of relational rules that collectively represent the knowledge captured by the system. [91] Recently, machine learning technology was also applied to optimize smartphone\\'s performance and thermal behavior based on the user\\'s interaction with the phone. Support-vector machines (SVMs), also known as support-vector networks, are a set of related supervised learning methods used for classification and regression. Although not all machine learning is statistically based, computational statistics is an important source of the field\\'s methods. Overfitting is something to watch out for when training a machine learning model. A hypothetical algorithm specific to classifying data may use computer vision of moles coupled with supervised learning in order to train it to classify the cancerous moles. History and relationships to other fields\\n\\nThe term machine learning was coined in 1959 by Arthur Samuel, an IBM employee and pioneer in the field of computer gaming and artificial intelligence. Various types of models have been used and researched for machine learning systems. [87] In 2014, it was reported that a machine learning algorithm had been applied in the field of art history to study fine art paintings and that it may have revealed previously unrecognized influences among artists. Other approaches have been developed which do not fit neatly into this three-fold categorization, and sometimes more than one is used by the same machine learning system. In machine learning, genetic algorithms were used in the 1980s and 1990s. Data from the training set can be as varied as a corpus of text, a collection of images, sensor data, and data collected from individual users of a service. For example, Gboard uses federated machine learning to train search query prediction models on users\\' mobile phones without having to send individual searches back to Google. [104][105] Machine learning systems used for criminal risk assessment have been found to be biased against black people. [46] The manifold hypothesis proposes that high-dimensional data sets lie along low-dimensional manifolds, and many dimensionality reduction techniques make this assumption, leading to the area of manifold learning and manifold regularization. [44] Reinforcement learning algorithms do not assume knowledge of an exact mathematical model of the MDP and are used when exact models are infeasible. Through iterative optimization of an objective function, supervised learning algorithms learn a function that can be used to predict the output associated with new inputs. Multilinear subspace learning algorithms aim to learn low-dimensional representations directly from tensor representations for multidimensional data, without reshaping them into higher-dimensional vectors. In supervised feature learning, features are learned using labeled input data. [100][101]\\n\\nMachine learning has been used as a strategy to update the evidence related to a systematic review and increased reviewer burden related to the growth of biomedical literature. [89] In 2020, machine learning technology was used to help make diagnoses and aid researchers in developing a cure for COVID-19. [1]\\n\\nSelf-learning, as a machine learning paradigm was introduced in 1982 along with a neural network capable of self-learning, named crossbar adaptive array (CAA). In unsupervised feature learning, features are learned with unlabeled input data. [20]\\n\\nAs a scientific endeavor, machine learning grew out of the quest for artificial intelligence (AI). A machine learning algorithm for stock trading may inform the trader of future potential predictions. In weakly supervised learning, the training labels are noisy, limited, or imprecise; however, these labels are often cheaper to obtain, resulting in larger effective training sets. [86] In 2012, co-founder of Sun Microsystems, Vinod Khosla, predicted that 80% of medical doctors jobs would be lost in the next two decades to automated machine learning medical diagnostic software. [23]: 488\\n\\nHowever, an increasing emphasis on the logical, knowledge-based approach caused a rift between AI and machine learning. [99] Attempts to use machine learning in healthcare with the IBM Watson system failed to deliver even after years of time and billions of dollars invested. [92][93][94]\\n\\nAlthough machine learning has been transformative in some fields, machine-learning programs often fail to deliver expected results. [38] The data is known as training data, and consists of a set of training examples. [88] In 2019 Springer Nature published the first research book created using machine learning. [111] Because of such challenges, the effective use of machine learning may take longer to be adopted in other domains. [74]\\n\\nDecision tree learning uses a decision tree as a predictive model to go from observations about an item (represented in the branches) to conclusions about the item\\'s target value (represented in the leaves). There is potential for machine learning in health care to provide professionals an additional tool to diagnose, medicate, and plan recovery paths for patients, but this requires these biases to be mitigated. [85] In 2010 The Wall Street Journal wrote about the firm Rebellion Research and their use of machine learning to predict the financial crisis. [23]: 25\\n\\nMachine learning (ML), reorganized and recognized as its own field, started to flourish in the 1990s. [26] According to Michael I. Jordan, the ideas of machine learning, from methodological principles to theoretical tools, have had a long pre-history in statistics. Semi-supervised anomaly detection techniques construct a model representing normal behavior from a given normal training data set and then test the likelihood of a test instance to be generated by the model. The Master Algorithm: How the Quest for the Ultimate Learning Machine Will Remake Our World. Gordon Plotkin and Ehud Shapiro laid the initial theoretical foundation for inductive machine learning in a logical setting. [90] Machine learning was recently applied to predict the pro-environmental behavior of travelers. Evaluated with respect to known knowledge, an uninformed (unsupervised) method will easily be outperformed by other supervised methods, while in a typical KDD task, supervised methods cannot be used due to the unavailability of training data. [41] Though unsupervised learning encompasses other domains involving summarizing and explaining data features. Because training sets are finite and the future is uncertain, learning theory usually does not yield guarantees of the performance of algorithms. • mloss is an academic database of open-source machine learning software. [24] Work on symbolic/knowledge-based learning did continue within AI, leading to inductive logic programming, but the more statistical line of research was now outside the field of AI proper, in pattern recognition and information retrieval. [69]\\n\\nInductive logic programming (ILP) is an approach to rule learning using logic programming as a uniform representation for input examples, background knowledge, and hypotheses. [50]\\n\\nSeveral learning algorithms aim at discovering better representations of the inputs provided during training. In the mathematical model, each training example is represented by an array or vector, sometimes called a feature vector, and the training data is represented by a matrix. [125]\\n\\nMachine learning poses a host of ethical questions. [56] Deep learning algorithms discover multiple levels of representation, or a hierarchy of features, with higher-level, more abstract features defined in terms of (or generating) lower-level features. Examples include artificial neural networks, multilayer perceptrons, and supervised dictionary learning. Given a set of training examples, each marked as belonging to one of two categories, an SVM training algorithm builds a model that predicts whether a new example falls into one category. Unsupervised learning algorithms streamlined the process of survey and graph large indel based haplotypes of a gene of interest from pan-genome. Many reinforcements learning algorithms use dynamic programming techniques. Learners can also disappoint by \"learning the wrong lesson\". When dealing with non-linear problems, go-to models include polynomial regression (for example, used for trendline fitting in Microsoft Excel[76]), logistic regression (often used in statistical classification) or even kernel regression, which introduces non-linearity by taking advantage of the kernel trick to implicitly map input variables to higher-dimensional space. [59]\\n\\nIn data mining, anomaly detection, also known as outlier detection, is the identification of rare items, events or observations which raise suspicions by differing significantly from the majority of the data. • Reinforcement learning: A computer program interacts with a dynamic environment in which it must perform a certain goal (such as driving a vehicle or playing a game against an opponent). [18]\\n\\nTypes of supervised-learning algorithms include active learning, classification and regression. Artificial neural networks have been used on a variety of tasks, including computer vision, speech recognition, machine translation, social network filtering, playing board and video games and medical diagnosis. This results in a smaller dimension of data (2D instead of 3D), while keeping all original variables in the model without changing the data. [135] OpenAI estimated the hardware computing used in the largest deep learning projects from AlexNet (2012) to AlphaZero (2017), and found a 300,000-fold increase in the amount of compute required, with a doubling-time trendline of 3.4 months. A central application of unsupervised learning is in the field of density estimation in statistics, such as finding the probability density function. [53][54][55]\\n\\nManifold learning algorithms attempt to do so under the constraint that the learned representation is low-dimensional. Deep learning consists of multiple hidden layers in an artificial neural network. In data mining, a decision tree describes data, but the resulting classification tree can be an input for decision-making. Given a set of observed points, or input–output examples, the distribution of the (unobserved) output of a new point as function of its input data can be directly computed by looking like the observed points and the covariances between those points and the new, unobserved point. [40] Classification algorithms are used when the outputs are restricted to a limited set of values, and regression algorithms are used when the outputs may have any numerical value within a range. Examples include dictionary learning, independent component analysis, autoencoders, matrix factorization[52] and various forms of clustering. In reinforcement learning, the environment is typically represented as a Markov decision process (MDP). [126] For example, in 1988, the UK\\'s Commission for Racial Equality found that St. George\\'s Medical School had been using a computer program trained from data of previous admissions staff and this program had denied nearly 60 candidates who were found to be either women or had non-European sounding names. In contrast with sequence mining, association rule learning typically does not consider the order of items either within a transaction or across transactions. Efficient algorithms exist that perform inference and learning. Loss functions express the discrepancy between the predictions of the model being trained and the actual problem instances (for example, in classification, one wants to assign a label to instances, and models are trained to correctly predict the pre-assigned labels of a set of examples). [58] A popular heuristic method for sparse dictionary learning is the K-SVD algorithm. It has been argued that an intelligent machine is one that learns a representation that disentangles the underlying factors of variation that explain the observed data. Sparse dictionary learning has also been applied in image de-noising. [106][107] In 2015, Google photos would often tag black people as gorillas,[108] and in 2018 this still was not well resolved, but Google reportedly was still using the workaround to remove all gorillas from the training data, and thus was not able to recognize real gorillas at all. Artificial neurons and edges typically have a weight that adjusts as learning proceeds. Feature learning can be either supervised or unsupervised. In computational learning theory, a computation is considered feasible if it can be done in polynomial time. An ANN is a model based on a collection of connected units or nodes called \"artificial neurons\", which loosely model the neurons in a biological brain. Some successful applications of deep learning are computer vision and speech recognition. They attempted to approach the problem with various symbolic methods, as well as what were then termed \"neural networks\"; these were mostly perceptrons and other models that were later found to be reinventions of the generalized linear models of statistics. However, real-world data such as images, video, and sensory data has not yielded attempts to algorithmically define specific features. Many outlier detection methods (in particular, unsupervised algorithms) will fail on such data unless aggregated appropriately. In comparison, the K-fold-cross-validation method randomly partitions the data into K subsets and then K experiments are performed each respectively considering 1 subset for evaluation and the remaining K-1 subsets for training the model. Sparse dictionary learning has been applied in several contexts. Due to its generality, the field is studied in many other disciplines, such as game theory, control theory, operations research, information theory, simulation-based optimization, multi-agent systems, swarm intelligence, statistics and genetic algorithms. Many systems attempt to reduce overfitting by rewarding a theory in accordance with how well it fits the data but penalizing the theory in accordance with how complex the theory is. [39] An optimal function allows the algorithm to correctly determine the output for inputs that were not a part of the training data. Different clustering techniques make different assumptions on the structure of the data, often defined by some similarity metric and evaluated, for example, by internal compactness, or the similarity between members of the same cluster, and separation, the difference between clusters. [48] It is learning with no external rewards and no external teacher advice.'"
            ],
            "application/vnd.google.colaboratory.intrinsic+json": {
              "type": "string"
            }
          },
          "metadata": {},
          "execution_count": 103
        }
      ]
    },
    {
      "cell_type": "markdown",
      "source": [
        "Visualize the text"
      ],
      "metadata": {
        "id": "TWuyCdP9H99F"
      }
    },
    {
      "cell_type": "code",
      "source": [
        "from IPython.core.display import HTML"
      ],
      "metadata": {
        "id": "Uwm1l9cbICRm"
      },
      "execution_count": null,
      "outputs": []
    },
    {
      "cell_type": "code",
      "source": [
        "text1= ' '\n",
        "display(HTML (f'<h1>Text Summarization from Copy Text</h1>'))\n",
        "for sentence in sentence_list1:\n",
        "  if sentence in best_sentence_english:\n",
        "    text1+=' '+sentence.replace(sentence,f\"<mark>{sentence}</mark>\")\n",
        "  else:\n",
        "    text1 += ' '+sentence\n",
        "display(HTML(f\"\"\"{text1}\"\"\"))"
      ],
      "metadata": {
        "colab": {
          "base_uri": "https://localhost:8080/",
          "height": 144
        },
        "id": "5eVVBa53IRh7",
        "outputId": "dab9a818-8fce-4bce-b186-99cc28f27b04"
      },
      "execution_count": null,
      "outputs": [
        {
          "output_type": "display_data",
          "data": {
            "text/plain": [
              "<IPython.core.display.HTML object>"
            ],
            "text/html": [
              "<h1>Text Summarization from Copy Text</h1>"
            ]
          },
          "metadata": {}
        },
        {
          "output_type": "display_data",
          "data": {
            "text/plain": [
              "<IPython.core.display.HTML object>"
            ],
            "text/html": [
              "  Natural language processing (NLP) is an interdisciplinary subfield of computer science and linguistics. It is primarily concerned with giving computers the ability to support and manipulate speech. <mark>It involves processing natural language datasets, such as text corpora or speech corpora, using either rule-based or probabilistic statistical and, most recently, neural network-based) machine learning approaches.</mark> <mark>The goal is a computer capable of understanding the contents of documents, including the contextual nuances of the language within them.</mark> <mark>The technology can then accurately extract information and insights contained in the documents as well as categorize and organize the documents themselves.</mark>"
            ]
          },
          "metadata": {}
        }
      ]
    },
    {
      "cell_type": "code",
      "source": [
        "text2= ' '\n",
        "display(HTML (f'<h1>Text Summarization from Bengali Text</h1>'))\n",
        "for sentence in sentence_list2:\n",
        "  if sentence in best_sentence_bengali:\n",
        "    text2+=' '+sentence.replace(sentence,f\"<mark>{sentence}</mark>\")\n",
        "  else:\n",
        "    text2 += ' '+sentence\n",
        "display(HTML(f\"\"\"{text2}\"\"\"))"
      ],
      "metadata": {
        "colab": {
          "base_uri": "https://localhost:8080/",
          "height": 300
        },
        "id": "YM5gCBCOJ2mN",
        "outputId": "93391a52-bb85-4f71-dc38-392bd52130ed"
      },
      "execution_count": null,
      "outputs": [
        {
          "output_type": "display_data",
          "data": {
            "text/plain": [
              "<IPython.core.display.HTML object>"
            ],
            "text/html": [
              "<h1>Text Summarization from Bengali Text</h1>"
            ]
          },
          "metadata": {}
        },
        {
          "output_type": "display_data",
          "data": {
            "text/plain": [
              "<IPython.core.display.HTML object>"
            ],
            "text/html": [
              "  চারদিকে পাহাড়ঘেরা উপত্যকার মাঝে ছিল অপূর্ব সুন্দর এক সরোবর। সেই সরোবরের তীরে প্রতি বছর গ্রীষ্মকালে বেড়াতে আসে সাত পরি, সাত বোন। তারা ডানাগুলো একটা গাছের তলায় রেখে পানিতে আনন্দ করে বেড়ায়। জনশূন্য চারপাশ। ঠিক সাত দিন ধরে আনন্দ করে আবার ডানাগুলো পরে উড়ে যায় তাদের নিজের দেশে। <mark>এদিকে কাছাকাছি যে কিছু গ্রাম আছে সে খবর তারা না রাখলেও পরিদের সব খবর রাখে সেই গ্রামেরই এক রাখাল ছেলে।</mark> <mark>সে গরু চরায়, বাঁশি বাজায় আর দূর থেকে দেখতে থাকে পরিদের কাণ্ডকারখানা।</mark> একসময় তার খুব ভালো লেগে যায় সবচেয়ে ছোট পরিটিকে। কী অপরূপ মিষ্টি চেহারা! ওকে দেখলেই রাখালের বাঁশিতে বেজে ওঠে স্বর্গীয় সব সুর। দূর থেকে পরিরা তা শোনে আর অবাক হয়ে ভাবে এমন সুন্দর সুর কে বাজায়। এ সুর তো তাদের দেশের পাখিদেরও অজানা! তারা মুগ্ধ হয়ে শোনে, কিন্তু রাখাল থাকে আড়ালে, তাকে কেউ দেখতে পায় না। একবার হলো কী, রাখালের মাথায় একটি দুষ্টবুদ্ধি জাগল। পরিরা যখন স্নানে ব্যস্ত, সে চুপিচুপি এসে দাঁড়াল সেই গাছতলায়, যেখানে খুলে রাখা আছে পরিদের ডানাগুলো। বেছে বেছে সবচেয়ে ছোট ডানাজোড়া নিয়ে সে লুকিয়ে রেখে দিল একটা বড় গাছের ফোকরে। তারপর ধীরে ধীরে সরে পড়ল সেখান থেকে। <mark>সাত দিন পরে পরিদের যাওয়ার সময় হলে দেখা গেল তাদের ছোট বোনের ডানাজোড়া নেই।</mark> অনেক খোঁজাখুঁজি করেও তারা সেটা পেল না। এদিকে বাবার কড়া হুকুম, এক সপ্তাহের বেশি তাদের স্বর্গ ছেড়ে থাকা চলবে না। <mark>কী করবে ভেবে না পেয়ে সবচেয়ে বড় পরি ছোট বোনকে বুঝিয়ে বলল, ‘উপায় নেইরে বোন, আমাদের যেতেই হবে।</mark> আর গেলে পরের বছরের আগে আর আসতে পারব না। তুই বরং এখানে থেকে ডানা জোড়া ভালো করে খুঁজে দেখ। পেলেই দেশে চলে আসিস, কেমন। আমরা বাবাকে বুঝিয়ে বলব তিনি যেন রাগ না করেন।' ছয় পরি ছোট বোনকে একা সরোবরের তীরে ফেলে রেখে উড়ে চলে গেল। বেচারি ছোট পরি মনের দুঃখে বসে বসে কাঁদতে লাগল। তাকে ওভাবে কাঁদতে দেখে রাখাল সাহস করে আড়াল থেকে বেরিয়ে এলো। সব শুনে সে তাকে নিজের বাসায় নিয়ে গেল। তারপর অনেকক্ষণ ধরে বাঁশি বাজিয়ে শোনাল। এই রাখালের বাঁশিই যে তাকে দূর থেকে এত আনন্দ দিয়েছে ভেবে পরির খুব ভালো লাগল। তাদের বন্ধুত্ব হতে দেরি হলো না। রাখাল আর পরি গ্রামের একপ্রান্তে একটি কুঁড়েঘরে থাকে। একত্রে গরু চরায়। রাখাল বাঁশি বাজায় আর পরি ঘাঘরা উড়িয়ে নাচে। দেখে গ্রামের লোকেরা ঠিক করল, এদের বিয়ে হওয়া উচিত। রাখাল তো রাজি ছিলই, পরিও রাজি হয়ে গেল। তারপর একদিন বেশ একটা উৎসবের মধ্য দিয়ে তাদের বিয়ে হয়ে গেল।"
            ]
          },
          "metadata": {}
        }
      ]
    },
    {
      "cell_type": "code",
      "source": [
        "text3= ' '\n",
        "display(HTML (f'<h1>Text Summarization from {article.title}</h1>'))\n",
        "for sentence in sentence_list3:\n",
        "  if sentence in best_sentence_articles:\n",
        "    text3+=' '+sentence.replace(sentence,f\"<mark>{sentence}</mark>\")\n",
        "  else:\n",
        "    text3 += ' '+sentence\n",
        "display(HTML(f\"\"\"{text3}\"\"\"))"
      ],
      "metadata": {
        "colab": {
          "base_uri": "https://localhost:8080/",
          "height": 1000
        },
        "id": "jfR8c7Q2KKld",
        "outputId": "fd766f21-6f4a-4223-e8d7-99e5752cfb7e"
      },
      "execution_count": null,
      "outputs": [
        {
          "output_type": "display_data",
          "data": {
            "text/plain": [
              "<IPython.core.display.HTML object>"
            ],
            "text/html": [
              "<h1>Text Summarization from Machine learning - Wikipedia</h1>"
            ]
          },
          "metadata": {}
        },
        {
          "output_type": "display_data",
          "data": {
            "text/plain": [
              "<IPython.core.display.HTML object>"
            ],
            "text/html": [
              "  <mark>Study of algorithms that improve automatically through experience\n",
              "\n",
              "Machine learning (ML) is an umbrella term for solving problems for which development of algorithms by human programmers would be cost-prohibitive, and instead the problems are solved by helping machines \"discover\" their \"own\" algorithms,[1] without needing to be explicitly told what to do by any human-developed algorithms.</mark> [2] Recently, generative artificial neural networks have been able to surpass results of many previous approaches. [3][4] Machine-learning approaches have been applied to large language models, computer vision, speech recognition, email filtering, agriculture and medicine, where it is too costly to develop algorithms to perform the needed tasks. [5][6]\n",
              "\n",
              "The mathematical foundations of ML are provided by mathematical optimization (mathematical programming) methods. <mark>Data mining is a related (parallel) field of study, focusing on exploratory data analysis through unsupervised learning.</mark> [8][9]\n",
              "\n",
              "ML is known in its application across business problems under the name predictive analytics. <mark>Although not all machine learning is statistically based, computational statistics is an important source of the field's methods.</mark> <mark>History and relationships to other fields\n",
              "\n",
              "The term machine learning was coined in 1959 by Arthur Samuel, an IBM employee and pioneer in the field of computer gaming and artificial intelligence.</mark> [10][11] The synonym self-teaching computers was also used in this time period. <mark>[12][13]\n",
              "\n",
              "By the early 1960s an experimental \"learning machine\" with punched tape memory, called Cybertron, had been developed by Raytheon Company to analyze sonar signals, electrocardiograms, and speech patterns using rudimentary reinforcement learning.</mark> It was repetitively \"trained\" by a human operator/teacher to recognize patterns and equipped with a \"goof\" button to cause it to re-evaluate incorrect decisions. <mark>[14] A representative book on research into machine learning during the 1960s was Nilsson's book on Learning Machines, dealing mostly with machine learning for pattern classification.</mark> [15] Interest related to pattern recognition continued into the 1970s, as described by Duda and Hart in 1973. [16] In 1981 a report was given on using teaching strategies so that a neural network learns to recognize 40 characters (26 letters, 10 digits, and 4 special symbols) from a computer terminal. <mark>[17]\n",
              "\n",
              "Tom M. Mitchell provided a widely quoted, more formal definition of the algorithms studied in the machine learning field: \"A computer program is said to learn from experience E with respect to some class of tasks T and performance measure P if its performance at tasks in T, as measured by P, improves with experience E.\"[18] This definition of the tasks in which machine learning is concerned offers a fundamentally operational definition rather than defining the field in cognitive terms.</mark> This follows Alan Turing's proposal in his paper \"Computing Machinery and Intelligence\", in which the question \"Can machines think?\" is replaced with the question \"Can machines do what we (as thinking entities) can do?\". <mark>[19]\n",
              "\n",
              "Modern-day machine learning has two objectives, one is to classify data based on models which have been developed, the other purpose is to make predictions for future outcomes based on these models.</mark> <mark>A hypothetical algorithm specific to classifying data may use computer vision of moles coupled with supervised learning in order to train it to classify the cancerous moles.</mark> <mark>A machine learning algorithm for stock trading may inform the trader of future potential predictions.</mark> <mark>[20]\n",
              "\n",
              "As a scientific endeavor, machine learning grew out of the quest for artificial intelligence (AI).</mark> In the early days of AI as an academic discipline, some researchers were interested in having machines learn from data. <mark>They attempted to approach the problem with various symbolic methods, as well as what were then termed \"neural networks\"; these were mostly perceptrons and other models that were later found to be reinventions of the generalized linear models of statistics.</mark> [22] Probabilistic reasoning was also employed, especially in automated medical diagnosis. <mark>[23]: 488\n",
              "\n",
              "However, an increasing emphasis on the logical, knowledge-based approach caused a rift between AI and machine learning.</mark> Probabilistic systems were plagued by theoretical and practical problems of data acquisition and representation. [23]: 488 By 1980, expert systems had come to dominate AI, and statistics was out of favor. <mark>[24] Work on symbolic/knowledge-based learning did continue within AI, leading to inductive logic programming, but the more statistical line of research was now outside the field of AI proper, in pattern recognition and information retrieval.</mark> [23]: 708–710, 755 Neural networks research had been abandoned by AI and computer science around the same time. This line, too, was continued outside the AI/CS field, as \"connectionism\", by researchers from other disciplines including Hopfield, Rumelhart, and Hinton. Their main success came in the mid-1980s with the reinvention of backpropagation. <mark>[23]: 25\n",
              "\n",
              "Machine learning (ML), reorganized and recognized as its own field, started to flourish in the 1990s.</mark> The field changed its goal from achieving artificial intelligence to tackling solvable problems of a practical nature. It shifted focus away from the symbolic approaches it had inherited from AI, and toward methods and models borrowed from statistics, fuzzy logic, and probability theory. <mark>[24]\n",
              "\n",
              "Machine learning and data mining often employ the same methods and overlap significantly, but while machine learning focuses on prediction, based on known properties learned from the training data, data mining focuses on the discovery of (previously) unknown properties in the data (this is the analysis step of knowledge discovery in databases).</mark> <mark>Data mining uses many machine learning methods, but with different goals; on the other hand, machine learning also employs data mining methods as \"unsupervised learning\" or as a preprocessing step to improve learner accuracy.</mark> <mark>Much of the confusion between these two research communities (which do often have separate conferences and separate journals, ECML PKDD being a major exception) comes from the basic assumptions they work with: in machine learning, performance is usually evaluated with respect to the ability to reproduce known knowledge, while in knowledge discovery and data mining (KDD) the key task is the discovery of previously unknown knowledge.</mark> <mark>Evaluated with respect to known knowledge, an uninformed (unsupervised) method will easily be outperformed by other supervised methods, while in a typical KDD task, supervised methods cannot be used due to the unavailability of training data.</mark> <mark>Machine learning also has intimate ties to optimization: many learning problems are formulated as minimization of some loss function on a training set of examples.</mark> <mark>Loss functions express the discrepancy between the predictions of the model being trained and the actual problem instances (for example, in classification, one wants to assign a label to instances, and models are trained to correctly predict the pre-assigned labels of a set of examples).</mark> <mark>[25]\n",
              "\n",
              "The difference between optimization and machine learning arises from the goal of generalization: while optimization algorithms can minimize the loss on a training set, machine learning is concerned with minimizing the loss on unseen samples.</mark> <mark>Characterizing the generalization of various learning algorithms is an active topic of current research, especially for deep learning algorithms.</mark> <mark>Machine learning and statistics are closely related fields in terms of methods, but distinct in their principal goal: statistics draws population inferences from a sample, while machine learning finds generalizable predictive patterns.</mark> <mark>[26] According to Michael I. Jordan, the ideas of machine learning, from methodological principles to theoretical tools, have had a long pre-history in statistics.</mark> [27] He also suggested the term data science as a placeholder to call the overall field. [27]\n",
              "\n",
              "Conventional statistical analyses require the a priori selection of a model most suitable for the study data set. In addition, only significant or theoretically relevant variables based on previous experience are included for analysis. <mark>In contrast, machine learning is not built on a pre-structured model; rather, the data shape the model by detecting underlying patterns.</mark> The more variables (input) used to train the model, the more accurate the ultimate model will be. <mark>[28]\n",
              "\n",
              "Leo Breiman distinguished two statistical modeling paradigms: data model and algorithmic model,[29] wherein \"algorithmic model\" means more or less the machine learning algorithms like Random Forest.</mark> <mark>Some statisticians have adopted methods from machine learning, leading to a combined field that they call statistical learning.</mark> <mark>[30]\n",
              "\n",
              "Analytical and computational techniques derived from deep-rooted physics of disordered systems can be extended to large-scale problems, including machine learning, e.g., to analyze the weight space of deep neural networks.</mark> [31] Statistical physics is thus finding applications in the area of medical diagnostics. [32]\n",
              "\n",
              "A core objective of a learner is to generalize from its experience. <mark>[7][33] Generalization in this context is the ability of a learning machine to perform accurately on new, unseen examples/tasks after having experienced a learning data set.</mark> The training examples come from some generally unknown probability distribution (considered representative of the space of occurrences) and the learner has to build a general model about this space that enables it to produce sufficiently accurate predictions in new cases. <mark>The computational analysis of machine learning algorithms and their performance is a branch of theoretical computer science known as computational learning theory via the Probably Approximately Correct Learning (PAC) model.</mark> <mark>Because training sets are finite and the future is uncertain, learning theory usually does not yield guarantees of the performance of algorithms.</mark> Instead, probabilistic bounds on the performance are quite common. The bias–variance decomposition is one way to quantify generalization error. For the best performance in the context of generalization, the complexity of the hypothesis should match the complexity of the function underlying the data. If the hypothesis is less complex than the function, then the model has under fitted the data. If the complexity of the model is increased in response, then the training error decreases. But if the hypothesis is too complex, then the model is subject to overfitting and generalization will be poorer. <mark>[34]\n",
              "\n",
              "In addition to performance bounds, learning theorists study the time complexity and feasibility of learning.</mark> <mark>In computational learning theory, a computation is considered feasible if it can be done in polynomial time.</mark> There are two kinds of time complexity results: Positive results show that a certain class of functions can be learned in polynomial time. Negative results show that certain classes cannot be learned in polynomial time. <mark>Machine learning approaches are traditionally divided into three broad categories, which correspond to learning paradigms, depending on the nature of the \"signal\" or \"feedback\" available to the learning system:\n",
              "• Supervised learning: The computer is presented with example inputs and their desired outputs, given by a \"teacher\", and the goal is to learn a general rule that maps inputs to outputs.</mark> <mark>• Unsupervised learning: No labels are given to the learning algorithm, leaving it on its own to find structure in its input.</mark> <mark>Unsupervised learning can be a goal in itself (discovering hidden patterns in data) or a means towards an end (feature learning).</mark> <mark>• Reinforcement learning: A computer program interacts with a dynamic environment in which it must perform a certain goal (such as driving a vehicle or playing a game against an opponent).</mark> As it navigates its problem space, the program is provided feedback that's analogous to rewards, which it tries to maximize. [7] Although each algorithm has advantages and limitations, no single algorithm works for all problems. <mark>[35][36][37]\n",
              "\n",
              "Supervised learning algorithms build a mathematical model of a set of data that contains both the inputs and the desired outputs.</mark> <mark>[38] The data is known as training data, and consists of a set of training examples.</mark> Each training example has one or more inputs and the desired output, also known as a supervisory signal. <mark>In the mathematical model, each training example is represented by an array or vector, sometimes called a feature vector, and the training data is represented by a matrix.</mark> <mark>Through iterative optimization of an objective function, supervised learning algorithms learn a function that can be used to predict the output associated with new inputs.</mark> <mark>[39] An optimal function allows the algorithm to correctly determine the output for inputs that were not a part of the training data.</mark> An algorithm that improves the accuracy of its outputs or predictions over time is said to have learned to perform that task. <mark>[18]\n",
              "\n",
              "Types of supervised-learning algorithms include active learning, classification and regression.</mark> <mark>[40] Classification algorithms are used when the outputs are restricted to a limited set of values, and regression algorithms are used when the outputs may have any numerical value within a range.</mark> As an example, for a classification algorithm that filters emails, the input would be an incoming email, and the output would be the name of the folder in which to file the email. <mark>Similarity learning is an area of supervised machine learning closely related to regression and classification, but the goal is to learn from examples using a similarity function that measures how similar or related two objects are.</mark> It has applications in ranking, recommendation systems, visual identity tracking, face verification, and speaker verification. <mark>Unsupervised learning algorithms take a set of data that contains only inputs, and find structure in the data, like grouping or clustering of data points.</mark> The algorithms, therefore, learn from test data that has not been labeled, classified or categorized. <mark>Instead of responding to feedback, unsupervised learning algorithms identify commonalities in the data and react based on the presence or absence of such commonalities in each new piece of data.</mark> <mark>A central application of unsupervised learning is in the field of density estimation in statistics, such as finding the probability density function.</mark> <mark>[41] Though unsupervised learning encompasses other domains involving summarizing and explaining data features.</mark> <mark>Unsupervised learning algorithms streamlined the process of survey and graph large indel based haplotypes of a gene of interest from pan-genome.</mark> [42]\n",
              "\n",
              "Cluster analysis is the assignment of a set of observations into subsets (called clusters) so that observations within the same cluster are similar according to one or more predesignated criteria, while observations drawn from different clusters are dissimilar. <mark>Different clustering techniques make different assumptions on the structure of the data, often defined by some similarity metric and evaluated, for example, by internal compactness, or the similarity between members of the same cluster, and separation, the difference between clusters.</mark> Other methods are based on estimated density and graph connectivity. <mark>Semi-supervised learning falls between unsupervised learning (without any labeled training data) and supervised learning (with completely labeled training data).</mark> <mark>Some of the training examples are missing training labels, yet many machine-learning researchers have found that unlabeled data, when used in conjunction with a small amount of labeled data, can produce a considerable improvement in learning accuracy.</mark> <mark>In weakly supervised learning, the training labels are noisy, limited, or imprecise; however, these labels are often cheaper to obtain, resulting in larger effective training sets.</mark> <mark>[43]\n",
              "\n",
              "Reinforcement learning is an area of machine learning concerned with how software agents ought to take actions in an environment so as to maximize some notion of cumulative reward.</mark> <mark>Due to its generality, the field is studied in many other disciplines, such as game theory, control theory, operations research, information theory, simulation-based optimization, multi-agent systems, swarm intelligence, statistics and genetic algorithms.</mark> <mark>In reinforcement learning, the environment is typically represented as a Markov decision process (MDP).</mark> <mark>Many reinforcements learning algorithms use dynamic programming techniques.</mark> <mark>[44] Reinforcement learning algorithms do not assume knowledge of an exact mathematical model of the MDP and are used when exact models are infeasible.</mark> <mark>Reinforcement learning algorithms are used in autonomous vehicles or in learning to play a game against a human opponent.</mark> Dimensionality reduction is a process of reducing the number of random variables under consideration by obtaining a set of principal variables. [45] In other words, it is a process of reducing the dimension of the feature set, also called the \"number of features\". Most of the dimensionality reduction techniques can be considered as either feature elimination or extraction. One of the popular methods of dimensionality reduction is principal component analysis (PCA). PCA involves changing higher-dimensional data (e.g., 3D) to a smaller space (e.g., 2D). <mark>This results in a smaller dimension of data (2D instead of 3D), while keeping all original variables in the model without changing the data.</mark> <mark>[46] The manifold hypothesis proposes that high-dimensional data sets lie along low-dimensional manifolds, and many dimensionality reduction techniques make this assumption, leading to the area of manifold learning and manifold regularization.</mark> <mark>Other approaches have been developed which do not fit neatly into this three-fold categorization, and sometimes more than one is used by the same machine learning system.</mark> For example, topic modeling, meta-learning. <mark>[47]\n",
              "\n",
              "As of 2022, deep learning is the dominant approach for much ongoing work in the field of machine learning.</mark> <mark>[1]\n",
              "\n",
              "Self-learning, as a machine learning paradigm was introduced in 1982 along with a neural network capable of self-learning, named crossbar adaptive array (CAA).</mark> <mark>[48] It is learning with no external rewards and no external teacher advice.</mark> The CAA self-learning algorithm computes, in a crossbar fashion, both decisions about actions and emotions (feelings) about consequence situations. The system is driven by the interaction between cognition and emotion. <mark>[49] The self-learning algorithm updates a memory matrix W =||w(a,s)|| such that in each iteration executes the following machine learning routine:\n",
              "• compute emotion of being in consequence situation v(s')\n",
              "• update crossbar memory w'(a,s) = w(a,s) + v(s')\n",
              "\n",
              "It is a system with only one input, situation, and only one output, action (or behavior) a.</mark> There is neither a separate reinforcement input nor an advice input from the environment. The backpropagated value (secondary reinforcement) is the emotion toward the consequence situation. The CAA exists in two environments, one is the behavioral environment where it behaves, and the other is the genetic environment, wherefrom it initially and only once receives initial emotions about situations to be encountered in the behavioral environment. After receiving the genome (species) vector from the genetic environment, the CAA learns a goal-seeking behavior, in an environment that contains both desirable and undesirable situations. <mark>[50]\n",
              "\n",
              "Several learning algorithms aim at discovering better representations of the inputs provided during training.</mark> [51] Classic examples include principal component analysis and cluster analysis. <mark>Feature learning algorithms, also called representation learning algorithms, often attempt to preserve the information in their input but also transform it in a way that makes it useful, often as a pre-processing step before performing classification or predictions.</mark> This technique allows reconstruction of the inputs coming from the unknown data-generating distribution, while not being necessarily faithful to configurations that are implausible under that distribution. This replaces manual feature engineering, and allows a machine to both learn the features and use them to perform a specific task. <mark>Feature learning can be either supervised or unsupervised.</mark> <mark>In supervised feature learning, features are learned using labeled input data.</mark> <mark>Examples include artificial neural networks, multilayer perceptrons, and supervised dictionary learning.</mark> <mark>In unsupervised feature learning, features are learned with unlabeled input data.</mark> <mark>Examples include dictionary learning, independent component analysis, autoencoders, matrix factorization[52] and various forms of clustering.</mark> <mark>[53][54][55]\n",
              "\n",
              "Manifold learning algorithms attempt to do so under the constraint that the learned representation is low-dimensional.</mark> Sparse coding algorithms attempt to do so under the constraint that the learned representation is sparse, meaning that the mathematical model has many zeros. <mark>Multilinear subspace learning algorithms aim to learn low-dimensional representations directly from tensor representations for multidimensional data, without reshaping them into higher-dimensional vectors.</mark> <mark>[56] Deep learning algorithms discover multiple levels of representation, or a hierarchy of features, with higher-level, more abstract features defined in terms of (or generating) lower-level features.</mark> <mark>It has been argued that an intelligent machine is one that learns a representation that disentangles the underlying factors of variation that explain the observed data.</mark> <mark>[57]\n",
              "\n",
              "Feature learning is motivated by the fact that machine learning tasks such as classification often require input that is mathematically and computationally convenient to process.</mark> <mark>However, real-world data such as images, video, and sensory data has not yielded attempts to algorithmically define specific features.</mark> An alternative is to discover such features or representations through examination, without relying on explicit algorithms. <mark>Sparse dictionary learning is a feature learning method where a training example is represented as a linear combination of basis functions, and is assumed to be a sparse matrix.</mark> The method is strongly NP-hard and difficult to solve approximately. <mark>[58] A popular heuristic method for sparse dictionary learning is the K-SVD algorithm.</mark> <mark>Sparse dictionary learning has been applied in several contexts.</mark> In classification, the problem is to determine the class to which a previously unseen training example belongs. For a dictionary where each class has already been built, a new training example is associated with the class that is best sparsely represented by the corresponding dictionary. <mark>Sparse dictionary learning has also been applied in image de-noising.</mark> The key idea is that a clean image patch can be sparsely represented by an image dictionary, but the noise cannot. <mark>[59]\n",
              "\n",
              "In data mining, anomaly detection, also known as outlier detection, is the identification of rare items, events or observations which raise suspicions by differing significantly from the majority of the data.</mark> [60] Typically, the anomalous items represent an issue such as bank fraud, a structural defect, medical problems or errors in a text. Anomalies are referred to as outliers, novelties, noise, deviations and exceptions. [61]\n",
              "\n",
              "In particular, in the context of abuse and network intrusion detection, the interesting objects are often not rare objects, but unexpected bursts of inactivity. This pattern does not adhere to the common statistical definition of an outlier as a rare object. <mark>Many outlier detection methods (in particular, unsupervised algorithms) will fail on such data unless aggregated appropriately.</mark> Instead, a cluster analysis algorithm may be able to detect the micro-clusters formed by these patterns. [62]\n",
              "\n",
              "Three broad categories of anomaly detection techniques exist. <mark>[63] Unsupervised anomaly detection techniques detect anomalies in an unlabeled test data set under the assumption that the majority of the instances in the data set are normal, by looking for instances that seem to fit the least to the remainder of the data set.</mark> <mark>Supervised anomaly detection techniques require a data set that has been labeled as \"normal\" and \"abnormal\" and involves training a classifier (the key difference to many other statistical classification problems is the inherently unbalanced nature of outlier detection).</mark> <mark>Semi-supervised anomaly detection techniques construct a model representing normal behavior from a given normal training data set and then test the likelihood of a test instance to be generated by the model.</mark> <mark>Robot learning is inspired by a multitude of machine learning methods, starting from supervised learning, reinforcement learning,[64][65] and finally meta-learning (e.g.</mark> MAML). <mark>Association rule learning is a rule-based machine learning method for discovering relationships between variables in large databases.</mark> It is intended to identify strong rules discovered in databases using some measure of \"interestingness\". <mark>[66]\n",
              "\n",
              "Rule-based machine learning is a general term for any machine learning method that identifies, learns, or evolves \"rules\" to store, manipulate or apply knowledge.</mark> <mark>The defining characteristic of a rule-based machine learning algorithm is the identification and utilization of a set of relational rules that collectively represent the knowledge captured by the system.</mark> <mark>This is in contrast to other machine learning algorithms that commonly identify a singular model that can be universally applied to any instance in order to make a prediction.</mark> <mark>[67] Rule-based machine learning approaches include learning classifier systems, association rule learning, and artificial immune systems.</mark> Based on the concept of strong rules, Rakesh Agrawal, Tomasz Imieliński and Arun Swami introduced association rules for discovering regularities between products in large-scale transaction data recorded by point-of-sale (POS) systems in supermarkets. [68] For example, the rule found in the sales data of a supermarket would indicate that if a customer buys onions and potatoes together, they are likely to also buy hamburger meat. Such information can be used as the basis for decisions about marketing activities such as promotional pricing or product placements. In addition to market basket analysis, association rules are employed today in application areas including Web usage mining, intrusion detection, continuous production, and bioinformatics. <mark>In contrast with sequence mining, association rule learning typically does not consider the order of items either within a transaction or across transactions.</mark> <mark>Learning classifier systems (LCS) are a family of rule-based machine learning algorithms that combine a discovery component, typically a genetic algorithm, with a learning component, performing either supervised learning, reinforcement learning, or unsupervised learning.</mark> They seek to identify a set of context-dependent rules that collectively store and apply knowledge in a piecewise manner in order to make predictions. <mark>[69]\n",
              "\n",
              "Inductive logic programming (ILP) is an approach to rule learning using logic programming as a uniform representation for input examples, background knowledge, and hypotheses.</mark> Given an encoding of the known background knowledge and a set of examples represented as a logical database of facts, an ILP system will derive a hypothesized logic program that entails all positive and no negative examples. Inductive programming is a related field that considers any kind of programming language for representing hypotheses (and not only logic programming), such as functional programs. Inductive logic programming is particularly useful in bioinformatics and natural language processing. <mark>Gordon Plotkin and Ehud Shapiro laid the initial theoretical foundation for inductive machine learning in a logical setting.</mark> [70][71][72] Shapiro built their first implementation (Model Inference System) in 1981: a Prolog program that inductively inferred logic programs from positive and negative examples. [73] The term inductive here refers to philosophical induction, suggesting a theory to explain observed facts, rather than mathematical induction, proving a property for all members of a well-ordered set. <mark>Performing machine learning can involve creating a model, which is trained on some training data and then can process additional data to make predictions.</mark> <mark>Various types of models have been used and researched for machine learning systems.</mark> Artificial neural networks (ANNs), or connectionist systems, are computing systems vaguely inspired by the biological neural networks that constitute animal brains. Such systems \"learn\" to perform tasks by considering examples, generally without being programmed with any task-specific rules. <mark>An ANN is a model based on a collection of connected units or nodes called \"artificial neurons\", which loosely model the neurons in a biological brain.</mark> Each connection, like the synapses in a biological brain, can transmit information, a \"signal\", from one artificial neuron to another. An artificial neuron that receives a signal can process it and then signal additional artificial neurons connected to it. In common ANN implementations, the signal at a connection between artificial neurons is a real number, and the output of each artificial neuron is computed by some non-linear function of the sum of its inputs. The connections between artificial neurons are called \"edges\". <mark>Artificial neurons and edges typically have a weight that adjusts as learning proceeds.</mark> The weight increases or decreases the strength of the signal at a connection. Artificial neurons may have a threshold such that the signal is only sent if the aggregate signal crosses that threshold. Typically, artificial neurons are aggregated into layers. Different layers may perform different kinds of transformations on their inputs. Signals travel from the first layer (the input layer) to the last layer (the output layer), possibly after traversing the layers multiple times. The original goal of the ANN approach was to solve problems in the same way that a human brain would. However, over time, attention moved to performing specific tasks, leading to deviations from biology. <mark>Artificial neural networks have been used on a variety of tasks, including computer vision, speech recognition, machine translation, social network filtering, playing board and video games and medical diagnosis.</mark> <mark>Deep learning consists of multiple hidden layers in an artificial neural network.</mark> This approach tries to model the way the human brain processes light and sound into vision and hearing. <mark>Some successful applications of deep learning are computer vision and speech recognition.</mark> <mark>[74]\n",
              "\n",
              "Decision tree learning uses a decision tree as a predictive model to go from observations about an item (represented in the branches) to conclusions about the item's target value (represented in the leaves).</mark> <mark>It is one of the predictive modeling approaches used in statistics, data mining, and machine learning.</mark> Tree models where the target variable can take a discrete set of values are called classification trees; in these tree structures, leaves represent class labels, and branches represent conjunctions of features that lead to those class labels. Decision trees where the target variable can take continuous values (typically real numbers) are called regression trees. In decision analysis, a decision tree can be used to visually and explicitly represent decisions and decision making. <mark>In data mining, a decision tree describes data, but the resulting classification tree can be an input for decision-making.</mark> <mark>Support-vector machines (SVMs), also known as support-vector networks, are a set of related supervised learning methods used for classification and regression.</mark> <mark>Given a set of training examples, each marked as belonging to one of two categories, an SVM training algorithm builds a model that predicts whether a new example falls into one category.</mark> [75] An SVM training algorithm is a non-probabilistic, binary, linear classifier, although methods such as Platt scaling exist to use SVM in a probabilistic classification setting. In addition to performing linear classification, SVMs can efficiently perform a non-linear classification using what is called the kernel trick, implicitly mapping their inputs into high-dimensional feature spaces. Regression analysis encompasses a large variety of statistical methods to estimate the relationship between input variables and their associated features. Its most common form is linear regression, where a single line is drawn to best fit the given data according to a mathematical criterion such as ordinary least squares. The latter is often extended by regularization methods to mitigate overfitting and bias, as in ridge regression. <mark>When dealing with non-linear problems, go-to models include polynomial regression (for example, used for trendline fitting in Microsoft Excel[76]), logistic regression (often used in statistical classification) or even kernel regression, which introduces non-linearity by taking advantage of the kernel trick to implicitly map input variables to higher-dimensional space.</mark> A Bayesian network, belief network, or directed acyclic graphical model is a probabilistic graphical model that represents a set of random variables and their conditional independence with a directed acyclic graph (DAG). For example, a Bayesian network could represent the probabilistic relationships between diseases and symptoms. Given symptoms, the network can be used to compute the probabilities of the presence of various diseases. <mark>Efficient algorithms exist that perform inference and learning.</mark> Bayesian networks that model sequences of variables, like speech signals or protein sequences, are called dynamic Bayesian networks. Generalizations of Bayesian networks that can represent and solve decision problems under uncertainty are called influence diagrams. A Gaussian process is a stochastic process in which every finite collection of the random variables in the process has a multivariate normal distribution, and it relies on a pre-defined covariance function, or kernel, that models how pairs of points relate to each other depending on their locations. <mark>Given a set of observed points, or input–output examples, the distribution of the (unobserved) output of a new point as function of its input data can be directly computed by looking like the observed points and the covariances between those points and the new, unobserved point.</mark> Gaussian processes are popular surrogate models in Bayesian optimization used to do hyperparameter optimization. A genetic algorithm (GA) is a search algorithm and heuristic technique that mimics the process of natural selection, using methods such as mutation and crossover to generate new genotypes in the hope of finding good solutions to a given problem. <mark>In machine learning, genetic algorithms were used in the 1980s and 1990s.</mark> <mark>[78][79] Conversely, machine learning techniques have been used to improve the performance of genetic and evolutionary algorithms.</mark> [80]\n",
              "\n",
              "The theory of belief functions, also referred to as evidence theory or Dempster–Shafer theory, is a general framework for reasoning with uncertainty, with understood connections to other frameworks such as probability, possibility and imprecise probability theories. These theoretical frameworks can be thought of as a kind of learner and have some analogous properties of how evidence is combined (e.g., Dempster's rule of combination), just like how in a pmf-based Bayesian approach would combine probabilities. However, there are many caveats to these beliefs functions when compared to Bayesian approaches in order to incorporate ignorance and Uncertainty quantification. <mark>These belief function approaches that are implemented within the machine learning domain typically leverage a fusion approach of various ensemble methods to better handle the learner's decision boundary, low samples, and ambiguous class issues that standard machine learning approach tend to have difficulty resolving.</mark> <mark>[4][6][11] However, the computational complexity of these algorithms are dependent on the number of propositions (classes), and can lead a much higher computation time when compared to other machine learning approaches.</mark> <mark>Typically, machine learning models require a high quantity of reliable data in order for the models to perform accurate predictions.</mark> <mark>When training a machine learning model, machine learning engineers need to target and collect a large and representative sample of data.</mark> <mark>Data from the training set can be as varied as a corpus of text, a collection of images, sensor data, and data collected from individual users of a service.</mark> <mark>Overfitting is something to watch out for when training a machine learning model.</mark> Trained models derived from biased or non-evaluated data can result in skewed or undesired predictions. Bias models may result in detrimental outcomes thereby furthering the negative impacts on society or objectives. Algorithmic bias is a potential result of data not being fully prepared for training. <mark>Machine learning ethics is becoming a field of study and notably be integrated within machine learning engineering teams.</mark> <mark>Federated learning is an adapted form of distributed artificial intelligence to training machine learning models that decentralizes the training process, allowing for users' privacy to be maintained by not needing to send their data to a centralized server.</mark> This also increases efficiency by decentralizing the training process to many devices. <mark>For example, Gboard uses federated machine learning to train search query prediction models on users' mobile phones without having to send individual searches back to Google.</mark> <mark>[81]\n",
              "\n",
              "There are many applications for machine learning, including:\n",
              "\n",
              "In 2006, the media-services provider Netflix held the first \"Netflix Prize\" competition to find a program to better predict user preferences and improve the accuracy of its existing Cinematch movie recommendation algorithm by at least 10%.</mark> A joint team made up of researchers from AT&T Labs-Research in collaboration with the teams Big Chaos and Pragmatic Theory built an ensemble model to win the Grand Prize in 2009 for $1 million. [84] Shortly after the prize was awarded, Netflix realized that viewers' ratings were not the best indicators of their viewing patterns (\"everything is a recommendation\") and they changed their recommendation engine accordingly. <mark>[85] In 2010 The Wall Street Journal wrote about the firm Rebellion Research and their use of machine learning to predict the financial crisis.</mark> <mark>[86] In 2012, co-founder of Sun Microsystems, Vinod Khosla, predicted that 80% of medical doctors jobs would be lost in the next two decades to automated machine learning medical diagnostic software.</mark> <mark>[87] In 2014, it was reported that a machine learning algorithm had been applied in the field of art history to study fine art paintings and that it may have revealed previously unrecognized influences among artists.</mark> <mark>[88] In 2019 Springer Nature published the first research book created using machine learning.</mark> <mark>[89] In 2020, machine learning technology was used to help make diagnoses and aid researchers in developing a cure for COVID-19.</mark> <mark>[90] Machine learning was recently applied to predict the pro-environmental behavior of travelers.</mark> <mark>[91] Recently, machine learning technology was also applied to optimize smartphone's performance and thermal behavior based on the user's interaction with the phone.</mark> <mark>[92][93][94]\n",
              "\n",
              "Although machine learning has been transformative in some fields, machine-learning programs often fail to deliver expected results.</mark> <mark>[95][96][97] Reasons for this are numerous: lack of (suitable) data, lack of access to the data, data bias, privacy problems, badly chosen tasks and algorithms, wrong tools and people, lack of resources, and evaluation problems.</mark> [98]\n",
              "\n",
              "In 2018, a self-driving car from Uber failed to detect a pedestrian, who was killed after a collision. <mark>[99] Attempts to use machine learning in healthcare with the IBM Watson system failed to deliver even after years of time and billions of dollars invested.</mark> <mark>[100][101]\n",
              "\n",
              "Machine learning has been used as a strategy to update the evidence related to a systematic review and increased reviewer burden related to the growth of biomedical literature.</mark> While it has improved with training sets, it has not yet developed sufficiently to reduce the workload burden without limiting the necessary sensitivity for the findings research themselves. <mark>[102]\n",
              "\n",
              "Machine learning approaches in particular can suffer from different data biases.</mark> <mark>A machine learning system trained specifically on current customers may not be able to predict the needs of new customer groups that are not represented in the training data.</mark> <mark>When trained on human-made data, machine learning is likely to pick up the constitutional and unconscious biases already present in society.</mark> [103] Language models learned from data have been shown to contain human-like biases. <mark>[104][105] Machine learning systems used for criminal risk assessment have been found to be biased against black people.</mark> <mark>[106][107] In 2015, Google photos would often tag black people as gorillas,[108] and in 2018 this still was not well resolved, but Google reportedly was still using the workaround to remove all gorillas from the training data, and thus was not able to recognize real gorillas at all.</mark> [109] Similar issues with recognizing non-white people have been found in many other systems. [110] In 2016, Microsoft tested a chatbot that learned from Twitter, and it quickly picked up racist and sexist language. <mark>[111] Because of such challenges, the effective use of machine learning may take longer to be adopted in other domains.</mark> <mark>[112] Concern for fairness in machine learning, that is, reducing bias in machine learning and propelling its use for human good is increasingly expressed by artificial intelligence scientists, including Fei-Fei Li, who reminds engineers that \"There's nothing artificial about AI...It's inspired by people, it's created by people, and—most importantly—it impacts people.</mark> It is a powerful tool we are only just beginning to understand, and that is a profound responsibility. <mark>\"[113]\n",
              "\n",
              "Explainable AI (XAI), or Interpretable AI, or Explainable Machine Learning (XML), is artificial intelligence (AI) in which humans can understand the decisions or predictions made by the AI.</mark> <mark>[114] It contrasts with the \"black box\" concept in machine learning where even its designers cannot explain why an AI arrived at a specific decision.</mark> [115] By refining the mental models of users of AI-powered systems and dismantling their misconceptions, XAI promises to help users perform more effectively. XAI may be an implementation of the social right to explanation. Settling on a bad, overly complex theory gerrymandered to fit all the past training data is known as overfitting. <mark>Many systems attempt to reduce overfitting by rewarding a theory in accordance with how well it fits the data but penalizing the theory in accordance with how complex the theory is.</mark> <mark>Learners can also disappoint by \"learning the wrong lesson\".</mark> A toy example is that an image classifier trained only on pictures of brown horses and black cats might conclude that all brown patches are likely to be horses. A real-world example is that, unlike humans, current image classifiers often do not primarily make judgments from the spatial relationship between components of the picture, and they learn relationships between pixels that humans are oblivious to, but that still correlate with images of certain types of real objects. Modifying these patterns on a legitimate image can result in \"adversarial\" images that the system misclassifies. [118][119]\n",
              "\n",
              "Adversarial vulnerabilities can also result in nonlinear systems, or from non-pattern perturbations. Some systems are so brittle that changing a single adversarial pixel predictably induces misclassification. <mark>[citation needed] Machine learning models are often vulnerable to manipulation and/or evasion via adversarial machine learning.</mark> <mark>[120]\n",
              "\n",
              "Researchers have demonstrated how backdoors can be placed undetectably into classifying (e.g., for categories \"spam\" and well-visible \"not spam\" of posts) machine learning models which are often developed and/or trained by third parties.</mark> Parties can change the classification of any input, including in cases for which a type of data/software transparency is provided, possibly including white-box access. <mark>[121][122][123]\n",
              "\n",
              "Classification of machine learning models can be validated by accuracy estimation techniques like the holdout method, which splits the data in a training and test set (conventionally 2/3 training set and 1/3 test set designation) and evaluates the performance of the training model on the test set.</mark> <mark>In comparison, the K-fold-cross-validation method randomly partitions the data into K subsets and then K experiments are performed each respectively considering 1 subset for evaluation and the remaining K-1 subsets for training the model.</mark> In addition to the holdout and cross-validation methods, bootstrap, which samples n instances with replacement from the dataset, can be used to assess model accuracy. [124]\n",
              "\n",
              "In addition to overall accuracy, investigators frequently report sensitivity and specificity meaning True Positive Rate (TPR) and True Negative Rate (TNR) respectively. Similarly, investigators sometimes report the false positive rate (FPR) as well as the false negative rate (FNR). However, these rates are ratios that fail to reveal their numerators and denominators. The total operating characteristic (TOC) is an effective method to express a model's diagnostic ability. TOC shows the numerators and denominators of the previously mentioned rates, thus TOC provides more information than the commonly used receiver operating characteristic (ROC) and ROC's associated area under the curve (AUC). <mark>[125]\n",
              "\n",
              "Machine learning poses a host of ethical questions.</mark> Systems that are trained on datasets collected with biases may exhibit these biases upon use (algorithmic bias), thus digitizing cultural prejudices. <mark>[126] For example, in 1988, the UK's Commission for Racial Equality found that St. George's Medical School had been using a computer program trained from data of previous admissions staff and this program had denied nearly 60 candidates who were found to be either women or had non-European sounding names.</mark> <mark>[103] Using job hiring data from a firm with racist hiring policies may lead to a machine learning system duplicating the bias by scoring job applicants by similarity to previous successful applicants.</mark> <mark>[127][128] Responsible collection of data and documentation of algorithmic rules used by a system thus is a critical part of machine learning.</mark> AI can be well-equipped to make decisions in technical fields, which rely heavily on data and historical information. These decisions rely on objectivity and logical reasoning. [129] Because human languages contain biases, machines trained on language corpora will necessarily also learn these biases. [130][131]\n",
              "\n",
              "Other forms of ethical challenges, not related to personal biases, are seen in health care. There are concerns among health care professionals that these systems might not be designed in the public's interest but as income-generating machines. [132] This is especially true in the United States where there is a long-standing ethical dilemma of improving health care, but also increasing profits. For example, the algorithms could be designed to provide patients with unnecessary tests or medication in which the algorithm's proprietary owners hold stakes. <mark>There is potential for machine learning in health care to provide professionals an additional tool to diagnose, medicate, and plan recovery paths for patients, but this requires these biases to be mitigated.</mark> <mark>[133]\n",
              "\n",
              "Since the 2010s, advances in both machine learning algorithms and computer hardware have led to more efficient methods for training deep neural networks (a particular narrow subdomain of machine learning) that contain many layers of non-linear hidden units.</mark> [134] By 2019, graphic processing units (GPUs), often with AI-specific enhancements, had displaced CPUs as the dominant method of training large-scale commercial cloud AI. <mark>[135] OpenAI estimated the hardware computing used in the largest deep learning projects from AlexNet (2012) to AlphaZero (2017), and found a 300,000-fold increase in the amount of compute required, with a doubling-time trendline of 3.4 months.</mark> [136][137]\n",
              "\n",
              "A physical neural network or Neuromorphic computer is a type of artificial neural network in which an electrically adjustable material is used to emulate the function of a neural synapse. \"Physical\" neural network is used to emphasize the reliance on physical hardware used to emulate neurons as opposed to software-based approaches. More generally the term is applicable to other artificial neural networks in which a memristor or other electrically adjustable resistance material is used to emulate a neural synapse. <mark>[138][139]\n",
              "\n",
              "Embedded Machine Learning is a sub-field of machine learning, where the machine learning model is run on embedded systems with limited computing resources such as wearable computers, edge devices and microcontrollers.</mark> <mark>[140][141][142] Running machine learning model in embedded devices removes the need for transferring and storing data on cloud servers for further processing, henceforth, reducing data breaches and privacy leaks happening because of transferring data, and also minimizes theft of intellectual properties, personal data and business secrets.</mark> <mark>Embedded Machine Learning could be applied through several techniques including hardware acceleration,[143][144] using approximate computing,[145] optimization of machine learning models and many more.</mark> <mark>[146][147]\n",
              "\n",
              "Software suites containing a variety of machine learning algorithms include the following:\n",
              "• European Conference on Machine Learning and Principles and Practice of Knowledge Discovery in Databases (ECML PKDD)\n",
              "• International Conference on Computational Intelligence Methods for Bioinformatics and Biostatistics (CIBB)\n",
              "• Automated machine learning – Process of automating the application of machine learning\n",
              "• Big data – information assets characterized by such a high volume, velocity, and variety to require specific technology and analytical methods for its transformation into value\n",
              "• None Domingos, Pedro (September 22, 2015).</mark> <mark>The Master Algorithm: How the Quest for the Ultimate Learning Machine Will Remake Our World.</mark> Basic Books. ISBN . • None Nilsson, Nils (1998). . Morgan Kaufmann. ISBN . Archived from the original on 26 July 2020 . • None Poole, David; Mackworth, Alan; Goebel, Randy (1998). Computational Intelligence: A Logical Approach. New York: Oxford University Press. ISBN . Archived from the original on 26 July 2020 . <mark>• mloss is an academic database of open-source machine learning software.</mark>"
            ]
          },
          "metadata": {}
        }
      ]
    },
    {
      "cell_type": "code",
      "source": [
        "import numpy as np\n",
        "from sklearn.metrics import balanced_accuracy_score\n",
        "\n",
        "#define array of actual classes\n",
        "sentence_list3 = np.repeat([1, 0], repeats=[20, 380])\n",
        "\n",
        "#define array of predicted classes\n",
        "best_sentence_articles = np.repeat([1, 0, 1, 0], repeats=[15, 5, 5, 375])\n",
        "\n",
        "#calculate balanced accuracy score\n",
        "balanced_accuracy_score(sentence_list3, best_sentence_articles)"
      ],
      "metadata": {
        "colab": {
          "base_uri": "https://localhost:8080/"
        },
        "id": "xartfRLOYhdS",
        "outputId": "598832e3-fbe5-43ee-8e07-b26cc767342b"
      },
      "execution_count": null,
      "outputs": [
        {
          "output_type": "execute_result",
          "data": {
            "text/plain": [
              "0.868421052631579"
            ]
          },
          "metadata": {},
          "execution_count": 111
        }
      ]
    },
    {
      "cell_type": "markdown",
      "source": [
        "Sumy Library"
      ],
      "metadata": {
        "id": "cQ1mtUZ3c0og"
      }
    },
    {
      "cell_type": "code",
      "source": [
        "!pip install sumy"
      ],
      "metadata": {
        "id": "Bh3KtWSSczrY"
      },
      "execution_count": null,
      "outputs": []
    },
    {
      "cell_type": "code",
      "source": [
        "from sumy.parsers.plaintext import PlaintextParser\n",
        "from sumy.nlp.tokenizers import Tokenizer\n",
        "from sumy.summarizers.luhn import LuhnSummarizer"
      ],
      "metadata": {
        "id": "JzXR6BTIdIMJ"
      },
      "execution_count": null,
      "outputs": []
    },
    {
      "cell_type": "code",
      "source": [
        "parser= PlaintextParser.from_string(article.cleaned_text, Tokenizer('english'))"
      ],
      "metadata": {
        "id": "tdGWJObBd5z3"
      },
      "execution_count": null,
      "outputs": []
    },
    {
      "cell_type": "code",
      "source": [
        "parser"
      ],
      "metadata": {
        "id": "9FmpvT4-fSIA"
      },
      "execution_count": null,
      "outputs": []
    },
    {
      "cell_type": "code",
      "source": [
        "summarizer=LuhnSummarizer()"
      ],
      "metadata": {
        "id": "LZuWnUOpefdH"
      },
      "execution_count": null,
      "outputs": []
    },
    {
      "cell_type": "code",
      "source": [
        "summary= summarizer(parser.document,120)"
      ],
      "metadata": {
        "id": "zBvvstl0er-Y"
      },
      "execution_count": null,
      "outputs": []
    },
    {
      "cell_type": "code",
      "source": [
        "summary"
      ],
      "metadata": {
        "id": "HCDeO_3Mfn9m"
      },
      "execution_count": null,
      "outputs": []
    },
    {
      "cell_type": "code",
      "source": [
        "best_sentence=[]\n",
        "for sentence in summary:\n",
        "  best_sentence.append(str(sentence))"
      ],
      "metadata": {
        "id": "RUMMJgSPf-1W"
      },
      "execution_count": null,
      "outputs": []
    },
    {
      "cell_type": "code",
      "source": [
        "best_sentence"
      ],
      "metadata": {
        "colab": {
          "base_uri": "https://localhost:8080/"
        },
        "id": "jQ-Ed68EgmrX",
        "outputId": "4f6ed96a-6380-42aa-95f8-773b82fc903f"
      },
      "execution_count": null,
      "outputs": [
        {
          "output_type": "execute_result",
          "data": {
            "text/plain": [
              "['Machine learning (ML) is an umbrella term for solving problems for which development of algorithms by human programmers would be cost-prohibitive, and instead the problems are solved by helping machines \"discover\" their \"own\" algorithms,[1] without needing to be explicitly told what to do by any human-developed algorithms.',\n",
              " '[3][4] Machine-learning approaches have been applied to large language models, computer vision, speech recognition, email filtering, agriculture and medicine, where it is too costly to develop algorithms to perform the needed tasks.',\n",
              " \"[14] A representative book on research into machine learning during the 1960s was Nilsson's book on Learning Machines, dealing mostly with machine learning for pattern classification.\",\n",
              " 'Tom M. Mitchell provided a widely quoted, more formal definition of the algorithms studied in the machine learning field: \"A computer program is said to learn from experience E with respect to some class of tasks T and performance measure P if its performance at tasks in T, as measured by P, improves with experience E.\"[18] This definition of the tasks in which machine learning is concerned offers a fundamentally operational definition rather than defining the field in cognitive terms.',\n",
              " 'Modern-day machine learning has two objectives, one is to classify data based on models which have been developed, the other purpose is to make predictions for future outcomes based on these models.',\n",
              " 'A hypothetical algorithm specific to classifying data may use computer vision of moles coupled with supervised learning in order to train it to classify the cancerous moles.',\n",
              " 'They attempted to approach the problem with various symbolic methods, as well as what were then termed \"neural networks\"; these were mostly perceptrons and other models that were later found to be reinventions of the generalized linear models of statistics.',\n",
              " '[24] Work on symbolic/knowledge-based learning did continue within AI, leading to inductive logic programming, but the more statistical line of research was now outside the field of AI proper, in pattern recognition and information retrieval.',\n",
              " 'Machine learning and data mining often employ the same methods and overlap significantly, but while machine learning focuses on prediction, based on known properties learned from the training data, data mining focuses on the discovery of (previously) unknown properties in the data (this is the analysis step of knowledge discovery in databases).',\n",
              " 'Data mining uses many machine learning methods, but with different goals; on the other hand, machine learning also employs data mining methods as \"unsupervised learning\" or as a preprocessing step to improve learner accuracy.',\n",
              " 'Much of the confusion between these two research communities (which do often have separate conferences and separate journals, ECML PKDD being a major exception) comes from the basic assumptions they work with: in machine learning, performance is usually evaluated with respect to the ability to reproduce known knowledge, while in knowledge discovery and data mining (KDD) the key task is the discovery of previously unknown knowledge.',\n",
              " 'Evaluated with respect to known knowledge, an uninformed (unsupervised) method will easily be outperformed by other supervised methods, while in a typical KDD task, supervised methods cannot be used due to the unavailability of training data.',\n",
              " 'Machine learning also has intimate ties to optimization: many learning problems are formulated as minimization of some loss function on a training set of examples.',\n",
              " 'Loss functions express the discrepancy between the predictions of the model being trained and the actual problem instances (for example, in classification, one wants to assign a label to instances, and models are trained to correctly predict the pre-assigned labels of a set of examples).',\n",
              " 'The difference between optimization and machine learning arises from the goal of generalization: while optimization algorithms can minimize the loss on a training set, machine learning is concerned with minimizing the loss on unseen samples.',\n",
              " 'Characterizing the generalization of various learning algorithms is an active topic of current research, especially for deep learning algorithms.',\n",
              " 'Machine learning and statistics are closely related fields in terms of methods, but distinct in their principal goal: statistics draws population inferences from a sample, while machine learning finds generalizable predictive patterns.',\n",
              " 'Leo Breiman distinguished two statistical modeling paradigms: data model and algorithmic model,[29] wherein \"algorithmic model\" means more or less the machine learning algorithms like Random Forest.',\n",
              " 'Analytical and computational techniques derived from deep-rooted physics of disordered systems can be extended to large-scale problems, including machine learning, e.g., to analyze the weight space of deep neural networks.',\n",
              " '[7][33] Generalization in this context is the ability of a learning machine to perform accurately on new, unseen examples/tasks after having experienced a learning data set.',\n",
              " 'The training examples come from some generally unknown probability distribution (considered representative of the space of occurrences) and the learner has to build a general model about this space that enables it to produce sufficiently accurate predictions in new cases.',\n",
              " 'The computational analysis of machine learning algorithms and their performance is a branch of theoretical computer science known as computational learning theory via the Probably Approximately Correct Learning (PAC) model.',\n",
              " 'For the best performance in the context of generalization, the complexity of the hypothesis should match the complexity of the function underlying the data.',\n",
              " 'There are two kinds of time complexity results: Positive results show that a certain class of functions can be learned in polynomial time.',\n",
              " 'Machine learning approaches are traditionally divided into three broad categories, which correspond to learning paradigms, depending on the nature of the \"signal\" or \"feedback\" available to the learning system: • Supervised learning: The computer is presented with example inputs and their desired outputs, given by a \"teacher\", and the goal is to learn a general rule that maps inputs to outputs.',\n",
              " '• Unsupervised learning: No labels are given to the learning algorithm, leaving it on its own to find structure in its input.',\n",
              " '• Reinforcement learning: A computer program interacts with a dynamic environment in which it must perform a certain goal (such as driving a vehicle or playing a game against an opponent).',\n",
              " \"As it navigates its problem space, the program is provided feedback that's analogous to rewards, which it tries to maximize.\",\n",
              " 'Supervised learning algorithms build a mathematical model of a set of data that contains both the inputs and the desired outputs.',\n",
              " 'In the mathematical model, each training example is represented by an array or vector, sometimes called a feature vector, and the training data is represented by a matrix.',\n",
              " 'Through iterative optimization of an objective function, supervised learning algorithms learn a function that can be used to predict the output associated with new inputs.',\n",
              " '[39] An optimal function allows the algorithm to correctly determine the output for inputs that were not a part of the training data.',\n",
              " 'An algorithm that improves the accuracy of its outputs or predictions over time is said to have learned to perform that task.',\n",
              " '[40] Classification algorithms are used when the outputs are restricted to a limited set of values, and regression algorithms are used when the outputs may have any numerical value within a range.',\n",
              " 'As an example, for a classification algorithm that filters emails, the input would be an incoming email, and the output would be the name of the folder in which to file the email.',\n",
              " 'Similarity learning is an area of supervised machine learning closely related to regression and classification, but the goal is to learn from examples using a similarity function that measures how similar or related two objects are.',\n",
              " 'Unsupervised learning algorithms take a set of data that contains only inputs, and find structure in the data, like grouping or clustering of data points.',\n",
              " 'Instead of responding to feedback, unsupervised learning algorithms identify commonalities in the data and react based on the presence or absence of such commonalities in each new piece of data.',\n",
              " 'A central application of unsupervised learning is in the field of density estimation in statistics, such as finding the probability density function.',\n",
              " 'Cluster analysis is the assignment of a set of observations into subsets (called clusters) so that observations within the same cluster are similar according to one or more predesignated criteria, while observations drawn from different clusters are dissimilar.',\n",
              " 'Different clustering techniques make different assumptions on the structure of the data, often defined by some similarity metric and evaluated, for example, by internal compactness, or the similarity between members of the same cluster, and separation, the difference between clusters.',\n",
              " 'Some of the training examples are missing training labels, yet many machine-learning researchers have found that unlabeled data, when used in conjunction with a small amount of labeled data, can produce a considerable improvement in learning accuracy.',\n",
              " 'Reinforcement learning is an area of machine learning concerned with how software agents ought to take actions in an environment so as to maximize some notion of cumulative reward.',\n",
              " 'Due to its generality, the field is studied in many other disciplines, such as game theory, control theory, operations research, information theory, simulation-based optimization, multi-agent systems, swarm intelligence, statistics and genetic algorithms.',\n",
              " '[44] Reinforcement learning algorithms do not assume knowledge of an exact mathematical model of the MDP and are used when exact models are infeasible.',\n",
              " '[45] In other words, it is a process of reducing the dimension of the feature set, also called the \"number of features\".',\n",
              " 'This results in a smaller dimension of data (2D instead of 3D), while keeping all original variables in the model without changing the data.',\n",
              " '[46] The manifold hypothesis proposes that high-dimensional data sets lie along low-dimensional manifolds, and many dimensionality reduction techniques make this assumption, leading to the area of manifold learning and manifold regularization.',\n",
              " 'Other approaches have been developed which do not fit neatly into this three-fold categorization, and sometimes more than one is used by the same machine learning system.',\n",
              " \"[49] The self-learning algorithm updates a memory matrix W =||w(a,s)|| such that in each iteration executes the following machine learning routine: • compute emotion of being in consequence situation v(s') • update crossbar memory w'(a,s) = w(a,s) + v(s')\",\n",
              " 'The CAA exists in two environments, one is the behavioral environment where it behaves, and the other is the genetic environment, wherefrom it initially and only once receives initial emotions about situations to be encountered in the behavioral environment.',\n",
              " 'Feature learning algorithms, also called representation learning algorithms, often attempt to preserve the information in their input but also transform it in a way that makes it useful, often as a pre-processing step before performing classification or predictions.',\n",
              " 'This replaces manual feature engineering, and allows a machine to both learn the features and use them to perform a specific task.',\n",
              " 'Sparse coding algorithms attempt to do so under the constraint that the learned representation is sparse, meaning that the mathematical model has many zeros.',\n",
              " 'Sparse dictionary learning is a feature learning method where a training example is represented as a linear combination of basis functions, and is assumed to be a sparse matrix.',\n",
              " 'For a dictionary where each class has already been built, a new training example is associated with the class that is best sparsely represented by the corresponding dictionary.',\n",
              " 'In data mining, anomaly detection, also known as outlier detection, is the identification of rare items, events or observations which raise suspicions by differing significantly from the majority of the data.',\n",
              " '[63] Unsupervised anomaly detection techniques detect anomalies in an unlabeled test data set under the assumption that the majority of the instances in the data set are normal, by looking for instances that seem to fit the least to the remainder of the data set.',\n",
              " 'Supervised anomaly detection techniques require a data set that has been labeled as \"normal\" and \"abnormal\" and involves training a classifier (the key difference to many other statistical classification problems is the inherently unbalanced nature of outlier detection).',\n",
              " 'Semi-supervised anomaly detection techniques construct a model representing normal behavior from a given normal training data set and then test the likelihood of a test instance to be generated by the model.',\n",
              " 'Rule-based machine learning is a general term for any machine learning method that identifies, learns, or evolves \"rules\" to store, manipulate or apply knowledge.',\n",
              " 'The defining characteristic of a rule-based machine learning algorithm is the identification and utilization of a set of relational rules that collectively represent the knowledge captured by the system.',\n",
              " 'This is in contrast to other machine learning algorithms that commonly identify a singular model that can be universally applied to any instance in order to make a prediction.',\n",
              " 'In contrast with sequence mining, association rule learning typically does not consider the order of items either within a transaction or across transactions.',\n",
              " 'Learning classifier systems (LCS) are a family of rule-based machine learning algorithms that combine a discovery component, typically a genetic algorithm, with a learning component, performing either supervised learning, reinforcement learning, or unsupervised learning.',\n",
              " 'Inductive logic programming (ILP) is an approach to rule learning using logic programming as a uniform representation for input examples, background knowledge, and hypotheses.',\n",
              " 'Given an encoding of the known background knowledge and a set of examples represented as a logical database of facts, an ILP system will derive a hypothesized logic program that entails all positive and no negative examples.',\n",
              " 'Inductive programming is a related field that considers any kind of programming language for representing hypotheses (and not only logic programming), such as functional programs.',\n",
              " 'Performing machine learning can involve creating a model, which is trained on some training data and then can process additional data to make predictions.',\n",
              " 'An ANN is a model based on a collection of connected units or nodes called \"artificial neurons\", which loosely model the neurons in a biological brain.',\n",
              " 'An artificial neuron that receives a signal can process it and then signal additional artificial neurons connected to it.',\n",
              " 'In common ANN implementations, the signal at a connection between artificial neurons is a real number, and the output of each artificial neuron is computed by some non-linear function of the sum of its inputs.',\n",
              " 'The original goal of the ANN approach was to solve problems in the same way that a human brain would.',\n",
              " 'Artificial neural networks have been used on a variety of tasks, including computer vision, speech recognition, machine translation, social network filtering, playing board and video games and medical diagnosis.',\n",
              " \"Decision tree learning uses a decision tree as a predictive model to go from observations about an item (represented in the branches) to conclusions about the item's target value (represented in the leaves).\",\n",
              " 'Tree models where the target variable can take a discrete set of values are called classification trees; in these tree structures, leaves represent class labels, and branches represent conjunctions of features that lead to those class labels.',\n",
              " 'Support-vector machines (SVMs), also known as support-vector networks, are a set of related supervised learning methods used for classification and regression.',\n",
              " 'Given a set of training examples, each marked as belonging to one of two categories, an SVM training algorithm builds a model that predicts whether a new example falls into one category.',\n",
              " '[75] An SVM training algorithm is a non-probabilistic, binary, linear classifier, although methods such as Platt scaling exist to use SVM in a probabilistic classification setting.',\n",
              " 'In addition to performing linear classification, SVMs can efficiently perform a non-linear classification using what is called the kernel trick, implicitly mapping their inputs into high-dimensional feature spaces.',\n",
              " 'Regression analysis encompasses a large variety of statistical methods to estimate the relationship between input variables and their associated features.',\n",
              " 'Its most common form is linear regression, where a single line is drawn to best fit the given data according to a mathematical criterion such as ordinary least squares.',\n",
              " 'When dealing with non-linear problems, go-to models include polynomial regression (for example, used for trendline fitting in Microsoft Excel[76]), logistic regression (often used in statistical classification) or even kernel regression, which introduces non-linearity by taking advantage of the kernel trick to implicitly map input variables to higher-dimensional space.',\n",
              " 'A Bayesian network, belief network, or directed acyclic graphical model is a probabilistic graphical model that represents a set of random variables and their conditional independence with a directed acyclic graph (DAG).',\n",
              " 'A Gaussian process is a stochastic process in which every finite collection of the random variables in the process has a multivariate normal distribution, and it relies on a pre-defined covariance function, or kernel, that models how pairs of points relate to each other depending on their locations.',\n",
              " 'Given a set of observed points, or input–output examples, the distribution of the (unobserved) output of a new point as function of its input data can be directly computed by looking like the observed points and the covariances between those points and the new, unobserved point.',\n",
              " 'A genetic algorithm (GA) is a search algorithm and heuristic technique that mimics the process of natural selection, using methods such as mutation and crossover to generate new genotypes in the hope of finding good solutions to a given problem.',\n",
              " 'The theory of belief functions, also referred to as evidence theory or Dempster–Shafer theory, is a general framework for reasoning with uncertainty, with understood connections to other frameworks such as probability, possibility and imprecise probability theories.',\n",
              " \"These theoretical frameworks can be thought of as a kind of learner and have some analogous properties of how evidence is combined (e.g., Dempster's rule of combination), just like how in a pmf-based Bayesian approach would combine probabilities.\",\n",
              " \"These belief function approaches that are implemented within the machine learning domain typically leverage a fusion approach of various ensemble methods to better handle the learner's decision boundary, low samples, and ambiguous class issues that standard machine learning approach tend to have difficulty resolving.\",\n",
              " '[4][6][11] However, the computational complexity of these algorithms are dependent on the number of propositions (classes), and can lead a much higher computation time when compared to other machine learning approaches.',\n",
              " 'When training a machine learning model, machine learning engineers need to target and collect a large and representative sample of data.',\n",
              " 'Data from the training set can be as varied as a corpus of text, a collection of images, sensor data, and data collected from individual users of a service.',\n",
              " \"Federated learning is an adapted form of distributed artificial intelligence to training machine learning models that decentralizes the training process, allowing for users' privacy to be maintained by not needing to send their data to a centralized server.\",\n",
              " 'In 2006, the media-services provider Netflix held the first \"Netflix Prize\" competition to find a program to better predict user preferences and improve the accuracy of its existing Cinematch movie recommendation algorithm by at least 10%.',\n",
              " 'A joint team made up of researchers from AT&T Labs-Research in collaboration with the teams Big Chaos and Pragmatic Theory built an ensemble model to win the Grand Prize in 2009 for $1 million.',\n",
              " '[87] In 2014, it was reported that a machine learning algorithm had been applied in the field of art history to study fine art paintings and that it may have revealed previously unrecognized influences among artists.',\n",
              " '[95][96][97] Reasons for this are numerous: lack of (suitable) data, lack of access to the data, data bias, privacy problems, badly chosen tasks and algorithms, wrong tools and people, lack of resources, and evaluation problems.',\n",
              " 'While it has improved with training sets, it has not yet developed sufficiently to reduce the workload burden without limiting the necessary sensitivity for the findings research themselves.',\n",
              " 'A machine learning system trained specifically on current customers may not be able to predict the needs of new customer groups that are not represented in the training data.',\n",
              " '[106][107] In 2015, Google photos would often tag black people as gorillas,[108] and in 2018 this still was not well resolved, but Google reportedly was still using the workaround to remove all gorillas from the training data, and thus was not able to recognize real gorillas at all.',\n",
              " '[112] Concern for fairness in machine learning, that is, reducing bias in machine learning and propelling its use for human good is increasingly expressed by artificial intelligence scientists, including Fei-Fei Li, who reminds engineers that \"There\\'s nothing artificial about AI...It\\'s inspired by people, it\\'s created by people, and—most importantly—it impacts people.',\n",
              " 'Explainable AI (XAI), or Interpretable AI, or Explainable Machine Learning (XML), is artificial intelligence (AI) in which humans can understand the decisions or predictions made by the AI.',\n",
              " 'Many systems attempt to reduce overfitting by rewarding a theory in accordance with how well it fits the data but penalizing the theory in accordance with how complex the theory is.',\n",
              " 'A toy example is that an image classifier trained only on pictures of brown horses and black cats might conclude that all brown patches are likely to be horses.',\n",
              " 'A real-world example is that, unlike humans, current image classifiers often do not primarily make judgments from the spatial relationship between components of the picture, and they learn relationships between pixels that humans are oblivious to, but that still correlate with images of certain types of real objects.',\n",
              " 'Researchers have demonstrated how backdoors can be placed undetectably into classifying (e.g., for categories \"spam\" and well-visible \"not spam\" of posts) machine learning models which are often developed and/or trained by third parties.',\n",
              " 'Classification of machine learning models can be validated by accuracy estimation techniques like the holdout method, which splits the data in a training and test set (conventionally 2/3 training set and 1/3 test set designation) and evaluates the performance of the training model on the test set.',\n",
              " 'In comparison, the K-fold-cross-validation method randomly partitions the data into K subsets and then K experiments are performed each respectively considering 1 subset for evaluation and the remaining K-1 subsets for training the model.',\n",
              " \"TOC shows the numerators and denominators of the previously mentioned rates, thus TOC provides more information than the commonly used receiver operating characteristic (ROC) and ROC's associated area under the curve (AUC).\",\n",
              " \"[126] For example, in 1988, the UK's Commission for Racial Equality found that St. George's Medical School had been using a computer program trained from data of previous admissions staff and this program had denied nearly 60 candidates who were found to be either women or had non-European sounding names.\",\n",
              " '[103] Using job hiring data from a firm with racist hiring policies may lead to a machine learning system duplicating the bias by scoring job applicants by similarity to previous successful applicants.',\n",
              " 'There is potential for machine learning in health care to provide professionals an additional tool to diagnose, medicate, and plan recovery paths for patients, but this requires these biases to be mitigated.',\n",
              " 'Since the 2010s, advances in both machine learning algorithms and computer hardware have led to more efficient methods for training deep neural networks (a particular narrow subdomain of machine learning) that contain many layers of non-linear hidden units.',\n",
              " 'A physical neural network or Neuromorphic computer is a type of artificial neural network in which an electrically adjustable material is used to emulate the function of a neural synapse.',\n",
              " 'More generally the term is applicable to other artificial neural networks in which a memristor or other electrically adjustable resistance material is used to emulate a neural synapse.',\n",
              " 'Embedded Machine Learning is a sub-field of machine learning, where the machine learning model is run on embedded systems with limited computing resources such as wearable computers, edge devices and microcontrollers.',\n",
              " '[140][141][142] Running machine learning model in embedded devices removes the need for transferring and storing data on cloud servers for further processing, henceforth, reducing data breaches and privacy leaks happening because of transferring data, and also minimizes theft of intellectual properties, personal data and business secrets.',\n",
              " 'Embedded Machine Learning could be applied through several techniques including hardware acceleration,[143][144] using approximate computing,[145] optimization of machine learning models and many more.',\n",
              " 'Software suites containing a variety of machine learning algorithms include the following: • European Conference on Machine Learning and Principles and Practice of Knowledge Discovery in Databases (ECML PKDD) • International Conference on Computational Intelligence Methods for Bioinformatics and Biostatistics (CIBB) • Automated machine learning – Process of automating the application of machine learning • Big data – information assets characterized by such a high volume, velocity, and variety to require specific technology and analytical methods for its transformation into value • None Domingos, Pedro (September 22, 2015).']"
            ]
          },
          "metadata": {},
          "execution_count": 138
        }
      ]
    },
    {
      "cell_type": "markdown",
      "source": [
        "pysummarization"
      ],
      "metadata": {
        "id": "ET19x-b9j16O"
      }
    },
    {
      "cell_type": "code",
      "source": [
        "!pip install pysummarization"
      ],
      "metadata": {
        "id": "bBqDlfC6j6sd",
        "colab": {
          "base_uri": "https://localhost:8080/"
        },
        "outputId": "ff9acbac-48b6-47dc-9947-cff479b7a603"
      },
      "execution_count": 149,
      "outputs": [
        {
          "output_type": "stream",
          "name": "stdout",
          "text": [
            "Collecting pysummarization\n",
            "  Downloading pysummarization-1.1.9.tar.gz (64 kB)\n",
            "\u001b[?25l     \u001b[90m━━━━━━━━━━━━━━━━━━━━━━━━━━━━━━━━━━━━━━━━\u001b[0m \u001b[32m0.0/64.2 kB\u001b[0m \u001b[31m?\u001b[0m eta \u001b[36m-:--:--\u001b[0m\r\u001b[2K     \u001b[90m━━━━━━━━━━━━━━━━━━━━━━━━━━━━━━━━━━━━━━━━\u001b[0m \u001b[32m64.2/64.2 kB\u001b[0m \u001b[31m2.9 MB/s\u001b[0m eta \u001b[36m0:00:00\u001b[0m\n",
            "\u001b[?25h  Preparing metadata (setup.py) ... \u001b[?25l\u001b[?25hdone\n",
            "Requirement already satisfied: numpy in /usr/local/lib/python3.10/dist-packages (from pysummarization) (1.23.5)\n",
            "Requirement already satisfied: nltk in /usr/local/lib/python3.10/dist-packages (from pysummarization) (3.8.1)\n",
            "Requirement already satisfied: click in /usr/local/lib/python3.10/dist-packages (from nltk->pysummarization) (8.1.7)\n",
            "Requirement already satisfied: joblib in /usr/local/lib/python3.10/dist-packages (from nltk->pysummarization) (1.3.2)\n",
            "Requirement already satisfied: regex>=2021.8.3 in /usr/local/lib/python3.10/dist-packages (from nltk->pysummarization) (2023.6.3)\n",
            "Requirement already satisfied: tqdm in /usr/local/lib/python3.10/dist-packages (from nltk->pysummarization) (4.66.1)\n",
            "Building wheels for collected packages: pysummarization\n",
            "  Building wheel for pysummarization (setup.py) ... \u001b[?25l\u001b[?25hdone\n",
            "  Created wheel for pysummarization: filename=pysummarization-1.1.9-py3-none-any.whl size=82362 sha256=3c38b0ccffbe3da3e027991c897b40cc9a494412080c51f7865c240af936dc85\n",
            "  Stored in directory: /root/.cache/pip/wheels/08/d8/9e/940eb35676a1f5dae2f4bb5dc4752e9a00a7affba172bae36c\n",
            "Successfully built pysummarization\n",
            "Installing collected packages: pysummarization\n",
            "Successfully installed pysummarization-1.1.9\n"
          ]
        }
      ]
    },
    {
      "cell_type": "code",
      "source": [
        "from pysummarization.nlpbase.auto_abstractor import AutoAbstractor\n",
        "from pysummarization.tokenizabledoc.simple_tokenizer import SimpleTokenizer\n",
        "from pysummarization.abstractabledoc.top_n_rank_abstractor import TopNRankAbstractor"
      ],
      "metadata": {
        "id": "c2s_Dcklmwwe"
      },
      "execution_count": 150,
      "outputs": []
    },
    {
      "cell_type": "code",
      "source": [
        "auto_abstractor = AutoAbstractor()\n",
        "auto_abstractor.tokenizable_doc = SimpleTokenizer()\n",
        "auto_abstractor.delimiter_list = [\".\", \"\\n\"]\n",
        "abstractable_doc = TopNRankAbstractor()"
      ],
      "metadata": {
        "id": "I2t60ht5rHAC"
      },
      "execution_count": 151,
      "outputs": []
    },
    {
      "cell_type": "code",
      "source": [
        "summary_py = auto_abstractor.summarize(article.cleaned_text, abstractable_doc)"
      ],
      "metadata": {
        "id": "wOowU8cHrkRb"
      },
      "execution_count": 178,
      "outputs": []
    },
    {
      "cell_type": "code",
      "source": [
        "summary_py"
      ],
      "metadata": {
        "colab": {
          "base_uri": "https://localhost:8080/"
        },
        "id": "52h2v2UQrmbL",
        "outputId": "9e2ff404-6622-4b96-aa89-243fd6a3725b"
      },
      "execution_count": 179,
      "outputs": [
        {
          "output_type": "execute_result",
          "data": {
            "text/plain": [
              "{'summarize_result': ['Study of algorithms that improve automatically through experience\\n',\n",
              "  'Machine learning (ML) is an umbrella term for solving problems for which development of algorithms by human programmers would be cost-prohibitive, and instead the problems are solved by helping machines \"discover\" their \"own\" algorithms,[1] without needing to be explicitly told what to do by any human-developed algorithms.\\n',\n",
              "  '[2] Recently, generative artificial neural networks have been able to surpass results of many previous approaches.\\n',\n",
              "  '[3][4] Machine-learning approaches have been applied to large language models, computer vision, speech recognition, email filtering, agriculture and medicine, where it is too costly to develop algorithms to perform the needed tasks.\\n',\n",
              "  'The mathematical foundations of ML are provided by mathematical optimization (mathematical programming) methods.\\n',\n",
              "  ' Data mining is a related (parallel) field of study, focusing on exploratory data analysis through unsupervised learning.\\n',\n",
              "  '[7][33] Generalization in this context is the ability of a learning machine to perform accurately on new, unseen examples/tasks after having experienced a learning data set.\\n',\n",
              "  ' Inductive programming is a related field that considers any kind of programming language for representing hypotheses (and not only logic programming), such as functional programs.\\n',\n",
              "  ' Artificial neural networks have been used on a variety of tasks, including computer vision, speech recognition, machine translation, social network filtering, playing board and video games and medical diagnosis.\\n',\n",
              "  ' More generally the term is applicable to other artificial neural networks in which a memristor or other electrically adjustable resistance material is used to emulate a neural synapse.\\n'],\n",
              " 'scoring_data': [(0, 7.0),\n",
              "  (1, 33.8),\n",
              "  (2, 14.0),\n",
              "  (3, 26.133333333333333),\n",
              "  (5, 9.090909090909092),\n",
              "  (6, 13.066666666666666),\n",
              "  (74, 5.818181818181818),\n",
              "  (221, 6.75),\n",
              "  (243, 8.066666666666666),\n",
              "  (381, 6.75)]}"
            ]
          },
          "metadata": {},
          "execution_count": 179
        }
      ]
    },
    {
      "cell_type": "code",
      "source": [
        "best_sentences = []\n",
        "for sentence in summary_py['summarize_result']:\n",
        "  #print(sentence)\n",
        "  best_sentences.append(re.sub(r'\\s+', ' ', sentence).strip())"
      ],
      "metadata": {
        "id": "7qumLrT5sBi7"
      },
      "execution_count": 180,
      "outputs": []
    },
    {
      "cell_type": "code",
      "source": [
        "best_sentences"
      ],
      "metadata": {
        "colab": {
          "base_uri": "https://localhost:8080/"
        },
        "id": "ZVvMiE4xsDw8",
        "outputId": "84c229ef-38b8-441a-e7de-b5991a6fdcf9"
      },
      "execution_count": 181,
      "outputs": [
        {
          "output_type": "execute_result",
          "data": {
            "text/plain": [
              "['Study of algorithms that improve automatically through experience',\n",
              " 'Machine learning (ML) is an umbrella term for solving problems for which development of algorithms by human programmers would be cost-prohibitive, and instead the problems are solved by helping machines \"discover\" their \"own\" algorithms,[1] without needing to be explicitly told what to do by any human-developed algorithms.',\n",
              " '[2] Recently, generative artificial neural networks have been able to surpass results of many previous approaches.',\n",
              " '[3][4] Machine-learning approaches have been applied to large language models, computer vision, speech recognition, email filtering, agriculture and medicine, where it is too costly to develop algorithms to perform the needed tasks.',\n",
              " 'The mathematical foundations of ML are provided by mathematical optimization (mathematical programming) methods.',\n",
              " 'Data mining is a related (parallel) field of study, focusing on exploratory data analysis through unsupervised learning.',\n",
              " '[7][33] Generalization in this context is the ability of a learning machine to perform accurately on new, unseen examples/tasks after having experienced a learning data set.',\n",
              " 'Inductive programming is a related field that considers any kind of programming language for representing hypotheses (and not only logic programming), such as functional programs.',\n",
              " 'Artificial neural networks have been used on a variety of tasks, including computer vision, speech recognition, machine translation, social network filtering, playing board and video games and medical diagnosis.',\n",
              " 'More generally the term is applicable to other artificial neural networks in which a memristor or other electrically adjustable resistance material is used to emulate a neural synapse.']"
            ]
          },
          "metadata": {},
          "execution_count": 181
        }
      ]
    },
    {
      "cell_type": "code",
      "source": [
        "text_py= ' '\n",
        "display(HTML (f'<h1>Text Summarization Using pysummarization </h1>'))\n",
        "for sentence in best_sentences:\n",
        "  if sentence in summary_py:\n",
        "    text_py+=' '+sentence.replace(sentence,f\"<mark>{sentence}</mark>\")\n",
        "  else:\n",
        "    text_py += ' '+sentence\n",
        "display(HTML(f\"\"\"{text_py}\"\"\"))"
      ],
      "metadata": {
        "colab": {
          "base_uri": "https://localhost:8080/",
          "height": 248
        },
        "id": "jrB3CMpSxKOS",
        "outputId": "31f2bf92-ad6a-483a-a89f-c7b46286f3bf"
      },
      "execution_count": 184,
      "outputs": [
        {
          "output_type": "display_data",
          "data": {
            "text/plain": [
              "<IPython.core.display.HTML object>"
            ],
            "text/html": [
              "<h1>Text Summarization Using pysummarization </h1>"
            ]
          },
          "metadata": {}
        },
        {
          "output_type": "display_data",
          "data": {
            "text/plain": [
              "<IPython.core.display.HTML object>"
            ],
            "text/html": [
              "  Study of algorithms that improve automatically through experience Machine learning (ML) is an umbrella term for solving problems for which development of algorithms by human programmers would be cost-prohibitive, and instead the problems are solved by helping machines \"discover\" their \"own\" algorithms,[1] without needing to be explicitly told what to do by any human-developed algorithms. [2] Recently, generative artificial neural networks have been able to surpass results of many previous approaches. [3][4] Machine-learning approaches have been applied to large language models, computer vision, speech recognition, email filtering, agriculture and medicine, where it is too costly to develop algorithms to perform the needed tasks. The mathematical foundations of ML are provided by mathematical optimization (mathematical programming) methods. Data mining is a related (parallel) field of study, focusing on exploratory data analysis through unsupervised learning. [7][33] Generalization in this context is the ability of a learning machine to perform accurately on new, unseen examples/tasks after having experienced a learning data set. Inductive programming is a related field that considers any kind of programming language for representing hypotheses (and not only logic programming), such as functional programs. Artificial neural networks have been used on a variety of tasks, including computer vision, speech recognition, machine translation, social network filtering, playing board and video games and medical diagnosis. More generally the term is applicable to other artificial neural networks in which a memristor or other electrically adjustable resistance material is used to emulate a neural synapse."
            ]
          },
          "metadata": {}
        }
      ]
    },
    {
      "cell_type": "markdown",
      "source": [
        "Bert Summarizer\n"
      ],
      "metadata": {
        "id": "AblSx0f6wnZh"
      }
    },
    {
      "cell_type": "code",
      "source": [
        "!pip install bert-extractive-summarizer"
      ],
      "metadata": {
        "id": "mlZdtL08u0uj"
      },
      "execution_count": null,
      "outputs": []
    },
    {
      "cell_type": "code",
      "source": [
        "!pip install sacremoses"
      ],
      "metadata": {
        "id": "7CcFeAcYu8TR"
      },
      "execution_count": null,
      "outputs": []
    },
    {
      "cell_type": "code",
      "source": [
        "from transformers import BigBirdTokenizer"
      ],
      "metadata": {
        "id": "V5Q3S0RmvBsK"
      },
      "execution_count": 170,
      "outputs": []
    },
    {
      "cell_type": "code",
      "source": [
        "from summarizer import Summarizer"
      ],
      "metadata": {
        "id": "4pi0v2GjvFSj"
      },
      "execution_count": 171,
      "outputs": []
    },
    {
      "cell_type": "code",
      "source": [
        "summarizer = Summarizer()\n",
        "summary = summarizer(article.cleaned_text)"
      ],
      "metadata": {
        "id": "d5-9w183vJQ6"
      },
      "execution_count": null,
      "outputs": []
    },
    {
      "cell_type": "code",
      "source": [
        "summary"
      ],
      "metadata": {
        "colab": {
          "base_uri": "https://localhost:8080/",
          "height": 145
        },
        "id": "BDWUiGRHv18R",
        "outputId": "ee042876-d892-4968-acf2-eae383b0eaaf"
      },
      "execution_count": 172,
      "outputs": [
        {
          "output_type": "execute_result",
          "data": {
            "text/plain": [
              "'Data mining is a related (parallel) field of study, focusing on exploratory data analysis through unsupervised learning.[8][9]\\n\\nML is known in its application across business problems under the name predictive analytics. Although not all machine learning is statistically based, computational statistics is an important source of the field\\'s methods. In contrast, machine learning is not built on a pre-structured model; rather, the data shape the model by detecting underlying patterns. The more variables (input) used to train the model, the more accurate the ultimate model will be.[28]\\n\\nLeo Breiman distinguished two statistical modeling paradigms: data model and algorithmic model,[29] wherein \"algorithmic model\" means more or less the machine learning algorithms like Random Forest. But if the hypothesis is too complex, then the model is subject to overfitting and generalization will be poorer.[34]\\n\\nIn addition to performance bounds, learning theorists study the time complexity and feasibility of learning. In computational learning theory, a computation is considered feasible if it can be done in polynomial time. As it navigates its problem space, the program is provided feedback that\\'s analogous to rewards, which it tries to maximize.[7] Although each algorithm has advantages and limitations, no single algorithm works for all problems.[35][36][37]\\n\\nSupervised learning algorithms build a mathematical model of a set of data that contains both the inputs and the desired outputs.[38] The data is known as training data, and consists of a set of training examples. In the mathematical model, each training example is represented by an array or vector, sometimes called a feature vector, and the training data is represented by a matrix. As an example, for a classification algorithm that filters emails, the input would be an incoming email, and the output would be the name of the folder in which to file the email. A central application of unsupervised learning is in the field of density estimation in statistics, such as finding the probability density function.[41] Though unsupervised learning encompasses other domains involving summarizing and explaining data features. Semi-supervised learning falls between unsupervised learning (without any labeled training data) and supervised learning (with completely labeled training data). Most of the dimensionality reduction techniques can be considered as either feature elimination or extraction. The CAA self-learning algorithm computes, in a crossbar fashion, both decisions about actions and emotions (feelings) about consequence situations. After receiving the genome (species) vector from the genetic environment, the CAA learns a goal-seeking behavior, in an environment that contains both desirable and undesirable situations.[50]\\n\\nSeveral learning algorithms aim at discovering better representations of the inputs provided during training.[51] Classic examples include principal component analysis and cluster analysis. Feature learning algorithms, also called representation learning algorithms, often attempt to preserve the information in their input but also transform it in a way that makes it useful, often as a pre-processing step before performing classification or predictions. This replaces manual feature engineering, and allows a machine to both learn the features and use them to perform a specific task. Examples include artificial neural networks, multilayer perceptrons, and supervised dictionary learning. Sparse dictionary learning has been applied in several contexts. In classification, the problem is to determine the class to which a previously unseen training example belongs. For a dictionary where each class has already been built, a new training example is associated with the class that is best sparsely represented by the corresponding dictionary. This pattern does not adhere to the common statistical definition of an outlier as a rare object. Many outlier detection methods (in particular, unsupervised algorithms) will fail on such data unless aggregated appropriately. Instead, a cluster analysis algorithm may be able to detect the micro-clusters formed by these patterns.[62]\\n\\nThree broad categories of anomaly detection techniques exist.[63] Unsupervised anomaly detection techniques detect anomalies in an unlabeled test data set under the assumption that the majority of the instances in the data set are normal, by looking for instances that seem to fit the least to the remainder of the data set. Supervised anomaly detection techniques require a data set that has been labeled as \"normal\" and \"abnormal\" and involves training a classifier (the key difference to many other statistical classification problems is the inherently unbalanced nature of outlier detection). This is in contrast to other machine learning algorithms that commonly identify a singular model that can be universally applied to any instance in order to make a prediction.[67] Rule-based machine learning approaches include learning classifier systems, association rule learning, and artificial immune systems. Various types of models have been used and researched for machine learning systems. Artificial neurons and edges typically have a weight that adjusts as learning proceeds. The weight increases or decreases the strength of the signal at a connection. Typically, artificial neurons are aggregated into layers. Different layers may perform different kinds of transformations on their inputs. Deep learning consists of multiple hidden layers in an artificial neural network. This approach tries to model the way the human brain processes light and sound into vision and hearing. Decision trees where the target variable can take continuous values (typically real numbers) are called regression trees. Regression analysis encompasses a large variety of statistical methods to estimate the relationship between input variables and their associated features. A genetic algorithm (GA) is a search algorithm and heuristic technique that mimics the process of natural selection, using methods such as mutation and crossover to generate new genotypes in the hope of finding good solutions to a given problem. Data from the training set can be as varied as a corpus of text, a collection of images, sensor data, and data collected from individual users of a service. A toy example is that an image classifier trained only on pictures of brown horses and black cats might conclude that all brown patches are likely to be horses. However, these rates are ratios that fail to reveal their numerators and denominators. Archived from the original on 26 July 2020 . • None Poole, David; Mackworth, Alan; Goebel, Randy (1998). • mloss is an academic database of open-source machine learning software.'"
            ],
            "application/vnd.google.colaboratory.intrinsic+json": {
              "type": "string"
            }
          },
          "metadata": {},
          "execution_count": 172
        }
      ]
    },
    {
      "cell_type": "code",
      "source": [
        "summary_tokenized = [sentence for sentence in nltk.sent_tokenize(summary)]\n",
        "summary_tokenized"
      ],
      "metadata": {
        "id": "4nLxql6zvWxS"
      },
      "execution_count": null,
      "outputs": []
    },
    {
      "cell_type": "code",
      "source": [
        "text= ' '\n",
        "display(HTML (f'<h1>Text Summarization Using Bert </h1>'))\n",
        "for sentence in summary_tokenized:\n",
        "  if sentence in summary:\n",
        "    text+=' '+sentence.replace(sentence,f\"<mark>{sentence}</mark>\")\n",
        "  else:\n",
        "    text += ' '+sentence\n",
        "display(HTML(f\"\"\"{text}\"\"\"))"
      ],
      "metadata": {
        "colab": {
          "base_uri": "https://localhost:8080/",
          "height": 734
        },
        "id": "v2SgTjXOwFCz",
        "outputId": "d2793160-e221-4522-fa05-039319f36cd8"
      },
      "execution_count": 173,
      "outputs": [
        {
          "output_type": "display_data",
          "data": {
            "text/plain": [
              "<IPython.core.display.HTML object>"
            ],
            "text/html": [
              "<h1>Text Summarization Using Bert </h1>"
            ]
          },
          "metadata": {}
        },
        {
          "output_type": "display_data",
          "data": {
            "text/plain": [
              "<IPython.core.display.HTML object>"
            ],
            "text/html": [
              "  <mark>Data mining is a related (parallel) field of study, focusing on exploratory data analysis through unsupervised learning.</mark> <mark>[8][9]\n",
              "\n",
              "ML is known in its application across business problems under the name predictive analytics.</mark> <mark>Although not all machine learning is statistically based, computational statistics is an important source of the field's methods.</mark> <mark>In contrast, machine learning is not built on a pre-structured model; rather, the data shape the model by detecting underlying patterns.</mark> <mark>The more variables (input) used to train the model, the more accurate the ultimate model will be.</mark> <mark>[28]\n",
              "\n",
              "Leo Breiman distinguished two statistical modeling paradigms: data model and algorithmic model,[29] wherein \"algorithmic model\" means more or less the machine learning algorithms like Random Forest.</mark> <mark>But if the hypothesis is too complex, then the model is subject to overfitting and generalization will be poorer.</mark> <mark>[34]\n",
              "\n",
              "In addition to performance bounds, learning theorists study the time complexity and feasibility of learning.</mark> <mark>In computational learning theory, a computation is considered feasible if it can be done in polynomial time.</mark> <mark>As it navigates its problem space, the program is provided feedback that's analogous to rewards, which it tries to maximize.</mark> <mark>[7] Although each algorithm has advantages and limitations, no single algorithm works for all problems.</mark> <mark>[35][36][37]\n",
              "\n",
              "Supervised learning algorithms build a mathematical model of a set of data that contains both the inputs and the desired outputs.</mark> <mark>[38] The data is known as training data, and consists of a set of training examples.</mark> <mark>In the mathematical model, each training example is represented by an array or vector, sometimes called a feature vector, and the training data is represented by a matrix.</mark> <mark>As an example, for a classification algorithm that filters emails, the input would be an incoming email, and the output would be the name of the folder in which to file the email.</mark> <mark>A central application of unsupervised learning is in the field of density estimation in statistics, such as finding the probability density function.</mark> <mark>[41] Though unsupervised learning encompasses other domains involving summarizing and explaining data features.</mark> <mark>Semi-supervised learning falls between unsupervised learning (without any labeled training data) and supervised learning (with completely labeled training data).</mark> <mark>Most of the dimensionality reduction techniques can be considered as either feature elimination or extraction.</mark> <mark>The CAA self-learning algorithm computes, in a crossbar fashion, both decisions about actions and emotions (feelings) about consequence situations.</mark> <mark>After receiving the genome (species) vector from the genetic environment, the CAA learns a goal-seeking behavior, in an environment that contains both desirable and undesirable situations.</mark> <mark>[50]\n",
              "\n",
              "Several learning algorithms aim at discovering better representations of the inputs provided during training.</mark> <mark>[51] Classic examples include principal component analysis and cluster analysis.</mark> <mark>Feature learning algorithms, also called representation learning algorithms, often attempt to preserve the information in their input but also transform it in a way that makes it useful, often as a pre-processing step before performing classification or predictions.</mark> <mark>This replaces manual feature engineering, and allows a machine to both learn the features and use them to perform a specific task.</mark> <mark>Examples include artificial neural networks, multilayer perceptrons, and supervised dictionary learning.</mark> <mark>Sparse dictionary learning has been applied in several contexts.</mark> <mark>In classification, the problem is to determine the class to which a previously unseen training example belongs.</mark> <mark>For a dictionary where each class has already been built, a new training example is associated with the class that is best sparsely represented by the corresponding dictionary.</mark> <mark>This pattern does not adhere to the common statistical definition of an outlier as a rare object.</mark> <mark>Many outlier detection methods (in particular, unsupervised algorithms) will fail on such data unless aggregated appropriately.</mark> <mark>Instead, a cluster analysis algorithm may be able to detect the micro-clusters formed by these patterns.</mark> <mark>[62]\n",
              "\n",
              "Three broad categories of anomaly detection techniques exist.</mark> <mark>[63] Unsupervised anomaly detection techniques detect anomalies in an unlabeled test data set under the assumption that the majority of the instances in the data set are normal, by looking for instances that seem to fit the least to the remainder of the data set.</mark> <mark>Supervised anomaly detection techniques require a data set that has been labeled as \"normal\" and \"abnormal\" and involves training a classifier (the key difference to many other statistical classification problems is the inherently unbalanced nature of outlier detection).</mark> <mark>This is in contrast to other machine learning algorithms that commonly identify a singular model that can be universally applied to any instance in order to make a prediction.</mark> <mark>[67] Rule-based machine learning approaches include learning classifier systems, association rule learning, and artificial immune systems.</mark> <mark>Various types of models have been used and researched for machine learning systems.</mark> <mark>Artificial neurons and edges typically have a weight that adjusts as learning proceeds.</mark> <mark>The weight increases or decreases the strength of the signal at a connection.</mark> <mark>Typically, artificial neurons are aggregated into layers.</mark> <mark>Different layers may perform different kinds of transformations on their inputs.</mark> <mark>Deep learning consists of multiple hidden layers in an artificial neural network.</mark> <mark>This approach tries to model the way the human brain processes light and sound into vision and hearing.</mark> <mark>Decision trees where the target variable can take continuous values (typically real numbers) are called regression trees.</mark> <mark>Regression analysis encompasses a large variety of statistical methods to estimate the relationship between input variables and their associated features.</mark> <mark>A genetic algorithm (GA) is a search algorithm and heuristic technique that mimics the process of natural selection, using methods such as mutation and crossover to generate new genotypes in the hope of finding good solutions to a given problem.</mark> <mark>Data from the training set can be as varied as a corpus of text, a collection of images, sensor data, and data collected from individual users of a service.</mark> <mark>A toy example is that an image classifier trained only on pictures of brown horses and black cats might conclude that all brown patches are likely to be horses.</mark> <mark>However, these rates are ratios that fail to reveal their numerators and denominators.</mark> <mark>Archived from the original on 26 July 2020 .</mark> <mark>• None Poole, David; Mackworth, Alan; Goebel, Randy (1998).</mark> <mark>• mloss is an academic database of open-source machine learning software.</mark>"
            ]
          },
          "metadata": {}
        }
      ]
    }
  ]
}